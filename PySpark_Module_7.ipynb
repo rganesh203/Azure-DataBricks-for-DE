{
  "nbformat": 4,
  "nbformat_minor": 0,
  "metadata": {
    "colab": {
      "private_outputs": true,
      "provenance": [],
      "authorship_tag": "ABX9TyMjJIJrifAY00xdkcxynlWP",
      "include_colab_link": true
    },
    "kernelspec": {
      "name": "python3",
      "display_name": "Python 3"
    },
    "language_info": {
      "name": "python"
    }
  },
  "cells": [
    {
      "cell_type": "markdown",
      "metadata": {
        "id": "view-in-github",
        "colab_type": "text"
      },
      "source": [
        "<a href=\"https://colab.research.google.com/github/rganesh203/Pyspark/blob/main/PySpark_Module_7.ipynb\" target=\"_parent\"><img src=\"https://colab.research.google.com/assets/colab-badge.svg\" alt=\"Open In Colab\"/></a>"
      ]
    },
    {
      "cell_type": "code",
      "execution_count": null,
      "metadata": {
        "id": "LRJW_83lWoug"
      },
      "outputs": [],
      "source": [
        "!pip install pyspark"
      ]
    },
    {
      "cell_type": "code",
      "source": [
        "!apt-get install openjdk-8-jdk-headless -qq > /dev/null\n",
        "!wget -q https://archive.apache.org/dist/spark/spark-3.0.1/spark-3.0.1-bin-hadoop2.7.tgz  #This link is subject to frequent updation, kindly recheck link on spark website if link is invalid\n",
        "!tar xf spark-3.0.1-bin-hadoop2.7.tgz\n",
        "!pip install -q findspark"
      ],
      "metadata": {
        "id": "TJrR8jBpX67Q"
      },
      "execution_count": null,
      "outputs": []
    },
    {
      "cell_type": "code",
      "source": [
        "import pyspark"
      ],
      "metadata": {
        "id": "dt8qKgA4Wt7j"
      },
      "execution_count": null,
      "outputs": []
    },
    {
      "cell_type": "code",
      "source": [
        "import pandas as pd"
      ],
      "metadata": {
        "id": "iePsrJHoW9FJ"
      },
      "execution_count": null,
      "outputs": []
    },
    {
      "cell_type": "code",
      "source": [
        "import os\n",
        "os.environ[\"JAVA_HOME\"] = \"/usr/lib/jvm/java-8-openjdk-amd64\"\n",
        "os.environ[\"SPARK_HOME\"] = \"/content/spark-3.0.1-bin-hadoop2.7\""
      ],
      "metadata": {
        "id": "oAt7E1iAXvuu"
      },
      "execution_count": null,
      "outputs": []
    },
    {
      "cell_type": "code",
      "source": [
        "import findspark\n",
        "findspark.init(\"/path/to/spark\")"
      ],
      "metadata": {
        "id": "cNQz5-Qs3hwz"
      },
      "execution_count": null,
      "outputs": []
    },
    {
      "cell_type": "code",
      "source": [
        "from pyspark import SparkConf"
      ],
      "metadata": {
        "id": "KddYhvvM39MN"
      },
      "execution_count": null,
      "outputs": []
    },
    {
      "cell_type": "code",
      "source": [
        "import os\n",
        "import sys\n",
        "spark_path = r\"spark-2.3.2-bin-hadoop2.7\" # spark installed folder\n",
        "os.environ['SPARK_HOME'] = spark_path\n",
        "sys.path.insert(0, spark_path + \"/bin\")\n",
        "sys.path.insert(0, spark_path + \"/python/pyspark/\")\n",
        "sys.path.insert(0, spark_path + \"/python/lib/pyspark.zip\")\n",
        "sys.path.insert(0, spark_path + \"/python/lib/py4j-0.10.7-src.zip\")"
      ],
      "metadata": {
        "id": "hOFjZqhR4ObV"
      },
      "execution_count": null,
      "outputs": []
    },
    {
      "cell_type": "code",
      "source": [
        "from pyspark.sql import SparkSession\n",
        "\n",
        "spark = SparkSession.builder.appName(\"DataFrame\").getOrCreate()\n",
        "\n",
        "df = spark.read.text(\"/content/Module-7-Dataset.txt\")\n",
        "df.selectExpr(\"split(value, ' ') as\\Text_Data_In_Rows_Using_Text\").show(4,False)\n",
        ""
      ],
      "metadata": {
        "id": "xKPfSsGZW_LN"
      },
      "execution_count": null,
      "outputs": []
    },
    {
      "cell_type": "code",
      "source": [],
      "metadata": {
        "id": "Rymb0qFo3GWX"
      },
      "execution_count": null,
      "outputs": []
    }
  ]
}