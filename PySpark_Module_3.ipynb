{
  "nbformat": 4,
  "nbformat_minor": 0,
  "metadata": {
    "colab": {
      "provenance": [],
      "include_colab_link": true
    },
    "kernelspec": {
      "name": "python3",
      "display_name": "Python 3"
    }
  },
  "cells": [
    {
      "cell_type": "markdown",
      "metadata": {
        "id": "view-in-github",
        "colab_type": "text"
      },
      "source": [
        "<a href=\"https://colab.research.google.com/github/rganesh203/Pyspark/blob/main/PySpark_Module_3_pynb.ipynb\" target=\"_parent\"><img src=\"https://colab.research.google.com/assets/colab-badge.svg\" alt=\"Open In Colab\"/></a>"
      ]
    },
    {
      "cell_type": "markdown",
      "metadata": {
        "id": "QU6uiyjZr5b-"
      },
      "source": [
        "**Call By Value**"
      ]
    },
    {
      "cell_type": "code",
      "metadata": {
        "id": "tosNFwuZr4ya",
        "outputId": "b54c9bb3-5bb2-40c6-a59e-ef5c70a24743",
        "colab": {
          "base_uri": "https://localhost:8080/"
        }
      },
      "source": [
        "a=10\n",
        "def ChangeIt(b):\n",
        "  print(\"value of b is\", b)\n",
        "  b=100\n",
        "  print(\"New value of b is\", b)\n",
        "ChangeIt(a)\n",
        "print(a)\n"
      ],
      "execution_count": null,
      "outputs": [
        {
          "output_type": "stream",
          "name": "stdout",
          "text": [
            "value of b is 10\n",
            "New value of b is 100\n",
            "10\n"
          ]
        }
      ]
    },
    {
      "cell_type": "markdown",
      "metadata": {
        "id": "wIuJBC5xsfA-"
      },
      "source": [
        "**Call By Reference**"
      ]
    },
    {
      "cell_type": "code",
      "metadata": {
        "id": "GjnVh1hosg32",
        "outputId": "afaeed4f-9432-4d85-afc9-d2ac5027b3fb",
        "colab": {
          "base_uri": "https://localhost:8080/"
        }
      },
      "source": [
        "c=[10,20,30]\n",
        "def ChangeThem(d):\n",
        "  print(\"value of d is\", d)\n",
        "  d[0]=99\n",
        "  d[1]=98\n",
        "  print(\"New value of d is\", d)\n",
        "ChangeThem(c)\n",
        "print(c)\n"
      ],
      "execution_count": null,
      "outputs": [
        {
          "output_type": "stream",
          "name": "stdout",
          "text": [
            "value of d is [10, 20, 30]\n",
            "New value of d is [99, 98, 30]\n",
            "[99, 98, 30]\n"
          ]
        }
      ]
    },
    {
      "cell_type": "markdown",
      "metadata": {
        "id": "fJGuIaZ1uI3P"
      },
      "source": [
        "**Local Variable**"
      ]
    },
    {
      "cell_type": "code",
      "metadata": {
        "id": "MPXStrB3uLj_",
        "outputId": "d0cc5edf-a50b-4eb3-c0c3-1107bf935d5a",
        "colab": {
          "base_uri": "https://localhost:8080/"
        }
      },
      "source": [
        "f=100\n",
        "print (f)\n",
        "def some_function():\n",
        "  f = 200\n",
        "  print(f)\n",
        "some_function()\n",
        "print(f)\n"
      ],
      "execution_count": null,
      "outputs": [
        {
          "output_type": "stream",
          "name": "stdout",
          "text": [
            "100\n",
            "200\n",
            "200\n"
          ]
        }
      ]
    },
    {
      "cell_type": "markdown",
      "metadata": {
        "id": "0lFjNYQ1ugEf"
      },
      "source": [
        "**Global Variable**"
      ]
    },
    {
      "cell_type": "code",
      "source": [
        "x = \"X is global\"\n",
        "print(x)\n",
        "def test1():\n",
        "  global x\n",
        "  y = \"local variable\"\n",
        "  x = x + \"testing global\"\n",
        "  print(y)\n",
        "  print(x)\n",
        "test1()\n",
        "print(x)"
      ],
      "metadata": {
        "colab": {
          "base_uri": "https://localhost:8080/"
        },
        "id": "FXCMbGXc8ZFE",
        "outputId": "d151ef37-c446-440a-8695-f48e5ccf919c"
      },
      "execution_count": null,
      "outputs": [
        {
          "output_type": "stream",
          "name": "stdout",
          "text": [
            "X is global\n",
            "local variable\n",
            "X is globaltesting global\n",
            "X is globaltesting global\n"
          ]
        }
      ]
    },
    {
      "cell_type": "code",
      "source": [
        "x = \"global\"\n",
        "def outer():\n",
        "  x = \"local\"\n",
        "  def inner():\n",
        "    x = \"nonlocal\"\n",
        "    x += \" testing\"\n",
        "    print(x)\n",
        "  inner()\n",
        "  print(x)\n",
        "outer()\n",
        "print(x)\n"
      ],
      "metadata": {
        "colab": {
          "base_uri": "https://localhost:8080/"
        },
        "id": "zd2w6XetKX8F",
        "outputId": "f6fda3c4-5506-4876-f8df-533749e9ad4f"
      },
      "execution_count": null,
      "outputs": [
        {
          "output_type": "stream",
          "name": "stdout",
          "text": [
            "nonlocal testing\n",
            "local\n",
            "global\n"
          ]
        }
      ]
    },
    {
      "cell_type": "code",
      "metadata": {
        "id": "73ICS3ojuiCu",
        "outputId": "af4496c7-0c3f-4429-d84f-aee2edd09338",
        "colab": {
          "base_uri": "https://localhost:8080/"
        }
      },
      "source": [
        "x = \"global\"\n",
        "\n",
        "def foo():\n",
        "    print(\"x inside :\", x)\n",
        "\n",
        "foo()\n",
        "print(\"x outside:\", x)\n"
      ],
      "execution_count": null,
      "outputs": [
        {
          "output_type": "stream",
          "name": "stdout",
          "text": [
            "x inside : global\n",
            "x outside: global\n"
          ]
        }
      ]
    },
    {
      "cell_type": "markdown",
      "metadata": {
        "id": "Q3di_v2uw6k3"
      },
      "source": [
        "**Accessing Class Members**"
      ]
    },
    {
      "cell_type": "code",
      "metadata": {
        "id": "loC8Pyo7waZz",
        "outputId": "3ec4eb74-e5f0-46f0-ea7c-0e4ea865252a",
        "colab": {
          "base_uri": "https://localhost:8080/"
        }
      },
      "source": [
        "#studentCounter = 0\n",
        "class Student:\n",
        "\tRollNo = None\n",
        "\tName= None\n",
        "\tSubjects = None\n",
        "\tstudentCounter = 1\n",
        "\tdef __init__(self,callingRoll,callingName):\n",
        "\t\tself.RollNo = callingRoll\n",
        "\t\tself.Name = callingName\n",
        "\t\tself.Subjects = list()\n",
        "\t\tself.add_Subject()\n",
        "\n",
        "\t@staticmethod\n",
        "\tdef classFunc():\n",
        "\t\tprint(studentCounter)\n",
        "\n",
        "\tdef add_Subject(self):\n",
        "\t\tif self.RollNo > 0 and self.RollNo <1234:\n",
        "\t\t\tself.Subjects.append(\"Math\")\n",
        "\t\telse:\n",
        "\t\t\t self.Subjects.append(\"Commerce\")\n",
        "\n",
        "\n",
        "\tdef display_student_details(self):\n",
        "\t\tprint(\"Name of the student is: \"+ self.Name)\n",
        "\t\tprint(\"Roll No is: \"+ str(self.RollNo))\n",
        "\n",
        "def test1():\n",
        "\tprint(\"not a class fun\")\n",
        "\n",
        "\n",
        "\n",
        "#Studetn1 --> Name = Praveen, RollNo = 1234\n",
        "#Student2 --> Name = Pr , RollNo = 2345\n",
        "student1 = Student(1234,\"Praveen\")\n",
        "print(student1.Subjects)\n",
        "print(student1.RollNo)\n",
        "print(student1.Name)\n",
        "Student.classFunc()\n",
        "print(studentCounter)\n",
        "student2 = Student(2345,\"Pr\")\n",
        "print(student2.Subjects)\n",
        "Student.classFunc()\n",
        "print(studentCounter)\n",
        "student1.display_student_details()\n",
        "print(id(student1.Subjects))\n",
        "print(id(student2.Subjects))\n",
        "student2.display_student_details()\n",
        "student1.classFunc()\n",
        "student2.classFunc()\n",
        "print(\"totat students are : \"+str(studentCounter))\n",
        "#print(Student.classFunc())\n",
        "#Creating new instance attribute for obj2\n",
        "#student2.variable = \"I was just created\"\n",
        "#print(student1.variable)\n",
        "#print(student2.variable)\n",
        "#print(Student.variable)\n",
        "#x = 10\n",
        "#y = 20\n",
        "#obj1.function(x,y)"
      ],
      "execution_count": null,
      "outputs": [
        {
          "output_type": "stream",
          "name": "stdout",
          "text": [
            "['Commerce']\n",
            "1234\n",
            "Praveen\n",
            "0\n",
            "0\n",
            "['Commerce']\n",
            "0\n",
            "0\n",
            "Name of the student is: Praveen\n",
            "Roll No is: 1234\n",
            "139805053446656\n",
            "139805053446736\n",
            "Name of the student is: Pr\n",
            "Roll No is: 2345\n",
            "0\n",
            "0\n",
            "totat students are : 0\n"
          ]
        }
      ]
    },
    {
      "cell_type": "code",
      "source": [
        "class Parents():\n",
        "  a = \"test\"\n",
        "  def display(self):\n",
        "    print(\"hello parent class func\")\n",
        "\n",
        "class Child(Parents):\n",
        "  def func1(self):\n",
        "    print(\"in func1\")\n",
        "\n",
        "  def display(self):\n",
        "    super().display()\n",
        "    print(\"this is child class func\")\n",
        "\n",
        "\n",
        "c = Child()\n",
        "c.display()\n",
        "print(c.a)"
      ],
      "metadata": {
        "colab": {
          "base_uri": "https://localhost:8080/"
        },
        "id": "nVjn50BBRF6l",
        "outputId": "435d7324-2d3e-4e84-ee2b-517744748fb4"
      },
      "execution_count": null,
      "outputs": [
        {
          "output_type": "stream",
          "name": "stdout",
          "text": [
            "hello parent class func\n",
            "this is child class func\n",
            "test\n"
          ]
        }
      ]
    },
    {
      "cell_type": "markdown",
      "metadata": {
        "id": "kG5QmaWdw-fF"
      },
      "source": [
        "**Overloading a Function**"
      ]
    },
    {
      "cell_type": "code",
      "metadata": {
        "id": "J9xX6K2SxA9P",
        "outputId": "4eb4eb79-6640-4bcd-c4ac-366ad73849c3",
        "colab": {
          "base_uri": "https://localhost:8080/"
        }
      },
      "source": [
        "def add(intof,*args,**kwargs):\n",
        "      if intof=='int':\n",
        "              result=123456\n",
        "      if intof=='str':\n",
        "              result='stringOutput'\n",
        "      #for i in args:\n",
        "      #        result+=i\n",
        "      #result = 0\n",
        "      print(\"all elements in args\")\n",
        "      for item in args:\n",
        "        print(item)\n",
        "      print(\"all elements in kwargs\")\n",
        "      for item in kwargs:\n",
        "        print(\"key is: \"+str(item)+\"  and values is : \")\n",
        "        print(kwargs[item])\n",
        "      return result\n",
        "a = add('int',3,'2',5,name=\"praveen\",rollNo=\"1234\")\n",
        "b = add('str','a',rooNo=345)\n",
        "print(a)\n",
        "print(b)"
      ],
      "execution_count": null,
      "outputs": [
        {
          "output_type": "stream",
          "name": "stdout",
          "text": [
            "all elements in args\n",
            "3\n",
            "2\n",
            "5\n",
            "all elements in kwargs\n",
            "key is: name  and values is : \n",
            "praveen\n",
            "key is: rollNo  and values is : \n",
            "1234\n",
            "all elements in args\n",
            "a\n",
            "all elements in kwargs\n",
            "key is: rooNo  and values is : \n",
            "345\n",
            "123456\n",
            "stringOutput\n"
          ]
        }
      ]
    },
    {
      "cell_type": "markdown",
      "metadata": {
        "id": "sCEiUb_CxYVv"
      },
      "source": [
        "**Overriding a Function**"
      ]
    },
    {
      "cell_type": "code",
      "metadata": {
        "id": "wZGgcqd7xQD6",
        "outputId": "2cc6cc2b-a46f-4227-e5f1-4b1aa014859d",
        "colab": {
          "base_uri": "https://localhost:8080/"
        }
      },
      "source": [
        "class A:\n",
        "  def sayhi(self):\n",
        "    print(\"I'm in A\")\n",
        "class B(A):\n",
        "  def sayhi(self):\n",
        "    print(\"I'm in B\")\n",
        "bobj=B()\n",
        "bobj.sayhi()\n"
      ],
      "execution_count": null,
      "outputs": [
        {
          "output_type": "stream",
          "name": "stdout",
          "text": [
            "I'm in B\n"
          ]
        }
      ]
    },
    {
      "cell_type": "markdown",
      "metadata": {
        "id": "AK0Joc_txiGf"
      },
      "source": [
        "**Accessing Private Method**"
      ]
    },
    {
      "cell_type": "code",
      "metadata": {
        "id": "VBvLEwkZxeMH",
        "outputId": "a187d76d-4c4e-4a8f-9d10-520b56863ba3",
        "colab": {
          "base_uri": "https://localhost:8080/"
        }
      },
      "source": [
        "class Car:\n",
        "\n",
        "    def __init__(self):\n",
        "        #self.__updateSoftware()\n",
        "        pass\n",
        "\n",
        "    def drive(self):\n",
        "        print ('driving')\n",
        "\n",
        "    def __updateSoftware(self):\n",
        "        print ('updating software')\n",
        "\n",
        "redcar = Car()\n",
        "redcar.drive()\n",
        "redcar._Car__updateSoftware()\n"
      ],
      "execution_count": null,
      "outputs": [
        {
          "output_type": "stream",
          "name": "stdout",
          "text": [
            "driving\n",
            "updating software\n"
          ]
        }
      ]
    },
    {
      "cell_type": "markdown",
      "metadata": {
        "id": "n27P7IfJyO2_"
      },
      "source": [
        "**Lambda Function Example 1**"
      ]
    },
    {
      "cell_type": "code",
      "metadata": {
        "id": "ESUxO0fnyB_r",
        "outputId": "6334d993-e131-435f-deb2-c9faf79725dd",
        "colab": {
          "base_uri": "https://localhost:8080/"
        }
      },
      "source": [
        "def lambdaex(a, n):\n",
        "  return a+n\n",
        "\n",
        "def myfunc(n):\n",
        "  print(n)\n",
        "  return lambda a : a + n\n",
        "\n",
        "print(lambdaex(10,3))\n",
        "mySum = myfunc(3)\n",
        "print(\"this is before execution\")\n",
        "print(mySum(10))\n"
      ],
      "execution_count": null,
      "outputs": [
        {
          "output_type": "stream",
          "name": "stdout",
          "text": [
            "13\n",
            "3\n",
            "this is before execution\n",
            "13\n"
          ]
        }
      ]
    },
    {
      "cell_type": "markdown",
      "metadata": {
        "id": "jt9QTuZYySnG"
      },
      "source": [
        "**Lambda Function Example 2**"
      ]
    },
    {
      "cell_type": "code",
      "metadata": {
        "id": "nyDE6AkFyVfn",
        "outputId": "03856196-9a31-4d0a-a614-29c10652c5b1",
        "colab": {
          "base_uri": "https://localhost:8080/"
        }
      },
      "source": [
        "def ex(a,b,c,d,e):\n",
        "  return a+b*c+d-e + 10\n",
        "\n",
        "x = lambda a,b,c,d,e : a+b + 10\n",
        "print(x(5,6,7,8,9))\n",
        "print(ex(5,6,7,8,9))\n"
      ],
      "execution_count": null,
      "outputs": [
        {
          "output_type": "stream",
          "name": "stdout",
          "text": [
            "21\n",
            "56\n"
          ]
        }
      ]
    },
    {
      "cell_type": "code",
      "source": [
        "def fun(eleOfSeq):\n",
        "    letters = ['a', 'e', 'i', 'o', 'u']\n",
        "    if (eleOfSeq in letters):\n",
        "        return True\n",
        "    else:\n",
        "        return False\n",
        "\n",
        "\n",
        "# sequence\n",
        "sequence = ['g', 'e', 'e', 'j', 'k', 's', 'p', 'r']\n",
        "vowel_list = list()\n",
        "for item in sequence:\n",
        "  if item in ['a', 'e', 'i', 'o', 'u']:\n",
        "    vowel_list.append(item)\n",
        "print(vowel_list)\n",
        "# using filter function\n",
        "filtered = filter(lambda eleOfSeq: eleOfSeq in ['a','e','i','o','u'], sequence)\n",
        "print(list(filtered))\n",
        "print('The filtered letters are:')\n",
        "for s in filtered:\n",
        "    print(s)"
      ],
      "metadata": {
        "colab": {
          "base_uri": "https://localhost:8080/"
        },
        "id": "3il5ca6LaCWd",
        "outputId": "b6c86be8-3f8d-4888-dad4-e50d2aed3d59"
      },
      "execution_count": null,
      "outputs": [
        {
          "output_type": "stream",
          "name": "stdout",
          "text": [
            "['e', 'e']\n",
            "['e', 'e']\n",
            "The filtered letters are:\n"
          ]
        }
      ]
    },
    {
      "cell_type": "code",
      "source": [
        "final_list = []\n",
        "listofList = [[1,2,3,4,5],[4,5,6,7]]\n",
        "def func1(listelem):\n",
        "  global final_list\n",
        "  print(\"list element\")\n",
        "  print(listelem)\n",
        "  final_list = final_list + listelem\n",
        "  print(\"final list\")\n",
        "  print(final_list)\n",
        "  return final_list\n",
        "  #final_list = final_list+element1\n",
        "#lambda element1:\n",
        "ex2 = map(func1,listofList)\n",
        "for item in ex2:\n",
        "  print(item)\n",
        "\n",
        "#print(final_list)\n",
        "#print(\"final list\")\n",
        "#ex2 = max(final_list)"
      ],
      "metadata": {
        "id": "Q6XJK0CKGuqj"
      },
      "execution_count": null,
      "outputs": []
    },
    {
      "cell_type": "code",
      "source": [
        "from typing import Counter\n",
        "import functools\n",
        "\n",
        "# initializing list\n",
        "lis = [1, 3, 5, 6, 2, ]\n",
        "\n",
        "# using reduce to compute sum of list\n",
        "print(\"The sum of the list elements is : \", end=\"\")\n",
        "\n",
        "print(functools.reduce(lambda a, b: a+b, lis,0))\n",
        "def count1():\n",
        "  a =0+ 1\n",
        "  print(\"first time\")\n",
        "  yield a\n",
        "  a +=b\n",
        "  print(\"second time\")\n",
        "  yield a\n",
        "  a +=b\n",
        "  print(\"third time\")\n",
        "  yield a\n",
        "\n",
        "x = count1()\n",
        "print(next(x))\n",
        "print(next(x))\n",
        "print(next(x))\n",
        "def func(a,b):\n",
        "  return a+b\n",
        "print(functools.reduce(func, lis,2))\n",
        "#0+1 =1 -->new A\n",
        "#1+3 = 4 --> new A\n",
        "#4+5 = 9 --> new A\n",
        "#9+6 = 15 --> new A\n",
        "#15+2 = 17 --> final result\n",
        "# using reduce to compute maximum element from list\n",
        "print(\"The maximum element of the list is : \", end=\"\")\n",
        "print(functools.reduce(lambda a, b: a if a > b else b, lis))"
      ],
      "metadata": {
        "colab": {
          "base_uri": "https://localhost:8080/"
        },
        "id": "1k5hhG1FcE6k",
        "outputId": "cc60e3ee-ab9e-4dc1-dcd7-e97b35b4b013"
      },
      "execution_count": null,
      "outputs": [
        {
          "output_type": "stream",
          "name": "stdout",
          "text": [
            "The sum of the list elements is : 17\n",
            "first time\n",
            "1\n",
            "second time\n",
            "1\n",
            "third time\n",
            "1\n",
            "19\n",
            "The maximum element of the list is : 6\n"
          ]
        }
      ]
    },
    {
      "cell_type": "code",
      "source": [
        "\"\"\"\n",
        "final_list = []\n",
        "def func1(listelem):\n",
        "  global final_list\n",
        "  print(listelem)\n",
        "  final_list = final_list + listelem\n",
        "  print(final_list)\n",
        "  return final_list\n",
        "  #final_list = final_list+element1\n",
        "#lambda element1:\n",
        "#ex2 = map(lambda x :func1(x),listofList)\n",
        "#print(final_list)\n",
        "#print(\"final list\")\n",
        "#ex2 = max(final_list)\n",
        "\"\"\""
      ],
      "metadata": {
        "id": "Idzjdh7nXyWT"
      },
      "execution_count": null,
      "outputs": []
    },
    {
      "cell_type": "code",
      "source": [
        "from typing import Counter\n",
        "from functools import reduce\n",
        "\n",
        "listofList = [[20220101,20220201,20220301],[20220401,20220201,20220301,333333],[20220101,20220201,20220401]]\n",
        "\n",
        "lis1 = [1,2,3,4]\n",
        "lis2 = [5,3,7,8]\n",
        "listOfCelcius = [32,55,45,20]\n",
        "print(lis1+lis2)\n",
        "set1 = set()\n",
        "result = map(lambda elem: max(elem),listofList)\n",
        "result1 = map(lambda origElem: tuple(origElem),listofList)\n",
        "result3 = map(lambda celcius: 32-celcius, listOfCelcius)\n",
        "def fn(elem):\n",
        "  if len(elem) < 3:\n",
        "    return False\n",
        "  else:\n",
        "    return True\n",
        "result4 = filter(fn,listofList)\n",
        "# select * from listOfList where lenght(col) < 3\n",
        "print(\"result4\")\n",
        "print(list(result4))\n",
        "print(list(result3))\n",
        "print(list(result1))\n",
        "print(max(list(result)))\n",
        "ex1  = max(list(reduce(lambda list1,list2: list1+list2,listofList,[])))\n",
        "#list1 --> [] list2 --> [20220101,20220201,20220301]\n",
        "#list1 --> [20220101,20220201,20220301] list2 --> [20220401,20220201,20220301]\n",
        "#list1 --> [20220101,20220201,20220301,20220401,20220201,20220301] list2--> [20220101,20220401]\n",
        "#list1 --> [20220101,20220201,20220301,20220401,20220201,20220301,20220101,20220401] list2 -->[]\n",
        "print(ex1)"
      ],
      "metadata": {
        "colab": {
          "base_uri": "https://localhost:8080/"
        },
        "id": "vlY9od-pTlQQ",
        "outputId": "5b9a6f64-9a88-4dff-aa4d-5db185d848cb"
      },
      "execution_count": null,
      "outputs": [
        {
          "output_type": "stream",
          "name": "stdout",
          "text": [
            "[1, 2, 3, 4, 5, 3, 7, 8]\n",
            "result4\n",
            "[[20220101, 20220201, 20220301], [20220401, 20220201, 20220301, 333333]]\n",
            "[0, -23, -13, 12]\n",
            "[(20220101, 20220201, 20220301), (20220401, 20220201, 20220301, 333333), (20220101, 20220401)]\n",
            "20220401\n",
            "20220401\n"
          ]
        }
      ]
    },
    {
      "cell_type": "code",
      "source": [
        "listOfStudents = [{\"name\":\"Praveen\",\"roll\":1234,\"grade\":\"A\"},{\"name\":\"Prav\",\"roll\":234,\"grade\":\"C\"},{\"name\":\"Pr\",\"roll\":34,\"grade\":\"B\"}]\n",
        "def fn(elem):\n",
        "  if elem[\"grade\"] == \"A\" or elem[\"grade\"] == \"B\":\n",
        "    elem[\"result\"] = \"Pass\"\n",
        "  else:\n",
        "    elem[\"result\"] = \"Fail\"\n",
        "  return elem\n",
        "\n",
        "def fn2(elem):\n",
        "  if elem[\"result\"] == \"Pass\":\n",
        "    return True\n",
        "  else:\n",
        "    return False\n",
        "calPass = map(fn,listOfStudents)\n",
        "newlistofStudent = list(calPass)\n",
        "PassedStudents = list(filter(fn2,newlistofStudent))\n",
        "listex1 = [True,False,True,True]\n",
        "print(list(filter(None,listex1)))\n",
        "print(newlistofStudent)\n",
        "print(PassedStudents)\n",
        "RollNOfPassedStudents = reduce(lambda a,b : a+str(b[\"roll\"])+\",\",PassedStudents,\"\").split(\",\")[:-1]\n",
        "print(RollNOfPassedStudents)"
      ],
      "metadata": {
        "colab": {
          "base_uri": "https://localhost:8080/"
        },
        "id": "HxGnqPLHgWcr",
        "outputId": "e520b950-049e-4d4c-d580-fbde415aca70"
      },
      "execution_count": null,
      "outputs": [
        {
          "output_type": "stream",
          "name": "stdout",
          "text": [
            "[True, True, True]\n",
            "[{'name': 'Praveen', 'roll': 1234, 'grade': 'A', 'result': 'Pass'}, {'name': 'Prav', 'roll': 234, 'grade': 'C', 'result': 'Fail'}, {'name': 'Pr', 'roll': 34, 'grade': 'B', 'result': 'Pass'}]\n",
            "[{'name': 'Praveen', 'roll': 1234, 'grade': 'A', 'result': 'Pass'}, {'name': 'Pr', 'roll': 34, 'grade': 'B', 'result': 'Pass'}]\n",
            "['1234', '34']\n"
          ]
        }
      ]
    },
    {
      "cell_type": "code",
      "source": [
        "def first(msg):\n",
        "  print(msg)\n",
        "\n",
        "\n",
        "first(\"Hello\")\n",
        "\n",
        "second = first\n",
        "second(\"Hello\")"
      ],
      "metadata": {
        "colab": {
          "base_uri": "https://localhost:8080/"
        },
        "id": "SErhcMvsRqNA",
        "outputId": "946548de-3036-4e0f-ffb2-b39b72f959de"
      },
      "execution_count": null,
      "outputs": [
        {
          "output_type": "stream",
          "name": "stdout",
          "text": [
            "Hello\n",
            "Hello\n"
          ]
        }
      ]
    },
    {
      "cell_type": "code",
      "source": [
        "def inc(x):\n",
        "    return x + 1\n",
        "\n",
        "\n",
        "def dec(x):\n",
        "    return x - 1\n",
        "\n",
        "\n",
        "def operate(func, x):\n",
        "    result = func(x)\n",
        "    return result\n",
        "print(operate(inc,4))\n",
        "print(operate(dec,4))\n"
      ],
      "metadata": {
        "colab": {
          "base_uri": "https://localhost:8080/"
        },
        "id": "xSY86RgMR05O",
        "outputId": "5f15158b-98d7-4b17-b533-c6bf06b17edf"
      },
      "execution_count": null,
      "outputs": [
        {
          "output_type": "stream",
          "name": "stdout",
          "text": [
            "5\n",
            "3\n"
          ]
        }
      ]
    },
    {
      "cell_type": "code",
      "source": [
        "def make_pretty(func):\n",
        "    def inner():\n",
        "        print(\"I got decorated\")\n",
        "        #func()\n",
        "    return inner\n",
        "\n",
        "@make_pretty\n",
        "def ordinary():\n",
        "    print(\"I am ordinary\")\n",
        "\n",
        "ordinary()\n",
        "#print(\"before reassignment\")\n",
        "#ordinary = make_pretty(ordinary)\n",
        "#print(\"after reassignment\")\n",
        "#ordinary()"
      ],
      "metadata": {
        "colab": {
          "base_uri": "https://localhost:8080/"
        },
        "id": "0Vc_WaoHR8DI",
        "outputId": "9516d585-72b8-43f2-f9ef-a20994f0ce1f"
      },
      "execution_count": null,
      "outputs": [
        {
          "output_type": "stream",
          "name": "stdout",
          "text": [
            "I got decorated\n"
          ]
        }
      ]
    },
    {
      "cell_type": "markdown",
      "metadata": {
        "id": "suz3Lzt3zBsM"
      },
      "source": [
        "**Python Time Module:**\n",
        "\n",
        "**>> time.time()**"
      ]
    },
    {
      "cell_type": "code",
      "metadata": {
        "id": "SM5QqmwgzCyH",
        "outputId": "0ca14e22-3423-499b-b8b5-95c375f3ea24",
        "colab": {
          "base_uri": "https://localhost:8080/",
          "height": 34
        }
      },
      "source": [
        "import time\n",
        "seconds = time.time()\n",
        "print(\"Seconds since epoch =\", seconds)\n"
      ],
      "execution_count": null,
      "outputs": [
        {
          "output_type": "stream",
          "text": [
            "Seconds since epoch = 1568356819.110993\n"
          ],
          "name": "stdout"
        }
      ]
    },
    {
      "cell_type": "markdown",
      "metadata": {
        "id": "A-u0tbKpzjfH"
      },
      "source": [
        "**>> time.sleep()**"
      ]
    },
    {
      "cell_type": "code",
      "metadata": {
        "id": "SfLVbk5ezmrn",
        "outputId": "01dce750-54a2-47f7-d820-b7ea10406218",
        "colab": {
          "base_uri": "https://localhost:8080/",
          "height": 51
        }
      },
      "source": [
        "import time\n",
        "print(\"This is printed immediately.\")\n",
        "time.sleep(2.4)\n",
        "print(\"This is printed after 2.4 seconds.\")\n"
      ],
      "execution_count": null,
      "outputs": [
        {
          "output_type": "stream",
          "text": [
            "This is printed immediately.\n",
            "This is printed after 2.4 seconds.\n"
          ],
          "name": "stdout"
        }
      ]
    },
    {
      "cell_type": "markdown",
      "metadata": {
        "id": "NFfl-Gfe1Tb-"
      },
      "source": [
        "**Python sys module:**"
      ]
    },
    {
      "cell_type": "code",
      "metadata": {
        "id": "14jlUW841U5X",
        "outputId": "0ca05846-2394-4295-fd51-b4a7113694ea",
        "colab": {
          "base_uri": "https://localhost:8080/",
          "height": 68
        }
      },
      "source": [
        "import sys\n",
        "for i in (sys.stdin, sys.stdout, sys.stderr):\n",
        "  print(i)\n"
      ],
      "execution_count": null,
      "outputs": [
        {
          "output_type": "stream",
          "text": [
            "<_io.TextIOWrapper name='<stdin>' mode='r' encoding='UTF-8'>\n",
            "<ipykernel.iostream.OutStream object at 0x7f39266e9d68>\n",
            "<ipykernel.iostream.OutStream object at 0x7f39266e99e8>\n"
          ],
          "name": "stdout"
        }
      ]
    },
    {
      "cell_type": "markdown",
      "metadata": {
        "id": "DDlVvbyg1ozx"
      },
      "source": [
        "**Python os module**"
      ]
    },
    {
      "cell_type": "code",
      "metadata": {
        "id": "R1FzYnUO1qoM",
        "outputId": "df646c22-8171-4f5f-ccfe-f52cdb1d3c16",
        "colab": {
          "base_uri": "https://localhost:8080/",
          "height": 34
        }
      },
      "source": [
        "import os\n",
        "print(os.name)\n"
      ],
      "execution_count": null,
      "outputs": [
        {
          "output_type": "stream",
          "text": [
            "posix\n"
          ],
          "name": "stdout"
        }
      ]
    },
    {
      "cell_type": "markdown",
      "metadata": {
        "id": "bihUnVKw6G_C"
      },
      "source": [
        "**Python socket module:**"
      ]
    },
    {
      "cell_type": "code",
      "metadata": {
        "id": "3hUmm7sJ6KSh",
        "outputId": "1902942d-09f1-4a00-a154-ea976b19ceae",
        "colab": {
          "base_uri": "https://localhost:8080/",
          "height": 34
        }
      },
      "source": [
        "import socket\n",
        "\n",
        "ip = socket.gethostbyname('www.google.com')\n",
        "print (ip)\n"
      ],
      "execution_count": null,
      "outputs": [
        {
          "output_type": "stream",
          "text": [
            "74.125.20.104\n"
          ],
          "name": "stdout"
        }
      ]
    },
    {
      "cell_type": "markdown",
      "metadata": {
        "id": "CBX_LGot7M4_"
      },
      "source": [
        "**Python Exceptions**"
      ]
    },
    {
      "cell_type": "code",
      "metadata": {
        "id": "XomXRza867aZ",
        "outputId": "9554bad5-0f10-43d5-8f2c-c9640e99e535",
        "colab": {
          "base_uri": "https://localhost:8080/",
          "height": 34
        }
      },
      "source": [
        "try:\n",
        "    a=1/0\n",
        "    print(a)\n",
        "\n",
        "except ZeroDivisionError:\n",
        "    print (\"You can't divide by zero!!!\")\n",
        "\n"
      ],
      "execution_count": null,
      "outputs": [
        {
          "output_type": "stream",
          "text": [
            "You can't divide by zero!!!\n"
          ],
          "name": "stdout"
        }
      ]
    },
    {
      "cell_type": "markdown",
      "metadata": {
        "id": "5ziRQXgq7XVP"
      },
      "source": [
        "**Try - Finally Clause (Forced Interrupt)**"
      ]
    },
    {
      "cell_type": "code",
      "source": [
        "a= int(input(\"Enter value a:\"))\n",
        "b= int(input(\"Enter value b:\"))\n",
        "try:\n",
        "    if b==0:\n",
        "            raise Exception(\"b must be always greater than 0\")\n",
        "    c=a/b\n",
        "    print(c)\n",
        "except Exception as e:\n",
        "    print(e)\n",
        "finally:\n",
        "    print ('Hello Learners!')"
      ],
      "metadata": {
        "colab": {
          "base_uri": "https://localhost:8080/"
        },
        "id": "I6ZbDB3F265f",
        "outputId": "830feda8-63eb-470d-e5cb-5bbca06791c0"
      },
      "execution_count": null,
      "outputs": [
        {
          "output_type": "stream",
          "name": "stdout",
          "text": [
            "Enter value a:5\n",
            "Enter value b:0\n",
            "b must be always greater than 0\n",
            "Hello Learners!\n"
          ]
        }
      ]
    },
    {
      "cell_type": "code",
      "source": [
        "def divide_numbers(a, b):\n",
        "    try:\n",
        "        result = a / b\n",
        "    except ZeroDivisionError as e:\n",
        "        print(\"Error: Division by zero is not allowed.\")\n",
        "        result = None\n",
        "    except TypeError as e:\n",
        "        print(\"Error: Invalid data type for division.\")\n",
        "        result = None\n",
        "    finally:\n",
        "        print(\"This will always be executed, regardless of exceptions.\")\n",
        "    return result\n",
        "\n",
        "# Example usage:\n",
        "numerator = 10\n",
        "denominator = 2\n",
        "result = divide_numbers(numerator, denominator)\n",
        "print(\"Result:\", result)\n",
        "\n",
        "denominator = 0\n",
        "result = divide_numbers(numerator, denominator)\n",
        "print(\"Result:\", result)\n"
      ],
      "metadata": {
        "colab": {
          "base_uri": "https://localhost:8080/"
        },
        "id": "Ng6cPJ0y47X_",
        "outputId": "d43bc487-6b6d-424f-9c0f-29dd64251e9e"
      },
      "execution_count": null,
      "outputs": [
        {
          "output_type": "stream",
          "name": "stdout",
          "text": [
            "This will always be executed, regardless of exceptions.\n",
            "Result: 5.0\n",
            "Error: Division by zero is not allowed.\n",
            "This will always be executed, regardless of exceptions.\n",
            "Result: None\n"
          ]
        }
      ]
    }
  ]
}
