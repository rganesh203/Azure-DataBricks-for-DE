{
 "cells": [
  {
   "cell_type": "code",
   "execution_count": 0,
   "metadata": {
    "application/vnd.databricks.v1+cell": {
     "cellMetadata": {
      "byteLimit": 2048000,
      "rowLimit": 10000
     },
     "inputWidgets": {},
     "nuid": "05816818-90a9-44e1-87b3-f74f55f93123",
     "showTitle": false,
     "title": ""
    }
   },
   "outputs": [],
   "source": [
    "df = spark.read.option('header', 'true').csv('dbfs:/FileStore/tables/PQB01.txt')\n"
   ]
  },
  {
   "cell_type": "code",
   "execution_count": 0,
   "metadata": {
    "application/vnd.databricks.v1+cell": {
     "cellMetadata": {
      "byteLimit": 2048000,
      "rowLimit": 10000
     },
     "inputWidgets": {},
     "nuid": "a351e8a7-2ede-46b4-b0ee-c89027416289",
     "showTitle": false,
     "title": ""
    }
   },
   "outputs": [
    {
     "output_type": "display_data",
     "data": {
      "text/html": [
       "<style scoped>\n",
       "  .table-result-container {\n",
       "    max-height: 300px;\n",
       "    overflow: auto;\n",
       "  }\n",
       "  table, th, td {\n",
       "    border: 1px solid black;\n",
       "    border-collapse: collapse;\n",
       "  }\n",
       "  th, td {\n",
       "    padding: 5px;\n",
       "  }\n",
       "  th {\n",
       "    text-align: left;\n",
       "  }\n",
       "</style><div class='table-result-container'><table class='table-result'><thead style='background-color: white'><tr><th>Data</th></tr></thead><tbody><tr><td>1-1-2017 ; 5000 ; 0.05 ; Nagla Mahmoud</td></tr><tr><td>5-1-2017 ; 4000 ; 0.06 ; Nagla Mahmoud</td></tr><tr><td>9-1-2017 ; 5000 ; 0.09 ; Dina Ragheb</td></tr><tr><td>13-1-2017 ; 11000 ; 0.06 ; Eman Atef</td></tr><tr><td>17-1-2017 ; 8000 ; 0.06 ; Dina Ragheb</td></tr><tr><td>21-1-2017 ; 4000 ; 0.07 ; Adel Ragheb</td></tr><tr><td>25-1-2017 ; 2000 ; 0.08 ; Samer Morsy</td></tr><tr><td>29-1-2017 ; 1000 ; 0.07 ; Nader Nassar</td></tr><tr><td>2-2-2017 ; 6000 ; 0.07 ; Samer Morsy</td></tr><tr><td>6-2-2017 ; 2000 ; 0.05 ; Dina Ragheb</td></tr><tr><td>10-2-2017 ; 12000 ; 0.09 ; Kamel Morsy</td></tr><tr><td>14-2-2017 ; 5000 ; 0.09 ; Dina Ragheb</td></tr><tr><td>18-2-2017 ; 9000 ; 0.07 ; Amr Ragheb</td></tr><tr><td>22-2-2017 ; 8000 ; 0.09 ; Eman Atef</td></tr><tr><td>26-2-2017 ; 2000 ; 0.05 ; Kamel Morsy</td></tr><tr><td>2-3-2017 ; 3000 ; 0.05 ; Dina Ragheb</td></tr><tr><td>6-3-2017 ; 5000 ; 0.05 ; Nader Nassar</td></tr><tr><td>10-3-2017 ; 2000 ; 0.09 ; Nadeen Mohsen</td></tr><tr><td>14-3-2017 ; 6000 ; 0.06 ; Amr Ragheb</td></tr><tr><td>18-3-2017 ; 7000 ; 0.07 ; Samer Morsy</td></tr><tr><td>22-3-2017 ; 8000 ; 0.09 ; Kamel Morsy</td></tr><tr><td>26-3-2017 ; 5000 ; 0.08 ; Adel Ragheb</td></tr><tr><td>30-3-2017 ; 8000 ; 0.08 ; Adel Ragheb</td></tr><tr><td>3-4-2017 ; 6000 ; 0.09 ; Amr Ragheb</td></tr><tr><td>7-4-2017 ; 8000 ; 0.08 ; Amr Ragheb</td></tr><tr><td>11-4-2017 ; 11000 ; 0.09 ; Dina Ragheb</td></tr><tr><td>15-4-2017 ; 7000 ; 0.05 ; Dina Ragheb</td></tr><tr><td>19-4-2017 ; 4000 ; 0.08 ; Amr Ragheb</td></tr><tr><td>23-4-2017 ; 4000 ; 0.09 ; Nagla Mahmoud</td></tr><tr><td>27-4-2017 ; 6000 ; 0.08 ; Adel Ragheb</td></tr><tr><td>1-5-2017 ; 5000 ; 0.07 ; Dina Ragheb</td></tr><tr><td>5-5-2017 ; 9000 ; 0.08 ; Nadeen Mohsen</td></tr><tr><td>9-5-2017 ; 5000 ; 0.05 ; Samer Morsy</td></tr><tr><td>13-5-2017 ; 2000 ; 0.05 ; Nader Nassar</td></tr><tr><td>17-5-2017 ; 3000 ; 0.07 ; Kamel Morsy</td></tr><tr><td>21-5-2017 ; 4000 ; 0.09 ; Dina Ragheb</td></tr><tr><td>25-5-2017 ; 8000 ; 0.06 ; Nagla Mahmoud</td></tr><tr><td>29-5-2017 ; 10000 ; 0.07 ; Nagla Mahmoud</td></tr><tr><td>2-6-2017 ; 2000 ; 0.08 ; Dina Ragheb</td></tr><tr><td>6-6-2017 ; 3000 ; 0.09 ; Nader Nassar</td></tr><tr><td>10-6-2017 ; 5000 ; 0.05 ; Nader Nassar</td></tr><tr><td>14-6-2017 ; 4000 ; 0.09 ; Dina Ragheb</td></tr><tr><td>18-6-2017 ; 1000 ; 0.09 ; Kamel Morsy</td></tr><tr><td>22-6-2017 ; 2000 ; 0.09 ; Dina Ragheb</td></tr><tr><td>26-6-2017 ; 8000 ; 0.08 ; Nader Nassar</td></tr><tr><td>30-6-2017 ; 7000 ; 0.06 ; Adel Ragheb</td></tr><tr><td>4-7-2017 ; 10000 ; 0.09 ; Kamel Morsy</td></tr><tr><td>8-7-2017 ; 8000 ; 0.07 ; Dina Ragheb</td></tr><tr><td>12-7-2017 ; 8000 ; 0.06 ; Samer Morsy</td></tr><tr><td>16-7-2017 ; 9000 ; 0.06 ; Nader Nassar</td></tr><tr><td>20-7-2017 ; 9000 ; 0.06 ; Samer Morsy</td></tr><tr><td>24-7-2017 ; 7000 ; 0.07 ; Amr Ragheb</td></tr><tr><td>28-7-2017 ; 11000 ; 0.05 ; Samer Morsy</td></tr><tr><td>1-8-2017 ; 8000 ; 0.06 ; Nader Nassar</td></tr><tr><td>5-8-2017 ; 8000 ; 0.06 ; Dina Ragheb</td></tr><tr><td>9-8-2017 ; 11000 ; 0.05 ; Dina Ragheb</td></tr><tr><td>13-8-2017 ; 11000 ; 0.08 ; Adel Ragheb</td></tr><tr><td>17-8-2017 ; 2000 ; 0.06 ; Dina Ragheb</td></tr><tr><td>21-8-2017 ; 5000 ; 0.06 ; Nagla Mahmoud</td></tr><tr><td>25-8-2017 ; 1000 ; 0.09 ; Nagla Mahmoud</td></tr><tr><td>29-8-2017 ; 9000 ; 0.06 ; Nader Nassar</td></tr><tr><td>2-9-2017 ; 2000 ; 0.09 ; Dina Ragheb</td></tr><tr><td>6-9-2017 ; 5000 ; 0.09 ; Nagla Mahmoud</td></tr><tr><td>10-9-2017 ; 7000 ; 0.07 ; Eman Atef</td></tr><tr><td>14-9-2017 ; 11000 ; 0.06 ; Nadeen Mohsen</td></tr><tr><td>18-9-2017 ; 8000 ; 0.05 ; Dina Ragheb</td></tr><tr><td>22-9-2017 ; 9000 ; 0.05 ; Nadeen Mohsen</td></tr><tr><td>26-9-2017 ; 1000 ; 0.08 ; Samer Morsy</td></tr><tr><td>30-9-2017 ; 9000 ; 0.06 ; Nadeen Mohsen</td></tr><tr><td>4-10-2017 ; 6000 ; 0.09 ; Kamel Morsy</td></tr><tr><td>8-10-2017 ; 10000 ; 0.08 ; Dina Ragheb</td></tr><tr><td>12-10-2017 ; 10000 ; 0.07 ; Eman Atef</td></tr><tr><td>16-10-2017 ; 4000 ; 0.09 ; Amr Ragheb</td></tr><tr><td>20-10-2017 ; 3000 ; 0.09 ; Amr Ragheb</td></tr><tr><td>24-10-2017 ; 10000 ; 0.07 ; Nagla Mahmoud</td></tr><tr><td>28-10-2017 ; 11000 ; 0.08 ; Adel Ragheb</td></tr><tr><td>1-11-2017 ; 3000 ; 0.08 ; Amr Ragheb</td></tr><tr><td>5-11-2017 ; 3000 ; 0.06 ; Amr Ragheb</td></tr><tr><td>9-11-2017 ; 5000 ; 0.08 ; Samer Morsy</td></tr><tr><td>13-11-2017 ; 11000 ; 0.06 ; Amr Ragheb</td></tr><tr><td>17-11-2017 ; 10000 ; 0.07 ; Nadeen Mohsen</td></tr><tr><td>21-11-2017 ; 5000 ; 0.09 ; Samer Morsy</td></tr><tr><td>25-11-2017 ; 7000 ; 0.06 ; Eman Atef</td></tr><tr><td>29-11-2017 ; 1000 ; 0.06 ; Amr Ragheb</td></tr><tr><td>3-12-2017 ; 8000 ; 0.07 ; Amr Ragheb</td></tr><tr><td>7-12-2017 ; 10000 ; 0.09 ; Eman Atef</td></tr><tr><td>11-12-2017 ; 7000 ; 0.07 ; Samer Morsy</td></tr><tr><td>15-12-2017 ; 5000 ; 0.05 ; Amr Ragheb</td></tr><tr><td>19-12-2017 ; 12000 ; 0.07 ; Eman Atef</td></tr><tr><td>23-12-2017 ; 3000 ; 0.07 ; Samer Morsy</td></tr><tr><td>27-12-2017 ; 7000 ; 0.09 ; Dina Ragheb</td></tr><tr><td>31-12-2017 ; 12000 ; 0.06 ; Kamel Morsy</td></tr><tr><td>1-1-2018 ; 11000 ; 0.05 ; Nagla Mahmoud</td></tr><tr><td>5-1-2018 ; 7000 ; 0.06 ; Nagla Mahmoud</td></tr><tr><td>9-1-2018 ; 5000 ; 0.09 ; Dina Ragheb</td></tr><tr><td>13-1-2018 ; 3000 ; 0.06 ; Eman Atef</td></tr><tr><td>17-1-2018 ; 1000 ; 0.06 ; Dina Ragheb</td></tr><tr><td>21-1-2018 ; 3000 ; 0.07 ; Adel Ragheb</td></tr><tr><td>25-1-2018 ; 5000 ; 0.08 ; Samer Morsy</td></tr><tr><td>29-1-2018 ; 8000 ; 0.07 ; Nader Nassar</td></tr><tr><td>2-2-2018 ; 3000 ; 0.07 ; Samer Morsy</td></tr><tr><td>6-2-2018 ; 12000 ; 0.05 ; Dina Ragheb</td></tr><tr><td>10-2-2018 ; 5000 ; 0.09 ; Kamel Morsy</td></tr><tr><td>14-2-2018 ; 5000 ; 0.09 ; Dina Ragheb</td></tr><tr><td>18-2-2018 ; 5000 ; 0.07 ; Amr Ragheb</td></tr><tr><td>22-2-2018 ; 6000 ; 0.09 ; Eman Atef</td></tr><tr><td>26-2-2018 ; 4000 ; 0.05 ; Kamel Morsy</td></tr><tr><td>2-3-2018 ; 2000 ; 0.05 ; Dina Ragheb</td></tr><tr><td>6-3-2018 ; 3000 ; 0.05 ; Nader Nassar</td></tr><tr><td>10-3-2018 ; 7000 ; 0.09 ; Nadeen Mohsen</td></tr><tr><td>14-3-2018 ; 1000 ; 0.06 ; Amr Ragheb</td></tr><tr><td>18-3-2018 ; 6000 ; 0.07 ; Samer Morsy</td></tr><tr><td>22-3-2018 ; 4000 ; 0.09 ; Kamel Morsy</td></tr><tr><td>26-3-2018 ; 3000 ; 0.08 ; Adel Ragheb</td></tr><tr><td>30-3-2018 ; 4000 ; 0.08 ; Adel Ragheb</td></tr><tr><td>3-4-2018 ; 1000 ; 0.09 ; Amr Ragheb</td></tr><tr><td>7-4-2018 ; 7000 ; 0.08 ; Amr Ragheb</td></tr><tr><td>11-4-2018 ; 8000 ; 0.09 ; Dina Ragheb</td></tr><tr><td>15-4-2018 ; 5000 ; 0.05 ; Dina Ragheb</td></tr><tr><td>19-4-2018 ; 2000 ; 0.08 ; Amr Ragheb</td></tr><tr><td>23-4-2018 ; 4000 ; 0.09 ; Nagla Mahmoud</td></tr><tr><td>27-4-2018 ; 10000 ; 0.08 ; Adel Ragheb</td></tr><tr><td>1-5-2018 ; 6000 ; 0.07 ; Dina Ragheb</td></tr><tr><td>5-5-2018 ; 3000 ; 0.08 ; Nadeen Mohsen</td></tr><tr><td>9-5-2018 ; 5000 ; 0.05 ; Samer Morsy</td></tr><tr><td>13-5-2018 ; 9000 ; 0.05 ; Nader Nassar</td></tr><tr><td>17-5-2018 ; 7000 ; 0.07 ; Kamel Morsy</td></tr><tr><td>21-5-2018 ; 4000 ; 0.09 ; Dina Ragheb</td></tr><tr><td>25-5-2018 ; 7000 ; 0.06 ; Nagla Mahmoud</td></tr><tr><td>29-5-2018 ; 6000 ; 0.07 ; Nagla Mahmoud</td></tr><tr><td>2-6-2018 ; 3000 ; 0.08 ; Dina Ragheb</td></tr><tr><td>6-6-2018 ; 11000 ; 0.09 ; Nader Nassar</td></tr><tr><td>10-6-2018 ; 4000 ; 0.05 ; Nader Nassar</td></tr><tr><td>14-6-2018 ; 1000 ; 0.09 ; Dina Ragheb</td></tr><tr><td>18-6-2018 ; 9000 ; 0.09 ; Kamel Morsy</td></tr><tr><td>22-6-2018 ; 5000 ; 0.09 ; Dina Ragheb</td></tr><tr><td>26-6-2018 ; 10000 ; 0.08 ; Nader Nassar</td></tr><tr><td>30-6-2018 ; 3000 ; 0.06 ; Adel Ragheb</td></tr><tr><td>4-7-2018 ; 4000 ; 0.09 ; Kamel Morsy</td></tr><tr><td>8-7-2018 ; 6000 ; 0.07 ; Dina Ragheb</td></tr><tr><td>12-7-2018 ; 5000 ; 0.06 ; Samer Morsy</td></tr><tr><td>16-7-2018 ; 8000 ; 0.06 ; Nader Nassar</td></tr><tr><td>20-7-2018 ; 9000 ; 0.06 ; Samer Morsy</td></tr><tr><td>24-7-2018 ; 11000 ; 0.07 ; Amr Ragheb</td></tr><tr><td>28-7-2018 ; 12000 ; 0.05 ; Samer Morsy</td></tr><tr><td>1-8-2018 ; 7000 ; 0.06 ; Nader Nassar</td></tr><tr><td>5-8-2018 ; 5000 ; 0.06 ; Dina Ragheb</td></tr><tr><td>9-8-2018 ; 11000 ; 0.05 ; Dina Ragheb</td></tr><tr><td>13-8-2018 ; 4000 ; 0.08 ; Adel Ragheb</td></tr><tr><td>17-8-2018 ; 9000 ; 0.06 ; Dina Ragheb</td></tr><tr><td>21-8-2018 ; 12000 ; 0.06 ; Nagla Mahmoud</td></tr><tr><td>25-8-2018 ; 4000 ; 0.09 ; Nagla Mahmoud</td></tr><tr><td>29-8-2018 ; 9000 ; 0.06 ; Nader Nassar</td></tr><tr><td>2-9-2018 ; 2000 ; 0.09 ; Dina Ragheb</td></tr><tr><td>6-9-2018 ; 1000 ; 0.09 ; Nagla Mahmoud</td></tr><tr><td>10-9-2018 ; 5000 ; 0.07 ; Eman Atef</td></tr><tr><td>14-9-2018 ; 7000 ; 0.06 ; Nadeen Mohsen</td></tr><tr><td>18-9-2018 ; 7000 ; 0.05 ; Dina Ragheb</td></tr><tr><td>22-9-2018 ; 6000 ; 0.05 ; Nadeen Mohsen</td></tr><tr><td>26-9-2018 ; 11000 ; 0.08 ; Samer Morsy</td></tr><tr><td>30-9-2018 ; 5000 ; 0.06 ; Nadeen Mohsen</td></tr><tr><td>4-10-2018 ; 1000 ; 0.09 ; Kamel Morsy</td></tr><tr><td>8-10-2018 ; 2000 ; 0.08 ; Dina Ragheb</td></tr><tr><td>12-10-2018 ; 6000 ; 0.07 ; Eman Atef</td></tr><tr><td>16-10-2018 ; 8000 ; 0.09 ; Amr Ragheb</td></tr><tr><td>20-10-2018 ; 11000 ; 0.09 ; Amr Ragheb</td></tr><tr><td>24-10-2018 ; 8000 ; 0.07 ; Nagla Mahmoud</td></tr><tr><td>28-10-2018 ; 12000 ; 0.08 ; Adel Ragheb</td></tr><tr><td>1-11-2018 ; 6000 ; 0.08 ; Amr Ragheb</td></tr><tr><td>5-11-2018 ; 5000 ; 0.06 ; Amr Ragheb</td></tr><tr><td>9-11-2018 ; 8000 ; 0.08 ; Samer Morsy</td></tr><tr><td>13-11-2018 ; 3000 ; 0.06 ; Amr Ragheb</td></tr><tr><td>17-11-2018 ; 11000 ; 0.07 ; Nadeen Mohsen</td></tr><tr><td>21-11-2018 ; 9000 ; 0.09 ; Samer Morsy</td></tr><tr><td>25-11-2018 ; 4000 ; 0.06 ; Eman Atef</td></tr><tr><td>29-11-2018 ; 12000 ; 0.06 ; Amr Ragheb</td></tr><tr><td>3-12-2018 ; 9000 ; 0.07 ; Amr Ragheb</td></tr><tr><td>7-12-2018 ; 8000 ; 0.09 ; Eman Atef</td></tr><tr><td>11-12-2018 ; 2000 ; 0.07 ; Samer Morsy</td></tr><tr><td>15-12-2018 ; 2000 ; 0.05 ; Amr Ragheb</td></tr><tr><td>19-12-2018 ; 8000 ; 0.07 ; Eman Atef</td></tr><tr><td>23-12-2018 ; 8000 ; 0.07 ; Samer Morsy</td></tr><tr><td>27-12-2018 ; 1000 ; 0.09 ; Dina Ragheb</td></tr><tr><td>31-12-2018 ; 1000 ; 0.06 ; Kamel Morsy</td></tr></tbody></table></div>"
      ]
     },
     "metadata": {
      "application/vnd.databricks.v1+output": {
       "addedWidgets": {},
       "aggData": [],
       "aggError": "",
       "aggOverflow": false,
       "aggSchema": [],
       "aggSeriesLimitReached": false,
       "aggType": "",
       "arguments": {},
       "columnCustomDisplayInfos": {},
       "data": [
        [
         "1-1-2017 ; 5000 ; 0.05 ; Nagla Mahmoud"
        ],
        [
         "5-1-2017 ; 4000 ; 0.06 ; Nagla Mahmoud"
        ],
        [
         "9-1-2017 ; 5000 ; 0.09 ; Dina Ragheb"
        ],
        [
         "13-1-2017 ; 11000 ; 0.06 ; Eman Atef"
        ],
        [
         "17-1-2017 ; 8000 ; 0.06 ; Dina Ragheb"
        ],
        [
         "21-1-2017 ; 4000 ; 0.07 ; Adel Ragheb"
        ],
        [
         "25-1-2017 ; 2000 ; 0.08 ; Samer Morsy"
        ],
        [
         "29-1-2017 ; 1000 ; 0.07 ; Nader Nassar"
        ],
        [
         "2-2-2017 ; 6000 ; 0.07 ; Samer Morsy"
        ],
        [
         "6-2-2017 ; 2000 ; 0.05 ; Dina Ragheb"
        ],
        [
         "10-2-2017 ; 12000 ; 0.09 ; Kamel Morsy"
        ],
        [
         "14-2-2017 ; 5000 ; 0.09 ; Dina Ragheb"
        ],
        [
         "18-2-2017 ; 9000 ; 0.07 ; Amr Ragheb"
        ],
        [
         "22-2-2017 ; 8000 ; 0.09 ; Eman Atef"
        ],
        [
         "26-2-2017 ; 2000 ; 0.05 ; Kamel Morsy"
        ],
        [
         "2-3-2017 ; 3000 ; 0.05 ; Dina Ragheb"
        ],
        [
         "6-3-2017 ; 5000 ; 0.05 ; Nader Nassar"
        ],
        [
         "10-3-2017 ; 2000 ; 0.09 ; Nadeen Mohsen"
        ],
        [
         "14-3-2017 ; 6000 ; 0.06 ; Amr Ragheb"
        ],
        [
         "18-3-2017 ; 7000 ; 0.07 ; Samer Morsy"
        ],
        [
         "22-3-2017 ; 8000 ; 0.09 ; Kamel Morsy"
        ],
        [
         "26-3-2017 ; 5000 ; 0.08 ; Adel Ragheb"
        ],
        [
         "30-3-2017 ; 8000 ; 0.08 ; Adel Ragheb"
        ],
        [
         "3-4-2017 ; 6000 ; 0.09 ; Amr Ragheb"
        ],
        [
         "7-4-2017 ; 8000 ; 0.08 ; Amr Ragheb"
        ],
        [
         "11-4-2017 ; 11000 ; 0.09 ; Dina Ragheb"
        ],
        [
         "15-4-2017 ; 7000 ; 0.05 ; Dina Ragheb"
        ],
        [
         "19-4-2017 ; 4000 ; 0.08 ; Amr Ragheb"
        ],
        [
         "23-4-2017 ; 4000 ; 0.09 ; Nagla Mahmoud"
        ],
        [
         "27-4-2017 ; 6000 ; 0.08 ; Adel Ragheb"
        ],
        [
         "1-5-2017 ; 5000 ; 0.07 ; Dina Ragheb"
        ],
        [
         "5-5-2017 ; 9000 ; 0.08 ; Nadeen Mohsen"
        ],
        [
         "9-5-2017 ; 5000 ; 0.05 ; Samer Morsy"
        ],
        [
         "13-5-2017 ; 2000 ; 0.05 ; Nader Nassar"
        ],
        [
         "17-5-2017 ; 3000 ; 0.07 ; Kamel Morsy"
        ],
        [
         "21-5-2017 ; 4000 ; 0.09 ; Dina Ragheb"
        ],
        [
         "25-5-2017 ; 8000 ; 0.06 ; Nagla Mahmoud"
        ],
        [
         "29-5-2017 ; 10000 ; 0.07 ; Nagla Mahmoud"
        ],
        [
         "2-6-2017 ; 2000 ; 0.08 ; Dina Ragheb"
        ],
        [
         "6-6-2017 ; 3000 ; 0.09 ; Nader Nassar"
        ],
        [
         "10-6-2017 ; 5000 ; 0.05 ; Nader Nassar"
        ],
        [
         "14-6-2017 ; 4000 ; 0.09 ; Dina Ragheb"
        ],
        [
         "18-6-2017 ; 1000 ; 0.09 ; Kamel Morsy"
        ],
        [
         "22-6-2017 ; 2000 ; 0.09 ; Dina Ragheb"
        ],
        [
         "26-6-2017 ; 8000 ; 0.08 ; Nader Nassar"
        ],
        [
         "30-6-2017 ; 7000 ; 0.06 ; Adel Ragheb"
        ],
        [
         "4-7-2017 ; 10000 ; 0.09 ; Kamel Morsy"
        ],
        [
         "8-7-2017 ; 8000 ; 0.07 ; Dina Ragheb"
        ],
        [
         "12-7-2017 ; 8000 ; 0.06 ; Samer Morsy"
        ],
        [
         "16-7-2017 ; 9000 ; 0.06 ; Nader Nassar"
        ],
        [
         "20-7-2017 ; 9000 ; 0.06 ; Samer Morsy"
        ],
        [
         "24-7-2017 ; 7000 ; 0.07 ; Amr Ragheb"
        ],
        [
         "28-7-2017 ; 11000 ; 0.05 ; Samer Morsy"
        ],
        [
         "1-8-2017 ; 8000 ; 0.06 ; Nader Nassar"
        ],
        [
         "5-8-2017 ; 8000 ; 0.06 ; Dina Ragheb"
        ],
        [
         "9-8-2017 ; 11000 ; 0.05 ; Dina Ragheb"
        ],
        [
         "13-8-2017 ; 11000 ; 0.08 ; Adel Ragheb"
        ],
        [
         "17-8-2017 ; 2000 ; 0.06 ; Dina Ragheb"
        ],
        [
         "21-8-2017 ; 5000 ; 0.06 ; Nagla Mahmoud"
        ],
        [
         "25-8-2017 ; 1000 ; 0.09 ; Nagla Mahmoud"
        ],
        [
         "29-8-2017 ; 9000 ; 0.06 ; Nader Nassar"
        ],
        [
         "2-9-2017 ; 2000 ; 0.09 ; Dina Ragheb"
        ],
        [
         "6-9-2017 ; 5000 ; 0.09 ; Nagla Mahmoud"
        ],
        [
         "10-9-2017 ; 7000 ; 0.07 ; Eman Atef"
        ],
        [
         "14-9-2017 ; 11000 ; 0.06 ; Nadeen Mohsen"
        ],
        [
         "18-9-2017 ; 8000 ; 0.05 ; Dina Ragheb"
        ],
        [
         "22-9-2017 ; 9000 ; 0.05 ; Nadeen Mohsen"
        ],
        [
         "26-9-2017 ; 1000 ; 0.08 ; Samer Morsy"
        ],
        [
         "30-9-2017 ; 9000 ; 0.06 ; Nadeen Mohsen"
        ],
        [
         "4-10-2017 ; 6000 ; 0.09 ; Kamel Morsy"
        ],
        [
         "8-10-2017 ; 10000 ; 0.08 ; Dina Ragheb"
        ],
        [
         "12-10-2017 ; 10000 ; 0.07 ; Eman Atef"
        ],
        [
         "16-10-2017 ; 4000 ; 0.09 ; Amr Ragheb"
        ],
        [
         "20-10-2017 ; 3000 ; 0.09 ; Amr Ragheb"
        ],
        [
         "24-10-2017 ; 10000 ; 0.07 ; Nagla Mahmoud"
        ],
        [
         "28-10-2017 ; 11000 ; 0.08 ; Adel Ragheb"
        ],
        [
         "1-11-2017 ; 3000 ; 0.08 ; Amr Ragheb"
        ],
        [
         "5-11-2017 ; 3000 ; 0.06 ; Amr Ragheb"
        ],
        [
         "9-11-2017 ; 5000 ; 0.08 ; Samer Morsy"
        ],
        [
         "13-11-2017 ; 11000 ; 0.06 ; Amr Ragheb"
        ],
        [
         "17-11-2017 ; 10000 ; 0.07 ; Nadeen Mohsen"
        ],
        [
         "21-11-2017 ; 5000 ; 0.09 ; Samer Morsy"
        ],
        [
         "25-11-2017 ; 7000 ; 0.06 ; Eman Atef"
        ],
        [
         "29-11-2017 ; 1000 ; 0.06 ; Amr Ragheb"
        ],
        [
         "3-12-2017 ; 8000 ; 0.07 ; Amr Ragheb"
        ],
        [
         "7-12-2017 ; 10000 ; 0.09 ; Eman Atef"
        ],
        [
         "11-12-2017 ; 7000 ; 0.07 ; Samer Morsy"
        ],
        [
         "15-12-2017 ; 5000 ; 0.05 ; Amr Ragheb"
        ],
        [
         "19-12-2017 ; 12000 ; 0.07 ; Eman Atef"
        ],
        [
         "23-12-2017 ; 3000 ; 0.07 ; Samer Morsy"
        ],
        [
         "27-12-2017 ; 7000 ; 0.09 ; Dina Ragheb"
        ],
        [
         "31-12-2017 ; 12000 ; 0.06 ; Kamel Morsy"
        ],
        [
         "1-1-2018 ; 11000 ; 0.05 ; Nagla Mahmoud"
        ],
        [
         "5-1-2018 ; 7000 ; 0.06 ; Nagla Mahmoud"
        ],
        [
         "9-1-2018 ; 5000 ; 0.09 ; Dina Ragheb"
        ],
        [
         "13-1-2018 ; 3000 ; 0.06 ; Eman Atef"
        ],
        [
         "17-1-2018 ; 1000 ; 0.06 ; Dina Ragheb"
        ],
        [
         "21-1-2018 ; 3000 ; 0.07 ; Adel Ragheb"
        ],
        [
         "25-1-2018 ; 5000 ; 0.08 ; Samer Morsy"
        ],
        [
         "29-1-2018 ; 8000 ; 0.07 ; Nader Nassar"
        ],
        [
         "2-2-2018 ; 3000 ; 0.07 ; Samer Morsy"
        ],
        [
         "6-2-2018 ; 12000 ; 0.05 ; Dina Ragheb"
        ],
        [
         "10-2-2018 ; 5000 ; 0.09 ; Kamel Morsy"
        ],
        [
         "14-2-2018 ; 5000 ; 0.09 ; Dina Ragheb"
        ],
        [
         "18-2-2018 ; 5000 ; 0.07 ; Amr Ragheb"
        ],
        [
         "22-2-2018 ; 6000 ; 0.09 ; Eman Atef"
        ],
        [
         "26-2-2018 ; 4000 ; 0.05 ; Kamel Morsy"
        ],
        [
         "2-3-2018 ; 2000 ; 0.05 ; Dina Ragheb"
        ],
        [
         "6-3-2018 ; 3000 ; 0.05 ; Nader Nassar"
        ],
        [
         "10-3-2018 ; 7000 ; 0.09 ; Nadeen Mohsen"
        ],
        [
         "14-3-2018 ; 1000 ; 0.06 ; Amr Ragheb"
        ],
        [
         "18-3-2018 ; 6000 ; 0.07 ; Samer Morsy"
        ],
        [
         "22-3-2018 ; 4000 ; 0.09 ; Kamel Morsy"
        ],
        [
         "26-3-2018 ; 3000 ; 0.08 ; Adel Ragheb"
        ],
        [
         "30-3-2018 ; 4000 ; 0.08 ; Adel Ragheb"
        ],
        [
         "3-4-2018 ; 1000 ; 0.09 ; Amr Ragheb"
        ],
        [
         "7-4-2018 ; 7000 ; 0.08 ; Amr Ragheb"
        ],
        [
         "11-4-2018 ; 8000 ; 0.09 ; Dina Ragheb"
        ],
        [
         "15-4-2018 ; 5000 ; 0.05 ; Dina Ragheb"
        ],
        [
         "19-4-2018 ; 2000 ; 0.08 ; Amr Ragheb"
        ],
        [
         "23-4-2018 ; 4000 ; 0.09 ; Nagla Mahmoud"
        ],
        [
         "27-4-2018 ; 10000 ; 0.08 ; Adel Ragheb"
        ],
        [
         "1-5-2018 ; 6000 ; 0.07 ; Dina Ragheb"
        ],
        [
         "5-5-2018 ; 3000 ; 0.08 ; Nadeen Mohsen"
        ],
        [
         "9-5-2018 ; 5000 ; 0.05 ; Samer Morsy"
        ],
        [
         "13-5-2018 ; 9000 ; 0.05 ; Nader Nassar"
        ],
        [
         "17-5-2018 ; 7000 ; 0.07 ; Kamel Morsy"
        ],
        [
         "21-5-2018 ; 4000 ; 0.09 ; Dina Ragheb"
        ],
        [
         "25-5-2018 ; 7000 ; 0.06 ; Nagla Mahmoud"
        ],
        [
         "29-5-2018 ; 6000 ; 0.07 ; Nagla Mahmoud"
        ],
        [
         "2-6-2018 ; 3000 ; 0.08 ; Dina Ragheb"
        ],
        [
         "6-6-2018 ; 11000 ; 0.09 ; Nader Nassar"
        ],
        [
         "10-6-2018 ; 4000 ; 0.05 ; Nader Nassar"
        ],
        [
         "14-6-2018 ; 1000 ; 0.09 ; Dina Ragheb"
        ],
        [
         "18-6-2018 ; 9000 ; 0.09 ; Kamel Morsy"
        ],
        [
         "22-6-2018 ; 5000 ; 0.09 ; Dina Ragheb"
        ],
        [
         "26-6-2018 ; 10000 ; 0.08 ; Nader Nassar"
        ],
        [
         "30-6-2018 ; 3000 ; 0.06 ; Adel Ragheb"
        ],
        [
         "4-7-2018 ; 4000 ; 0.09 ; Kamel Morsy"
        ],
        [
         "8-7-2018 ; 6000 ; 0.07 ; Dina Ragheb"
        ],
        [
         "12-7-2018 ; 5000 ; 0.06 ; Samer Morsy"
        ],
        [
         "16-7-2018 ; 8000 ; 0.06 ; Nader Nassar"
        ],
        [
         "20-7-2018 ; 9000 ; 0.06 ; Samer Morsy"
        ],
        [
         "24-7-2018 ; 11000 ; 0.07 ; Amr Ragheb"
        ],
        [
         "28-7-2018 ; 12000 ; 0.05 ; Samer Morsy"
        ],
        [
         "1-8-2018 ; 7000 ; 0.06 ; Nader Nassar"
        ],
        [
         "5-8-2018 ; 5000 ; 0.06 ; Dina Ragheb"
        ],
        [
         "9-8-2018 ; 11000 ; 0.05 ; Dina Ragheb"
        ],
        [
         "13-8-2018 ; 4000 ; 0.08 ; Adel Ragheb"
        ],
        [
         "17-8-2018 ; 9000 ; 0.06 ; Dina Ragheb"
        ],
        [
         "21-8-2018 ; 12000 ; 0.06 ; Nagla Mahmoud"
        ],
        [
         "25-8-2018 ; 4000 ; 0.09 ; Nagla Mahmoud"
        ],
        [
         "29-8-2018 ; 9000 ; 0.06 ; Nader Nassar"
        ],
        [
         "2-9-2018 ; 2000 ; 0.09 ; Dina Ragheb"
        ],
        [
         "6-9-2018 ; 1000 ; 0.09 ; Nagla Mahmoud"
        ],
        [
         "10-9-2018 ; 5000 ; 0.07 ; Eman Atef"
        ],
        [
         "14-9-2018 ; 7000 ; 0.06 ; Nadeen Mohsen"
        ],
        [
         "18-9-2018 ; 7000 ; 0.05 ; Dina Ragheb"
        ],
        [
         "22-9-2018 ; 6000 ; 0.05 ; Nadeen Mohsen"
        ],
        [
         "26-9-2018 ; 11000 ; 0.08 ; Samer Morsy"
        ],
        [
         "30-9-2018 ; 5000 ; 0.06 ; Nadeen Mohsen"
        ],
        [
         "4-10-2018 ; 1000 ; 0.09 ; Kamel Morsy"
        ],
        [
         "8-10-2018 ; 2000 ; 0.08 ; Dina Ragheb"
        ],
        [
         "12-10-2018 ; 6000 ; 0.07 ; Eman Atef"
        ],
        [
         "16-10-2018 ; 8000 ; 0.09 ; Amr Ragheb"
        ],
        [
         "20-10-2018 ; 11000 ; 0.09 ; Amr Ragheb"
        ],
        [
         "24-10-2018 ; 8000 ; 0.07 ; Nagla Mahmoud"
        ],
        [
         "28-10-2018 ; 12000 ; 0.08 ; Adel Ragheb"
        ],
        [
         "1-11-2018 ; 6000 ; 0.08 ; Amr Ragheb"
        ],
        [
         "5-11-2018 ; 5000 ; 0.06 ; Amr Ragheb"
        ],
        [
         "9-11-2018 ; 8000 ; 0.08 ; Samer Morsy"
        ],
        [
         "13-11-2018 ; 3000 ; 0.06 ; Amr Ragheb"
        ],
        [
         "17-11-2018 ; 11000 ; 0.07 ; Nadeen Mohsen"
        ],
        [
         "21-11-2018 ; 9000 ; 0.09 ; Samer Morsy"
        ],
        [
         "25-11-2018 ; 4000 ; 0.06 ; Eman Atef"
        ],
        [
         "29-11-2018 ; 12000 ; 0.06 ; Amr Ragheb"
        ],
        [
         "3-12-2018 ; 9000 ; 0.07 ; Amr Ragheb"
        ],
        [
         "7-12-2018 ; 8000 ; 0.09 ; Eman Atef"
        ],
        [
         "11-12-2018 ; 2000 ; 0.07 ; Samer Morsy"
        ],
        [
         "15-12-2018 ; 2000 ; 0.05 ; Amr Ragheb"
        ],
        [
         "19-12-2018 ; 8000 ; 0.07 ; Eman Atef"
        ],
        [
         "23-12-2018 ; 8000 ; 0.07 ; Samer Morsy"
        ],
        [
         "27-12-2018 ; 1000 ; 0.09 ; Dina Ragheb"
        ],
        [
         "31-12-2018 ; 1000 ; 0.06 ; Kamel Morsy"
        ]
       ],
       "datasetInfos": [],
       "dbfsResultPath": null,
       "isJsonSchema": true,
       "metadata": {},
       "overflow": false,
       "plotOptions": {
        "customPlotOptions": {},
        "displayType": "table",
        "pivotAggregation": null,
        "pivotColumns": null,
        "xColumns": null,
        "yColumns": null
       },
       "removedWidgets": [],
       "schema": [
        {
         "metadata": "{}",
         "name": "Data",
         "type": "\"string\""
        }
       ],
       "type": "table"
      }
     },
     "output_type": "display_data"
    }
   ],
   "source": [
    "df.display()"
   ]
  },
  {
   "cell_type": "code",
   "execution_count": 0,
   "metadata": {
    "application/vnd.databricks.v1+cell": {
     "cellMetadata": {
      "byteLimit": 2048000,
      "rowLimit": 10000
     },
     "inputWidgets": {},
     "nuid": "b33ee535-fb9d-461d-b728-6f24a086d20c",
     "showTitle": false,
     "title": ""
    }
   },
   "outputs": [
    {
     "output_type": "stream",
     "name": "stdout",
     "output_type": "stream",
     "text": [
      "root\n |-- Data: string (nullable = true)\n |-- Date: string (nullable = true)\n |-- Amount: integer (nullable = true)\n |-- %of sales commision: float (nullable = true)\n |-- Sales_Name: string (nullable = true)\n\n"
     ]
    }
   ],
   "source": [
    "from pyspark.sql.functions import split\n",
    "\n",
    "split_col = split(df[\"Data\"], \";\")\n",
    "\n",
    "# Create new columns for each part of the split data\n",
    "df1 = df.withColumn(\"Date\", split_col.getItem(0)).withColumn(\"Amount\", split_col.getItem(1).cast(\"int\")).withColumn(\"%of sales commision\", split_col.getItem(2).cast(\"float\")).withColumn(\"Sales_Name\", split_col.getItem(3).cast(\"string\"))\n",
    "\n",
    "df1.printSchema()"
   ]
  },
  {
   "cell_type": "code",
   "execution_count": 0,
   "metadata": {
    "application/vnd.databricks.v1+cell": {
     "cellMetadata": {
      "byteLimit": 2048000,
      "rowLimit": 10000
     },
     "inputWidgets": {},
     "nuid": "4a31f799-8565-498f-a0a3-48beb51151be",
     "showTitle": false,
     "title": ""
    }
   },
   "outputs": [],
   "source": [
    "spark.conf.set(\"spark.sql.legacy.timeParserPolicy\",\"LEGACY\")"
   ]
  },
  {
   "cell_type": "code",
   "execution_count": 0,
   "metadata": {
    "application/vnd.databricks.v1+cell": {
     "cellMetadata": {
      "byteLimit": 2048000,
      "implicitDf": true,
      "rowLimit": 10000
     },
     "inputWidgets": {},
     "nuid": "b41f7be5-6234-4635-bcf6-3028f7e28bf1",
     "showTitle": false,
     "title": ""
    }
   },
   "outputs": [
    {
     "output_type": "display_data",
     "data": {
      "text/html": [
       "<style scoped>\n",
       "  .table-result-container {\n",
       "    max-height: 300px;\n",
       "    overflow: auto;\n",
       "  }\n",
       "  table, th, td {\n",
       "    border: 1px solid black;\n",
       "    border-collapse: collapse;\n",
       "  }\n",
       "  th, td {\n",
       "    padding: 5px;\n",
       "  }\n",
       "  th {\n",
       "    text-align: left;\n",
       "  }\n",
       "</style><div class='table-result-container'><table class='table-result'><thead style='background-color: white'><tr><th>to_date(2020-01-01, yyyy-MM-dd)</th></tr></thead><tbody><tr><td>2020-01-01</td></tr></tbody></table></div>"
      ]
     },
     "metadata": {
      "application/vnd.databricks.v1+output": {
       "addedWidgets": {},
       "aggData": [],
       "aggError": "",
       "aggOverflow": false,
       "aggSchema": [],
       "aggSeriesLimitReached": false,
       "aggType": "",
       "arguments": {},
       "columnCustomDisplayInfos": {},
       "data": [
        [
         "2020-01-01"
        ]
       ],
       "datasetInfos": [],
       "dbfsResultPath": null,
       "isJsonSchema": true,
       "metadata": {},
       "overflow": false,
       "plotOptions": {
        "customPlotOptions": {},
        "displayType": "table",
        "pivotAggregation": null,
        "pivotColumns": null,
        "xColumns": null,
        "yColumns": null
       },
       "removedWidgets": [],
       "schema": [
        {
         "metadata": "{\"__autoGeneratedAlias\":\"true\"}",
         "name": "to_date(2020-01-01, yyyy-MM-dd)",
         "type": "\"date\""
        }
       ],
       "type": "table"
      }
     },
     "output_type": "display_data"
    }
   ],
   "source": [
    "%sql\n",
    "select to_date('2020-01-01', 'yyyy-MM-dd')"
   ]
  },
  {
   "cell_type": "code",
   "execution_count": 0,
   "metadata": {
    "application/vnd.databricks.v1+cell": {
     "cellMetadata": {
      "byteLimit": 2048000,
      "rowLimit": 10000
     },
     "inputWidgets": {},
     "nuid": "ba2693d9-cf78-41ad-bb1c-a4914f467061",
     "showTitle": false,
     "title": ""
    }
   },
   "outputs": [
    {
     "output_type": "display_data",
     "data": {
      "text/html": [
       "<style scoped>\n",
       "  .table-result-container {\n",
       "    max-height: 300px;\n",
       "    overflow: auto;\n",
       "  }\n",
       "  table, th, td {\n",
       "    border: 1px solid black;\n",
       "    border-collapse: collapse;\n",
       "  }\n",
       "  th, td {\n",
       "    padding: 5px;\n",
       "  }\n",
       "  th {\n",
       "    text-align: left;\n",
       "  }\n",
       "</style><div class='table-result-container'><table class='table-result'><thead style='background-color: white'><tr><th>Data</th><th>Date</th><th>Amount</th><th>%of sales commision</th><th>Sales_Name</th><th>year</th></tr></thead><tbody><tr><td>1-1-2017 ; 5000 ; 0.05 ; Nagla Mahmoud</td><td>1-1-2017 </td><td>5000</td><td>0.05</td><td> Nagla Mahmoud</td><td>2017 </td></tr><tr><td>5-1-2017 ; 4000 ; 0.06 ; Nagla Mahmoud</td><td>5-1-2017 </td><td>4000</td><td>0.06</td><td> Nagla Mahmoud</td><td>2017 </td></tr><tr><td>9-1-2017 ; 5000 ; 0.09 ; Dina Ragheb</td><td>9-1-2017 </td><td>5000</td><td>0.09</td><td> Dina Ragheb</td><td>2017 </td></tr><tr><td>13-1-2017 ; 11000 ; 0.06 ; Eman Atef</td><td>13-1-2017 </td><td>11000</td><td>0.06</td><td> Eman Atef</td><td>2017 </td></tr><tr><td>17-1-2017 ; 8000 ; 0.06 ; Dina Ragheb</td><td>17-1-2017 </td><td>8000</td><td>0.06</td><td> Dina Ragheb</td><td>2017 </td></tr><tr><td>21-1-2017 ; 4000 ; 0.07 ; Adel Ragheb</td><td>21-1-2017 </td><td>4000</td><td>0.07</td><td> Adel Ragheb</td><td>2017 </td></tr><tr><td>25-1-2017 ; 2000 ; 0.08 ; Samer Morsy</td><td>25-1-2017 </td><td>2000</td><td>0.08</td><td> Samer Morsy</td><td>2017 </td></tr><tr><td>29-1-2017 ; 1000 ; 0.07 ; Nader Nassar</td><td>29-1-2017 </td><td>1000</td><td>0.07</td><td> Nader Nassar</td><td>2017 </td></tr><tr><td>2-2-2017 ; 6000 ; 0.07 ; Samer Morsy</td><td>2-2-2017 </td><td>6000</td><td>0.07</td><td> Samer Morsy</td><td>2017 </td></tr><tr><td>6-2-2017 ; 2000 ; 0.05 ; Dina Ragheb</td><td>6-2-2017 </td><td>2000</td><td>0.05</td><td> Dina Ragheb</td><td>2017 </td></tr><tr><td>10-2-2017 ; 12000 ; 0.09 ; Kamel Morsy</td><td>10-2-2017 </td><td>12000</td><td>0.09</td><td> Kamel Morsy</td><td>2017 </td></tr><tr><td>14-2-2017 ; 5000 ; 0.09 ; Dina Ragheb</td><td>14-2-2017 </td><td>5000</td><td>0.09</td><td> Dina Ragheb</td><td>2017 </td></tr><tr><td>18-2-2017 ; 9000 ; 0.07 ; Amr Ragheb</td><td>18-2-2017 </td><td>9000</td><td>0.07</td><td> Amr Ragheb</td><td>2017 </td></tr><tr><td>22-2-2017 ; 8000 ; 0.09 ; Eman Atef</td><td>22-2-2017 </td><td>8000</td><td>0.09</td><td> Eman Atef</td><td>2017 </td></tr><tr><td>26-2-2017 ; 2000 ; 0.05 ; Kamel Morsy</td><td>26-2-2017 </td><td>2000</td><td>0.05</td><td> Kamel Morsy</td><td>2017 </td></tr><tr><td>2-3-2017 ; 3000 ; 0.05 ; Dina Ragheb</td><td>2-3-2017 </td><td>3000</td><td>0.05</td><td> Dina Ragheb</td><td>2017 </td></tr><tr><td>6-3-2017 ; 5000 ; 0.05 ; Nader Nassar</td><td>6-3-2017 </td><td>5000</td><td>0.05</td><td> Nader Nassar</td><td>2017 </td></tr><tr><td>10-3-2017 ; 2000 ; 0.09 ; Nadeen Mohsen</td><td>10-3-2017 </td><td>2000</td><td>0.09</td><td> Nadeen Mohsen</td><td>2017 </td></tr><tr><td>14-3-2017 ; 6000 ; 0.06 ; Amr Ragheb</td><td>14-3-2017 </td><td>6000</td><td>0.06</td><td> Amr Ragheb</td><td>2017 </td></tr><tr><td>18-3-2017 ; 7000 ; 0.07 ; Samer Morsy</td><td>18-3-2017 </td><td>7000</td><td>0.07</td><td> Samer Morsy</td><td>2017 </td></tr><tr><td>22-3-2017 ; 8000 ; 0.09 ; Kamel Morsy</td><td>22-3-2017 </td><td>8000</td><td>0.09</td><td> Kamel Morsy</td><td>2017 </td></tr><tr><td>26-3-2017 ; 5000 ; 0.08 ; Adel Ragheb</td><td>26-3-2017 </td><td>5000</td><td>0.08</td><td> Adel Ragheb</td><td>2017 </td></tr><tr><td>30-3-2017 ; 8000 ; 0.08 ; Adel Ragheb</td><td>30-3-2017 </td><td>8000</td><td>0.08</td><td> Adel Ragheb</td><td>2017 </td></tr><tr><td>3-4-2017 ; 6000 ; 0.09 ; Amr Ragheb</td><td>3-4-2017 </td><td>6000</td><td>0.09</td><td> Amr Ragheb</td><td>2017 </td></tr><tr><td>7-4-2017 ; 8000 ; 0.08 ; Amr Ragheb</td><td>7-4-2017 </td><td>8000</td><td>0.08</td><td> Amr Ragheb</td><td>2017 </td></tr><tr><td>11-4-2017 ; 11000 ; 0.09 ; Dina Ragheb</td><td>11-4-2017 </td><td>11000</td><td>0.09</td><td> Dina Ragheb</td><td>2017 </td></tr><tr><td>15-4-2017 ; 7000 ; 0.05 ; Dina Ragheb</td><td>15-4-2017 </td><td>7000</td><td>0.05</td><td> Dina Ragheb</td><td>2017 </td></tr><tr><td>19-4-2017 ; 4000 ; 0.08 ; Amr Ragheb</td><td>19-4-2017 </td><td>4000</td><td>0.08</td><td> Amr Ragheb</td><td>2017 </td></tr><tr><td>23-4-2017 ; 4000 ; 0.09 ; Nagla Mahmoud</td><td>23-4-2017 </td><td>4000</td><td>0.09</td><td> Nagla Mahmoud</td><td>2017 </td></tr><tr><td>27-4-2017 ; 6000 ; 0.08 ; Adel Ragheb</td><td>27-4-2017 </td><td>6000</td><td>0.08</td><td> Adel Ragheb</td><td>2017 </td></tr><tr><td>1-5-2017 ; 5000 ; 0.07 ; Dina Ragheb</td><td>1-5-2017 </td><td>5000</td><td>0.07</td><td> Dina Ragheb</td><td>2017 </td></tr><tr><td>5-5-2017 ; 9000 ; 0.08 ; Nadeen Mohsen</td><td>5-5-2017 </td><td>9000</td><td>0.08</td><td> Nadeen Mohsen</td><td>2017 </td></tr><tr><td>9-5-2017 ; 5000 ; 0.05 ; Samer Morsy</td><td>9-5-2017 </td><td>5000</td><td>0.05</td><td> Samer Morsy</td><td>2017 </td></tr><tr><td>13-5-2017 ; 2000 ; 0.05 ; Nader Nassar</td><td>13-5-2017 </td><td>2000</td><td>0.05</td><td> Nader Nassar</td><td>2017 </td></tr><tr><td>17-5-2017 ; 3000 ; 0.07 ; Kamel Morsy</td><td>17-5-2017 </td><td>3000</td><td>0.07</td><td> Kamel Morsy</td><td>2017 </td></tr><tr><td>21-5-2017 ; 4000 ; 0.09 ; Dina Ragheb</td><td>21-5-2017 </td><td>4000</td><td>0.09</td><td> Dina Ragheb</td><td>2017 </td></tr><tr><td>25-5-2017 ; 8000 ; 0.06 ; Nagla Mahmoud</td><td>25-5-2017 </td><td>8000</td><td>0.06</td><td> Nagla Mahmoud</td><td>2017 </td></tr><tr><td>29-5-2017 ; 10000 ; 0.07 ; Nagla Mahmoud</td><td>29-5-2017 </td><td>10000</td><td>0.07</td><td> Nagla Mahmoud</td><td>2017 </td></tr><tr><td>2-6-2017 ; 2000 ; 0.08 ; Dina Ragheb</td><td>2-6-2017 </td><td>2000</td><td>0.08</td><td> Dina Ragheb</td><td>2017 </td></tr><tr><td>6-6-2017 ; 3000 ; 0.09 ; Nader Nassar</td><td>6-6-2017 </td><td>3000</td><td>0.09</td><td> Nader Nassar</td><td>2017 </td></tr><tr><td>10-6-2017 ; 5000 ; 0.05 ; Nader Nassar</td><td>10-6-2017 </td><td>5000</td><td>0.05</td><td> Nader Nassar</td><td>2017 </td></tr><tr><td>14-6-2017 ; 4000 ; 0.09 ; Dina Ragheb</td><td>14-6-2017 </td><td>4000</td><td>0.09</td><td> Dina Ragheb</td><td>2017 </td></tr><tr><td>18-6-2017 ; 1000 ; 0.09 ; Kamel Morsy</td><td>18-6-2017 </td><td>1000</td><td>0.09</td><td> Kamel Morsy</td><td>2017 </td></tr><tr><td>22-6-2017 ; 2000 ; 0.09 ; Dina Ragheb</td><td>22-6-2017 </td><td>2000</td><td>0.09</td><td> Dina Ragheb</td><td>2017 </td></tr><tr><td>26-6-2017 ; 8000 ; 0.08 ; Nader Nassar</td><td>26-6-2017 </td><td>8000</td><td>0.08</td><td> Nader Nassar</td><td>2017 </td></tr><tr><td>30-6-2017 ; 7000 ; 0.06 ; Adel Ragheb</td><td>30-6-2017 </td><td>7000</td><td>0.06</td><td> Adel Ragheb</td><td>2017 </td></tr><tr><td>4-7-2017 ; 10000 ; 0.09 ; Kamel Morsy</td><td>4-7-2017 </td><td>10000</td><td>0.09</td><td> Kamel Morsy</td><td>2017 </td></tr><tr><td>8-7-2017 ; 8000 ; 0.07 ; Dina Ragheb</td><td>8-7-2017 </td><td>8000</td><td>0.07</td><td> Dina Ragheb</td><td>2017 </td></tr><tr><td>12-7-2017 ; 8000 ; 0.06 ; Samer Morsy</td><td>12-7-2017 </td><td>8000</td><td>0.06</td><td> Samer Morsy</td><td>2017 </td></tr><tr><td>16-7-2017 ; 9000 ; 0.06 ; Nader Nassar</td><td>16-7-2017 </td><td>9000</td><td>0.06</td><td> Nader Nassar</td><td>2017 </td></tr><tr><td>20-7-2017 ; 9000 ; 0.06 ; Samer Morsy</td><td>20-7-2017 </td><td>9000</td><td>0.06</td><td> Samer Morsy</td><td>2017 </td></tr><tr><td>24-7-2017 ; 7000 ; 0.07 ; Amr Ragheb</td><td>24-7-2017 </td><td>7000</td><td>0.07</td><td> Amr Ragheb</td><td>2017 </td></tr><tr><td>28-7-2017 ; 11000 ; 0.05 ; Samer Morsy</td><td>28-7-2017 </td><td>11000</td><td>0.05</td><td> Samer Morsy</td><td>2017 </td></tr><tr><td>1-8-2017 ; 8000 ; 0.06 ; Nader Nassar</td><td>1-8-2017 </td><td>8000</td><td>0.06</td><td> Nader Nassar</td><td>2017 </td></tr><tr><td>5-8-2017 ; 8000 ; 0.06 ; Dina Ragheb</td><td>5-8-2017 </td><td>8000</td><td>0.06</td><td> Dina Ragheb</td><td>2017 </td></tr><tr><td>9-8-2017 ; 11000 ; 0.05 ; Dina Ragheb</td><td>9-8-2017 </td><td>11000</td><td>0.05</td><td> Dina Ragheb</td><td>2017 </td></tr><tr><td>13-8-2017 ; 11000 ; 0.08 ; Adel Ragheb</td><td>13-8-2017 </td><td>11000</td><td>0.08</td><td> Adel Ragheb</td><td>2017 </td></tr><tr><td>17-8-2017 ; 2000 ; 0.06 ; Dina Ragheb</td><td>17-8-2017 </td><td>2000</td><td>0.06</td><td> Dina Ragheb</td><td>2017 </td></tr><tr><td>21-8-2017 ; 5000 ; 0.06 ; Nagla Mahmoud</td><td>21-8-2017 </td><td>5000</td><td>0.06</td><td> Nagla Mahmoud</td><td>2017 </td></tr><tr><td>25-8-2017 ; 1000 ; 0.09 ; Nagla Mahmoud</td><td>25-8-2017 </td><td>1000</td><td>0.09</td><td> Nagla Mahmoud</td><td>2017 </td></tr><tr><td>29-8-2017 ; 9000 ; 0.06 ; Nader Nassar</td><td>29-8-2017 </td><td>9000</td><td>0.06</td><td> Nader Nassar</td><td>2017 </td></tr><tr><td>2-9-2017 ; 2000 ; 0.09 ; Dina Ragheb</td><td>2-9-2017 </td><td>2000</td><td>0.09</td><td> Dina Ragheb</td><td>2017 </td></tr><tr><td>6-9-2017 ; 5000 ; 0.09 ; Nagla Mahmoud</td><td>6-9-2017 </td><td>5000</td><td>0.09</td><td> Nagla Mahmoud</td><td>2017 </td></tr><tr><td>10-9-2017 ; 7000 ; 0.07 ; Eman Atef</td><td>10-9-2017 </td><td>7000</td><td>0.07</td><td> Eman Atef</td><td>2017 </td></tr><tr><td>14-9-2017 ; 11000 ; 0.06 ; Nadeen Mohsen</td><td>14-9-2017 </td><td>11000</td><td>0.06</td><td> Nadeen Mohsen</td><td>2017 </td></tr><tr><td>18-9-2017 ; 8000 ; 0.05 ; Dina Ragheb</td><td>18-9-2017 </td><td>8000</td><td>0.05</td><td> Dina Ragheb</td><td>2017 </td></tr><tr><td>22-9-2017 ; 9000 ; 0.05 ; Nadeen Mohsen</td><td>22-9-2017 </td><td>9000</td><td>0.05</td><td> Nadeen Mohsen</td><td>2017 </td></tr><tr><td>26-9-2017 ; 1000 ; 0.08 ; Samer Morsy</td><td>26-9-2017 </td><td>1000</td><td>0.08</td><td> Samer Morsy</td><td>2017 </td></tr><tr><td>30-9-2017 ; 9000 ; 0.06 ; Nadeen Mohsen</td><td>30-9-2017 </td><td>9000</td><td>0.06</td><td> Nadeen Mohsen</td><td>2017 </td></tr><tr><td>4-10-2017 ; 6000 ; 0.09 ; Kamel Morsy</td><td>4-10-2017 </td><td>6000</td><td>0.09</td><td> Kamel Morsy</td><td>2017 </td></tr><tr><td>8-10-2017 ; 10000 ; 0.08 ; Dina Ragheb</td><td>8-10-2017 </td><td>10000</td><td>0.08</td><td> Dina Ragheb</td><td>2017 </td></tr><tr><td>12-10-2017 ; 10000 ; 0.07 ; Eman Atef</td><td>12-10-2017 </td><td>10000</td><td>0.07</td><td> Eman Atef</td><td>2017 </td></tr><tr><td>16-10-2017 ; 4000 ; 0.09 ; Amr Ragheb</td><td>16-10-2017 </td><td>4000</td><td>0.09</td><td> Amr Ragheb</td><td>2017 </td></tr><tr><td>20-10-2017 ; 3000 ; 0.09 ; Amr Ragheb</td><td>20-10-2017 </td><td>3000</td><td>0.09</td><td> Amr Ragheb</td><td>2017 </td></tr><tr><td>24-10-2017 ; 10000 ; 0.07 ; Nagla Mahmoud</td><td>24-10-2017 </td><td>10000</td><td>0.07</td><td> Nagla Mahmoud</td><td>2017 </td></tr><tr><td>28-10-2017 ; 11000 ; 0.08 ; Adel Ragheb</td><td>28-10-2017 </td><td>11000</td><td>0.08</td><td> Adel Ragheb</td><td>2017 </td></tr><tr><td>1-11-2017 ; 3000 ; 0.08 ; Amr Ragheb</td><td>1-11-2017 </td><td>3000</td><td>0.08</td><td> Amr Ragheb</td><td>2017 </td></tr><tr><td>5-11-2017 ; 3000 ; 0.06 ; Amr Ragheb</td><td>5-11-2017 </td><td>3000</td><td>0.06</td><td> Amr Ragheb</td><td>2017 </td></tr><tr><td>9-11-2017 ; 5000 ; 0.08 ; Samer Morsy</td><td>9-11-2017 </td><td>5000</td><td>0.08</td><td> Samer Morsy</td><td>2017 </td></tr><tr><td>13-11-2017 ; 11000 ; 0.06 ; Amr Ragheb</td><td>13-11-2017 </td><td>11000</td><td>0.06</td><td> Amr Ragheb</td><td>2017 </td></tr><tr><td>17-11-2017 ; 10000 ; 0.07 ; Nadeen Mohsen</td><td>17-11-2017 </td><td>10000</td><td>0.07</td><td> Nadeen Mohsen</td><td>2017 </td></tr><tr><td>21-11-2017 ; 5000 ; 0.09 ; Samer Morsy</td><td>21-11-2017 </td><td>5000</td><td>0.09</td><td> Samer Morsy</td><td>2017 </td></tr><tr><td>25-11-2017 ; 7000 ; 0.06 ; Eman Atef</td><td>25-11-2017 </td><td>7000</td><td>0.06</td><td> Eman Atef</td><td>2017 </td></tr><tr><td>29-11-2017 ; 1000 ; 0.06 ; Amr Ragheb</td><td>29-11-2017 </td><td>1000</td><td>0.06</td><td> Amr Ragheb</td><td>2017 </td></tr><tr><td>3-12-2017 ; 8000 ; 0.07 ; Amr Ragheb</td><td>3-12-2017 </td><td>8000</td><td>0.07</td><td> Amr Ragheb</td><td>2017 </td></tr><tr><td>7-12-2017 ; 10000 ; 0.09 ; Eman Atef</td><td>7-12-2017 </td><td>10000</td><td>0.09</td><td> Eman Atef</td><td>2017 </td></tr><tr><td>11-12-2017 ; 7000 ; 0.07 ; Samer Morsy</td><td>11-12-2017 </td><td>7000</td><td>0.07</td><td> Samer Morsy</td><td>2017 </td></tr><tr><td>15-12-2017 ; 5000 ; 0.05 ; Amr Ragheb</td><td>15-12-2017 </td><td>5000</td><td>0.05</td><td> Amr Ragheb</td><td>2017 </td></tr><tr><td>19-12-2017 ; 12000 ; 0.07 ; Eman Atef</td><td>19-12-2017 </td><td>12000</td><td>0.07</td><td> Eman Atef</td><td>2017 </td></tr><tr><td>23-12-2017 ; 3000 ; 0.07 ; Samer Morsy</td><td>23-12-2017 </td><td>3000</td><td>0.07</td><td> Samer Morsy</td><td>2017 </td></tr><tr><td>27-12-2017 ; 7000 ; 0.09 ; Dina Ragheb</td><td>27-12-2017 </td><td>7000</td><td>0.09</td><td> Dina Ragheb</td><td>2017 </td></tr><tr><td>31-12-2017 ; 12000 ; 0.06 ; Kamel Morsy</td><td>31-12-2017 </td><td>12000</td><td>0.06</td><td> Kamel Morsy</td><td>2017 </td></tr><tr><td>1-1-2018 ; 11000 ; 0.05 ; Nagla Mahmoud</td><td>1-1-2018 </td><td>11000</td><td>0.05</td><td> Nagla Mahmoud</td><td>2018 </td></tr><tr><td>5-1-2018 ; 7000 ; 0.06 ; Nagla Mahmoud</td><td>5-1-2018 </td><td>7000</td><td>0.06</td><td> Nagla Mahmoud</td><td>2018 </td></tr><tr><td>9-1-2018 ; 5000 ; 0.09 ; Dina Ragheb</td><td>9-1-2018 </td><td>5000</td><td>0.09</td><td> Dina Ragheb</td><td>2018 </td></tr><tr><td>13-1-2018 ; 3000 ; 0.06 ; Eman Atef</td><td>13-1-2018 </td><td>3000</td><td>0.06</td><td> Eman Atef</td><td>2018 </td></tr><tr><td>17-1-2018 ; 1000 ; 0.06 ; Dina Ragheb</td><td>17-1-2018 </td><td>1000</td><td>0.06</td><td> Dina Ragheb</td><td>2018 </td></tr><tr><td>21-1-2018 ; 3000 ; 0.07 ; Adel Ragheb</td><td>21-1-2018 </td><td>3000</td><td>0.07</td><td> Adel Ragheb</td><td>2018 </td></tr><tr><td>25-1-2018 ; 5000 ; 0.08 ; Samer Morsy</td><td>25-1-2018 </td><td>5000</td><td>0.08</td><td> Samer Morsy</td><td>2018 </td></tr><tr><td>29-1-2018 ; 8000 ; 0.07 ; Nader Nassar</td><td>29-1-2018 </td><td>8000</td><td>0.07</td><td> Nader Nassar</td><td>2018 </td></tr><tr><td>2-2-2018 ; 3000 ; 0.07 ; Samer Morsy</td><td>2-2-2018 </td><td>3000</td><td>0.07</td><td> Samer Morsy</td><td>2018 </td></tr><tr><td>6-2-2018 ; 12000 ; 0.05 ; Dina Ragheb</td><td>6-2-2018 </td><td>12000</td><td>0.05</td><td> Dina Ragheb</td><td>2018 </td></tr><tr><td>10-2-2018 ; 5000 ; 0.09 ; Kamel Morsy</td><td>10-2-2018 </td><td>5000</td><td>0.09</td><td> Kamel Morsy</td><td>2018 </td></tr><tr><td>14-2-2018 ; 5000 ; 0.09 ; Dina Ragheb</td><td>14-2-2018 </td><td>5000</td><td>0.09</td><td> Dina Ragheb</td><td>2018 </td></tr><tr><td>18-2-2018 ; 5000 ; 0.07 ; Amr Ragheb</td><td>18-2-2018 </td><td>5000</td><td>0.07</td><td> Amr Ragheb</td><td>2018 </td></tr><tr><td>22-2-2018 ; 6000 ; 0.09 ; Eman Atef</td><td>22-2-2018 </td><td>6000</td><td>0.09</td><td> Eman Atef</td><td>2018 </td></tr><tr><td>26-2-2018 ; 4000 ; 0.05 ; Kamel Morsy</td><td>26-2-2018 </td><td>4000</td><td>0.05</td><td> Kamel Morsy</td><td>2018 </td></tr><tr><td>2-3-2018 ; 2000 ; 0.05 ; Dina Ragheb</td><td>2-3-2018 </td><td>2000</td><td>0.05</td><td> Dina Ragheb</td><td>2018 </td></tr><tr><td>6-3-2018 ; 3000 ; 0.05 ; Nader Nassar</td><td>6-3-2018 </td><td>3000</td><td>0.05</td><td> Nader Nassar</td><td>2018 </td></tr><tr><td>10-3-2018 ; 7000 ; 0.09 ; Nadeen Mohsen</td><td>10-3-2018 </td><td>7000</td><td>0.09</td><td> Nadeen Mohsen</td><td>2018 </td></tr><tr><td>14-3-2018 ; 1000 ; 0.06 ; Amr Ragheb</td><td>14-3-2018 </td><td>1000</td><td>0.06</td><td> Amr Ragheb</td><td>2018 </td></tr><tr><td>18-3-2018 ; 6000 ; 0.07 ; Samer Morsy</td><td>18-3-2018 </td><td>6000</td><td>0.07</td><td> Samer Morsy</td><td>2018 </td></tr><tr><td>22-3-2018 ; 4000 ; 0.09 ; Kamel Morsy</td><td>22-3-2018 </td><td>4000</td><td>0.09</td><td> Kamel Morsy</td><td>2018 </td></tr><tr><td>26-3-2018 ; 3000 ; 0.08 ; Adel Ragheb</td><td>26-3-2018 </td><td>3000</td><td>0.08</td><td> Adel Ragheb</td><td>2018 </td></tr><tr><td>30-3-2018 ; 4000 ; 0.08 ; Adel Ragheb</td><td>30-3-2018 </td><td>4000</td><td>0.08</td><td> Adel Ragheb</td><td>2018 </td></tr><tr><td>3-4-2018 ; 1000 ; 0.09 ; Amr Ragheb</td><td>3-4-2018 </td><td>1000</td><td>0.09</td><td> Amr Ragheb</td><td>2018 </td></tr><tr><td>7-4-2018 ; 7000 ; 0.08 ; Amr Ragheb</td><td>7-4-2018 </td><td>7000</td><td>0.08</td><td> Amr Ragheb</td><td>2018 </td></tr><tr><td>11-4-2018 ; 8000 ; 0.09 ; Dina Ragheb</td><td>11-4-2018 </td><td>8000</td><td>0.09</td><td> Dina Ragheb</td><td>2018 </td></tr><tr><td>15-4-2018 ; 5000 ; 0.05 ; Dina Ragheb</td><td>15-4-2018 </td><td>5000</td><td>0.05</td><td> Dina Ragheb</td><td>2018 </td></tr><tr><td>19-4-2018 ; 2000 ; 0.08 ; Amr Ragheb</td><td>19-4-2018 </td><td>2000</td><td>0.08</td><td> Amr Ragheb</td><td>2018 </td></tr><tr><td>23-4-2018 ; 4000 ; 0.09 ; Nagla Mahmoud</td><td>23-4-2018 </td><td>4000</td><td>0.09</td><td> Nagla Mahmoud</td><td>2018 </td></tr><tr><td>27-4-2018 ; 10000 ; 0.08 ; Adel Ragheb</td><td>27-4-2018 </td><td>10000</td><td>0.08</td><td> Adel Ragheb</td><td>2018 </td></tr><tr><td>1-5-2018 ; 6000 ; 0.07 ; Dina Ragheb</td><td>1-5-2018 </td><td>6000</td><td>0.07</td><td> Dina Ragheb</td><td>2018 </td></tr><tr><td>5-5-2018 ; 3000 ; 0.08 ; Nadeen Mohsen</td><td>5-5-2018 </td><td>3000</td><td>0.08</td><td> Nadeen Mohsen</td><td>2018 </td></tr><tr><td>9-5-2018 ; 5000 ; 0.05 ; Samer Morsy</td><td>9-5-2018 </td><td>5000</td><td>0.05</td><td> Samer Morsy</td><td>2018 </td></tr><tr><td>13-5-2018 ; 9000 ; 0.05 ; Nader Nassar</td><td>13-5-2018 </td><td>9000</td><td>0.05</td><td> Nader Nassar</td><td>2018 </td></tr><tr><td>17-5-2018 ; 7000 ; 0.07 ; Kamel Morsy</td><td>17-5-2018 </td><td>7000</td><td>0.07</td><td> Kamel Morsy</td><td>2018 </td></tr><tr><td>21-5-2018 ; 4000 ; 0.09 ; Dina Ragheb</td><td>21-5-2018 </td><td>4000</td><td>0.09</td><td> Dina Ragheb</td><td>2018 </td></tr><tr><td>25-5-2018 ; 7000 ; 0.06 ; Nagla Mahmoud</td><td>25-5-2018 </td><td>7000</td><td>0.06</td><td> Nagla Mahmoud</td><td>2018 </td></tr><tr><td>29-5-2018 ; 6000 ; 0.07 ; Nagla Mahmoud</td><td>29-5-2018 </td><td>6000</td><td>0.07</td><td> Nagla Mahmoud</td><td>2018 </td></tr><tr><td>2-6-2018 ; 3000 ; 0.08 ; Dina Ragheb</td><td>2-6-2018 </td><td>3000</td><td>0.08</td><td> Dina Ragheb</td><td>2018 </td></tr><tr><td>6-6-2018 ; 11000 ; 0.09 ; Nader Nassar</td><td>6-6-2018 </td><td>11000</td><td>0.09</td><td> Nader Nassar</td><td>2018 </td></tr><tr><td>10-6-2018 ; 4000 ; 0.05 ; Nader Nassar</td><td>10-6-2018 </td><td>4000</td><td>0.05</td><td> Nader Nassar</td><td>2018 </td></tr><tr><td>14-6-2018 ; 1000 ; 0.09 ; Dina Ragheb</td><td>14-6-2018 </td><td>1000</td><td>0.09</td><td> Dina Ragheb</td><td>2018 </td></tr><tr><td>18-6-2018 ; 9000 ; 0.09 ; Kamel Morsy</td><td>18-6-2018 </td><td>9000</td><td>0.09</td><td> Kamel Morsy</td><td>2018 </td></tr><tr><td>22-6-2018 ; 5000 ; 0.09 ; Dina Ragheb</td><td>22-6-2018 </td><td>5000</td><td>0.09</td><td> Dina Ragheb</td><td>2018 </td></tr><tr><td>26-6-2018 ; 10000 ; 0.08 ; Nader Nassar</td><td>26-6-2018 </td><td>10000</td><td>0.08</td><td> Nader Nassar</td><td>2018 </td></tr><tr><td>30-6-2018 ; 3000 ; 0.06 ; Adel Ragheb</td><td>30-6-2018 </td><td>3000</td><td>0.06</td><td> Adel Ragheb</td><td>2018 </td></tr><tr><td>4-7-2018 ; 4000 ; 0.09 ; Kamel Morsy</td><td>4-7-2018 </td><td>4000</td><td>0.09</td><td> Kamel Morsy</td><td>2018 </td></tr><tr><td>8-7-2018 ; 6000 ; 0.07 ; Dina Ragheb</td><td>8-7-2018 </td><td>6000</td><td>0.07</td><td> Dina Ragheb</td><td>2018 </td></tr><tr><td>12-7-2018 ; 5000 ; 0.06 ; Samer Morsy</td><td>12-7-2018 </td><td>5000</td><td>0.06</td><td> Samer Morsy</td><td>2018 </td></tr><tr><td>16-7-2018 ; 8000 ; 0.06 ; Nader Nassar</td><td>16-7-2018 </td><td>8000</td><td>0.06</td><td> Nader Nassar</td><td>2018 </td></tr><tr><td>20-7-2018 ; 9000 ; 0.06 ; Samer Morsy</td><td>20-7-2018 </td><td>9000</td><td>0.06</td><td> Samer Morsy</td><td>2018 </td></tr><tr><td>24-7-2018 ; 11000 ; 0.07 ; Amr Ragheb</td><td>24-7-2018 </td><td>11000</td><td>0.07</td><td> Amr Ragheb</td><td>2018 </td></tr><tr><td>28-7-2018 ; 12000 ; 0.05 ; Samer Morsy</td><td>28-7-2018 </td><td>12000</td><td>0.05</td><td> Samer Morsy</td><td>2018 </td></tr><tr><td>1-8-2018 ; 7000 ; 0.06 ; Nader Nassar</td><td>1-8-2018 </td><td>7000</td><td>0.06</td><td> Nader Nassar</td><td>2018 </td></tr><tr><td>5-8-2018 ; 5000 ; 0.06 ; Dina Ragheb</td><td>5-8-2018 </td><td>5000</td><td>0.06</td><td> Dina Ragheb</td><td>2018 </td></tr><tr><td>9-8-2018 ; 11000 ; 0.05 ; Dina Ragheb</td><td>9-8-2018 </td><td>11000</td><td>0.05</td><td> Dina Ragheb</td><td>2018 </td></tr><tr><td>13-8-2018 ; 4000 ; 0.08 ; Adel Ragheb</td><td>13-8-2018 </td><td>4000</td><td>0.08</td><td> Adel Ragheb</td><td>2018 </td></tr><tr><td>17-8-2018 ; 9000 ; 0.06 ; Dina Ragheb</td><td>17-8-2018 </td><td>9000</td><td>0.06</td><td> Dina Ragheb</td><td>2018 </td></tr><tr><td>21-8-2018 ; 12000 ; 0.06 ; Nagla Mahmoud</td><td>21-8-2018 </td><td>12000</td><td>0.06</td><td> Nagla Mahmoud</td><td>2018 </td></tr><tr><td>25-8-2018 ; 4000 ; 0.09 ; Nagla Mahmoud</td><td>25-8-2018 </td><td>4000</td><td>0.09</td><td> Nagla Mahmoud</td><td>2018 </td></tr><tr><td>29-8-2018 ; 9000 ; 0.06 ; Nader Nassar</td><td>29-8-2018 </td><td>9000</td><td>0.06</td><td> Nader Nassar</td><td>2018 </td></tr><tr><td>2-9-2018 ; 2000 ; 0.09 ; Dina Ragheb</td><td>2-9-2018 </td><td>2000</td><td>0.09</td><td> Dina Ragheb</td><td>2018 </td></tr><tr><td>6-9-2018 ; 1000 ; 0.09 ; Nagla Mahmoud</td><td>6-9-2018 </td><td>1000</td><td>0.09</td><td> Nagla Mahmoud</td><td>2018 </td></tr><tr><td>10-9-2018 ; 5000 ; 0.07 ; Eman Atef</td><td>10-9-2018 </td><td>5000</td><td>0.07</td><td> Eman Atef</td><td>2018 </td></tr><tr><td>14-9-2018 ; 7000 ; 0.06 ; Nadeen Mohsen</td><td>14-9-2018 </td><td>7000</td><td>0.06</td><td> Nadeen Mohsen</td><td>2018 </td></tr><tr><td>18-9-2018 ; 7000 ; 0.05 ; Dina Ragheb</td><td>18-9-2018 </td><td>7000</td><td>0.05</td><td> Dina Ragheb</td><td>2018 </td></tr><tr><td>22-9-2018 ; 6000 ; 0.05 ; Nadeen Mohsen</td><td>22-9-2018 </td><td>6000</td><td>0.05</td><td> Nadeen Mohsen</td><td>2018 </td></tr><tr><td>26-9-2018 ; 11000 ; 0.08 ; Samer Morsy</td><td>26-9-2018 </td><td>11000</td><td>0.08</td><td> Samer Morsy</td><td>2018 </td></tr><tr><td>30-9-2018 ; 5000 ; 0.06 ; Nadeen Mohsen</td><td>30-9-2018 </td><td>5000</td><td>0.06</td><td> Nadeen Mohsen</td><td>2018 </td></tr><tr><td>4-10-2018 ; 1000 ; 0.09 ; Kamel Morsy</td><td>4-10-2018 </td><td>1000</td><td>0.09</td><td> Kamel Morsy</td><td>2018 </td></tr><tr><td>8-10-2018 ; 2000 ; 0.08 ; Dina Ragheb</td><td>8-10-2018 </td><td>2000</td><td>0.08</td><td> Dina Ragheb</td><td>2018 </td></tr><tr><td>12-10-2018 ; 6000 ; 0.07 ; Eman Atef</td><td>12-10-2018 </td><td>6000</td><td>0.07</td><td> Eman Atef</td><td>2018 </td></tr><tr><td>16-10-2018 ; 8000 ; 0.09 ; Amr Ragheb</td><td>16-10-2018 </td><td>8000</td><td>0.09</td><td> Amr Ragheb</td><td>2018 </td></tr><tr><td>20-10-2018 ; 11000 ; 0.09 ; Amr Ragheb</td><td>20-10-2018 </td><td>11000</td><td>0.09</td><td> Amr Ragheb</td><td>2018 </td></tr><tr><td>24-10-2018 ; 8000 ; 0.07 ; Nagla Mahmoud</td><td>24-10-2018 </td><td>8000</td><td>0.07</td><td> Nagla Mahmoud</td><td>2018 </td></tr><tr><td>28-10-2018 ; 12000 ; 0.08 ; Adel Ragheb</td><td>28-10-2018 </td><td>12000</td><td>0.08</td><td> Adel Ragheb</td><td>2018 </td></tr><tr><td>1-11-2018 ; 6000 ; 0.08 ; Amr Ragheb</td><td>1-11-2018 </td><td>6000</td><td>0.08</td><td> Amr Ragheb</td><td>2018 </td></tr><tr><td>5-11-2018 ; 5000 ; 0.06 ; Amr Ragheb</td><td>5-11-2018 </td><td>5000</td><td>0.06</td><td> Amr Ragheb</td><td>2018 </td></tr><tr><td>9-11-2018 ; 8000 ; 0.08 ; Samer Morsy</td><td>9-11-2018 </td><td>8000</td><td>0.08</td><td> Samer Morsy</td><td>2018 </td></tr><tr><td>13-11-2018 ; 3000 ; 0.06 ; Amr Ragheb</td><td>13-11-2018 </td><td>3000</td><td>0.06</td><td> Amr Ragheb</td><td>2018 </td></tr><tr><td>17-11-2018 ; 11000 ; 0.07 ; Nadeen Mohsen</td><td>17-11-2018 </td><td>11000</td><td>0.07</td><td> Nadeen Mohsen</td><td>2018 </td></tr><tr><td>21-11-2018 ; 9000 ; 0.09 ; Samer Morsy</td><td>21-11-2018 </td><td>9000</td><td>0.09</td><td> Samer Morsy</td><td>2018 </td></tr><tr><td>25-11-2018 ; 4000 ; 0.06 ; Eman Atef</td><td>25-11-2018 </td><td>4000</td><td>0.06</td><td> Eman Atef</td><td>2018 </td></tr><tr><td>29-11-2018 ; 12000 ; 0.06 ; Amr Ragheb</td><td>29-11-2018 </td><td>12000</td><td>0.06</td><td> Amr Ragheb</td><td>2018 </td></tr><tr><td>3-12-2018 ; 9000 ; 0.07 ; Amr Ragheb</td><td>3-12-2018 </td><td>9000</td><td>0.07</td><td> Amr Ragheb</td><td>2018 </td></tr><tr><td>7-12-2018 ; 8000 ; 0.09 ; Eman Atef</td><td>7-12-2018 </td><td>8000</td><td>0.09</td><td> Eman Atef</td><td>2018 </td></tr><tr><td>11-12-2018 ; 2000 ; 0.07 ; Samer Morsy</td><td>11-12-2018 </td><td>2000</td><td>0.07</td><td> Samer Morsy</td><td>2018 </td></tr><tr><td>15-12-2018 ; 2000 ; 0.05 ; Amr Ragheb</td><td>15-12-2018 </td><td>2000</td><td>0.05</td><td> Amr Ragheb</td><td>2018 </td></tr><tr><td>19-12-2018 ; 8000 ; 0.07 ; Eman Atef</td><td>19-12-2018 </td><td>8000</td><td>0.07</td><td> Eman Atef</td><td>2018 </td></tr><tr><td>23-12-2018 ; 8000 ; 0.07 ; Samer Morsy</td><td>23-12-2018 </td><td>8000</td><td>0.07</td><td> Samer Morsy</td><td>2018 </td></tr><tr><td>27-12-2018 ; 1000 ; 0.09 ; Dina Ragheb</td><td>27-12-2018 </td><td>1000</td><td>0.09</td><td> Dina Ragheb</td><td>2018 </td></tr><tr><td>31-12-2018 ; 1000 ; 0.06 ; Kamel Morsy</td><td>31-12-2018 </td><td>1000</td><td>0.06</td><td> Kamel Morsy</td><td>2018 </td></tr></tbody></table></div>"
      ]
     },
     "metadata": {
      "application/vnd.databricks.v1+output": {
       "addedWidgets": {},
       "aggData": [],
       "aggError": "",
       "aggOverflow": false,
       "aggSchema": [],
       "aggSeriesLimitReached": false,
       "aggType": "",
       "arguments": {},
       "columnCustomDisplayInfos": {},
       "data": [
        [
         "1-1-2017 ; 5000 ; 0.05 ; Nagla Mahmoud",
         "1-1-2017 ",
         5000,
         0.05,
         " Nagla Mahmoud",
         "2017 "
        ],
        [
         "5-1-2017 ; 4000 ; 0.06 ; Nagla Mahmoud",
         "5-1-2017 ",
         4000,
         0.06,
         " Nagla Mahmoud",
         "2017 "
        ],
        [
         "9-1-2017 ; 5000 ; 0.09 ; Dina Ragheb",
         "9-1-2017 ",
         5000,
         0.09,
         " Dina Ragheb",
         "2017 "
        ],
        [
         "13-1-2017 ; 11000 ; 0.06 ; Eman Atef",
         "13-1-2017 ",
         11000,
         0.06,
         " Eman Atef",
         "2017 "
        ],
        [
         "17-1-2017 ; 8000 ; 0.06 ; Dina Ragheb",
         "17-1-2017 ",
         8000,
         0.06,
         " Dina Ragheb",
         "2017 "
        ],
        [
         "21-1-2017 ; 4000 ; 0.07 ; Adel Ragheb",
         "21-1-2017 ",
         4000,
         0.07,
         " Adel Ragheb",
         "2017 "
        ],
        [
         "25-1-2017 ; 2000 ; 0.08 ; Samer Morsy",
         "25-1-2017 ",
         2000,
         0.08,
         " Samer Morsy",
         "2017 "
        ],
        [
         "29-1-2017 ; 1000 ; 0.07 ; Nader Nassar",
         "29-1-2017 ",
         1000,
         0.07,
         " Nader Nassar",
         "2017 "
        ],
        [
         "2-2-2017 ; 6000 ; 0.07 ; Samer Morsy",
         "2-2-2017 ",
         6000,
         0.07,
         " Samer Morsy",
         "2017 "
        ],
        [
         "6-2-2017 ; 2000 ; 0.05 ; Dina Ragheb",
         "6-2-2017 ",
         2000,
         0.05,
         " Dina Ragheb",
         "2017 "
        ],
        [
         "10-2-2017 ; 12000 ; 0.09 ; Kamel Morsy",
         "10-2-2017 ",
         12000,
         0.09,
         " Kamel Morsy",
         "2017 "
        ],
        [
         "14-2-2017 ; 5000 ; 0.09 ; Dina Ragheb",
         "14-2-2017 ",
         5000,
         0.09,
         " Dina Ragheb",
         "2017 "
        ],
        [
         "18-2-2017 ; 9000 ; 0.07 ; Amr Ragheb",
         "18-2-2017 ",
         9000,
         0.07,
         " Amr Ragheb",
         "2017 "
        ],
        [
         "22-2-2017 ; 8000 ; 0.09 ; Eman Atef",
         "22-2-2017 ",
         8000,
         0.09,
         " Eman Atef",
         "2017 "
        ],
        [
         "26-2-2017 ; 2000 ; 0.05 ; Kamel Morsy",
         "26-2-2017 ",
         2000,
         0.05,
         " Kamel Morsy",
         "2017 "
        ],
        [
         "2-3-2017 ; 3000 ; 0.05 ; Dina Ragheb",
         "2-3-2017 ",
         3000,
         0.05,
         " Dina Ragheb",
         "2017 "
        ],
        [
         "6-3-2017 ; 5000 ; 0.05 ; Nader Nassar",
         "6-3-2017 ",
         5000,
         0.05,
         " Nader Nassar",
         "2017 "
        ],
        [
         "10-3-2017 ; 2000 ; 0.09 ; Nadeen Mohsen",
         "10-3-2017 ",
         2000,
         0.09,
         " Nadeen Mohsen",
         "2017 "
        ],
        [
         "14-3-2017 ; 6000 ; 0.06 ; Amr Ragheb",
         "14-3-2017 ",
         6000,
         0.06,
         " Amr Ragheb",
         "2017 "
        ],
        [
         "18-3-2017 ; 7000 ; 0.07 ; Samer Morsy",
         "18-3-2017 ",
         7000,
         0.07,
         " Samer Morsy",
         "2017 "
        ],
        [
         "22-3-2017 ; 8000 ; 0.09 ; Kamel Morsy",
         "22-3-2017 ",
         8000,
         0.09,
         " Kamel Morsy",
         "2017 "
        ],
        [
         "26-3-2017 ; 5000 ; 0.08 ; Adel Ragheb",
         "26-3-2017 ",
         5000,
         0.08,
         " Adel Ragheb",
         "2017 "
        ],
        [
         "30-3-2017 ; 8000 ; 0.08 ; Adel Ragheb",
         "30-3-2017 ",
         8000,
         0.08,
         " Adel Ragheb",
         "2017 "
        ],
        [
         "3-4-2017 ; 6000 ; 0.09 ; Amr Ragheb",
         "3-4-2017 ",
         6000,
         0.09,
         " Amr Ragheb",
         "2017 "
        ],
        [
         "7-4-2017 ; 8000 ; 0.08 ; Amr Ragheb",
         "7-4-2017 ",
         8000,
         0.08,
         " Amr Ragheb",
         "2017 "
        ],
        [
         "11-4-2017 ; 11000 ; 0.09 ; Dina Ragheb",
         "11-4-2017 ",
         11000,
         0.09,
         " Dina Ragheb",
         "2017 "
        ],
        [
         "15-4-2017 ; 7000 ; 0.05 ; Dina Ragheb",
         "15-4-2017 ",
         7000,
         0.05,
         " Dina Ragheb",
         "2017 "
        ],
        [
         "19-4-2017 ; 4000 ; 0.08 ; Amr Ragheb",
         "19-4-2017 ",
         4000,
         0.08,
         " Amr Ragheb",
         "2017 "
        ],
        [
         "23-4-2017 ; 4000 ; 0.09 ; Nagla Mahmoud",
         "23-4-2017 ",
         4000,
         0.09,
         " Nagla Mahmoud",
         "2017 "
        ],
        [
         "27-4-2017 ; 6000 ; 0.08 ; Adel Ragheb",
         "27-4-2017 ",
         6000,
         0.08,
         " Adel Ragheb",
         "2017 "
        ],
        [
         "1-5-2017 ; 5000 ; 0.07 ; Dina Ragheb",
         "1-5-2017 ",
         5000,
         0.07,
         " Dina Ragheb",
         "2017 "
        ],
        [
         "5-5-2017 ; 9000 ; 0.08 ; Nadeen Mohsen",
         "5-5-2017 ",
         9000,
         0.08,
         " Nadeen Mohsen",
         "2017 "
        ],
        [
         "9-5-2017 ; 5000 ; 0.05 ; Samer Morsy",
         "9-5-2017 ",
         5000,
         0.05,
         " Samer Morsy",
         "2017 "
        ],
        [
         "13-5-2017 ; 2000 ; 0.05 ; Nader Nassar",
         "13-5-2017 ",
         2000,
         0.05,
         " Nader Nassar",
         "2017 "
        ],
        [
         "17-5-2017 ; 3000 ; 0.07 ; Kamel Morsy",
         "17-5-2017 ",
         3000,
         0.07,
         " Kamel Morsy",
         "2017 "
        ],
        [
         "21-5-2017 ; 4000 ; 0.09 ; Dina Ragheb",
         "21-5-2017 ",
         4000,
         0.09,
         " Dina Ragheb",
         "2017 "
        ],
        [
         "25-5-2017 ; 8000 ; 0.06 ; Nagla Mahmoud",
         "25-5-2017 ",
         8000,
         0.06,
         " Nagla Mahmoud",
         "2017 "
        ],
        [
         "29-5-2017 ; 10000 ; 0.07 ; Nagla Mahmoud",
         "29-5-2017 ",
         10000,
         0.07,
         " Nagla Mahmoud",
         "2017 "
        ],
        [
         "2-6-2017 ; 2000 ; 0.08 ; Dina Ragheb",
         "2-6-2017 ",
         2000,
         0.08,
         " Dina Ragheb",
         "2017 "
        ],
        [
         "6-6-2017 ; 3000 ; 0.09 ; Nader Nassar",
         "6-6-2017 ",
         3000,
         0.09,
         " Nader Nassar",
         "2017 "
        ],
        [
         "10-6-2017 ; 5000 ; 0.05 ; Nader Nassar",
         "10-6-2017 ",
         5000,
         0.05,
         " Nader Nassar",
         "2017 "
        ],
        [
         "14-6-2017 ; 4000 ; 0.09 ; Dina Ragheb",
         "14-6-2017 ",
         4000,
         0.09,
         " Dina Ragheb",
         "2017 "
        ],
        [
         "18-6-2017 ; 1000 ; 0.09 ; Kamel Morsy",
         "18-6-2017 ",
         1000,
         0.09,
         " Kamel Morsy",
         "2017 "
        ],
        [
         "22-6-2017 ; 2000 ; 0.09 ; Dina Ragheb",
         "22-6-2017 ",
         2000,
         0.09,
         " Dina Ragheb",
         "2017 "
        ],
        [
         "26-6-2017 ; 8000 ; 0.08 ; Nader Nassar",
         "26-6-2017 ",
         8000,
         0.08,
         " Nader Nassar",
         "2017 "
        ],
        [
         "30-6-2017 ; 7000 ; 0.06 ; Adel Ragheb",
         "30-6-2017 ",
         7000,
         0.06,
         " Adel Ragheb",
         "2017 "
        ],
        [
         "4-7-2017 ; 10000 ; 0.09 ; Kamel Morsy",
         "4-7-2017 ",
         10000,
         0.09,
         " Kamel Morsy",
         "2017 "
        ],
        [
         "8-7-2017 ; 8000 ; 0.07 ; Dina Ragheb",
         "8-7-2017 ",
         8000,
         0.07,
         " Dina Ragheb",
         "2017 "
        ],
        [
         "12-7-2017 ; 8000 ; 0.06 ; Samer Morsy",
         "12-7-2017 ",
         8000,
         0.06,
         " Samer Morsy",
         "2017 "
        ],
        [
         "16-7-2017 ; 9000 ; 0.06 ; Nader Nassar",
         "16-7-2017 ",
         9000,
         0.06,
         " Nader Nassar",
         "2017 "
        ],
        [
         "20-7-2017 ; 9000 ; 0.06 ; Samer Morsy",
         "20-7-2017 ",
         9000,
         0.06,
         " Samer Morsy",
         "2017 "
        ],
        [
         "24-7-2017 ; 7000 ; 0.07 ; Amr Ragheb",
         "24-7-2017 ",
         7000,
         0.07,
         " Amr Ragheb",
         "2017 "
        ],
        [
         "28-7-2017 ; 11000 ; 0.05 ; Samer Morsy",
         "28-7-2017 ",
         11000,
         0.05,
         " Samer Morsy",
         "2017 "
        ],
        [
         "1-8-2017 ; 8000 ; 0.06 ; Nader Nassar",
         "1-8-2017 ",
         8000,
         0.06,
         " Nader Nassar",
         "2017 "
        ],
        [
         "5-8-2017 ; 8000 ; 0.06 ; Dina Ragheb",
         "5-8-2017 ",
         8000,
         0.06,
         " Dina Ragheb",
         "2017 "
        ],
        [
         "9-8-2017 ; 11000 ; 0.05 ; Dina Ragheb",
         "9-8-2017 ",
         11000,
         0.05,
         " Dina Ragheb",
         "2017 "
        ],
        [
         "13-8-2017 ; 11000 ; 0.08 ; Adel Ragheb",
         "13-8-2017 ",
         11000,
         0.08,
         " Adel Ragheb",
         "2017 "
        ],
        [
         "17-8-2017 ; 2000 ; 0.06 ; Dina Ragheb",
         "17-8-2017 ",
         2000,
         0.06,
         " Dina Ragheb",
         "2017 "
        ],
        [
         "21-8-2017 ; 5000 ; 0.06 ; Nagla Mahmoud",
         "21-8-2017 ",
         5000,
         0.06,
         " Nagla Mahmoud",
         "2017 "
        ],
        [
         "25-8-2017 ; 1000 ; 0.09 ; Nagla Mahmoud",
         "25-8-2017 ",
         1000,
         0.09,
         " Nagla Mahmoud",
         "2017 "
        ],
        [
         "29-8-2017 ; 9000 ; 0.06 ; Nader Nassar",
         "29-8-2017 ",
         9000,
         0.06,
         " Nader Nassar",
         "2017 "
        ],
        [
         "2-9-2017 ; 2000 ; 0.09 ; Dina Ragheb",
         "2-9-2017 ",
         2000,
         0.09,
         " Dina Ragheb",
         "2017 "
        ],
        [
         "6-9-2017 ; 5000 ; 0.09 ; Nagla Mahmoud",
         "6-9-2017 ",
         5000,
         0.09,
         " Nagla Mahmoud",
         "2017 "
        ],
        [
         "10-9-2017 ; 7000 ; 0.07 ; Eman Atef",
         "10-9-2017 ",
         7000,
         0.07,
         " Eman Atef",
         "2017 "
        ],
        [
         "14-9-2017 ; 11000 ; 0.06 ; Nadeen Mohsen",
         "14-9-2017 ",
         11000,
         0.06,
         " Nadeen Mohsen",
         "2017 "
        ],
        [
         "18-9-2017 ; 8000 ; 0.05 ; Dina Ragheb",
         "18-9-2017 ",
         8000,
         0.05,
         " Dina Ragheb",
         "2017 "
        ],
        [
         "22-9-2017 ; 9000 ; 0.05 ; Nadeen Mohsen",
         "22-9-2017 ",
         9000,
         0.05,
         " Nadeen Mohsen",
         "2017 "
        ],
        [
         "26-9-2017 ; 1000 ; 0.08 ; Samer Morsy",
         "26-9-2017 ",
         1000,
         0.08,
         " Samer Morsy",
         "2017 "
        ],
        [
         "30-9-2017 ; 9000 ; 0.06 ; Nadeen Mohsen",
         "30-9-2017 ",
         9000,
         0.06,
         " Nadeen Mohsen",
         "2017 "
        ],
        [
         "4-10-2017 ; 6000 ; 0.09 ; Kamel Morsy",
         "4-10-2017 ",
         6000,
         0.09,
         " Kamel Morsy",
         "2017 "
        ],
        [
         "8-10-2017 ; 10000 ; 0.08 ; Dina Ragheb",
         "8-10-2017 ",
         10000,
         0.08,
         " Dina Ragheb",
         "2017 "
        ],
        [
         "12-10-2017 ; 10000 ; 0.07 ; Eman Atef",
         "12-10-2017 ",
         10000,
         0.07,
         " Eman Atef",
         "2017 "
        ],
        [
         "16-10-2017 ; 4000 ; 0.09 ; Amr Ragheb",
         "16-10-2017 ",
         4000,
         0.09,
         " Amr Ragheb",
         "2017 "
        ],
        [
         "20-10-2017 ; 3000 ; 0.09 ; Amr Ragheb",
         "20-10-2017 ",
         3000,
         0.09,
         " Amr Ragheb",
         "2017 "
        ],
        [
         "24-10-2017 ; 10000 ; 0.07 ; Nagla Mahmoud",
         "24-10-2017 ",
         10000,
         0.07,
         " Nagla Mahmoud",
         "2017 "
        ],
        [
         "28-10-2017 ; 11000 ; 0.08 ; Adel Ragheb",
         "28-10-2017 ",
         11000,
         0.08,
         " Adel Ragheb",
         "2017 "
        ],
        [
         "1-11-2017 ; 3000 ; 0.08 ; Amr Ragheb",
         "1-11-2017 ",
         3000,
         0.08,
         " Amr Ragheb",
         "2017 "
        ],
        [
         "5-11-2017 ; 3000 ; 0.06 ; Amr Ragheb",
         "5-11-2017 ",
         3000,
         0.06,
         " Amr Ragheb",
         "2017 "
        ],
        [
         "9-11-2017 ; 5000 ; 0.08 ; Samer Morsy",
         "9-11-2017 ",
         5000,
         0.08,
         " Samer Morsy",
         "2017 "
        ],
        [
         "13-11-2017 ; 11000 ; 0.06 ; Amr Ragheb",
         "13-11-2017 ",
         11000,
         0.06,
         " Amr Ragheb",
         "2017 "
        ],
        [
         "17-11-2017 ; 10000 ; 0.07 ; Nadeen Mohsen",
         "17-11-2017 ",
         10000,
         0.07,
         " Nadeen Mohsen",
         "2017 "
        ],
        [
         "21-11-2017 ; 5000 ; 0.09 ; Samer Morsy",
         "21-11-2017 ",
         5000,
         0.09,
         " Samer Morsy",
         "2017 "
        ],
        [
         "25-11-2017 ; 7000 ; 0.06 ; Eman Atef",
         "25-11-2017 ",
         7000,
         0.06,
         " Eman Atef",
         "2017 "
        ],
        [
         "29-11-2017 ; 1000 ; 0.06 ; Amr Ragheb",
         "29-11-2017 ",
         1000,
         0.06,
         " Amr Ragheb",
         "2017 "
        ],
        [
         "3-12-2017 ; 8000 ; 0.07 ; Amr Ragheb",
         "3-12-2017 ",
         8000,
         0.07,
         " Amr Ragheb",
         "2017 "
        ],
        [
         "7-12-2017 ; 10000 ; 0.09 ; Eman Atef",
         "7-12-2017 ",
         10000,
         0.09,
         " Eman Atef",
         "2017 "
        ],
        [
         "11-12-2017 ; 7000 ; 0.07 ; Samer Morsy",
         "11-12-2017 ",
         7000,
         0.07,
         " Samer Morsy",
         "2017 "
        ],
        [
         "15-12-2017 ; 5000 ; 0.05 ; Amr Ragheb",
         "15-12-2017 ",
         5000,
         0.05,
         " Amr Ragheb",
         "2017 "
        ],
        [
         "19-12-2017 ; 12000 ; 0.07 ; Eman Atef",
         "19-12-2017 ",
         12000,
         0.07,
         " Eman Atef",
         "2017 "
        ],
        [
         "23-12-2017 ; 3000 ; 0.07 ; Samer Morsy",
         "23-12-2017 ",
         3000,
         0.07,
         " Samer Morsy",
         "2017 "
        ],
        [
         "27-12-2017 ; 7000 ; 0.09 ; Dina Ragheb",
         "27-12-2017 ",
         7000,
         0.09,
         " Dina Ragheb",
         "2017 "
        ],
        [
         "31-12-2017 ; 12000 ; 0.06 ; Kamel Morsy",
         "31-12-2017 ",
         12000,
         0.06,
         " Kamel Morsy",
         "2017 "
        ],
        [
         "1-1-2018 ; 11000 ; 0.05 ; Nagla Mahmoud",
         "1-1-2018 ",
         11000,
         0.05,
         " Nagla Mahmoud",
         "2018 "
        ],
        [
         "5-1-2018 ; 7000 ; 0.06 ; Nagla Mahmoud",
         "5-1-2018 ",
         7000,
         0.06,
         " Nagla Mahmoud",
         "2018 "
        ],
        [
         "9-1-2018 ; 5000 ; 0.09 ; Dina Ragheb",
         "9-1-2018 ",
         5000,
         0.09,
         " Dina Ragheb",
         "2018 "
        ],
        [
         "13-1-2018 ; 3000 ; 0.06 ; Eman Atef",
         "13-1-2018 ",
         3000,
         0.06,
         " Eman Atef",
         "2018 "
        ],
        [
         "17-1-2018 ; 1000 ; 0.06 ; Dina Ragheb",
         "17-1-2018 ",
         1000,
         0.06,
         " Dina Ragheb",
         "2018 "
        ],
        [
         "21-1-2018 ; 3000 ; 0.07 ; Adel Ragheb",
         "21-1-2018 ",
         3000,
         0.07,
         " Adel Ragheb",
         "2018 "
        ],
        [
         "25-1-2018 ; 5000 ; 0.08 ; Samer Morsy",
         "25-1-2018 ",
         5000,
         0.08,
         " Samer Morsy",
         "2018 "
        ],
        [
         "29-1-2018 ; 8000 ; 0.07 ; Nader Nassar",
         "29-1-2018 ",
         8000,
         0.07,
         " Nader Nassar",
         "2018 "
        ],
        [
         "2-2-2018 ; 3000 ; 0.07 ; Samer Morsy",
         "2-2-2018 ",
         3000,
         0.07,
         " Samer Morsy",
         "2018 "
        ],
        [
         "6-2-2018 ; 12000 ; 0.05 ; Dina Ragheb",
         "6-2-2018 ",
         12000,
         0.05,
         " Dina Ragheb",
         "2018 "
        ],
        [
         "10-2-2018 ; 5000 ; 0.09 ; Kamel Morsy",
         "10-2-2018 ",
         5000,
         0.09,
         " Kamel Morsy",
         "2018 "
        ],
        [
         "14-2-2018 ; 5000 ; 0.09 ; Dina Ragheb",
         "14-2-2018 ",
         5000,
         0.09,
         " Dina Ragheb",
         "2018 "
        ],
        [
         "18-2-2018 ; 5000 ; 0.07 ; Amr Ragheb",
         "18-2-2018 ",
         5000,
         0.07,
         " Amr Ragheb",
         "2018 "
        ],
        [
         "22-2-2018 ; 6000 ; 0.09 ; Eman Atef",
         "22-2-2018 ",
         6000,
         0.09,
         " Eman Atef",
         "2018 "
        ],
        [
         "26-2-2018 ; 4000 ; 0.05 ; Kamel Morsy",
         "26-2-2018 ",
         4000,
         0.05,
         " Kamel Morsy",
         "2018 "
        ],
        [
         "2-3-2018 ; 2000 ; 0.05 ; Dina Ragheb",
         "2-3-2018 ",
         2000,
         0.05,
         " Dina Ragheb",
         "2018 "
        ],
        [
         "6-3-2018 ; 3000 ; 0.05 ; Nader Nassar",
         "6-3-2018 ",
         3000,
         0.05,
         " Nader Nassar",
         "2018 "
        ],
        [
         "10-3-2018 ; 7000 ; 0.09 ; Nadeen Mohsen",
         "10-3-2018 ",
         7000,
         0.09,
         " Nadeen Mohsen",
         "2018 "
        ],
        [
         "14-3-2018 ; 1000 ; 0.06 ; Amr Ragheb",
         "14-3-2018 ",
         1000,
         0.06,
         " Amr Ragheb",
         "2018 "
        ],
        [
         "18-3-2018 ; 6000 ; 0.07 ; Samer Morsy",
         "18-3-2018 ",
         6000,
         0.07,
         " Samer Morsy",
         "2018 "
        ],
        [
         "22-3-2018 ; 4000 ; 0.09 ; Kamel Morsy",
         "22-3-2018 ",
         4000,
         0.09,
         " Kamel Morsy",
         "2018 "
        ],
        [
         "26-3-2018 ; 3000 ; 0.08 ; Adel Ragheb",
         "26-3-2018 ",
         3000,
         0.08,
         " Adel Ragheb",
         "2018 "
        ],
        [
         "30-3-2018 ; 4000 ; 0.08 ; Adel Ragheb",
         "30-3-2018 ",
         4000,
         0.08,
         " Adel Ragheb",
         "2018 "
        ],
        [
         "3-4-2018 ; 1000 ; 0.09 ; Amr Ragheb",
         "3-4-2018 ",
         1000,
         0.09,
         " Amr Ragheb",
         "2018 "
        ],
        [
         "7-4-2018 ; 7000 ; 0.08 ; Amr Ragheb",
         "7-4-2018 ",
         7000,
         0.08,
         " Amr Ragheb",
         "2018 "
        ],
        [
         "11-4-2018 ; 8000 ; 0.09 ; Dina Ragheb",
         "11-4-2018 ",
         8000,
         0.09,
         " Dina Ragheb",
         "2018 "
        ],
        [
         "15-4-2018 ; 5000 ; 0.05 ; Dina Ragheb",
         "15-4-2018 ",
         5000,
         0.05,
         " Dina Ragheb",
         "2018 "
        ],
        [
         "19-4-2018 ; 2000 ; 0.08 ; Amr Ragheb",
         "19-4-2018 ",
         2000,
         0.08,
         " Amr Ragheb",
         "2018 "
        ],
        [
         "23-4-2018 ; 4000 ; 0.09 ; Nagla Mahmoud",
         "23-4-2018 ",
         4000,
         0.09,
         " Nagla Mahmoud",
         "2018 "
        ],
        [
         "27-4-2018 ; 10000 ; 0.08 ; Adel Ragheb",
         "27-4-2018 ",
         10000,
         0.08,
         " Adel Ragheb",
         "2018 "
        ],
        [
         "1-5-2018 ; 6000 ; 0.07 ; Dina Ragheb",
         "1-5-2018 ",
         6000,
         0.07,
         " Dina Ragheb",
         "2018 "
        ],
        [
         "5-5-2018 ; 3000 ; 0.08 ; Nadeen Mohsen",
         "5-5-2018 ",
         3000,
         0.08,
         " Nadeen Mohsen",
         "2018 "
        ],
        [
         "9-5-2018 ; 5000 ; 0.05 ; Samer Morsy",
         "9-5-2018 ",
         5000,
         0.05,
         " Samer Morsy",
         "2018 "
        ],
        [
         "13-5-2018 ; 9000 ; 0.05 ; Nader Nassar",
         "13-5-2018 ",
         9000,
         0.05,
         " Nader Nassar",
         "2018 "
        ],
        [
         "17-5-2018 ; 7000 ; 0.07 ; Kamel Morsy",
         "17-5-2018 ",
         7000,
         0.07,
         " Kamel Morsy",
         "2018 "
        ],
        [
         "21-5-2018 ; 4000 ; 0.09 ; Dina Ragheb",
         "21-5-2018 ",
         4000,
         0.09,
         " Dina Ragheb",
         "2018 "
        ],
        [
         "25-5-2018 ; 7000 ; 0.06 ; Nagla Mahmoud",
         "25-5-2018 ",
         7000,
         0.06,
         " Nagla Mahmoud",
         "2018 "
        ],
        [
         "29-5-2018 ; 6000 ; 0.07 ; Nagla Mahmoud",
         "29-5-2018 ",
         6000,
         0.07,
         " Nagla Mahmoud",
         "2018 "
        ],
        [
         "2-6-2018 ; 3000 ; 0.08 ; Dina Ragheb",
         "2-6-2018 ",
         3000,
         0.08,
         " Dina Ragheb",
         "2018 "
        ],
        [
         "6-6-2018 ; 11000 ; 0.09 ; Nader Nassar",
         "6-6-2018 ",
         11000,
         0.09,
         " Nader Nassar",
         "2018 "
        ],
        [
         "10-6-2018 ; 4000 ; 0.05 ; Nader Nassar",
         "10-6-2018 ",
         4000,
         0.05,
         " Nader Nassar",
         "2018 "
        ],
        [
         "14-6-2018 ; 1000 ; 0.09 ; Dina Ragheb",
         "14-6-2018 ",
         1000,
         0.09,
         " Dina Ragheb",
         "2018 "
        ],
        [
         "18-6-2018 ; 9000 ; 0.09 ; Kamel Morsy",
         "18-6-2018 ",
         9000,
         0.09,
         " Kamel Morsy",
         "2018 "
        ],
        [
         "22-6-2018 ; 5000 ; 0.09 ; Dina Ragheb",
         "22-6-2018 ",
         5000,
         0.09,
         " Dina Ragheb",
         "2018 "
        ],
        [
         "26-6-2018 ; 10000 ; 0.08 ; Nader Nassar",
         "26-6-2018 ",
         10000,
         0.08,
         " Nader Nassar",
         "2018 "
        ],
        [
         "30-6-2018 ; 3000 ; 0.06 ; Adel Ragheb",
         "30-6-2018 ",
         3000,
         0.06,
         " Adel Ragheb",
         "2018 "
        ],
        [
         "4-7-2018 ; 4000 ; 0.09 ; Kamel Morsy",
         "4-7-2018 ",
         4000,
         0.09,
         " Kamel Morsy",
         "2018 "
        ],
        [
         "8-7-2018 ; 6000 ; 0.07 ; Dina Ragheb",
         "8-7-2018 ",
         6000,
         0.07,
         " Dina Ragheb",
         "2018 "
        ],
        [
         "12-7-2018 ; 5000 ; 0.06 ; Samer Morsy",
         "12-7-2018 ",
         5000,
         0.06,
         " Samer Morsy",
         "2018 "
        ],
        [
         "16-7-2018 ; 8000 ; 0.06 ; Nader Nassar",
         "16-7-2018 ",
         8000,
         0.06,
         " Nader Nassar",
         "2018 "
        ],
        [
         "20-7-2018 ; 9000 ; 0.06 ; Samer Morsy",
         "20-7-2018 ",
         9000,
         0.06,
         " Samer Morsy",
         "2018 "
        ],
        [
         "24-7-2018 ; 11000 ; 0.07 ; Amr Ragheb",
         "24-7-2018 ",
         11000,
         0.07,
         " Amr Ragheb",
         "2018 "
        ],
        [
         "28-7-2018 ; 12000 ; 0.05 ; Samer Morsy",
         "28-7-2018 ",
         12000,
         0.05,
         " Samer Morsy",
         "2018 "
        ],
        [
         "1-8-2018 ; 7000 ; 0.06 ; Nader Nassar",
         "1-8-2018 ",
         7000,
         0.06,
         " Nader Nassar",
         "2018 "
        ],
        [
         "5-8-2018 ; 5000 ; 0.06 ; Dina Ragheb",
         "5-8-2018 ",
         5000,
         0.06,
         " Dina Ragheb",
         "2018 "
        ],
        [
         "9-8-2018 ; 11000 ; 0.05 ; Dina Ragheb",
         "9-8-2018 ",
         11000,
         0.05,
         " Dina Ragheb",
         "2018 "
        ],
        [
         "13-8-2018 ; 4000 ; 0.08 ; Adel Ragheb",
         "13-8-2018 ",
         4000,
         0.08,
         " Adel Ragheb",
         "2018 "
        ],
        [
         "17-8-2018 ; 9000 ; 0.06 ; Dina Ragheb",
         "17-8-2018 ",
         9000,
         0.06,
         " Dina Ragheb",
         "2018 "
        ],
        [
         "21-8-2018 ; 12000 ; 0.06 ; Nagla Mahmoud",
         "21-8-2018 ",
         12000,
         0.06,
         " Nagla Mahmoud",
         "2018 "
        ],
        [
         "25-8-2018 ; 4000 ; 0.09 ; Nagla Mahmoud",
         "25-8-2018 ",
         4000,
         0.09,
         " Nagla Mahmoud",
         "2018 "
        ],
        [
         "29-8-2018 ; 9000 ; 0.06 ; Nader Nassar",
         "29-8-2018 ",
         9000,
         0.06,
         " Nader Nassar",
         "2018 "
        ],
        [
         "2-9-2018 ; 2000 ; 0.09 ; Dina Ragheb",
         "2-9-2018 ",
         2000,
         0.09,
         " Dina Ragheb",
         "2018 "
        ],
        [
         "6-9-2018 ; 1000 ; 0.09 ; Nagla Mahmoud",
         "6-9-2018 ",
         1000,
         0.09,
         " Nagla Mahmoud",
         "2018 "
        ],
        [
         "10-9-2018 ; 5000 ; 0.07 ; Eman Atef",
         "10-9-2018 ",
         5000,
         0.07,
         " Eman Atef",
         "2018 "
        ],
        [
         "14-9-2018 ; 7000 ; 0.06 ; Nadeen Mohsen",
         "14-9-2018 ",
         7000,
         0.06,
         " Nadeen Mohsen",
         "2018 "
        ],
        [
         "18-9-2018 ; 7000 ; 0.05 ; Dina Ragheb",
         "18-9-2018 ",
         7000,
         0.05,
         " Dina Ragheb",
         "2018 "
        ],
        [
         "22-9-2018 ; 6000 ; 0.05 ; Nadeen Mohsen",
         "22-9-2018 ",
         6000,
         0.05,
         " Nadeen Mohsen",
         "2018 "
        ],
        [
         "26-9-2018 ; 11000 ; 0.08 ; Samer Morsy",
         "26-9-2018 ",
         11000,
         0.08,
         " Samer Morsy",
         "2018 "
        ],
        [
         "30-9-2018 ; 5000 ; 0.06 ; Nadeen Mohsen",
         "30-9-2018 ",
         5000,
         0.06,
         " Nadeen Mohsen",
         "2018 "
        ],
        [
         "4-10-2018 ; 1000 ; 0.09 ; Kamel Morsy",
         "4-10-2018 ",
         1000,
         0.09,
         " Kamel Morsy",
         "2018 "
        ],
        [
         "8-10-2018 ; 2000 ; 0.08 ; Dina Ragheb",
         "8-10-2018 ",
         2000,
         0.08,
         " Dina Ragheb",
         "2018 "
        ],
        [
         "12-10-2018 ; 6000 ; 0.07 ; Eman Atef",
         "12-10-2018 ",
         6000,
         0.07,
         " Eman Atef",
         "2018 "
        ],
        [
         "16-10-2018 ; 8000 ; 0.09 ; Amr Ragheb",
         "16-10-2018 ",
         8000,
         0.09,
         " Amr Ragheb",
         "2018 "
        ],
        [
         "20-10-2018 ; 11000 ; 0.09 ; Amr Ragheb",
         "20-10-2018 ",
         11000,
         0.09,
         " Amr Ragheb",
         "2018 "
        ],
        [
         "24-10-2018 ; 8000 ; 0.07 ; Nagla Mahmoud",
         "24-10-2018 ",
         8000,
         0.07,
         " Nagla Mahmoud",
         "2018 "
        ],
        [
         "28-10-2018 ; 12000 ; 0.08 ; Adel Ragheb",
         "28-10-2018 ",
         12000,
         0.08,
         " Adel Ragheb",
         "2018 "
        ],
        [
         "1-11-2018 ; 6000 ; 0.08 ; Amr Ragheb",
         "1-11-2018 ",
         6000,
         0.08,
         " Amr Ragheb",
         "2018 "
        ],
        [
         "5-11-2018 ; 5000 ; 0.06 ; Amr Ragheb",
         "5-11-2018 ",
         5000,
         0.06,
         " Amr Ragheb",
         "2018 "
        ],
        [
         "9-11-2018 ; 8000 ; 0.08 ; Samer Morsy",
         "9-11-2018 ",
         8000,
         0.08,
         " Samer Morsy",
         "2018 "
        ],
        [
         "13-11-2018 ; 3000 ; 0.06 ; Amr Ragheb",
         "13-11-2018 ",
         3000,
         0.06,
         " Amr Ragheb",
         "2018 "
        ],
        [
         "17-11-2018 ; 11000 ; 0.07 ; Nadeen Mohsen",
         "17-11-2018 ",
         11000,
         0.07,
         " Nadeen Mohsen",
         "2018 "
        ],
        [
         "21-11-2018 ; 9000 ; 0.09 ; Samer Morsy",
         "21-11-2018 ",
         9000,
         0.09,
         " Samer Morsy",
         "2018 "
        ],
        [
         "25-11-2018 ; 4000 ; 0.06 ; Eman Atef",
         "25-11-2018 ",
         4000,
         0.06,
         " Eman Atef",
         "2018 "
        ],
        [
         "29-11-2018 ; 12000 ; 0.06 ; Amr Ragheb",
         "29-11-2018 ",
         12000,
         0.06,
         " Amr Ragheb",
         "2018 "
        ],
        [
         "3-12-2018 ; 9000 ; 0.07 ; Amr Ragheb",
         "3-12-2018 ",
         9000,
         0.07,
         " Amr Ragheb",
         "2018 "
        ],
        [
         "7-12-2018 ; 8000 ; 0.09 ; Eman Atef",
         "7-12-2018 ",
         8000,
         0.09,
         " Eman Atef",
         "2018 "
        ],
        [
         "11-12-2018 ; 2000 ; 0.07 ; Samer Morsy",
         "11-12-2018 ",
         2000,
         0.07,
         " Samer Morsy",
         "2018 "
        ],
        [
         "15-12-2018 ; 2000 ; 0.05 ; Amr Ragheb",
         "15-12-2018 ",
         2000,
         0.05,
         " Amr Ragheb",
         "2018 "
        ],
        [
         "19-12-2018 ; 8000 ; 0.07 ; Eman Atef",
         "19-12-2018 ",
         8000,
         0.07,
         " Eman Atef",
         "2018 "
        ],
        [
         "23-12-2018 ; 8000 ; 0.07 ; Samer Morsy",
         "23-12-2018 ",
         8000,
         0.07,
         " Samer Morsy",
         "2018 "
        ],
        [
         "27-12-2018 ; 1000 ; 0.09 ; Dina Ragheb",
         "27-12-2018 ",
         1000,
         0.09,
         " Dina Ragheb",
         "2018 "
        ],
        [
         "31-12-2018 ; 1000 ; 0.06 ; Kamel Morsy",
         "31-12-2018 ",
         1000,
         0.06,
         " Kamel Morsy",
         "2018 "
        ]
       ],
       "datasetInfos": [],
       "dbfsResultPath": null,
       "isJsonSchema": true,
       "metadata": {},
       "overflow": false,
       "plotOptions": {
        "customPlotOptions": {},
        "displayType": "table",
        "pivotAggregation": null,
        "pivotColumns": null,
        "xColumns": null,
        "yColumns": null
       },
       "removedWidgets": [],
       "schema": [
        {
         "metadata": "{}",
         "name": "Data",
         "type": "\"string\""
        },
        {
         "metadata": "{}",
         "name": "Date",
         "type": "\"string\""
        },
        {
         "metadata": "{}",
         "name": "Amount",
         "type": "\"integer\""
        },
        {
         "metadata": "{}",
         "name": "%of sales commision",
         "type": "\"float\""
        },
        {
         "metadata": "{}",
         "name": "Sales_Name",
         "type": "\"string\""
        },
        {
         "metadata": "{}",
         "name": "year",
         "type": "\"string\""
        }
       ],
       "type": "table"
      }
     },
     "output_type": "display_data"
    }
   ],
   "source": [
    "\n",
    "from pyspark.sql.functions import split, year\n",
    "\n",
    "# Convert the date string column to the desired format\n",
    "df2=df1.select(\"*\", split(col(\"Date\"), '-').getItem(2).alias(\"year\"))\n",
    "df2.display()\n"
   ]
  },
  {
   "cell_type": "code",
   "execution_count": 0,
   "metadata": {
    "application/vnd.databricks.v1+cell": {
     "cellMetadata": {
      "byteLimit": 2048000,
      "rowLimit": 10000
     },
     "inputWidgets": {},
     "nuid": "c1bfc44d-b356-42dd-aaf0-730d06b22522",
     "showTitle": false,
     "title": ""
    }
   },
   "outputs": [
    {
     "output_type": "stream",
     "name": "stdout",
     "output_type": "stream",
     "text": [
      "root\n |-- Data: string (nullable = true)\n |-- Date: string (nullable = true)\n |-- Amount: integer (nullable = true)\n |-- %of sales commision: float (nullable = true)\n |-- Sales_Name: string (nullable = true)\n |-- split(Date, -, -1)[2]: string (nullable = true)\n\n"
     ]
    }
   ],
   "source": [
    "df2.printSchema()"
   ]
  },
  {
   "cell_type": "code",
   "execution_count": 0,
   "metadata": {
    "application/vnd.databricks.v1+cell": {
     "cellMetadata": {
      "byteLimit": 2048000,
      "rowLimit": 10000
     },
     "inputWidgets": {},
     "nuid": "a9af9d1c-0d1a-49d6-a308-c42a913d328e",
     "showTitle": false,
     "title": ""
    }
   },
   "outputs": [
    {
     "output_type": "stream",
     "name": "stdout",
     "output_type": "stream",
     "text": [
      "+--------------------+----------+------+-------------------+--------------+----+\n|                Data|      Date|Amount|%of sales commision|    Sales_Name|Year|\n+--------------------+----------+------+-------------------+--------------+----+\n|1-1-2017 ; 5000 ;...| 1-1-2017 |  5000|               0.05| Nagla Mahmoud|2017|\n|5-1-2017 ; 4000 ;...| 5-1-2017 |  4000|               0.06| Nagla Mahmoud|2017|\n|9-1-2017 ; 5000 ;...| 9-1-2017 |  5000|               0.09|   Dina Ragheb|2017|\n|13-1-2017 ; 11000...|13-1-2017 | 11000|               0.06|     Eman Atef|2017|\n|17-1-2017 ; 8000 ...|17-1-2017 |  8000|               0.06|   Dina Ragheb|2017|\n|21-1-2017 ; 4000 ...|21-1-2017 |  4000|               0.07|   Adel Ragheb|2017|\n|25-1-2017 ; 2000 ...|25-1-2017 |  2000|               0.08|   Samer Morsy|2017|\n|29-1-2017 ; 1000 ...|29-1-2017 |  1000|               0.07|  Nader Nassar|2017|\n|2-2-2017 ; 6000 ;...| 2-2-2017 |  6000|               0.07|   Samer Morsy|2017|\n|6-2-2017 ; 2000 ;...| 6-2-2017 |  2000|               0.05|   Dina Ragheb|2017|\n|10-2-2017 ; 12000...|10-2-2017 | 12000|               0.09|   Kamel Morsy|2017|\n|14-2-2017 ; 5000 ...|14-2-2017 |  5000|               0.09|   Dina Ragheb|2017|\n|18-2-2017 ; 9000 ...|18-2-2017 |  9000|               0.07|    Amr Ragheb|2017|\n|22-2-2017 ; 8000 ...|22-2-2017 |  8000|               0.09|     Eman Atef|2017|\n|26-2-2017 ; 2000 ...|26-2-2017 |  2000|               0.05|   Kamel Morsy|2017|\n|2-3-2017 ; 3000 ;...| 2-3-2017 |  3000|               0.05|   Dina Ragheb|2017|\n|6-3-2017 ; 5000 ;...| 6-3-2017 |  5000|               0.05|  Nader Nassar|2017|\n|10-3-2017 ; 2000 ...|10-3-2017 |  2000|               0.09| Nadeen Mohsen|2017|\n|14-3-2017 ; 6000 ...|14-3-2017 |  6000|               0.06|    Amr Ragheb|2017|\n|18-3-2017 ; 7000 ...|18-3-2017 |  7000|               0.07|   Samer Morsy|2017|\n+--------------------+----------+------+-------------------+--------------+----+\nonly showing top 20 rows\n\n"
     ]
    }
   ],
   "source": [
    "from pyspark.sql.functions import year\n",
    "\n",
    "# Convert the year string to a date\n",
    "df4 = df3.withColumn(\"Year\", to_date(col(\"year\"), \"yyyy\")).withColumn(\"Year\", year(col(\"Year\")))\n",
    "df4.show()\n"
   ]
  },
  {
   "cell_type": "code",
   "execution_count": 0,
   "metadata": {
    "application/vnd.databricks.v1+cell": {
     "cellMetadata": {
      "byteLimit": 2048000,
      "rowLimit": 10000
     },
     "inputWidgets": {},
     "nuid": "d5219f8c-9893-4364-8921-e01dbaac7c5d",
     "showTitle": false,
     "title": ""
    }
   },
   "outputs": [
    {
     "output_type": "stream",
     "name": "stdout",
     "output_type": "stream",
     "text": [
      "+------+-------------------+--------------+----+\n|Amount|%of sales commision|    Sales_Name|Year|\n+------+-------------------+--------------+----+\n|  5000|               0.05| Nagla Mahmoud|2017|\n|  4000|               0.06| Nagla Mahmoud|2017|\n|  5000|               0.09|   Dina Ragheb|2017|\n| 11000|               0.06|     Eman Atef|2017|\n|  8000|               0.06|   Dina Ragheb|2017|\n|  4000|               0.07|   Adel Ragheb|2017|\n|  2000|               0.08|   Samer Morsy|2017|\n|  1000|               0.07|  Nader Nassar|2017|\n|  6000|               0.07|   Samer Morsy|2017|\n|  2000|               0.05|   Dina Ragheb|2017|\n| 12000|               0.09|   Kamel Morsy|2017|\n|  5000|               0.09|   Dina Ragheb|2017|\n|  9000|               0.07|    Amr Ragheb|2017|\n|  8000|               0.09|     Eman Atef|2017|\n|  2000|               0.05|   Kamel Morsy|2017|\n|  3000|               0.05|   Dina Ragheb|2017|\n|  5000|               0.05|  Nader Nassar|2017|\n|  2000|               0.09| Nadeen Mohsen|2017|\n|  6000|               0.06|    Amr Ragheb|2017|\n|  7000|               0.07|   Samer Morsy|2017|\n+------+-------------------+--------------+----+\nonly showing top 20 rows\n\n"
     ]
    }
   ],
   "source": [
    "df5=df4.drop(\"data\",\"Date\").show()"
   ]
  },
  {
   "cell_type": "code",
   "execution_count": 0,
   "metadata": {
    "application/vnd.databricks.v1+cell": {
     "cellMetadata": {
      "byteLimit": 2048000,
      "rowLimit": 10000
     },
     "inputWidgets": {},
     "nuid": "cde6bf9e-0b7d-4fc5-92a0-e62a7c238efa",
     "showTitle": false,
     "title": ""
    }
   },
   "outputs": [
    {
     "output_type": "stream",
     "name": "stdout",
     "output_type": "stream",
     "text": [
      "root\n |-- Sales_Name: string (nullable = true)\n |-- 2017: long (nullable = true)\n |-- 2018: long (nullable = true)\n |-- GrandTotal: long (nullable = true)\n\n+--------------+------+------+----------+\n|Sales_Name    |2017  |2018  |GrandTotal|\n+--------------+------+------+----------+\n| Adel Ragheb  |52000 |39000 |91000     |\n| Amr Ragheb   |78000 |83000 |161000    |\n| Dina Ragheb  |114000|100000|214000    |\n| Eman Atef    |65000 |40000 |105000    |\n| Kamel Morsy  |54000 |35000 |89000     |\n| Nadeen Mohsen|50000 |39000 |89000     |\n| Nader Nassar |50000 |69000 |119000    |\n| Nagla Mahmoud|52000 |60000 |112000    |\n| Samer Morsy  |69000 |83000 |152000    |\n+--------------+------+------+----------+\n\n"
     ]
    }
   ],
   "source": [
    "# Pivot the data\n",
    "from pyspark.sql.functions import col, sum, avg, max\n",
    "pivotDF = df4.groupBy(\"Sales_Name\").pivot(\"Year\").sum(\"Amount\").withColumn(\"GrandTotal\",col(\"2017\")+col(\"2018\")).orderBy(\"Sales_Name\")\n",
    "pivotDF.printSchema()\n",
    "pivotDF.show(truncate=False)\n"
   ]
  }
 ],
 "metadata": {
  "application/vnd.databricks.v1+notebook": {
   "dashboards": [],
   "language": "python",
   "notebookMetadata": {
    "mostRecentlyExecutedCommandWithImplicitDF": {
     "commandId": 2144464595751031,
     "dataframes": [
      "_sqldf"
     ]
    },
    "pythonIndentUnit": 4
   },
   "notebookName": "Untitled Notebook 2023-12-06 11:17:04",
   "widgets": {}
  }
 },
 "nbformat": 4,
 "nbformat_minor": 0
}
