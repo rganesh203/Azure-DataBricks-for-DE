{
 "cells": [
  {
   "cell_type": "code",
   "execution_count": 0,
   "metadata": {
    "application/vnd.databricks.v1+cell": {
     "cellMetadata": {
      "byteLimit": 2048000,
      "rowLimit": 10000
     },
     "inputWidgets": {},
     "nuid": "ada7a614-fee0-4767-8106-b7f2579d4c6b",
     "showTitle": false,
     "title": ""
    }
   },
   "outputs": [],
   "source": [
    "csv_file=\"dbfs:/FileStore/tables/Book1.csv\"\n",
    "df2 = spark.read.option(\"header\",True).option(\"inferschema\",True).csv(csv_file)"
   ]
  },
  {
   "cell_type": "code",
   "execution_count": 0,
   "metadata": {
    "application/vnd.databricks.v1+cell": {
     "cellMetadata": {
      "byteLimit": 2048000,
      "rowLimit": 10000
     },
     "inputWidgets": {},
     "nuid": "3437b735-2702-4c74-be6f-04aece818f9b",
     "showTitle": false,
     "title": ""
    }
   },
   "outputs": [
    {
     "output_type": "display_data",
     "data": {
      "text/html": [
       "<style scoped>\n",
       "  .table-result-container {\n",
       "    max-height: 300px;\n",
       "    overflow: auto;\n",
       "  }\n",
       "  table, th, td {\n",
       "    border: 1px solid black;\n",
       "    border-collapse: collapse;\n",
       "  }\n",
       "  th, td {\n",
       "    padding: 5px;\n",
       "  }\n",
       "  th {\n",
       "    text-align: left;\n",
       "  }\n",
       "</style><div class='table-result-container'><table class='table-result'><thead style='background-color: white'><tr><th>Name of Employee</th><th>Sales</th><th>Quarter</th><th>State</th></tr></thead><tbody><tr><td>Mohak</td><td>1000</td><td>1</td><td>Rajasthan</td></tr><tr><td>Vijay</td><td>300</td><td>1</td><td>Panjab</td></tr><tr><td>Tapasi</td><td>400</td><td>1</td><td>Gujarat</td></tr><tr><td>Mansi</td><td>500</td><td>1</td><td>Goa</td></tr><tr><td>Bipin</td><td>800</td><td>1</td><td>Rajasthan</td></tr><tr><td>Mohak</td><td>1000</td><td>2</td><td>Gujarat</td></tr><tr><td>Vijay</td><td>500</td><td>2</td><td>Panjab</td></tr><tr><td>Tapasi</td><td>700</td><td>2</td><td>Gujarat</td></tr><tr><td>Mansi</td><td>50</td><td>2</td><td>Rajasthan</td></tr><tr><td>Bipin</td><td>60</td><td>2</td><td>Rajasthan</td></tr><tr><td>Mohak</td><td>1000</td><td>3</td><td>Rajasthan</td></tr><tr><td>Vijay</td><td>900</td><td>3</td><td>Panjab</td></tr><tr><td>Tapasi</td><td>750</td><td>3</td><td>Gujarat</td></tr><tr><td>Mansi</td><td>200</td><td>3</td><td>Goa</td></tr><tr><td>Bipin</td><td>300</td><td>3</td><td>Gujarat</td></tr><tr><td>Mohak</td><td>1000</td><td>4</td><td>Panjab</td></tr><tr><td>Vijay</td><td>900</td><td>4</td><td>Panjab</td></tr><tr><td>Tapasi</td><td>250</td><td>4</td><td>Gujarat</td></tr><tr><td>Mansi</td><td>750</td><td>4</td><td>Goa</td></tr><tr><td>Bipin</td><td>50</td><td>4</td><td>Rajasthan</td></tr></tbody></table></div>"
      ]
     },
     "metadata": {
      "application/vnd.databricks.v1+output": {
       "addedWidgets": {},
       "aggData": [],
       "aggError": "",
       "aggOverflow": false,
       "aggSchema": [],
       "aggSeriesLimitReached": false,
       "aggType": "",
       "arguments": {},
       "columnCustomDisplayInfos": {},
       "data": [
        [
         "Mohak",
         1000,
         1,
         "Rajasthan"
        ],
        [
         "Vijay",
         300,
         1,
         "Panjab"
        ],
        [
         "Tapasi",
         400,
         1,
         "Gujarat"
        ],
        [
         "Mansi",
         500,
         1,
         "Goa"
        ],
        [
         "Bipin",
         800,
         1,
         "Rajasthan"
        ],
        [
         "Mohak",
         1000,
         2,
         "Gujarat"
        ],
        [
         "Vijay",
         500,
         2,
         "Panjab"
        ],
        [
         "Tapasi",
         700,
         2,
         "Gujarat"
        ],
        [
         "Mansi",
         50,
         2,
         "Rajasthan"
        ],
        [
         "Bipin",
         60,
         2,
         "Rajasthan"
        ],
        [
         "Mohak",
         1000,
         3,
         "Rajasthan"
        ],
        [
         "Vijay",
         900,
         3,
         "Panjab"
        ],
        [
         "Tapasi",
         750,
         3,
         "Gujarat"
        ],
        [
         "Mansi",
         200,
         3,
         "Goa"
        ],
        [
         "Bipin",
         300,
         3,
         "Gujarat"
        ],
        [
         "Mohak",
         1000,
         4,
         "Panjab"
        ],
        [
         "Vijay",
         900,
         4,
         "Panjab"
        ],
        [
         "Tapasi",
         250,
         4,
         "Gujarat"
        ],
        [
         "Mansi",
         750,
         4,
         "Goa"
        ],
        [
         "Bipin",
         50,
         4,
         "Rajasthan"
        ]
       ],
       "datasetInfos": [],
       "dbfsResultPath": null,
       "isJsonSchema": true,
       "metadata": {},
       "overflow": false,
       "plotOptions": {
        "customPlotOptions": {},
        "displayType": "table",
        "pivotAggregation": null,
        "pivotColumns": null,
        "xColumns": null,
        "yColumns": null
       },
       "removedWidgets": [],
       "schema": [
        {
         "metadata": "{}",
         "name": "Name of Employee",
         "type": "\"string\""
        },
        {
         "metadata": "{}",
         "name": "Sales",
         "type": "\"integer\""
        },
        {
         "metadata": "{}",
         "name": "Quarter",
         "type": "\"integer\""
        },
        {
         "metadata": "{}",
         "name": "State",
         "type": "\"string\""
        }
       ],
       "type": "table"
      }
     },
     "output_type": "display_data"
    }
   ],
   "source": [
    "df2.display()"
   ]
  },
  {
   "cell_type": "code",
   "execution_count": 0,
   "metadata": {
    "application/vnd.databricks.v1+cell": {
     "cellMetadata": {
      "byteLimit": 2048000,
      "rowLimit": 10000
     },
     "inputWidgets": {},
     "nuid": "847db335-2a84-4b9a-9d17-beb283d96b6e",
     "showTitle": false,
     "title": ""
    }
   },
   "outputs": [
    {
     "output_type": "stream",
     "name": "stdout",
     "output_type": "stream",
     "text": [
      "root\n |-- Name of Employee: string (nullable = true)\n |-- Sales: integer (nullable = true)\n |-- Quarter: integer (nullable = true)\n |-- State: string (nullable = true)\n\n"
     ]
    }
   ],
   "source": [
    "df2.printSchema()"
   ]
  },
  {
   "cell_type": "markdown",
   "metadata": {
    "application/vnd.databricks.v1+cell": {
     "cellMetadata": {},
     "inputWidgets": {},
     "nuid": "b8650652-6a65-4a69-aeee-19506e354d91",
     "showTitle": false,
     "title": ""
    }
   },
   "source": [
    "#Find total sales per employee in above DataFrame"
   ]
  },
  {
   "cell_type": "code",
   "execution_count": 0,
   "metadata": {
    "application/vnd.databricks.v1+cell": {
     "cellMetadata": {
      "byteLimit": 2048000,
      "rowLimit": 10000
     },
     "inputWidgets": {},
     "nuid": "aa2c45a8-b962-4ab3-bf63-5d79f31e7114",
     "showTitle": false,
     "title": ""
    }
   },
   "outputs": [
    {
     "output_type": "display_data",
     "data": {
      "text/html": [
       "<style scoped>\n",
       "  .table-result-container {\n",
       "    max-height: 300px;\n",
       "    overflow: auto;\n",
       "  }\n",
       "  table, th, td {\n",
       "    border: 1px solid black;\n",
       "    border-collapse: collapse;\n",
       "  }\n",
       "  th, td {\n",
       "    padding: 5px;\n",
       "  }\n",
       "  th {\n",
       "    text-align: left;\n",
       "  }\n",
       "</style><div class='table-result-container'><table class='table-result'><thead style='background-color: white'><tr><th>Name of Employee</th><th>sum(Sales)</th></tr></thead><tbody><tr><td>Bipin</td><td>1210</td></tr><tr><td>Mansi</td><td>1500</td></tr><tr><td>Mohak</td><td>4000</td></tr><tr><td>Tapasi</td><td>2100</td></tr><tr><td>Vijay</td><td>2600</td></tr></tbody></table></div>"
      ]
     },
     "metadata": {
      "application/vnd.databricks.v1+output": {
       "addedWidgets": {},
       "aggData": [],
       "aggError": "",
       "aggOverflow": false,
       "aggSchema": [],
       "aggSeriesLimitReached": false,
       "aggType": "",
       "arguments": {},
       "columnCustomDisplayInfos": {},
       "data": [
        [
         "Bipin",
         1210
        ],
        [
         "Mansi",
         1500
        ],
        [
         "Mohak",
         4000
        ],
        [
         "Tapasi",
         2100
        ],
        [
         "Vijay",
         2600
        ]
       ],
       "datasetInfos": [],
       "dbfsResultPath": null,
       "isJsonSchema": true,
       "metadata": {},
       "overflow": false,
       "plotOptions": {
        "customPlotOptions": {},
        "displayType": "table",
        "pivotAggregation": null,
        "pivotColumns": null,
        "xColumns": null,
        "yColumns": null
       },
       "removedWidgets": [],
       "schema": [
        {
         "metadata": "{}",
         "name": "Name of Employee",
         "type": "\"string\""
        },
        {
         "metadata": "{}",
         "name": "sum(Sales)",
         "type": "\"long\""
        }
       ],
       "type": "table"
      }
     },
     "output_type": "display_data"
    }
   ],
   "source": [
    "df3=df2.groupBy(\"Name of Employee\").sum(\"Sales\").sort(\"Name of Employee\", ascending=[True])\n",
    "df3.display()"
   ]
  },
  {
   "cell_type": "markdown",
   "metadata": {
    "application/vnd.databricks.v1+cell": {
     "cellMetadata": {},
     "inputWidgets": {},
     "nuid": "ef0026e3-42c2-423d-aff2-56feaee74f57",
     "showTitle": false,
     "title": ""
    }
   },
   "source": [
    "#Find total sales by state in above DataFrame"
   ]
  },
  {
   "cell_type": "code",
   "execution_count": 0,
   "metadata": {
    "application/vnd.databricks.v1+cell": {
     "cellMetadata": {
      "byteLimit": 2048000,
      "rowLimit": 10000
     },
     "inputWidgets": {},
     "nuid": "da8c3d89-4ad2-43f7-abc0-af03ea36442f",
     "showTitle": false,
     "title": ""
    }
   },
   "outputs": [
    {
     "output_type": "display_data",
     "data": {
      "text/html": [
       "<style scoped>\n",
       "  .table-result-container {\n",
       "    max-height: 300px;\n",
       "    overflow: auto;\n",
       "  }\n",
       "  table, th, td {\n",
       "    border: 1px solid black;\n",
       "    border-collapse: collapse;\n",
       "  }\n",
       "  th, td {\n",
       "    padding: 5px;\n",
       "  }\n",
       "  th {\n",
       "    text-align: left;\n",
       "  }\n",
       "</style><div class='table-result-container'><table class='table-result'><thead style='background-color: white'><tr><th>State</th><th>sum(Sales)</th></tr></thead><tbody><tr><td>Goa</td><td>1450</td></tr><tr><td>Gujarat</td><td>3400</td></tr><tr><td>Panjab</td><td>3600</td></tr><tr><td>Rajasthan</td><td>2960</td></tr></tbody></table></div>"
      ]
     },
     "metadata": {
      "application/vnd.databricks.v1+output": {
       "addedWidgets": {},
       "aggData": [],
       "aggError": "",
       "aggOverflow": false,
       "aggSchema": [],
       "aggSeriesLimitReached": false,
       "aggType": "",
       "arguments": {},
       "columnCustomDisplayInfos": {},
       "data": [
        [
         "Goa",
         1450
        ],
        [
         "Gujarat",
         3400
        ],
        [
         "Panjab",
         3600
        ],
        [
         "Rajasthan",
         2960
        ]
       ],
       "datasetInfos": [],
       "dbfsResultPath": null,
       "isJsonSchema": true,
       "metadata": {},
       "overflow": false,
       "plotOptions": {
        "customPlotOptions": {},
        "displayType": "table",
        "pivotAggregation": null,
        "pivotColumns": null,
        "xColumns": null,
        "yColumns": null
       },
       "removedWidgets": [],
       "schema": [
        {
         "metadata": "{}",
         "name": "State",
         "type": "\"string\""
        },
        {
         "metadata": "{}",
         "name": "sum(Sales)",
         "type": "\"long\""
        }
       ],
       "type": "table"
      }
     },
     "output_type": "display_data"
    }
   ],
   "source": [
    "df4=df2.groupBy(\"State\").sum(\"Sales\").sort(\"State\", ascending=[True])\n",
    "df4.display()"
   ]
  },
  {
   "cell_type": "markdown",
   "metadata": {
    "application/vnd.databricks.v1+cell": {
     "cellMetadata": {},
     "inputWidgets": {},
     "nuid": "ce7455b6-d462-456a-a976-8183ee079ada",
     "showTitle": false,
     "title": ""
    }
   },
   "source": [
    "#Find total sales by both employee & state in above DataFrame "
   ]
  },
  {
   "cell_type": "code",
   "execution_count": 0,
   "metadata": {
    "application/vnd.databricks.v1+cell": {
     "cellMetadata": {
      "byteLimit": 2048000,
      "rowLimit": 10000
     },
     "inputWidgets": {},
     "nuid": "ded18e8b-6dde-451f-b8cb-8c61b3763dac",
     "showTitle": false,
     "title": ""
    }
   },
   "outputs": [
    {
     "output_type": "display_data",
     "data": {
      "text/html": [
       "<style scoped>\n",
       "  .table-result-container {\n",
       "    max-height: 300px;\n",
       "    overflow: auto;\n",
       "  }\n",
       "  table, th, td {\n",
       "    border: 1px solid black;\n",
       "    border-collapse: collapse;\n",
       "  }\n",
       "  th, td {\n",
       "    padding: 5px;\n",
       "  }\n",
       "  th {\n",
       "    text-align: left;\n",
       "  }\n",
       "</style><div class='table-result-container'><table class='table-result'><thead style='background-color: white'><tr><th>Name of Employee</th><th>State</th><th>sum(Sales)</th></tr></thead><tbody><tr><td>Bipin</td><td>Gujarat</td><td>300</td></tr><tr><td>Bipin</td><td>Rajasthan</td><td>910</td></tr><tr><td>Mansi</td><td>Rajasthan</td><td>50</td></tr><tr><td>Mansi</td><td>Goa</td><td>1450</td></tr><tr><td>Mohak</td><td>Panjab</td><td>1000</td></tr><tr><td>Mohak</td><td>Gujarat</td><td>1000</td></tr><tr><td>Mohak</td><td>Rajasthan</td><td>2000</td></tr><tr><td>Tapasi</td><td>Gujarat</td><td>2100</td></tr><tr><td>Vijay</td><td>Panjab</td><td>2600</td></tr></tbody></table></div>"
      ]
     },
     "metadata": {
      "application/vnd.databricks.v1+output": {
       "addedWidgets": {},
       "aggData": [],
       "aggError": "",
       "aggOverflow": false,
       "aggSchema": [],
       "aggSeriesLimitReached": false,
       "aggType": "",
       "arguments": {},
       "columnCustomDisplayInfos": {},
       "data": [
        [
         "Bipin",
         "Gujarat",
         300
        ],
        [
         "Bipin",
         "Rajasthan",
         910
        ],
        [
         "Mansi",
         "Rajasthan",
         50
        ],
        [
         "Mansi",
         "Goa",
         1450
        ],
        [
         "Mohak",
         "Panjab",
         1000
        ],
        [
         "Mohak",
         "Gujarat",
         1000
        ],
        [
         "Mohak",
         "Rajasthan",
         2000
        ],
        [
         "Tapasi",
         "Gujarat",
         2100
        ],
        [
         "Vijay",
         "Panjab",
         2600
        ]
       ],
       "datasetInfos": [],
       "dbfsResultPath": null,
       "isJsonSchema": true,
       "metadata": {},
       "overflow": false,
       "plotOptions": {
        "customPlotOptions": {},
        "displayType": "table",
        "pivotAggregation": null,
        "pivotColumns": null,
        "xColumns": null,
        "yColumns": null
       },
       "removedWidgets": [],
       "schema": [
        {
         "metadata": "{}",
         "name": "Name of Employee",
         "type": "\"string\""
        },
        {
         "metadata": "{}",
         "name": "State",
         "type": "\"string\""
        },
        {
         "metadata": "{}",
         "name": "sum(Sales)",
         "type": "\"long\""
        }
       ],
       "type": "table"
      }
     },
     "output_type": "display_data"
    }
   ],
   "source": [
    "df5=df2.groupBy(\"Name of Employee\",\"State\").sum(\"Sales\").sort(\"Name of Employee\",\"sum(Sales)\", ascending=[True,True])\n",
    "df5.display()"
   ]
  },
  {
   "cell_type": "markdown",
   "metadata": {
    "application/vnd.databricks.v1+cell": {
     "cellMetadata": {},
     "inputWidgets": {},
     "nuid": "e766850d-3f44-4ca1-8f85-726c8a6a371a",
     "showTitle": false,
     "title": ""
    }
   },
   "source": [
    "#Find Max individual sale by State in above DataFrame"
   ]
  },
  {
   "cell_type": "code",
   "execution_count": 0,
   "metadata": {
    "application/vnd.databricks.v1+cell": {
     "cellMetadata": {
      "byteLimit": 2048000,
      "rowLimit": 10000
     },
     "inputWidgets": {},
     "nuid": "21ae20c9-2a6d-4505-88b4-605024f7600b",
     "showTitle": false,
     "title": ""
    }
   },
   "outputs": [
    {
     "output_type": "display_data",
     "data": {
      "text/html": [
       "<style scoped>\n",
       "  .table-result-container {\n",
       "    max-height: 300px;\n",
       "    overflow: auto;\n",
       "  }\n",
       "  table, th, td {\n",
       "    border: 1px solid black;\n",
       "    border-collapse: collapse;\n",
       "  }\n",
       "  th, td {\n",
       "    padding: 5px;\n",
       "  }\n",
       "  th {\n",
       "    text-align: left;\n",
       "  }\n",
       "</style><div class='table-result-container'><table class='table-result'><thead style='background-color: white'><tr><th>State</th><th>max(Sales)</th></tr></thead><tbody><tr><td>Goa</td><td>750</td></tr><tr><td>Gujarat</td><td>1000</td></tr><tr><td>Panjab</td><td>1000</td></tr><tr><td>Rajasthan</td><td>1000</td></tr></tbody></table></div>"
      ]
     },
     "metadata": {
      "application/vnd.databricks.v1+output": {
       "addedWidgets": {},
       "aggData": [],
       "aggError": "",
       "aggOverflow": false,
       "aggSchema": [],
       "aggSeriesLimitReached": false,
       "aggType": "",
       "arguments": {},
       "columnCustomDisplayInfos": {},
       "data": [
        [
         "Goa",
         750
        ],
        [
         "Gujarat",
         1000
        ],
        [
         "Panjab",
         1000
        ],
        [
         "Rajasthan",
         1000
        ]
       ],
       "datasetInfos": [],
       "dbfsResultPath": null,
       "isJsonSchema": true,
       "metadata": {},
       "overflow": false,
       "plotOptions": {
        "customPlotOptions": {},
        "displayType": "table",
        "pivotAggregation": null,
        "pivotColumns": null,
        "xColumns": null,
        "yColumns": null
       },
       "removedWidgets": [],
       "schema": [
        {
         "metadata": "{}",
         "name": "State",
         "type": "\"string\""
        },
        {
         "metadata": "{}",
         "name": "max(Sales)",
         "type": "\"integer\""
        }
       ],
       "type": "table"
      }
     },
     "output_type": "display_data"
    }
   ],
   "source": [
    "df6=df2.groupBy(\"State\").max(\"Sales\").sort(\"State\", ascending=[True])\n",
    "df6.display()"
   ]
  },
  {
   "cell_type": "markdown",
   "metadata": {
    "application/vnd.databricks.v1+cell": {
     "cellMetadata": {},
     "inputWidgets": {},
     "nuid": "2ee2b716-7ae6-48eb-a047-8e589952e66c",
     "showTitle": false,
     "title": ""
    }
   },
   "source": [
    "#Find Mean, median and min sales by State in above DataFrame"
   ]
  },
  {
   "cell_type": "code",
   "execution_count": 0,
   "metadata": {
    "application/vnd.databricks.v1+cell": {
     "cellMetadata": {
      "byteLimit": 2048000,
      "rowLimit": 10000
     },
     "inputWidgets": {},
     "nuid": "cad177d2-e716-4955-979f-522f017aad39",
     "showTitle": false,
     "title": ""
    }
   },
   "outputs": [
    {
     "output_type": "stream",
     "name": "stdout",
     "output_type": "stream",
     "text": [
      "+---------+-----------------+---------+---------+\n|State    |avg_salary       |sum_bonus|max_bonus|\n+---------+-----------------+---------+---------+\n|Goa      |483.3333333333333|500.0    |200      |\n|Gujarat  |566.6666666666666|550.0    |250      |\n|Panjab   |720.0            |900.0    |300      |\n|Rajasthan|493.3333333333333|430.0    |50       |\n+---------+-----------------+---------+---------+\n\n"
     ]
    }
   ],
   "source": [
    "from pyspark.sql.functions import median,avg,min\n",
    "import pyspark.sql.functions as F\n",
    "df6=df2.groupBy(\"State\").agg(avg(\"Sales\").alias(\"avg_salary\"), \\\n",
    "         median(\"Sales\").alias(\"sum_bonus\"), \\\n",
    "         min(\"Sales\").alias(\"max_bonus\") \\\n",
    "     ).sort(\"State\",ascending=[True])\n",
    "df6.show(truncate=False)"
   ]
  },
  {
   "cell_type": "code",
   "execution_count": 0,
   "metadata": {
    "application/vnd.databricks.v1+cell": {
     "cellMetadata": {
      "byteLimit": 2048000,
      "rowLimit": 10000
     },
     "inputWidgets": {},
     "nuid": "771bd3fc-b8aa-403b-9f53-b5e8137aef6f",
     "showTitle": false,
     "title": ""
    }
   },
   "outputs": [
    {
     "output_type": "display_data",
     "data": {
      "text/html": [
       "<style scoped>\n",
       "  .table-result-container {\n",
       "    max-height: 300px;\n",
       "    overflow: auto;\n",
       "  }\n",
       "  table, th, td {\n",
       "    border: 1px solid black;\n",
       "    border-collapse: collapse;\n",
       "  }\n",
       "  th, td {\n",
       "    padding: 5px;\n",
       "  }\n",
       "  th {\n",
       "    text-align: left;\n",
       "  }\n",
       "</style><div class='table-result-container'><table class='table-result'><thead style='background-color: white'><tr><th>name</th><th>year</th><th>score</th><th>catches</th><th>_5</th></tr></thead><tbody><tr><td>Mohak</td><td>Rajesh</td><td>Freya</td><td>Aditya</td><td>Anika</td></tr><tr><td>2012</td><td>2012</td><td>2013</td><td>2014</td><td>2014</td></tr><tr><td>10</td><td>22</td><td>11</td><td>32</td><td>23</td></tr><tr><td>2</td><td>2</td><td>3</td><td>3</td><td>3</td></tr></tbody></table></div>"
      ]
     },
     "metadata": {
      "application/vnd.databricks.v1+output": {
       "addedWidgets": {},
       "aggData": [],
       "aggError": "",
       "aggOverflow": false,
       "aggSchema": [],
       "aggSeriesLimitReached": false,
       "aggType": "",
       "arguments": {},
       "columnCustomDisplayInfos": {},
       "data": [
        [
         "Mohak",
         "Rajesh",
         "Freya",
         "Aditya",
         "Anika"
        ],
        [
         "2012",
         "2012",
         "2013",
         "2014",
         "2014"
        ],
        [
         "10",
         "22",
         "11",
         "32",
         "23"
        ],
        [
         "2",
         "2",
         "3",
         "3",
         "3"
        ]
       ],
       "datasetInfos": [],
       "dbfsResultPath": null,
       "isJsonSchema": true,
       "metadata": {},
       "overflow": false,
       "plotOptions": {
        "customPlotOptions": {},
        "displayType": "table",
        "pivotAggregation": null,
        "pivotColumns": null,
        "xColumns": null,
        "yColumns": null
       },
       "removedWidgets": [],
       "schema": [
        {
         "metadata": "{}",
         "name": "name",
         "type": "\"string\""
        },
        {
         "metadata": "{}",
         "name": "year",
         "type": "\"string\""
        },
        {
         "metadata": "{}",
         "name": "score",
         "type": "\"string\""
        },
        {
         "metadata": "{}",
         "name": "catches",
         "type": "\"string\""
        },
        {
         "metadata": "{}",
         "name": "_5",
         "type": "\"string\""
        }
       ],
       "type": "table"
      }
     },
     "output_type": "display_data"
    }
   ],
   "source": [
    "data = (['Mohak', 'Rajesh', 'Freya', 'Aditya', 'Anika'], [2012, 2012, 2013, 2014, 2014],\n",
    "[10, 22, 11, 32, 23],\n",
    "[2, 2, 3, 3, 3])\n",
    "df7=spark.createDataFrame(data, [\"name\",\"year\",\"score\",\"catches\"])\n",
    "df7.display()"
   ]
  },
  {
   "cell_type": "markdown",
   "metadata": {
    "application/vnd.databricks.v1+cell": {
     "cellMetadata": {},
     "inputWidgets": {},
     "nuid": "51d330df-edd2-4843-9f84-83e19834a6d7",
     "showTitle": false,
     "title": ""
    }
   },
   "source": [
    "#Pivot the table and Sort the DataFrames rows by score, in descending order"
   ]
  },
  {
   "cell_type": "code",
   "execution_count": 0,
   "metadata": {
    "application/vnd.databricks.v1+cell": {
     "cellMetadata": {
      "byteLimit": 2048000,
      "rowLimit": 10000
     },
     "inputWidgets": {},
     "nuid": "a745c163-0d19-4305-83ba-6119edbde0fe",
     "showTitle": false,
     "title": ""
    }
   },
   "outputs": [
    {
     "output_type": "stream",
     "name": "stdout",
     "output_type": "stream",
     "text": [
      "+------+----+-----+-------+\n|  name|year|score|catches|\n+------+----+-----+-------+\n|Aditya|2014|   32|      3|\n| Anika|2014|   23|      3|\n| Freya|2013|   11|      3|\n| Mohak|2012|   10|      2|\n|Rajesh|2012|   22|      2|\n+------+----+-----+-------+\n\n"
     ]
    }
   ],
   "source": [
    "from pyspark.sql import Row\n",
    "rows = [Row(name=name, year=year, score=score, catches=catches) for name, year, score, catches in zip(*data)]\n",
    "df8 = spark.createDataFrame(rows)\n",
    "df8.sort(\"name\").show()"
   ]
  },
  {
   "cell_type": "markdown",
   "metadata": {
    "application/vnd.databricks.v1+cell": {
     "cellMetadata": {},
     "inputWidgets": {},
     "nuid": "69fec976-5bae-433d-98ec-9a20ad3d06c7",
     "showTitle": false,
     "title": ""
    }
   },
   "source": [
    "#Sort the DataFrames rows by catches and then by score, in ascending order/sort by multiple columns"
   ]
  },
  {
   "cell_type": "code",
   "execution_count": 0,
   "metadata": {
    "application/vnd.databricks.v1+cell": {
     "cellMetadata": {
      "byteLimit": 2048000,
      "rowLimit": 10000
     },
     "inputWidgets": {},
     "nuid": "4388a694-5b8e-4902-94cb-97c14bb3be5a",
     "showTitle": false,
     "title": ""
    }
   },
   "outputs": [
    {
     "output_type": "stream",
     "name": "stdout",
     "output_type": "stream",
     "text": [
      "+------+----+-----+-------+\n|  name|year|score|catches|\n+------+----+-----+-------+\n| Mohak|2012|   10|      2|\n|Rajesh|2012|   22|      2|\n| Freya|2013|   11|      3|\n| Anika|2014|   23|      3|\n|Aditya|2014|   32|      3|\n+------+----+-----+-------+\n\n"
     ]
    }
   ],
   "source": [
    "df9=df8.sort('catches', 'score').show()"
   ]
  }
 ],
 "metadata": {
  "application/vnd.databricks.v1+notebook": {
   "dashboards": [],
   "language": "python",
   "notebookMetadata": {
    "pythonIndentUnit": 4
   },
   "notebookName": "Pandas Vs Pyspark",
   "widgets": {}
  }
 },
 "nbformat": 4,
 "nbformat_minor": 0
}
