{
 "cells": [
  {
   "cell_type": "code",
   "execution_count": 0,
   "metadata": {
    "application/vnd.databricks.v1+cell": {
     "cellMetadata": {
      "byteLimit": 2048000,
      "rowLimit": 10000
     },
     "inputWidgets": {},
     "nuid": "291df47d-76a5-4b2f-bfa9-2da120b4f247",
     "showTitle": false,
     "title": ""
    }
   },
   "outputs": [
    {
     "output_type": "stream",
     "name": "stdout",
     "output_type": "stream",
     "text": [
      "+--------------+--------+\n|            id|  salary|\n+--------------+--------+\n|Shubham Thakur| 50000.0|\n|   Aman Chopra| 60000.5|\n| Naveen Tulasi|75000.75|\n|Bhavika uppala|45000.25|\n|  Nishant jain| 80000.0|\n+--------------+--------+\n\n"
     ]
    }
   ],
   "source": [
    "schema=[\"id\",\"salary\"]\n",
    "data= [('Shubham Thakur', 50000.00),\n",
    "('Aman Chopra', 60000.50),\n",
    "('Naveen Tulasi', 75000.75),\n",
    "('Bhavika uppala', 45000.25),\n",
    "('Nishant jain', 80000.00)]\n",
    "df=spark.createDataFrame(data,schema)\n",
    "df.show()"
   ]
  },
  {
   "cell_type": "code",
   "execution_count": 0,
   "metadata": {
    "application/vnd.databricks.v1+cell": {
     "cellMetadata": {
      "byteLimit": 2048000,
      "rowLimit": 10000
     },
     "inputWidgets": {},
     "nuid": "33054da2-168a-439f-a8c7-3cfe42bf6740",
     "showTitle": false,
     "title": ""
    }
   },
   "outputs": [
    {
     "output_type": "stream",
     "name": "stdout",
     "output_type": "stream",
     "text": [
      "+--------------+--------+-----------+\n|            id|  salary|salary_rank|\n+--------------+--------+-----------+\n|  Nishant jain| 80000.0|          1|\n| Naveen Tulasi|75000.75|          2|\n|   Aman Chopra| 60000.5|          3|\n|Shubham Thakur| 50000.0|          4|\n|Bhavika uppala|45000.25|          5|\n+--------------+--------+-----------+\n\n"
     ]
    }
   ],
   "source": [
    "from pyspark.sql import Window\n",
    "from pyspark.sql.functions import col,dense_rank,desc\n",
    "df1=Window.partitionBy().orderBy(df.salary.desc())\n",
    "df_salary_rank=df.withColumn(\"salary_rank\", dense_rank().over(df1))\n",
    "df_salary_rank.show()"
   ]
  },
  {
   "cell_type": "code",
   "execution_count": 0,
   "metadata": {
    "application/vnd.databricks.v1+cell": {
     "cellMetadata": {
      "byteLimit": 2048000,
      "rowLimit": 10000
     },
     "inputWidgets": {},
     "nuid": "6b203cff-3017-4a17-9528-644ca9fd7f0c",
     "showTitle": false,
     "title": ""
    }
   },
   "outputs": [
    {
     "output_type": "display_data",
     "data": {
      "text/plain": [
       "Enter the value of n:  2"
      ]
     },
     "metadata": {},
     "output_type": "display_data"
    },
    {
     "output_type": "stream",
     "name": "stdout",
     "output_type": "stream",
     "text": [
      "n is:  2\n+-------------+--------+-----------+\n|           id|  salary|salary_rank|\n+-------------+--------+-----------+\n|Naveen Tulasi|75000.75|          2|\n+-------------+--------+-----------+\n\n"
     ]
    }
   ],
   "source": [
    "n = int(input(\"Enter the value of n: \"))\n",
    "print(\"n is: \", n)\n",
    "\n",
    "df_salary_rank.filter(f\"salary_rank == {n}\").show()"
   ]
  }
 ],
 "metadata": {
  "application/vnd.databricks.v1+notebook": {
   "dashboards": [],
   "language": "python",
   "notebookMetadata": {
    "pythonIndentUnit": 4
   },
   "notebookName": "Find the nth highest salary",
   "widgets": {}
  }
 },
 "nbformat": 4,
 "nbformat_minor": 0
}
