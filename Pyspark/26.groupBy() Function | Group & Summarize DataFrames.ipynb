{
 "cells": [
  {
   "cell_type": "code",
   "execution_count": 0,
   "metadata": {
    "application/vnd.databricks.v1+cell": {
     "cellMetadata": {
      "byteLimit": 2048000,
      "rowLimit": 10000
     },
     "inputWidgets": {},
     "nuid": "87886b91-ec3e-4e42-9e49-d8355741a7fa",
     "showTitle": true,
     "tableResultSettingsMap": {},
     "title": "Sample Data"
    }
   },
   "outputs": [],
   "source": [
    "from pyspark.sql.functions import col, sum\n",
    "\n",
    "data = [\n",
    "    (1, \"Electronics\", 1000),\n",
    "    (2, \"Clothing\", 1500),\n",
    "    (3, \"Electronics\", 2000),\n",
    "    (4, \"Clothing\", 700),\n",
    "    (5, \"Grocery\", 400)\n",
    "]\n",
    "\n",
    "columns = [\"OrderID\", \"Category\", \"Amount\"]\n",
    "df = spark.createDataFrame(data, columns)\n",
    "df.display()"
   ]
  },
  {
   "cell_type": "code",
   "execution_count": 0,
   "metadata": {
    "application/vnd.databricks.v1+cell": {
     "cellMetadata": {
      "byteLimit": 2048000,
      "rowLimit": 10000
     },
     "inputWidgets": {},
     "nuid": "39e256ab-c07b-4038-8684-6b457f9f84a8",
     "showTitle": true,
     "tableResultSettingsMap": {},
     "title": "Group and Aggregate"
    }
   },
   "outputs": [],
   "source": [
    "# Group by 'Category' and compute the total sum of 'Amount'\n",
    "df_grouped = df.groupBy(\"Category\").agg(sum(\"Amount\").alias(\"TotalAmount\"))\n",
    "\n",
    "# Show the results\n",
    "df_grouped.display()"
   ]
  },
  {
   "cell_type": "code",
   "execution_count": 0,
   "metadata": {
    "application/vnd.databricks.v1+cell": {
     "cellMetadata": {
      "byteLimit": 2048000,
      "rowLimit": 10000
     },
     "inputWidgets": {},
     "nuid": "6b2415f9-740e-4e7e-b9c8-5a0dbf3b2b17",
     "showTitle": true,
     "tableResultSettingsMap": {},
     "title": "Multiple Aggregations"
    }
   },
   "outputs": [],
   "source": [
    "from pyspark.sql.functions import avg, count\n",
    "\n",
    "df.groupBy(\"Category\").agg(\n",
    "    sum(\"Amount\").alias(\"Total_Sales\"),\n",
    "    avg(\"Amount\").alias(\"Avg_Sales\"),\n",
    "    count(\"OrderID\").alias(\"Num_Orders\")\n",
    ").display()\n"
   ]
  }
 ],
 "metadata": {
  "application/vnd.databricks.v1+notebook": {
   "computePreferences": null,
   "dashboards": [],
   "environmentMetadata": {
    "base_environment": "",
    "environment_version": "2"
   },
   "inputWidgetPreferences": null,
   "language": "python",
   "notebookMetadata": {
    "pythonIndentUnit": 4
   },
   "notebookName": "26.groupBy() Function | Group & Summarize DataFrames",
   "widgets": {}
  },
  "language_info": {
   "name": "python"
  }
 },
 "nbformat": 4,
 "nbformat_minor": 0
}
