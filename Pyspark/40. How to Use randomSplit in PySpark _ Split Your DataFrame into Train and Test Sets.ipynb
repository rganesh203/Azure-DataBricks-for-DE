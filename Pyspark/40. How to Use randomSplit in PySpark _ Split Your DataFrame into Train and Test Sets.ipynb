{
 "cells": [
  {
   "cell_type": "markdown",
   "metadata": {
    "application/vnd.databricks.v1+cell": {
     "cellMetadata": {},
     "inputWidgets": {},
     "nuid": "b604a8a6-93ac-473b-8dcc-e8d2695b3037",
     "showTitle": false,
     "tableResultSettingsMap": {},
     "title": ""
    }
   },
   "source": [
    "In PySpark, the method randomSplit() is used to split a DataFrame (or RDD) into multiple random parts, which is super handy for train/test dataset creation in ML workflows."
   ]
  },
  {
   "cell_type": "code",
   "execution_count": 0,
   "metadata": {
    "application/vnd.databricks.v1+cell": {
     "cellMetadata": {
      "byteLimit": 2048000,
      "rowLimit": 10000
     },
     "inputWidgets": {},
     "nuid": "73bbcf73-b805-49bd-b7f9-72ab5e57165c",
     "showTitle": true,
     "tableResultSettingsMap": {},
     "title": "Create a Sample DataFrame"
    }
   },
   "outputs": [
    {
     "output_type": "display_data",
     "data": {
      "text/html": [
       "<style scoped>\n",
       "  .table-result-container {\n",
       "    max-height: 300px;\n",
       "    overflow: auto;\n",
       "  }\n",
       "  table, th, td {\n",
       "    border: 1px solid black;\n",
       "    border-collapse: collapse;\n",
       "  }\n",
       "  th, td {\n",
       "    padding: 5px;\n",
       "  }\n",
       "  th {\n",
       "    text-align: left;\n",
       "  }\n",
       "</style><div class='table-result-container'><table class='table-result'><thead style='background-color: white'><tr><th>id</th><th>name</th><th>age</th><th>department</th></tr></thead><tbody><tr><td>1</td><td>Alice</td><td>25</td><td>HR</td></tr><tr><td>2</td><td>Bob</td><td>30</td><td>IT</td></tr><tr><td>3</td><td>Cathy</td><td>28</td><td>Finance</td></tr><tr><td>4</td><td>David</td><td>35</td><td>IT</td></tr><tr><td>5</td><td>Eva</td><td>40</td><td>HR</td></tr><tr><td>6</td><td>Frank</td><td>29</td><td>Finance</td></tr><tr><td>7</td><td>Grace</td><td>31</td><td>IT</td></tr><tr><td>8</td><td>Helen</td><td>27</td><td>Finance</td></tr><tr><td>9</td><td>Ian</td><td>26</td><td>HR</td></tr><tr><td>10</td><td>Jack</td><td>33</td><td>IT</td></tr><tr><td>11</td><td>Kelly</td><td>34</td><td>Finance</td></tr><tr><td>12</td><td>Leo</td><td>32</td><td>IT</td></tr><tr><td>13</td><td>Mona</td><td>29</td><td>HR</td></tr><tr><td>14</td><td>Nina</td><td>36</td><td>Finance</td></tr><tr><td>15</td><td>Oscar</td><td>38</td><td>IT</td></tr></tbody></table></div>"
      ]
     },
     "metadata": {
      "application/vnd.databricks.v1+output": {
       "addedWidgets": {},
       "aggData": [],
       "aggError": "",
       "aggOverflow": false,
       "aggSchema": [],
       "aggSeriesLimitReached": false,
       "aggType": "",
       "arguments": {},
       "columnCustomDisplayInfos": {},
       "data": [
        [
         1,
         "Alice",
         25,
         "HR"
        ],
        [
         2,
         "Bob",
         30,
         "IT"
        ],
        [
         3,
         "Cathy",
         28,
         "Finance"
        ],
        [
         4,
         "David",
         35,
         "IT"
        ],
        [
         5,
         "Eva",
         40,
         "HR"
        ],
        [
         6,
         "Frank",
         29,
         "Finance"
        ],
        [
         7,
         "Grace",
         31,
         "IT"
        ],
        [
         8,
         "Helen",
         27,
         "Finance"
        ],
        [
         9,
         "Ian",
         26,
         "HR"
        ],
        [
         10,
         "Jack",
         33,
         "IT"
        ],
        [
         11,
         "Kelly",
         34,
         "Finance"
        ],
        [
         12,
         "Leo",
         32,
         "IT"
        ],
        [
         13,
         "Mona",
         29,
         "HR"
        ],
        [
         14,
         "Nina",
         36,
         "Finance"
        ],
        [
         15,
         "Oscar",
         38,
         "IT"
        ]
       ],
       "datasetInfos": [],
       "dbfsResultPath": null,
       "isJsonSchema": true,
       "metadata": {},
       "overflow": false,
       "plotOptions": {
        "customPlotOptions": {},
        "displayType": "table",
        "pivotAggregation": null,
        "pivotColumns": null,
        "xColumns": null,
        "yColumns": null
       },
       "removedWidgets": [],
       "schema": [
        {
         "metadata": "{}",
         "name": "id",
         "type": "\"long\""
        },
        {
         "metadata": "{}",
         "name": "name",
         "type": "\"string\""
        },
        {
         "metadata": "{}",
         "name": "age",
         "type": "\"long\""
        },
        {
         "metadata": "{}",
         "name": "department",
         "type": "\"string\""
        }
       ],
       "type": "table"
      }
     },
     "output_type": "display_data"
    }
   ],
   "source": [
    "# Sample dataset: 15 rows\n",
    "data = [\n",
    "    (1, \"Alice\", 25, \"HR\"),\n",
    "    (2, \"Bob\", 30, \"IT\"),\n",
    "    (3, \"Cathy\", 28, \"Finance\"),\n",
    "    (4, \"David\", 35, \"IT\"),\n",
    "    (5, \"Eva\", 40, \"HR\"),\n",
    "    (6, \"Frank\", 29, \"Finance\"),\n",
    "    (7, \"Grace\", 31, \"IT\"),\n",
    "    (8, \"Helen\", 27, \"Finance\"),\n",
    "    (9, \"Ian\", 26, \"HR\"),\n",
    "    (10, \"Jack\", 33, \"IT\"),\n",
    "    (11, \"Kelly\", 34, \"Finance\"),\n",
    "    (12, \"Leo\", 32, \"IT\"),\n",
    "    (13, \"Mona\", 29, \"HR\"),\n",
    "    (14, \"Nina\", 36, \"Finance\"),\n",
    "    (15, \"Oscar\", 38, \"IT\")\n",
    "]\n",
    "\n",
    "columns = [\"id\", \"name\", \"age\", \"department\"]\n",
    "\n",
    "df = spark.createDataFrame(data, columns)\n",
    "\n",
    "df.display()"
   ]
  },
  {
   "cell_type": "code",
   "execution_count": 0,
   "metadata": {
    "application/vnd.databricks.v1+cell": {
     "cellMetadata": {
      "byteLimit": 2048000,
      "rowLimit": 10000
     },
     "inputWidgets": {},
     "nuid": "2d7efbef-5abd-4d0e-a1c1-506ebb9d4b34",
     "showTitle": true,
     "tableResultSettingsMap": {},
     "title": "Step 2: Split into Train and Test"
    }
   },
   "outputs": [
    {
     "output_type": "stream",
     "name": "stdout",
     "output_type": "stream",
     "text": [
      "Training set count: 13\nTest set count: 2\n"
     ]
    }
   ],
   "source": [
    "trainDF, testDF = df.randomSplit([0.8, 0.2], seed=42)\n",
    "\n",
    "print(\"Training set count:\", trainDF.count())\n",
    "print(\"Test set count:\", testDF.count())\n"
   ]
  },
  {
   "cell_type": "code",
   "execution_count": 0,
   "metadata": {
    "application/vnd.databricks.v1+cell": {
     "cellMetadata": {
      "byteLimit": 2048000,
      "rowLimit": 10000
     },
     "inputWidgets": {},
     "nuid": "7a972ee9-2f49-414f-a615-6f1b61285942",
     "showTitle": true,
     "tableResultSettingsMap": {},
     "title": "Step 3: Inspect the Splits"
    }
   },
   "outputs": [
    {
     "output_type": "stream",
     "name": "stdout",
     "output_type": "stream",
     "text": [
      "Training Data:\n"
     ]
    },
    {
     "output_type": "display_data",
     "data": {
      "text/html": [
       "<style scoped>\n",
       "  .table-result-container {\n",
       "    max-height: 300px;\n",
       "    overflow: auto;\n",
       "  }\n",
       "  table, th, td {\n",
       "    border: 1px solid black;\n",
       "    border-collapse: collapse;\n",
       "  }\n",
       "  th, td {\n",
       "    padding: 5px;\n",
       "  }\n",
       "  th {\n",
       "    text-align: left;\n",
       "  }\n",
       "</style><div class='table-result-container'><table class='table-result'><thead style='background-color: white'><tr><th>id</th><th>name</th><th>age</th><th>department</th></tr></thead><tbody><tr><td>1</td><td>Alice</td><td>25</td><td>HR</td></tr><tr><td>3</td><td>Cathy</td><td>28</td><td>Finance</td></tr><tr><td>4</td><td>David</td><td>35</td><td>IT</td></tr><tr><td>6</td><td>Frank</td><td>29</td><td>Finance</td></tr><tr><td>7</td><td>Grace</td><td>31</td><td>IT</td></tr><tr><td>8</td><td>Helen</td><td>27</td><td>Finance</td></tr><tr><td>9</td><td>Ian</td><td>26</td><td>HR</td></tr><tr><td>10</td><td>Jack</td><td>33</td><td>IT</td></tr><tr><td>11</td><td>Kelly</td><td>34</td><td>Finance</td></tr><tr><td>12</td><td>Leo</td><td>32</td><td>IT</td></tr><tr><td>13</td><td>Mona</td><td>29</td><td>HR</td></tr><tr><td>14</td><td>Nina</td><td>36</td><td>Finance</td></tr><tr><td>15</td><td>Oscar</td><td>38</td><td>IT</td></tr></tbody></table></div>"
      ]
     },
     "metadata": {
      "application/vnd.databricks.v1+output": {
       "addedWidgets": {},
       "aggData": [],
       "aggError": "",
       "aggOverflow": false,
       "aggSchema": [],
       "aggSeriesLimitReached": false,
       "aggType": "",
       "arguments": {},
       "columnCustomDisplayInfos": {},
       "data": [
        [
         1,
         "Alice",
         25,
         "HR"
        ],
        [
         3,
         "Cathy",
         28,
         "Finance"
        ],
        [
         4,
         "David",
         35,
         "IT"
        ],
        [
         6,
         "Frank",
         29,
         "Finance"
        ],
        [
         7,
         "Grace",
         31,
         "IT"
        ],
        [
         8,
         "Helen",
         27,
         "Finance"
        ],
        [
         9,
         "Ian",
         26,
         "HR"
        ],
        [
         10,
         "Jack",
         33,
         "IT"
        ],
        [
         11,
         "Kelly",
         34,
         "Finance"
        ],
        [
         12,
         "Leo",
         32,
         "IT"
        ],
        [
         13,
         "Mona",
         29,
         "HR"
        ],
        [
         14,
         "Nina",
         36,
         "Finance"
        ],
        [
         15,
         "Oscar",
         38,
         "IT"
        ]
       ],
       "datasetInfos": [],
       "dbfsResultPath": null,
       "isJsonSchema": true,
       "metadata": {},
       "overflow": false,
       "plotOptions": {
        "customPlotOptions": {},
        "displayType": "table",
        "pivotAggregation": null,
        "pivotColumns": null,
        "xColumns": null,
        "yColumns": null
       },
       "removedWidgets": [],
       "schema": [
        {
         "metadata": "{}",
         "name": "id",
         "type": "\"long\""
        },
        {
         "metadata": "{}",
         "name": "name",
         "type": "\"string\""
        },
        {
         "metadata": "{}",
         "name": "age",
         "type": "\"long\""
        },
        {
         "metadata": "{}",
         "name": "department",
         "type": "\"string\""
        }
       ],
       "type": "table"
      }
     },
     "output_type": "display_data"
    },
    {
     "output_type": "stream",
     "name": "stdout",
     "output_type": "stream",
     "text": [
      "Test Data:\n"
     ]
    },
    {
     "output_type": "display_data",
     "data": {
      "text/html": [
       "<style scoped>\n",
       "  .table-result-container {\n",
       "    max-height: 300px;\n",
       "    overflow: auto;\n",
       "  }\n",
       "  table, th, td {\n",
       "    border: 1px solid black;\n",
       "    border-collapse: collapse;\n",
       "  }\n",
       "  th, td {\n",
       "    padding: 5px;\n",
       "  }\n",
       "  th {\n",
       "    text-align: left;\n",
       "  }\n",
       "</style><div class='table-result-container'><table class='table-result'><thead style='background-color: white'><tr><th>id</th><th>name</th><th>age</th><th>department</th></tr></thead><tbody><tr><td>2</td><td>Bob</td><td>30</td><td>IT</td></tr><tr><td>5</td><td>Eva</td><td>40</td><td>HR</td></tr></tbody></table></div>"
      ]
     },
     "metadata": {
      "application/vnd.databricks.v1+output": {
       "addedWidgets": {},
       "aggData": [],
       "aggError": "",
       "aggOverflow": false,
       "aggSchema": [],
       "aggSeriesLimitReached": false,
       "aggType": "",
       "arguments": {},
       "columnCustomDisplayInfos": {},
       "data": [
        [
         2,
         "Bob",
         30,
         "IT"
        ],
        [
         5,
         "Eva",
         40,
         "HR"
        ]
       ],
       "datasetInfos": [],
       "dbfsResultPath": null,
       "isJsonSchema": true,
       "metadata": {},
       "overflow": false,
       "plotOptions": {
        "customPlotOptions": {},
        "displayType": "table",
        "pivotAggregation": null,
        "pivotColumns": null,
        "xColumns": null,
        "yColumns": null
       },
       "removedWidgets": [],
       "schema": [
        {
         "metadata": "{}",
         "name": "id",
         "type": "\"long\""
        },
        {
         "metadata": "{}",
         "name": "name",
         "type": "\"string\""
        },
        {
         "metadata": "{}",
         "name": "age",
         "type": "\"long\""
        },
        {
         "metadata": "{}",
         "name": "department",
         "type": "\"string\""
        }
       ],
       "type": "table"
      }
     },
     "output_type": "display_data"
    }
   ],
   "source": [
    "print(\"Training Data:\")\n",
    "trainDF.display()\n",
    "\n",
    "print(\"Test Data:\")\n",
    "testDF.display()"
   ]
  },
  {
   "cell_type": "code",
   "execution_count": 0,
   "metadata": {
    "application/vnd.databricks.v1+cell": {
     "cellMetadata": {
      "byteLimit": 2048000,
      "rowLimit": 10000
     },
     "inputWidgets": {},
     "nuid": "fbfe4c37-8ae0-4d19-8b41-c0e1d6d045d7",
     "showTitle": true,
     "tableResultSettingsMap": {},
     "title": "Step 4: Split into More Parts"
    }
   },
   "outputs": [
    {
     "output_type": "stream",
     "name": "stdout",
     "output_type": "stream",
     "text": [
      "Train: 14\nValidation: 0\nTest: 1\n"
     ]
    }
   ],
   "source": [
    "trainDF, valDF, testDF = df.randomSplit([0.7, 0.2, 0.1], seed=123)\n",
    "\n",
    "print(\"Train:\", trainDF.count())\n",
    "print(\"Validation:\", valDF.count())\n",
    "print(\"Test:\", testDF.count())\n"
   ]
  },
  {
   "cell_type": "markdown",
   "metadata": {
    "application/vnd.databricks.v1+cell": {
     "cellMetadata": {},
     "inputWidgets": {},
     "nuid": "2db34001-9f74-40ba-9682-4867f0ed38a7",
     "showTitle": false,
     "tableResultSettingsMap": {},
     "title": ""
    }
   },
   "source": [
    "### ✅ Key Notes\n",
    "\n",
    "Proportions in weights don’t need to sum to 1; PySpark normalizes them internally.\n",
    "\n",
    "Always set a seed for reproducible splits.\n",
    "\n",
    "randomSplit() returns DataFrames in a list, so unpack accordingly."
   ]
  }
 ],
 "metadata": {
  "application/vnd.databricks.v1+notebook": {
   "computePreferences": null,
   "dashboards": [],
   "environmentMetadata": {
    "base_environment": "",
    "environment_version": "1"
   },
   "inputWidgetPreferences": null,
   "language": "python",
   "notebookMetadata": {
    "pythonIndentUnit": 4
   },
   "notebookName": "40. How to Use randomSplit in PySpark | Split Your DataFrame into Train and Test Sets",
   "widgets": {}
  }
 },
 "nbformat": 4,
 "nbformat_minor": 0
}