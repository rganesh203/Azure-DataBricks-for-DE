{
 "cells": [
  {
   "cell_type": "code",
   "execution_count": 0,
   "metadata": {
    "application/vnd.databricks.v1+cell": {
     "cellMetadata": {},
     "inputWidgets": {},
     "nuid": "907a501d-0aec-4927-8250-27ed9118f96b",
     "showTitle": false,
     "tableResultSettingsMap": {},
     "title": ""
    }
   },
   "outputs": [],
   "source": [
    "%mdIn PySpark, createGlobalTempView() lets you register a DataFrame as a global temporary view that can be accessed across multiple SparkSessions within the same Spark application.\n",
    "\n",
    "By default, these views are stored in the global_temp database."
   ]
  },
  {
   "cell_type": "code",
   "execution_count": 0,
   "metadata": {
    "application/vnd.databricks.v1+cell": {
     "cellMetadata": {
      "byteLimit": 2048000,
      "rowLimit": 10000
     },
     "inputWidgets": {},
     "nuid": "de1cd204-7592-4845-b206-5a74659bde47",
     "showTitle": true,
     "tableResultSettingsMap": {},
     "title": "Step 1: Create a Sample DataFrame"
    }
   },
   "outputs": [
    {
     "output_type": "display_data",
     "data": {
      "text/html": [
       "<style scoped>\n",
       "  .table-result-container {\n",
       "    max-height: 300px;\n",
       "    overflow: auto;\n",
       "  }\n",
       "  table, th, td {\n",
       "    border: 1px solid black;\n",
       "    border-collapse: collapse;\n",
       "  }\n",
       "  th, td {\n",
       "    padding: 5px;\n",
       "  }\n",
       "  th {\n",
       "    text-align: left;\n",
       "  }\n",
       "</style><div class='table-result-container'><table class='table-result'><thead style='background-color: white'><tr><th>id</th><th>name</th><th>age</th><th>department</th></tr></thead><tbody><tr><td>1</td><td>Alice</td><td>25</td><td>HR</td></tr><tr><td>2</td><td>Bob</td><td>30</td><td>IT</td></tr><tr><td>3</td><td>Cathy</td><td>28</td><td>Finance</td></tr><tr><td>4</td><td>David</td><td>35</td><td>IT</td></tr><tr><td>5</td><td>Eva</td><td>40</td><td>HR</td></tr></tbody></table></div>"
      ]
     },
     "metadata": {
      "application/vnd.databricks.v1+output": {
       "addedWidgets": {},
       "aggData": [],
       "aggError": "",
       "aggOverflow": false,
       "aggSchema": [],
       "aggSeriesLimitReached": false,
       "aggType": "",
       "arguments": {},
       "columnCustomDisplayInfos": {},
       "data": [
        [
         1,
         "Alice",
         25,
         "HR"
        ],
        [
         2,
         "Bob",
         30,
         "IT"
        ],
        [
         3,
         "Cathy",
         28,
         "Finance"
        ],
        [
         4,
         "David",
         35,
         "IT"
        ],
        [
         5,
         "Eva",
         40,
         "HR"
        ]
       ],
       "datasetInfos": [],
       "dbfsResultPath": null,
       "isJsonSchema": true,
       "metadata": {},
       "overflow": false,
       "plotOptions": {
        "customPlotOptions": {},
        "displayType": "table",
        "pivotAggregation": null,
        "pivotColumns": null,
        "xColumns": null,
        "yColumns": null
       },
       "removedWidgets": [],
       "schema": [
        {
         "metadata": "{}",
         "name": "id",
         "type": "\"long\""
        },
        {
         "metadata": "{}",
         "name": "name",
         "type": "\"string\""
        },
        {
         "metadata": "{}",
         "name": "age",
         "type": "\"long\""
        },
        {
         "metadata": "{}",
         "name": "department",
         "type": "\"string\""
        }
       ],
       "type": "table"
      }
     },
     "output_type": "display_data"
    }
   ],
   "source": [
    "data = [\n",
    "    (1, \"Alice\", 25, \"HR\"),\n",
    "    (2, \"Bob\", 30, \"IT\"),\n",
    "    (3, \"Cathy\", 28, \"Finance\"),\n",
    "    (4, \"David\", 35, \"IT\"),\n",
    "    (5, \"Eva\", 40, \"HR\")\n",
    "]\n",
    "\n",
    "columns = [\"id\", \"name\", \"age\", \"department\"]\n",
    "\n",
    "df = spark.createDataFrame(data, columns)\n",
    "\n",
    "df.display()"
   ]
  },
  {
   "cell_type": "code",
   "execution_count": 0,
   "metadata": {
    "application/vnd.databricks.v1+cell": {
     "cellMetadata": {
      "byteLimit": 2048000,
      "rowLimit": 10000
     },
     "inputWidgets": {},
     "nuid": "42ebd56e-702a-4179-b2be-269736f3d0c9",
     "showTitle": true,
     "tableResultSettingsMap": {},
     "title": "Step 2: Register as Global Temp View"
    }
   },
   "outputs": [],
   "source": [
    "# Create a global temporary view\n",
    "df.createGlobalTempView(\"employees_global\")\n",
    "#⚡ Note: Global views are always created inside the global_temp database.\n"
   ]
  },
  {
   "cell_type": "code",
   "execution_count": 0,
   "metadata": {
    "application/vnd.databricks.v1+cell": {
     "cellMetadata": {
      "byteLimit": 2048000,
      "rowLimit": 10000
     },
     "inputWidgets": {},
     "nuid": "54b11abf-0ca7-489c-8d01-3034d528a065",
     "showTitle": true,
     "tableResultSettingsMap": {},
     "title": "Step 3: Query the Global Temp View"
    }
   },
   "outputs": [
    {
     "output_type": "display_data",
     "data": {
      "text/html": [
       "<style scoped>\n",
       "  .table-result-container {\n",
       "    max-height: 300px;\n",
       "    overflow: auto;\n",
       "  }\n",
       "  table, th, td {\n",
       "    border: 1px solid black;\n",
       "    border-collapse: collapse;\n",
       "  }\n",
       "  th, td {\n",
       "    padding: 5px;\n",
       "  }\n",
       "  th {\n",
       "    text-align: left;\n",
       "  }\n",
       "</style><div class='table-result-container'><table class='table-result'><thead style='background-color: white'><tr><th>name</th><th>department</th></tr></thead><tbody><tr><td>Alice</td><td>HR</td></tr><tr><td>Bob</td><td>IT</td></tr><tr><td>Cathy</td><td>Finance</td></tr><tr><td>David</td><td>IT</td></tr><tr><td>Eva</td><td>HR</td></tr></tbody></table></div>"
      ]
     },
     "metadata": {
      "application/vnd.databricks.v1+output": {
       "addedWidgets": {},
       "aggData": [],
       "aggError": "",
       "aggOverflow": false,
       "aggSchema": [],
       "aggSeriesLimitReached": false,
       "aggType": "",
       "arguments": {},
       "columnCustomDisplayInfos": {},
       "data": [
        [
         "Alice",
         "HR"
        ],
        [
         "Bob",
         "IT"
        ],
        [
         "Cathy",
         "Finance"
        ],
        [
         "David",
         "IT"
        ],
        [
         "Eva",
         "HR"
        ]
       ],
       "datasetInfos": [],
       "dbfsResultPath": null,
       "isJsonSchema": true,
       "metadata": {},
       "overflow": false,
       "plotOptions": {
        "customPlotOptions": {},
        "displayType": "table",
        "pivotAggregation": null,
        "pivotColumns": null,
        "xColumns": null,
        "yColumns": null
       },
       "removedWidgets": [],
       "schema": [
        {
         "metadata": "{}",
         "name": "name",
         "type": "\"string\""
        },
        {
         "metadata": "{}",
         "name": "department",
         "type": "\"string\""
        }
       ],
       "type": "table"
      }
     },
     "output_type": "display_data"
    }
   ],
   "source": [
    "# Must prefix with global_temp\n",
    "result = spark.sql(\"SELECT name, department FROM global_temp.employees_global\")\n",
    "result.display()\n"
   ]
  },
  {
   "cell_type": "code",
   "execution_count": 0,
   "metadata": {
    "application/vnd.databricks.v1+cell": {
     "cellMetadata": {
      "byteLimit": 2048000,
      "rowLimit": 10000
     },
     "inputWidgets": {},
     "nuid": "e5b90340-a930-4ed2-bed4-e62960e6f961",
     "showTitle": true,
     "tableResultSettingsMap": {},
     "title": "Step 4: Access from Another Session"
    }
   },
   "outputs": [
    {
     "output_type": "display_data",
     "data": {
      "text/html": [
       "<style scoped>\n",
       "  .table-result-container {\n",
       "    max-height: 300px;\n",
       "    overflow: auto;\n",
       "  }\n",
       "  table, th, td {\n",
       "    border: 1px solid black;\n",
       "    border-collapse: collapse;\n",
       "  }\n",
       "  th, td {\n",
       "    padding: 5px;\n",
       "  }\n",
       "  th {\n",
       "    text-align: left;\n",
       "  }\n",
       "</style><div class='table-result-container'><table class='table-result'><thead style='background-color: white'><tr><th>department</th><th>emp_count</th></tr></thead><tbody><tr><td>HR</td><td>2</td></tr><tr><td>IT</td><td>2</td></tr><tr><td>Finance</td><td>1</td></tr></tbody></table></div>"
      ]
     },
     "metadata": {
      "application/vnd.databricks.v1+output": {
       "addedWidgets": {},
       "aggData": [],
       "aggError": "",
       "aggOverflow": false,
       "aggSchema": [],
       "aggSeriesLimitReached": false,
       "aggType": "",
       "arguments": {},
       "columnCustomDisplayInfos": {},
       "data": [
        [
         "HR",
         2
        ],
        [
         "IT",
         2
        ],
        [
         "Finance",
         1
        ]
       ],
       "datasetInfos": [],
       "dbfsResultPath": null,
       "isJsonSchema": true,
       "metadata": {},
       "overflow": false,
       "plotOptions": {
        "customPlotOptions": {},
        "displayType": "table",
        "pivotAggregation": null,
        "pivotColumns": null,
        "xColumns": null,
        "yColumns": null
       },
       "removedWidgets": [],
       "schema": [
        {
         "metadata": "{}",
         "name": "department",
         "type": "\"string\""
        },
        {
         "metadata": "{}",
         "name": "emp_count",
         "type": "\"long\""
        }
       ],
       "type": "table"
      }
     },
     "output_type": "display_data"
    }
   ],
   "source": [
    "# Create a new Spark session\n",
    "new_spark = spark.newSession()\n",
    "\n",
    "# Query using the new session\n",
    "result2 = new_spark.sql(\"SELECT department, COUNT(*) as emp_count FROM global_temp.employees_global GROUP BY department\")\n",
    "result2.display()\n"
   ]
  },
  {
   "cell_type": "markdown",
   "metadata": {
    "application/vnd.databricks.v1+cell": {
     "cellMetadata": {},
     "inputWidgets": {},
     "nuid": "bcb1f6dd-c36e-4a4b-9867-6f6a20993bb1",
     "showTitle": false,
     "tableResultSettingsMap": {},
     "title": ""
    }
   },
   "source": [
    "### ✅ Key Points\n",
    "\n",
    "createTempView() → session-scoped (only in the current SparkSession).\n",
    "\n",
    "createGlobalTempView() → application-scoped (accessible across SparkSessions in the same app).\n",
    "\n",
    "Always query with global_temp.<view_name>."
   ]
  }
 ],
 "metadata": {
  "application/vnd.databricks.v1+notebook": {
   "computePreferences": null,
   "dashboards": [],
   "environmentMetadata": {
    "base_environment": "",
    "environment_version": "1"
   },
   "inputWidgetPreferences": null,
   "language": "python",
   "notebookMetadata": {
    "pythonIndentUnit": 4
   },
   "notebookName": "38. How to Use createGlobalTempView in PySpark | Share Views Across Sessions",
   "widgets": {}
  }
 },
 "nbformat": 4,
 "nbformat_minor": 0
}