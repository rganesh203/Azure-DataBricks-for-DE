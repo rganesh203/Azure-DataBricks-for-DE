{
 "cells": [
  {
   "cell_type": "code",
   "execution_count": 0,
   "metadata": {
    "application/vnd.databricks.v1+cell": {
     "cellMetadata": {},
     "inputWidgets": {},
     "nuid": "aa5cb9a9-6553-4e50-8d2b-7644fe073937",
     "showTitle": true,
     "tableResultSettingsMap": {},
     "title": "Sample DataFrames"
    }
   },
   "outputs": [],
   "source": [
    "# Sample DataFrame 1\n",
    "data1 = [(\"A\", 1), (\"B\", 2), (\"C\", 3), (\"A\", 1)]\n",
    "df1 = spark.createDataFrame(data1, [\"name\", \"value\"])\n",
    "\n",
    "# Sample DataFrame 2\n",
    "data2 = [(\"A\", 1), (\"B\", 2), (\"B\", 2), (\"D\", 4)]\n",
    "df2 = spark.createDataFrame(data2, [\"name\", \"value\"])\n",
    "\n",
    "print(\"DataFrame 1:\")\n",
    "df1.display()\n",
    "\n",
    "print(\"DataFrame 2:\")\n",
    "df2.display()"
   ]
  },
  {
   "cell_type": "code",
   "execution_count": 0,
   "metadata": {
    "application/vnd.databricks.v1+cell": {
     "cellMetadata": {},
     "inputWidgets": {},
     "nuid": "887d3bd5-4a53-4c13-a0f5-945362fd4c02",
     "showTitle": true,
     "tableResultSettingsMap": {},
     "title": "Using intersect()"
    }
   },
   "outputs": [],
   "source": [
    "# Returns distinct common rows\n",
    "df_inter = df1.intersect(df2)\n",
    "df_inter.display()"
   ]
  },
  {
   "cell_type": "code",
   "execution_count": 0,
   "metadata": {
    "application/vnd.databricks.v1+cell": {
     "cellMetadata": {},
     "inputWidgets": {},
     "nuid": "af9421c8-fe23-4e0c-9677-cb7e3ecc74b2",
     "showTitle": true,
     "tableResultSettingsMap": {},
     "title": "Using intersectAll()"
    }
   },
   "outputs": [],
   "source": [
    "# Returns all common rows including duplicates\n",
    "df_inter_all = df1.intersectAll(df2)\n",
    "df_inter_all.display()"
   ]
  },
  {
   "cell_type": "markdown",
   "metadata": {
    "application/vnd.databricks.v1+cell": {
     "cellMetadata": {},
     "inputWidgets": {},
     "nuid": "18eff3e5-ec72-446b-b3ee-0e159b62a8af",
     "showTitle": false,
     "tableResultSettingsMap": {},
     "title": ""
    }
   },
   "source": [
    "### Key Notes\n",
    "Both DataFrames must have the same schema (same column names and types) for intersect() and intersectAll() to work.\n",
    "\n",
    "intersect() is like SQL’s INTERSECT (removes duplicates).\n",
    "\n",
    "intersectAll() is like SQL’s INTERSECT ALL (keeps duplicates)."
   ]
  }
 ],
 "metadata": {
  "application/vnd.databricks.v1+notebook": {
   "computePreferences": {
    "hardware": {
     "accelerator": null,
     "gpuPoolId": null,
     "memory": null
    }
   },
   "dashboards": [],
   "environmentMetadata": {
    "base_environment": "",
    "environment_version": "2"
   },
   "inputWidgetPreferences": null,
   "language": "python",
   "notebookMetadata": {
    "pythonIndentUnit": 4
   },
   "notebookName": "29. How to Use Intersect() and IntersectAll() in PySpark",
   "widgets": {}
  },
  "language_info": {
   "name": "python"
  }
 },
 "nbformat": 4,
 "nbformat_minor": 0
}
