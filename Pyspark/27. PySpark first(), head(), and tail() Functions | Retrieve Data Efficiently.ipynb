{
 "cells": [
  {
   "cell_type": "code",
   "execution_count": 0,
   "metadata": {
    "application/vnd.databricks.v1+cell": {
     "cellMetadata": {
      "byteLimit": 2048000,
      "rowLimit": 10000
     },
     "inputWidgets": {},
     "nuid": "8b9eb239-21b6-472b-8b59-709004961ae3",
     "showTitle": true,
     "tableResultSettingsMap": {},
     "title": "Sample Dataframe"
    }
   },
   "outputs": [],
   "source": [
    "# Sample data\n",
    "data = [\n",
    "    (1, \"Ganesh\", 25),\n",
    "    (2, \"Rahul\", 30),\n",
    "    (3, \"Priya\", 28),\n",
    "    (4, \"Anita\", 35),\n",
    "    (5, \"Vijay\", 32)\n",
    "]\n",
    "\n",
    "columns = [\"ID\", \"Name\", \"Age\"]\n",
    "\n",
    "df = spark.createDataFrame(data, columns)\n",
    "\n",
    "df.display()\n"
   ]
  },
  {
   "cell_type": "code",
   "execution_count": 0,
   "metadata": {
    "application/vnd.databricks.v1+cell": {
     "cellMetadata": {
      "byteLimit": 2048000,
      "rowLimit": 10000
     },
     "inputWidgets": {},
     "nuid": "2e166740-378d-49be-8372-e35744030884",
     "showTitle": true,
     "tableResultSettingsMap": {},
     "title": "first() – Get the First Row"
    }
   },
   "outputs": [],
   "source": [
    "first_row = df.first()\n",
    "print(first_row)\n",
    "print(first_row[\"Name\"], first_row[\"Age\"])"
   ]
  },
  {
   "cell_type": "code",
   "execution_count": 0,
   "metadata": {
    "application/vnd.databricks.v1+cell": {
     "cellMetadata": {
      "byteLimit": 2048000,
      "rowLimit": 10000
     },
     "inputWidgets": {},
     "nuid": "6b0abc55-4e44-4857-97fb-dc4ceed11969",
     "showTitle": true,
     "tableResultSettingsMap": {},
     "title": "head() – Get First n Rows"
    }
   },
   "outputs": [],
   "source": [
    "# Single row (same as first)\n",
    "print(df.head())\n",
    "\n",
    "# First 3 rows\n",
    "top3 = df.head(3)\n",
    "for row in top3:\n",
    "    print(row)\n"
   ]
  },
  {
   "cell_type": "code",
   "execution_count": 0,
   "metadata": {
    "application/vnd.databricks.v1+cell": {
     "cellMetadata": {
      "byteLimit": 2048000,
      "rowLimit": 10000
     },
     "inputWidgets": {},
     "nuid": "0ec67135-260c-46ca-9e55-f9d401a1f5fe",
     "showTitle": true,
     "tableResultSettingsMap": {},
     "title": "tail() – Get Last n Rows"
    }
   },
   "outputs": [],
   "source": [
    "last2 = df.tail(2)\n",
    "for row in last2:\n",
    "    print(row)\n"
   ]
  },
  {
   "cell_type": "markdown",
   "metadata": {
    "application/vnd.databricks.v1+cell": {
     "cellMetadata": {},
     "inputWidgets": {},
     "nuid": "dcc14e49-efb6-4f35-8526-51471b0f4c4e",
     "showTitle": false,
     "tableResultSettingsMap": {},
     "title": ""
    }
   },
   "source": [
    "| Function  | Returns                        | Example      | Output Type          |\n",
    "| --------- | ------------------------------ | ------------ | -------------------- |\n",
    "| `first()` | First row only                 | `df.first()` | `Row`                |\n",
    "| `head()`  | First row (default) or first n | `df.head(3)` | `Row` / List of Rows |\n",
    "| `tail(n)` | Last n rows                    | `df.tail(2)` | List of Rows         |\n"
   ]
  }
 ],
 "metadata": {
  "application/vnd.databricks.v1+notebook": {
   "computePreferences": null,
   "dashboards": [],
   "environmentMetadata": {
    "base_environment": "",
    "environment_version": "2"
   },
   "inputWidgetPreferences": null,
   "language": "python",
   "notebookMetadata": {
    "pythonIndentUnit": 4
   },
   "notebookName": "27. PySpark first(), head(), and tail() Functions | Retrieve Data Efficiently",
   "widgets": {}
  },
  "language_info": {
   "name": "python"
  }
 },
 "nbformat": 4,
 "nbformat_minor": 0
}
