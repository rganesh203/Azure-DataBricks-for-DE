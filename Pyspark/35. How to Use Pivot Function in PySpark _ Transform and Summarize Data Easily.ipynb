{
 "cells": [
  {
   "cell_type": "markdown",
   "metadata": {
    "application/vnd.databricks.v1+cell": {
     "cellMetadata": {},
     "inputWidgets": {},
     "nuid": "4b1b75ad-69fe-4a5d-993b-d37b54dadad7",
     "showTitle": false,
     "tableResultSettingsMap": {},
     "title": ""
    }
   },
   "source": [
    "### 🔹 What is pivot() in PySpark?\n",
    "\n",
    "In PySpark, pivot() is used to rotate rows into columns and perform aggregations.\n",
    "It’s typically used with groupBy() when you want to summarize and restructure data."
   ]
  },
  {
   "cell_type": "code",
   "execution_count": 0,
   "metadata": {
    "application/vnd.databricks.v1+cell": {
     "cellMetadata": {
      "byteLimit": 2048000,
      "rowLimit": 10000
     },
     "inputWidgets": {},
     "nuid": "38db454a-4f24-4eec-a68e-556bb40a2d16",
     "showTitle": false,
     "tableResultSettingsMap": {},
     "title": ""
    }
   },
   "outputs": [
    {
     "output_type": "display_data",
     "data": {
      "text/html": [
       "<style scoped>\n",
       "  .table-result-container {\n",
       "    max-height: 300px;\n",
       "    overflow: auto;\n",
       "  }\n",
       "  table, th, td {\n",
       "    border: 1px solid black;\n",
       "    border-collapse: collapse;\n",
       "  }\n",
       "  th, td {\n",
       "    padding: 5px;\n",
       "  }\n",
       "  th {\n",
       "    text-align: left;\n",
       "  }\n",
       "</style><div class='table-result-container'><table class='table-result'><thead style='background-color: white'><tr><th>Region</th><th>Product</th><th>Sales</th></tr></thead><tbody><tr><td>East</td><td>Apple</td><td>100</td></tr><tr><td>East</td><td>Banana</td><td>150</td></tr><tr><td>West</td><td>Apple</td><td>200</td></tr><tr><td>West</td><td>Banana</td><td>120</td></tr><tr><td>North</td><td>Apple</td><td>50</td></tr><tr><td>North</td><td>Banana</td><td>90</td></tr><tr><td>East</td><td>Apple</td><td>80</td></tr><tr><td>West</td><td>Banana</td><td>70</td></tr></tbody></table></div>"
      ]
     },
     "metadata": {
      "application/vnd.databricks.v1+output": {
       "addedWidgets": {},
       "aggData": [],
       "aggError": "",
       "aggOverflow": false,
       "aggSchema": [],
       "aggSeriesLimitReached": false,
       "aggType": "",
       "arguments": {},
       "columnCustomDisplayInfos": {},
       "data": [
        [
         "East",
         "Apple",
         100
        ],
        [
         "East",
         "Banana",
         150
        ],
        [
         "West",
         "Apple",
         200
        ],
        [
         "West",
         "Banana",
         120
        ],
        [
         "North",
         "Apple",
         50
        ],
        [
         "North",
         "Banana",
         90
        ],
        [
         "East",
         "Apple",
         80
        ],
        [
         "West",
         "Banana",
         70
        ]
       ],
       "datasetInfos": [],
       "dbfsResultPath": null,
       "isJsonSchema": true,
       "metadata": {},
       "overflow": false,
       "plotOptions": {
        "customPlotOptions": {},
        "displayType": "table",
        "pivotAggregation": null,
        "pivotColumns": null,
        "xColumns": null,
        "yColumns": null
       },
       "removedWidgets": [],
       "schema": [
        {
         "metadata": "{}",
         "name": "Region",
         "type": "\"string\""
        },
        {
         "metadata": "{}",
         "name": "Product",
         "type": "\"string\""
        },
        {
         "metadata": "{}",
         "name": "Sales",
         "type": "\"long\""
        }
       ],
       "type": "table"
      }
     },
     "output_type": "display_data"
    }
   ],
   "source": [
    "# Sample data: (Region, Product, Sales)\n",
    "data = [\n",
    "    (\"East\", \"Apple\", 100),\n",
    "    (\"East\", \"Banana\", 150),\n",
    "    (\"West\", \"Apple\", 200),\n",
    "    (\"West\", \"Banana\", 120),\n",
    "    (\"North\", \"Apple\", 50),\n",
    "    (\"North\", \"Banana\", 90),\n",
    "    (\"East\", \"Apple\", 80),\n",
    "    (\"West\", \"Banana\", 70),\n",
    "]\n",
    "\n",
    "columns = [\"Region\", \"Product\", \"Sales\"]\n",
    "\n",
    "df = spark.createDataFrame(data, columns)\n",
    "\n",
    "df.display()"
   ]
  },
  {
   "cell_type": "code",
   "execution_count": 0,
   "metadata": {
    "application/vnd.databricks.v1+cell": {
     "cellMetadata": {
      "byteLimit": 2048000,
      "rowLimit": 10000
     },
     "inputWidgets": {},
     "nuid": "7a231b1d-5e0d-4151-b9b0-1ec794a76397",
     "showTitle": true,
     "tableResultSettingsMap": {},
     "title": "Pivot Example 1: Sales by Region & Product"
    }
   },
   "outputs": [
    {
     "output_type": "display_data",
     "data": {
      "text/html": [
       "<style scoped>\n",
       "  .table-result-container {\n",
       "    max-height: 300px;\n",
       "    overflow: auto;\n",
       "  }\n",
       "  table, th, td {\n",
       "    border: 1px solid black;\n",
       "    border-collapse: collapse;\n",
       "  }\n",
       "  th, td {\n",
       "    padding: 5px;\n",
       "  }\n",
       "  th {\n",
       "    text-align: left;\n",
       "  }\n",
       "</style><div class='table-result-container'><table class='table-result'><thead style='background-color: white'><tr><th>Region</th><th>Apple</th><th>Banana</th></tr></thead><tbody><tr><td>East</td><td>180</td><td>150</td></tr><tr><td>West</td><td>200</td><td>190</td></tr><tr><td>North</td><td>50</td><td>90</td></tr></tbody></table></div>"
      ]
     },
     "metadata": {
      "application/vnd.databricks.v1+output": {
       "addedWidgets": {},
       "aggData": [],
       "aggError": "",
       "aggOverflow": false,
       "aggSchema": [],
       "aggSeriesLimitReached": false,
       "aggType": "",
       "arguments": {},
       "columnCustomDisplayInfos": {},
       "data": [
        [
         "East",
         180,
         150
        ],
        [
         "West",
         200,
         190
        ],
        [
         "North",
         50,
         90
        ]
       ],
       "datasetInfos": [],
       "dbfsResultPath": null,
       "isJsonSchema": true,
       "metadata": {},
       "overflow": false,
       "plotOptions": {
        "customPlotOptions": {},
        "displayType": "table",
        "pivotAggregation": null,
        "pivotColumns": null,
        "xColumns": null,
        "yColumns": null
       },
       "removedWidgets": [],
       "schema": [
        {
         "metadata": "{}",
         "name": "Region",
         "type": "\"string\""
        },
        {
         "metadata": "{}",
         "name": "Apple",
         "type": "\"long\""
        },
        {
         "metadata": "{}",
         "name": "Banana",
         "type": "\"long\""
        }
       ],
       "type": "table"
      }
     },
     "output_type": "display_data"
    }
   ],
   "source": [
    "pivot_df = df.groupBy(\"Region\") \\\n",
    "             .pivot(\"Product\") \\\n",
    "             .sum(\"Sales\")\n",
    "\n",
    "pivot_df.display()"
   ]
  },
  {
   "cell_type": "code",
   "execution_count": 0,
   "metadata": {
    "application/vnd.databricks.v1+cell": {
     "cellMetadata": {
      "byteLimit": 2048000,
      "rowLimit": 10000
     },
     "inputWidgets": {},
     "nuid": "94da5e47-0f9f-41a4-b4bb-c1d20beee61b",
     "showTitle": true,
     "tableResultSettingsMap": {},
     "title": "Pivot Example 2: With Explicit Values"
    }
   },
   "outputs": [
    {
     "output_type": "display_data",
     "data": {
      "text/html": [
       "<style scoped>\n",
       "  .table-result-container {\n",
       "    max-height: 300px;\n",
       "    overflow: auto;\n",
       "  }\n",
       "  table, th, td {\n",
       "    border: 1px solid black;\n",
       "    border-collapse: collapse;\n",
       "  }\n",
       "  th, td {\n",
       "    padding: 5px;\n",
       "  }\n",
       "  th {\n",
       "    text-align: left;\n",
       "  }\n",
       "</style><div class='table-result-container'><table class='table-result'><thead style='background-color: white'><tr><th>Region</th><th>Apple</th></tr></thead><tbody><tr><td>East</td><td>180</td></tr><tr><td>West</td><td>200</td></tr><tr><td>North</td><td>50</td></tr></tbody></table></div>"
      ]
     },
     "metadata": {
      "application/vnd.databricks.v1+output": {
       "addedWidgets": {},
       "aggData": [],
       "aggError": "",
       "aggOverflow": false,
       "aggSchema": [],
       "aggSeriesLimitReached": false,
       "aggType": "",
       "arguments": {},
       "columnCustomDisplayInfos": {},
       "data": [
        [
         "East",
         180
        ],
        [
         "West",
         200
        ],
        [
         "North",
         50
        ]
       ],
       "datasetInfos": [],
       "dbfsResultPath": null,
       "isJsonSchema": true,
       "metadata": {},
       "overflow": false,
       "plotOptions": {
        "customPlotOptions": {},
        "displayType": "table",
        "pivotAggregation": null,
        "pivotColumns": null,
        "xColumns": null,
        "yColumns": null
       },
       "removedWidgets": [],
       "schema": [
        {
         "metadata": "{}",
         "name": "Region",
         "type": "\"string\""
        },
        {
         "metadata": "{}",
         "name": "Apple",
         "type": "\"long\""
        }
       ],
       "type": "table"
      }
     },
     "output_type": "display_data"
    }
   ],
   "source": [
    "pivot_df2 = df.groupBy(\"Region\") \\\n",
    "              .pivot(\"Product\", [\"Apple\"]) \\\n",
    "              .sum(\"Sales\")\n",
    "\n",
    "pivot_df2.display()"
   ]
  },
  {
   "cell_type": "code",
   "execution_count": 0,
   "metadata": {
    "application/vnd.databricks.v1+cell": {
     "cellMetadata": {
      "byteLimit": 2048000,
      "rowLimit": 10000
     },
     "inputWidgets": {},
     "nuid": "a35ecb68-293a-4d2f-aee0-1127e1755446",
     "showTitle": true,
     "tableResultSettingsMap": {},
     "title": "Pivot Example 3: Multiple Aggregations"
    }
   },
   "outputs": [
    {
     "output_type": "display_data",
     "data": {
      "text/html": [
       "<style scoped>\n",
       "  .table-result-container {\n",
       "    max-height: 300px;\n",
       "    overflow: auto;\n",
       "  }\n",
       "  table, th, td {\n",
       "    border: 1px solid black;\n",
       "    border-collapse: collapse;\n",
       "  }\n",
       "  th, td {\n",
       "    padding: 5px;\n",
       "  }\n",
       "  th {\n",
       "    text-align: left;\n",
       "  }\n",
       "</style><div class='table-result-container'><table class='table-result'><thead style='background-color: white'><tr><th>Region</th><th>Apple_Total_Sales</th><th>Apple_Avg_Sales</th><th>Banana_Total_Sales</th><th>Banana_Avg_Sales</th></tr></thead><tbody><tr><td>East</td><td>180</td><td>90.0</td><td>150</td><td>150.0</td></tr><tr><td>West</td><td>200</td><td>200.0</td><td>190</td><td>95.0</td></tr><tr><td>North</td><td>50</td><td>50.0</td><td>90</td><td>90.0</td></tr></tbody></table></div>"
      ]
     },
     "metadata": {
      "application/vnd.databricks.v1+output": {
       "addedWidgets": {},
       "aggData": [],
       "aggError": "",
       "aggOverflow": false,
       "aggSchema": [],
       "aggSeriesLimitReached": false,
       "aggType": "",
       "arguments": {},
       "columnCustomDisplayInfos": {},
       "data": [
        [
         "East",
         180,
         90.0,
         150,
         150.0
        ],
        [
         "West",
         200,
         200.0,
         190,
         95.0
        ],
        [
         "North",
         50,
         50.0,
         90,
         90.0
        ]
       ],
       "datasetInfos": [],
       "dbfsResultPath": null,
       "isJsonSchema": true,
       "metadata": {},
       "overflow": false,
       "plotOptions": {
        "customPlotOptions": {},
        "displayType": "table",
        "pivotAggregation": null,
        "pivotColumns": null,
        "xColumns": null,
        "yColumns": null
       },
       "removedWidgets": [],
       "schema": [
        {
         "metadata": "{}",
         "name": "Region",
         "type": "\"string\""
        },
        {
         "metadata": "{}",
         "name": "Apple_Total_Sales",
         "type": "\"long\""
        },
        {
         "metadata": "{}",
         "name": "Apple_Avg_Sales",
         "type": "\"double\""
        },
        {
         "metadata": "{}",
         "name": "Banana_Total_Sales",
         "type": "\"long\""
        },
        {
         "metadata": "{}",
         "name": "Banana_Avg_Sales",
         "type": "\"double\""
        }
       ],
       "type": "table"
      }
     },
     "output_type": "display_data"
    }
   ],
   "source": [
    "from pyspark.sql import functions as F\n",
    "\n",
    "pivot_df3 = df.groupBy(\"Region\") \\\n",
    "              .pivot(\"Product\") \\\n",
    "              .agg(F.sum(\"Sales\").alias(\"Total_Sales\"),\n",
    "                   F.avg(\"Sales\").alias(\"Avg_Sales\"))\n",
    "\n",
    "pivot_df3.display()"
   ]
  },
  {
   "cell_type": "markdown",
   "metadata": {
    "application/vnd.databricks.v1+cell": {
     "cellMetadata": {},
     "inputWidgets": {},
     "nuid": "7c1c3e04-b2a6-4066-8d08-37c866f239fa",
     "showTitle": false,
     "tableResultSettingsMap": {},
     "title": ""
    }
   },
   "source": [
    "### ✅ In summary,\n",
    "\n",
    "groupBy() defines the grouping key(s).\n",
    "\n",
    "pivot() defines the column to pivot.\n",
    "\n",
    "Aggregation functions (like sum, avg) compute summary values."
   ]
  }
 ],
 "metadata": {
  "application/vnd.databricks.v1+notebook": {
   "computePreferences": null,
   "dashboards": [],
   "environmentMetadata": {
    "base_environment": "",
    "environment_version": "1"
   },
   "inputWidgetPreferences": null,
   "language": "python",
   "notebookMetadata": {
    "pythonIndentUnit": 4
   },
   "notebookName": "35. How to Use Pivot Function in PySpark | Transform and Summarize Data Easily",
   "widgets": {}
  }
 },
 "nbformat": 4,
 "nbformat_minor": 0
}