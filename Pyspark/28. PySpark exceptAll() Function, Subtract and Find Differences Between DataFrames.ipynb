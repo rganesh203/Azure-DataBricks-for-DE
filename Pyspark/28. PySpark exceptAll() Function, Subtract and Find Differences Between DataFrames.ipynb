{
 "cells": [
  {
   "cell_type": "code",
   "execution_count": 0,
   "metadata": {
    "application/vnd.databricks.v1+cell": {
     "cellMetadata": {
      "byteLimit": 2048000,
      "rowLimit": 10000
     },
     "inputWidgets": {},
     "nuid": "f54129b0-c433-49cc-a816-8a675fbdebb7",
     "showTitle": true,
     "tableResultSettingsMap": {},
     "title": "Sample DataFrame"
    }
   },
   "outputs": [],
   "source": [
    "# Sample data for df1\n",
    "data1 = [\n",
    "    (1, \"Apple\"),\n",
    "    (2, \"Banana\"),\n",
    "    (3, \"Orange\"),\n",
    "    (3, \"Orange\")  # duplicate row\n",
    "]\n",
    "\n",
    "# Sample data for df2\n",
    "data2 = [\n",
    "    (3, \"Orange\"),\n",
    "    (4, \"Grapes\")\n",
    "]\n",
    "\n",
    "# Define schema columns\n",
    "columns = [\"id\", \"fruit\"]\n",
    "\n",
    "# Create DataFrames\n",
    "df1 = spark.createDataFrame(data1, columns)\n",
    "df2 = spark.createDataFrame(data2, columns)\n",
    "\n",
    "print(\"DF1:\")\n",
    "df1.display()\n",
    "\n",
    "print(\"DF2:\")\n",
    "df2.display()\n"
   ]
  },
  {
   "cell_type": "code",
   "execution_count": 0,
   "metadata": {
    "application/vnd.databricks.v1+cell": {
     "cellMetadata": {
      "byteLimit": 2048000,
      "rowLimit": 10000
     },
     "inputWidgets": {},
     "nuid": "7330a7f0-8be9-43be-a9f9-1032e7940b2b",
     "showTitle": false,
     "tableResultSettingsMap": {},
     "title": ""
    }
   },
   "outputs": [],
   "source": [
    "# Using exceptAll to find differences\n",
    "result = df1.exceptAll(df2)\n",
    "\n",
    "print(\"Rows in DF1 but not in DF2 (including duplicates):\")\n",
    "result.display()"
   ]
  },
  {
   "cell_type": "markdown",
   "metadata": {
    "application/vnd.databricks.v1+cell": {
     "cellMetadata": {},
     "inputWidgets": {},
     "nuid": "80a3fc72-3afd-45ed-a4d5-7385398f3510",
     "showTitle": false,
     "tableResultSettingsMap": {},
     "title": ""
    }
   },
   "source": [
    "### Rules & Requirements\n",
    "Same schema → The two DataFrames must have the same column names and data types, in the same order.\n",
    "\n",
    "Case sensitivity → By default, it is case-sensitive (\"Apple\" ≠ \"apple\").\n",
    "\n",
    "Duplicate handling →\n",
    "\n",
    "If a row occurs multiple times in DF1 and fewer times in DF2, exceptAll() will keep the remaining duplicates.\n",
    "\n",
    "Example: If DF1 has (3, Orange) twice and DF2 has it once → result will keep it once.\n",
    "\n",
    "Order is not guaranteed — output order may vary.\n",
    "\n",
    "Immutable — It does not change the original DataFrames."
   ]
  },
  {
   "cell_type": "markdown",
   "metadata": {
    "application/vnd.databricks.v1+cell": {
     "cellMetadata": {},
     "inputWidgets": {},
     "nuid": "a73cdb26-dee3-40a7-8835-4b823c6388ed",
     "showTitle": false,
     "tableResultSettingsMap": {},
     "title": ""
    }
   },
   "source": [
    "### When to Use exceptAll()\n",
    "When you need set difference but want to preserve duplicate rows.\n",
    "\n",
    "For comparing transactional data where the number of occurrences matters.\n",
    "\n",
    "To find extra records in one DataFrame compared to another."
   ]
  },
  {
   "cell_type": "markdown",
   "metadata": {
    "application/vnd.databricks.v1+cell": {
     "cellMetadata": {},
     "inputWidgets": {},
     "nuid": "3a39296d-0419-419c-bda3-916462f0681d",
     "showTitle": false,
     "tableResultSettingsMap": {},
     "title": ""
    }
   },
   "source": [
    "### How is it Different from except()?\n",
    "\n",
    "| Feature                  | `except()` | `exceptAll()` |\n",
    "| ------------------------ | ---------- | ------------- |\n",
    "| Removes duplicates       | ✅ Yes      | ❌ No          |\n",
    "| Preserves duplicate rows | ❌ No       | ✅ Yes         |\n",
    "| Same schema requirement  | ✅ Yes      | ✅ Yes         |\n",
    "| SQL equivalent           | `EXCEPT`   | `EXCEPT ALL`  |\n"
   ]
  },
  {
   "cell_type": "markdown",
   "metadata": {
    "application/vnd.databricks.v1+cell": {
     "cellMetadata": {},
     "inputWidgets": {},
     "nuid": "674e4eb9-968d-470e-9787-28f489429a14",
     "showTitle": false,
     "tableResultSettingsMap": {},
     "title": ""
    }
   },
   "source": [
    "### How It Works Internally\n",
    "Row comparison is done by value, column by column.\n",
    "\n",
    "For each row in DF1:\n",
    "\n",
    "If it exists in DF2, it removes only one occurrence.\n",
    "\n",
    "If it does not exist, it stays in the result.\n",
    "\n",
    "Keeps remaining duplicate occurrences.\n",
    "\n",
    "### Real-World Use Cases\n",
    "Data reconciliation — find extra rows in one dataset vs another while keeping track of how many extra copies exist.\n",
    "\n",
    "Log analysis — detect extra events in one log vs a baseline.\n",
    "\n",
    "Inventory checks — find overstocked items that don’t match an expected stock list.\n",
    "\n",
    "ETL validation — compare source and target data where duplicates are important."
   ]
  }
 ],
 "metadata": {
  "application/vnd.databricks.v1+notebook": {
   "computePreferences": null,
   "dashboards": [],
   "environmentMetadata": {
    "base_environment": "",
    "environment_version": "2"
   },
   "inputWidgetPreferences": null,
   "language": "python",
   "notebookMetadata": {
    "pythonIndentUnit": 4
   },
   "notebookName": "28. PySpark exceptAll() Function, Subtract and Find Differences Between DataFrames",
   "widgets": {}
  },
  "language_info": {
   "name": "python"
  }
 },
 "nbformat": 4,
 "nbformat_minor": 0
}
