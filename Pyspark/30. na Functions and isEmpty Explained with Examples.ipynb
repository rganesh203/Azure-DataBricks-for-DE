{
 "cells": [
  {
   "cell_type": "code",
   "execution_count": 0,
   "metadata": {
    "application/vnd.databricks.v1+cell": {
     "cellMetadata": {},
     "inputWidgets": {},
     "nuid": "41e461e5-1ce8-4468-85db-c9c09ca440dc",
     "showTitle": true,
     "tableResultSettingsMap": {},
     "title": "Sample DF"
    }
   },
   "outputs": [],
   "source": [
    "data = [\n",
    "    (1, \"Alice\", None),\n",
    "    (2, None, 2000),\n",
    "    (3, \"Charlie\", None),\n",
    "    (4, None, None)\n",
    "]\n",
    "\n",
    "df = spark.createDataFrame(data, [\"id\", \"name\", \"salary\"])\n",
    "\n",
    "df.display()"
   ]
  },
  {
   "cell_type": "code",
   "execution_count": 0,
   "metadata": {
    "application/vnd.databricks.v1+cell": {
     "cellMetadata": {},
     "inputWidgets": {},
     "nuid": "53340532-5999-40c0-96b0-0b56d6589f36",
     "showTitle": true,
     "tableResultSettingsMap": {},
     "title": "Drop Nulls"
    }
   },
   "outputs": [],
   "source": [
    "# Drop rows where ANY column is null\n",
    "df.na.drop().display()\n",
    "\n",
    "# Drop rows where ALL columns are null\n",
    "df.na.drop(how=\"all\").display()\n",
    "\n",
    "# Drop rows where specific columns have nulls\n",
    "df.na.drop(subset=[\"name\"]).display()\n"
   ]
  },
  {
   "cell_type": "code",
   "execution_count": 0,
   "metadata": {
    "application/vnd.databricks.v1+cell": {
     "cellMetadata": {},
     "inputWidgets": {},
     "nuid": "47c0466e-b81c-4678-8e27-7822b2eda062",
     "showTitle": true,
     "tableResultSettingsMap": {},
     "title": "Fill Nulls"
    }
   },
   "outputs": [],
   "source": [
    "# Fill all nulls with a single value\n",
    "df.na.fill(\"Unknown\").display()\n",
    "\n",
    "# Fill nulls with different values per column\n",
    "df.na.fill({\"name\": \"No Name\", \"salary\": 0}).display()\n"
   ]
  },
  {
   "cell_type": "code",
   "execution_count": 0,
   "metadata": {
    "application/vnd.databricks.v1+cell": {
     "cellMetadata": {},
     "inputWidgets": {},
     "nuid": "db43f6ed-2cf6-40fc-90bf-3c54e597657c",
     "showTitle": true,
     "tableResultSettingsMap": {},
     "title": "Replace Specific Values"
    }
   },
   "outputs": [],
   "source": [
    "# Replace a specific value in a column\n",
    "df.na.replace(\"Alice\", \"Alicia\", subset=[\"name\"]).display()\n"
   ]
  },
  {
   "cell_type": "code",
   "execution_count": 0,
   "metadata": {
    "application/vnd.databricks.v1+cell": {
     "cellMetadata": {},
     "inputWidgets": {},
     "nuid": "11cc1657-339b-4d76-8ce4-205ee0ae2a5f",
     "showTitle": true,
     "tableResultSettingsMap": {},
     "title": "DataFrame.isEmpty()"
    }
   },
   "outputs": [],
   "source": [
    "empty_df = spark.createDataFrame([], schema=df.schema)\n",
    "\n",
    "print(df.isEmpty())       # False → df has rows\n",
    "print(empty_df.isEmpty()) # True  → no rows\n"
   ]
  },
  {
   "cell_type": "markdown",
   "metadata": {
    "application/vnd.databricks.v1+cell": {
     "cellMetadata": {},
     "inputWidgets": {},
     "nuid": "62e191fe-5626-4dd3-966c-32c51da71df7",
     "showTitle": false,
     "tableResultSettingsMap": {},
     "title": ""
    }
   },
   "source": [
    "### Common Use Cases\n",
    "Data validation: Check if filtering returned no results.\n",
    "\n",
    "Avoid writing empty DataFrames to storage.\n",
    "\n",
    "Prevent downstream job failures when no data exists."
   ]
  },
  {
   "cell_type": "code",
   "execution_count": 0,
   "metadata": {
    "application/vnd.databricks.v1+cell": {
     "cellMetadata": {},
     "inputWidgets": {},
     "nuid": "5b1cbc0a-0c92-4170-aca9-ecd6c51e533b",
     "showTitle": false,
     "tableResultSettingsMap": {},
     "title": ""
    }
   },
   "outputs": [],
   "source": [
    "filtered_df = df.filter(df.salary > 5000)\n",
    "\n",
    "if filtered_df.isEmpty():\n",
    "    print(\"No employees with salary > 5000\")\n",
    "else:\n",
    "    filtered_df.display()\n"
   ]
  },
  {
   "cell_type": "markdown",
   "metadata": {
    "application/vnd.databricks.v1+cell": {
     "cellMetadata": {},
     "inputWidgets": {},
     "nuid": "6696132b-a562-4548-973b-34b0a8707681",
     "showTitle": false,
     "tableResultSettingsMap": {},
     "title": ""
    }
   },
   "source": [
    "### Summary Table\n",
    "| Function          | Purpose                                  | Example                       |\n",
    "| ----------------- | ---------------------------------------- | ----------------------------- |\n",
    "| `df.na.drop()`    | Remove rows with null values             | `df.na.drop(subset=[\"col1\"])` |\n",
    "| `df.na.fill()`    | Replace nulls with specified value(s)    | `df.na.fill({\"col1\":0})`      |\n",
    "| `df.na.replace()` | Replace specific values (not just nulls) | `df.na.replace(\"old\",\"new\")`  |\n",
    "| `df.isEmpty()`    | Check if DataFrame has zero rows         | `if df.isEmpty(): ...`        |\n",
    "\n"
   ]
  }
 ],
 "metadata": {
  "application/vnd.databricks.v1+notebook": {
   "computePreferences": null,
   "dashboards": [],
   "environmentMetadata": {
    "base_environment": "",
    "environment_version": "2"
   },
   "inputWidgetPreferences": null,
   "language": "python",
   "notebookMetadata": {
    "pythonIndentUnit": 4
   },
   "notebookName": "30. na Functions and isEmpty Explained with Examples",
   "widgets": {}
  },
  "language_info": {
   "name": "python"
  }
 },
 "nbformat": 4,
 "nbformat_minor": 0
}
