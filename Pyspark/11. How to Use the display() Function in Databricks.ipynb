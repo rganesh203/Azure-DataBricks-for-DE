{
 "cells": [
  {
   "cell_type": "markdown",
   "metadata": {
    "application/vnd.databricks.v1+cell": {
     "cellMetadata": {},
     "inputWidgets": {},
     "nuid": "523f1984-c15b-477e-853f-f64d9ef19668",
     "showTitle": false,
     "tableResultSettingsMap": {},
     "title": ""
    }
   },
   "source": [
    "In Databricks, the display() function is a powerful utility used in notebooks to visualize data interactively. It's different from standard functions like .show() in Spark, as it provides enhanced output formats, including tables, graphs, and even map visualizations."
   ]
  },
  {
   "cell_type": "markdown",
   "metadata": {
    "application/vnd.databricks.v1+cell": {
     "cellMetadata": {},
     "inputWidgets": {},
     "nuid": "be807552-f270-46b7-93d5-c9d177e8cbc0",
     "showTitle": false,
     "tableResultSettingsMap": {},
     "title": ""
    }
   },
   "source": [
    "# > - 1. What is display() in Databricks?\n",
    "It is a Databricks-specific function that can be used in notebook cells.\n",
    "\n",
    "It is available in Python, Scala, SQL, and R cells.\n",
    "\n",
    "It renders:\n",
    "\n",
    "Interactive tables\n",
    "\n",
    "Graphs (bar, pie, line, scatter, etc.)\n",
    "\n",
    "Map views (for geographic data)\n",
    "\n",
    "Data profile summaries"
   ]
  },
  {
   "cell_type": "code",
   "execution_count": 0,
   "metadata": {
    "application/vnd.databricks.v1+cell": {
     "cellMetadata": {},
     "inputWidgets": {},
     "nuid": "b8578e34-8357-4e80-8006-f9cf6821a741",
     "showTitle": true,
     "tableResultSettingsMap": {},
     "title": "Syntax"
    }
   },
   "outputs": [],
   "source": [
    "display(dataframe_or_rdd)\n",
    "#dataframe_or_rdd: A Spark DataFrame, Pandas DataFrame, RDD, or list of dictionaries (in Python)."
   ]
  },
  {
   "cell_type": "code",
   "execution_count": 0,
   "metadata": {
    "application/vnd.databricks.v1+cell": {
     "cellMetadata": {
      "byteLimit": 2048000,
      "rowLimit": 10000
     },
     "inputWidgets": {},
     "nuid": "02845617-8127-4849-9b05-8e33585baf4d",
     "showTitle": false,
     "tableResultSettingsMap": {},
     "title": ""
    }
   },
   "outputs": [
    {
     "output_type": "display_data",
     "data": {
      "text/html": [
       "<style scoped>\n",
       "  .table-result-container {\n",
       "    max-height: 300px;\n",
       "    overflow: auto;\n",
       "  }\n",
       "  table, th, td {\n",
       "    border: 1px solid black;\n",
       "    border-collapse: collapse;\n",
       "  }\n",
       "  th, td {\n",
       "    padding: 5px;\n",
       "  }\n",
       "  th {\n",
       "    text-align: left;\n",
       "  }\n",
       "</style><div class='table-result-container'><table class='table-result'><thead style='background-color: white'><tr><th>City</th><th>Latitude</th><th>Longitude</th></tr></thead><tbody><tr><td>New York</td><td>40.7128</td><td>-74.006</td></tr><tr><td>Los Angeles</td><td>34.0522</td><td>-118.2437</td></tr><tr><td>Chicago</td><td>41.8781</td><td>-87.6298</td></tr></tbody></table></div>"
      ]
     },
     "metadata": {
      "application/vnd.databricks.v1+output": {
       "addedWidgets": {},
       "aggData": [],
       "aggError": "",
       "aggOverflow": false,
       "aggSchema": [],
       "aggSeriesLimitReached": false,
       "aggType": "",
       "arguments": {},
       "columnCustomDisplayInfos": {},
       "data": [
        [
         "New York",
         40.7128,
         -74.006
        ],
        [
         "Los Angeles",
         34.0522,
         -118.2437
        ],
        [
         "Chicago",
         41.8781,
         -87.6298
        ]
       ],
       "datasetInfos": [],
       "dbfsResultPath": null,
       "isJsonSchema": true,
       "metadata": {},
       "overflow": false,
       "plotOptions": {
        "customPlotOptions": {},
        "displayType": "table",
        "pivotAggregation": null,
        "pivotColumns": null,
        "xColumns": null,
        "yColumns": null
       },
       "removedWidgets": [],
       "schema": [
        {
         "metadata": "{}",
         "name": "City",
         "type": "\"string\""
        },
        {
         "metadata": "{}",
         "name": "Latitude",
         "type": "\"double\""
        },
        {
         "metadata": "{}",
         "name": "Longitude",
         "type": "\"double\""
        }
       ],
       "type": "table"
      }
     },
     "output_type": "display_data"
    }
   ],
   "source": [
    "df = spark.createDataFrame([\n",
    "  (\"New York\", 40.7128, -74.0060),\n",
    "  (\"Los Angeles\", 34.0522, -118.2437),\n",
    "  (\"Chicago\", 41.8781, -87.6298)\n",
    "], [\"City\", \"Latitude\", \"Longitude\"])\n",
    "\n",
    "display(df)"
   ]
  },
  {
   "cell_type": "code",
   "execution_count": 0,
   "metadata": {
    "application/vnd.databricks.v1+cell": {
     "cellMetadata": {
      "byteLimit": 2048000,
      "rowLimit": 10000
     },
     "inputWidgets": {},
     "nuid": "50d7cdd4-7314-4632-b7df-2ecc10b82469",
     "showTitle": true,
     "tableResultSettingsMap": {},
     "title": "displayHTML()"
    }
   },
   "outputs": [
    {
     "output_type": "display_data",
     "data": {
      "text/html": [
       "<h1 style='color:blue'>Hello from Databricks!</h1>"
      ]
     },
     "metadata": {
      "application/vnd.databricks.v1+output": {
       "addedWidgets": {},
       "arguments": {},
       "data": "<h1 style='color:blue'>Hello from Databricks!</h1>",
       "datasetInfos": [],
       "metadata": {},
       "removedWidgets": [],
       "textData": null,
       "type": "htmlSandbox"
      }
     },
     "output_type": "display_data"
    }
   ],
   "source": [
    "displayHTML(\"<h1 style='color:blue'>Hello from Databricks!</h1>\")\n"
   ]
  },
  {
   "cell_type": "markdown",
   "metadata": {
    "application/vnd.databricks.v1+cell": {
     "cellMetadata": {},
     "inputWidgets": {},
     "nuid": "86ef9789-7c8a-406f-8d43-c917f61a711f",
     "showTitle": false,
     "tableResultSettingsMap": {},
     "title": ""
    }
   },
   "source": [
    "# Limitations & Notes\n",
    "\n",
    "- display() is only available inside Databricks notebooks, not in standalone PySpark scripts.\n",
    "- It’s not suitable for very large datasets when displaying full rows. \n",
    "- Automatically infers column types for graphs, but sometimes you may need to cast data types."
   ]
  },
  {
   "cell_type": "markdown",
   "metadata": {
    "application/vnd.databricks.v1+cell": {
     "cellMetadata": {},
     "inputWidgets": {},
     "nuid": "6d7f1ccf-81f0-4029-b271-50f92753c410",
     "showTitle": false,
     "tableResultSettingsMap": {},
     "title": ""
    }
   },
   "source": [
    "# 4. Benefits of display() over .show()\n",
    "\n",
    "### Feature\t                .show()\t      display() (Databricks)\n",
    "\n",
    "Interactive table\t      ❌\t            ✅\n",
    "\n",
    "Sorting, filtering\t    ❌\t            ✅\n",
    "\n",
    "Graph plotting\t        ❌\t            ✅\n",
    "\n",
    "Export to CSV/Excel\t    ❌\t            ✅ (via UI)\n",
    "\n",
    "Max rows shown\t        ~20 (default)\t  Up to 1000 or more\n",
    "\n",
    "HTML rendering\t        ❌\t            ✅\n",
    "\n"
   ]
  }
 ],
 "metadata": {
  "application/vnd.databricks.v1+notebook": {
   "computePreferences": null,
   "dashboards": [],
   "environmentMetadata": {
    "base_environment": "",
    "environment_version": "1"
   },
   "inputWidgetPreferences": null,
   "language": "python",
   "notebookMetadata": {
    "pythonIndentUnit": 4
   },
   "notebookName": "11. How to Use the display() Function in Databricks",
   "widgets": {}
  }
 },
 "nbformat": 4,
 "nbformat_minor": 0
}