{
 "cells": [
  {
   "cell_type": "code",
   "execution_count": 0,
   "metadata": {
    "application/vnd.databricks.v1+cell": {
     "cellMetadata": {
      "byteLimit": 2048000,
      "rowLimit": 10000
     },
     "inputWidgets": {},
     "nuid": "fb80845b-27ef-47e0-9189-8877bee66b9d",
     "showTitle": true,
     "tableResultSettingsMap": {},
     "title": "✅ Sample DataFrame python Copy Edit"
    }
   },
   "outputs": [],
   "source": [
    "from pyspark.sql.functions import col\n",
    "\n",
    "# Sample data\n",
    "data = [\n",
    "    (1, \"Alice\", 25),\n",
    "    (2, \"Bob\", 30),\n",
    "    (3, \"Charlie\", 22),\n",
    "    (4, \"David\", 35),\n",
    "    (5, \"Eva\", 28)\n",
    "]\n",
    "\n",
    "# Create DataFrame\n",
    "df = spark.createDataFrame(data, [\"id\", \"name\", \"age\"])\n",
    "\n",
    "# Show original DataFrame\n",
    "df.display()\n"
   ]
  },
  {
   "cell_type": "code",
   "execution_count": 0,
   "metadata": {
    "application/vnd.databricks.v1+cell": {
     "cellMetadata": {
      "byteLimit": 2048000,
      "rowLimit": 10000
     },
     "inputWidgets": {},
     "nuid": "f57a4174-3f29-44f3-8b04-5a89b7f658fb",
     "showTitle": true,
     "tableResultSettingsMap": {},
     "title": "Using filter()"
    }
   },
   "outputs": [],
   "source": [
    "# Filter rows where age > 25\n",
    "filtered_df = df.filter(col(\"age\") > 25)\n",
    "filtered_df.display()"
   ]
  },
  {
   "cell_type": "code",
   "execution_count": 0,
   "metadata": {
    "application/vnd.databricks.v1+cell": {
     "cellMetadata": {
      "byteLimit": 2048000,
      "rowLimit": 10000
     },
     "inputWidgets": {},
     "nuid": "f7b69f88-df1d-49d3-ae9f-83a849ec28e5",
     "showTitle": true,
     "tableResultSettingsMap": {},
     "title": "🔎 Using where()"
    }
   },
   "outputs": [],
   "source": [
    "# Same result using where()\n",
    "where_df = df.where(col(\"age\") > 25)\n",
    "where_df.display()"
   ]
  }
 ],
 "metadata": {
  "application/vnd.databricks.v1+notebook": {
   "computePreferences": null,
   "dashboards": [],
   "environmentMetadata": {
    "base_environment": "",
    "environment_version": "2"
   },
   "inputWidgetPreferences": null,
   "language": "python",
   "notebookMetadata": {
    "pythonIndentUnit": 4
   },
   "notebookName": "25. filter() vs where() | Filter DataFrames | PySpark",
   "widgets": {}
  },
  "language_info": {
   "name": "python"
  }
 },
 "nbformat": 4,
 "nbformat_minor": 0
}
