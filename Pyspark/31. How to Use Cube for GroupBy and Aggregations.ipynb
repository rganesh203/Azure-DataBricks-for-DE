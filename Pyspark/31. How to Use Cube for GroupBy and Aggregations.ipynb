{
 "cells": [
  {
   "cell_type": "markdown",
   "metadata": {
    "application/vnd.databricks.v1+cell": {
     "cellMetadata": {},
     "inputWidgets": {},
     "nuid": "d52b2a22-7764-4c3f-8287-12b07c762667",
     "showTitle": false,
     "tableResultSettingsMap": {},
     "title": ""
    }
   },
   "source": [
    "What is cube() in PySpark?\n",
    "cube() is like an extended version of groupBy(), where instead of grouping only by the given columns, it produces aggregations for all possible combinations of those columns, including partial aggregations and the grand total.\n",
    "\n",
    "Think of it like an OLAP cube in data warehousing — you get aggregated views for every combination of your grouping columns."
   ]
  },
  {
   "cell_type": "code",
   "execution_count": 0,
   "metadata": {
    "application/vnd.databricks.v1+cell": {
     "cellMetadata": {},
     "inputWidgets": {},
     "nuid": "52296a58-1d4e-4eb9-baf6-8132a137128f",
     "showTitle": true,
     "tableResultSettingsMap": {},
     "title": "Sample DataFrame"
    }
   },
   "outputs": [],
   "source": [
    "from pyspark.sql.functions import sum\n",
    "\n",
    "# Sample data\n",
    "data = [\n",
    "    (\"East\", \"ProductA\", 100),\n",
    "    (\"East\", \"ProductB\", 150),\n",
    "    (\"West\", \"ProductA\", 200),\n",
    "    (\"West\", \"ProductB\", 300),\n",
    "    (\"West\", \"ProductC\", 250)\n",
    "]\n",
    "\n",
    "columns = [\"Region\", \"Product\", \"Sales\"]\n",
    "\n",
    "df = spark.createDataFrame(data, columns)\n",
    "\n",
    "df.display()"
   ]
  },
  {
   "cell_type": "code",
   "execution_count": 0,
   "metadata": {
    "application/vnd.databricks.v1+cell": {
     "cellMetadata": {},
     "inputWidgets": {},
     "nuid": "ba527d0b-efc0-4094-95b7-4761ae35b957",
     "showTitle": true,
     "tableResultSettingsMap": {},
     "title": "Using cube() for Grouping"
    }
   },
   "outputs": [],
   "source": [
    "# Cube on Region and Product\n",
    "cube_df = df.cube(\"Region\", \"Product\").agg(sum(\"Sales\").alias(\"TotalSales\"))\n",
    "\n",
    "cube_df.display()"
   ]
  },
  {
   "cell_type": "markdown",
   "metadata": {
    "application/vnd.databricks.v1+cell": {
     "cellMetadata": {},
     "inputWidgets": {},
     "nuid": "ac374bf5-7972-453f-b3ef-4a89edcec8e8",
     "showTitle": false,
     "tableResultSettingsMap": {},
     "title": ""
    }
   },
   "source": [
    "### What happens here:\n",
    "\n",
    "It aggregates Sales for all combinations:\n",
    "\n",
    "    (Region, Product) — normal grouping\n",
    "\n",
    "    (Region, null) — subtotal per region\n",
    "\n",
    "    (null, Product) — subtotal per product\n",
    "\n",
    "    (null, null) — grand total"
   ]
  },
  {
   "cell_type": "markdown",
   "metadata": {
    "application/vnd.databricks.v1+cell": {
     "cellMetadata": {},
     "inputWidgets": {},
     "nuid": "1032c771-ec52-4631-9002-1d1e394404a0",
     "showTitle": false,
     "tableResultSettingsMap": {},
     "title": ""
    }
   },
   "source": [
    "### When to Use cube()\n",
    "\n",
    "When you need all possible aggregation combinations (subtotals + grand totals).\n",
    "\n",
    "Good for multi-dimensional analysis.\n",
    "\n",
    "Example: Sales data by region and product category."
   ]
  },
  {
   "cell_type": "markdown",
   "metadata": {
    "application/vnd.databricks.v1+cell": {
     "cellMetadata": {},
     "inputWidgets": {},
     "nuid": "0a248d31-970d-41dd-91bc-8f3301cf330d",
     "showTitle": false,
     "tableResultSettingsMap": {},
     "title": ""
    }
   },
   "source": [
    "### Difference Between groupBy(), rollup(), and cube()\n",
    "| Function    | Output                                                            |\n",
    "| ----------- | ----------------------------------------------------------------- |\n",
    "| `groupBy()` | Only the exact grouping columns.                                  |\n",
    "| `rollup()`  | Groupings in a **hierarchical order** (like totals along a path). |\n",
    "| `cube()`    | **All possible** combinations of grouping columns.                |\n",
    "\n"
   ]
  }
 ],
 "metadata": {
  "application/vnd.databricks.v1+notebook": {
   "computePreferences": null,
   "dashboards": [],
   "environmentMetadata": {
    "base_environment": "",
    "environment_version": "2"
   },
   "inputWidgetPreferences": null,
   "language": "python",
   "notebookMetadata": {
    "pythonIndentUnit": 4
   },
   "notebookName": "31. How to Use Cube for GroupBy and Aggregations",
   "widgets": {}
  },
  "language_info": {
   "name": "python"
  }
 },
 "nbformat": 4,
 "nbformat_minor": 0
}
