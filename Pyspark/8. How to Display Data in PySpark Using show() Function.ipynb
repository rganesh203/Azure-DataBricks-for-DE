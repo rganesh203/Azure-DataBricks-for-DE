{
 "cells": [
  {
   "cell_type": "markdown",
   "metadata": {
    "application/vnd.databricks.v1+cell": {
     "cellMetadata": {},
     "inputWidgets": {},
     "nuid": "965507d6-60a6-43a7-ac5f-b32ff2a76389",
     "showTitle": false,
     "tableResultSettingsMap": {},
     "title": ""
    }
   },
   "source": [
    "In PySpark, the show() function is used to display the contents of a DataFrame in a tabular format. It's useful for debugging and quick data inspection."
   ]
  },
  {
   "cell_type": "markdown",
   "metadata": {
    "application/vnd.databricks.v1+cell": {
     "cellMetadata": {},
     "inputWidgets": {},
     "nuid": "5b05bbca-3fc3-4073-8a79-fe62c9db8c15",
     "showTitle": false,
     "tableResultSettingsMap": {},
     "title": ""
    }
   },
   "source": [
    "# Syntax\n",
    "\n",
    "DataFrame.show(n=20, truncate=True, vertical=False)\n"
   ]
  },
  {
   "cell_type": "code",
   "execution_count": 0,
   "metadata": {
    "application/vnd.databricks.v1+cell": {
     "cellMetadata": {
      "byteLimit": 2048000,
      "rowLimit": 10000
     },
     "inputWidgets": {},
     "nuid": "d2643dc3-cfa3-416d-adc3-57232f12b443",
     "showTitle": true,
     "tableResultSettingsMap": {},
     "title": "Basic show()"
    }
   },
   "outputs": [
    {
     "output_type": "stream",
     "name": "stdout",
     "output_type": "stream",
     "text": [
      "+-------+---+\n|   Name|Age|\n+-------+---+\n|  Alice| 34|\n|    Bob| 45|\n|Charlie| 29|\n+-------+---+\n\n"
     ]
    }
   ],
   "source": [
    "data = [(\"Alice\", 34), (\"Bob\", 45), (\"Charlie\", 29)]\n",
    "df = spark.createDataFrame(data, [\"Name\", \"Age\"])\n",
    "\n",
    "df.show()"
   ]
  },
  {
   "cell_type": "code",
   "execution_count": 0,
   "metadata": {
    "application/vnd.databricks.v1+cell": {
     "cellMetadata": {
      "byteLimit": 2048000,
      "rowLimit": 10000
     },
     "inputWidgets": {},
     "nuid": "41d2816f-e462-4331-98cb-f1e2dd3cef56",
     "showTitle": true,
     "tableResultSettingsMap": {},
     "title": "Show First 2 Rows"
    }
   },
   "outputs": [
    {
     "output_type": "stream",
     "name": "stdout",
     "output_type": "stream",
     "text": [
      "+-----+---+\n| Name|Age|\n+-----+---+\n|Alice| 34|\n|  Bob| 45|\n+-----+---+\nonly showing top 2 rows\n\n"
     ]
    }
   ],
   "source": [
    "df.show(2)"
   ]
  },
  {
   "cell_type": "code",
   "execution_count": 0,
   "metadata": {
    "application/vnd.databricks.v1+cell": {
     "cellMetadata": {
      "byteLimit": 2048000,
      "rowLimit": 10000
     },
     "inputWidgets": {},
     "nuid": "b310df81-15d4-4186-8363-28ec492001cb",
     "showTitle": true,
     "tableResultSettingsMap": {},
     "title": "Disable Truncation"
    }
   },
   "outputs": [
    {
     "output_type": "stream",
     "name": "stdout",
     "output_type": "stream",
     "text": [
      "+-------+---+\n|Name   |Age|\n+-------+---+\n|Alice  |34 |\n|Bob    |45 |\n|Charlie|29 |\n+-------+---+\n\n"
     ]
    }
   ],
   "source": [
    "df.show(truncate=False)"
   ]
  },
  {
   "cell_type": "code",
   "execution_count": 0,
   "metadata": {
    "application/vnd.databricks.v1+cell": {
     "cellMetadata": {
      "byteLimit": 2048000,
      "rowLimit": 10000
     },
     "inputWidgets": {},
     "nuid": "aa0751a1-47b7-4ed2-9642-e6bb558f1187",
     "showTitle": true,
     "tableResultSettingsMap": {},
     "title": "Show Data Vertically"
    }
   },
   "outputs": [
    {
     "output_type": "stream",
     "name": "stdout",
     "output_type": "stream",
     "text": [
      "-RECORD 0-------\n Name | Alice   \n Age  | 34      \n-RECORD 1-------\n Name | Bob     \n Age  | 45      \n-RECORD 2-------\n Name | Charlie \n Age  | 29      \n\n"
     ]
    }
   ],
   "source": [
    "df.show(vertical=True)"
   ]
  }
 ],
 "metadata": {
  "application/vnd.databricks.v1+notebook": {
   "computePreferences": null,
   "dashboards": [],
   "environmentMetadata": {
    "base_environment": "",
    "environment_version": "1"
   },
   "inputWidgetPreferences": null,
   "language": "python",
   "notebookMetadata": {
    "pythonIndentUnit": 4
   },
   "notebookName": "8. How to Display Data in PySpark Using show() Function",
   "widgets": {}
  }
 },
 "nbformat": 4,
 "nbformat_minor": 0
}