{
 "cells": [
  {
   "cell_type": "markdown",
   "metadata": {
    "application/vnd.databricks.v1+cell": {
     "cellMetadata": {},
     "inputWidgets": {},
     "nuid": "b14b27fb-7972-41d6-b50f-aa5722dabaaf",
     "showTitle": false,
     "tableResultSettingsMap": {},
     "title": ""
    }
   },
   "source": [
    "### What is agg() in PySpark?\n",
    "The agg() function in PySpark is used to apply one or more aggregate functions (like sum, avg, min, max, count, etc.) to DataFrame columns.\n",
    "\n",
    "It’s often used after groupBy(), but you can also use it without grouping to aggregate the entire DataFrame."
   ]
  },
  {
   "cell_type": "code",
   "execution_count": 0,
   "metadata": {
    "application/vnd.databricks.v1+cell": {
     "cellMetadata": {},
     "inputWidgets": {},
     "nuid": "f72cb5ba-af70-44d9-a7f1-682535e4a419",
     "showTitle": true,
     "tableResultSettingsMap": {},
     "title": "Sample DataFrame"
    }
   },
   "outputs": [],
   "source": [
    "from pyspark.sql.functions import sum, avg, max, min, count\n",
    "\n",
    "# Sample data\n",
    "data = [\n",
    "    (\"A\", 100, 10),\n",
    "    (\"A\", 200, 20),\n",
    "    (\"B\", 300, 30),\n",
    "    (\"B\", 400, 40),\n",
    "    (\"C\", 500, 50)\n",
    "]\n",
    "\n",
    "# Create DataFrame\n",
    "df = spark.createDataFrame(data, [\"Category\", \"Sales\", \"Quantity\"])\n",
    "\n",
    "df.display()"
   ]
  },
  {
   "cell_type": "code",
   "execution_count": 0,
   "metadata": {
    "application/vnd.databricks.v1+cell": {
     "cellMetadata": {},
     "inputWidgets": {},
     "nuid": "5f8433ce-193c-451a-ad19-c95408ff1a77",
     "showTitle": true,
     "tableResultSettingsMap": {},
     "title": "Using agg() Without Grouping"
    }
   },
   "outputs": [],
   "source": [
    "df.agg(\n",
    "    sum(\"Sales\").alias(\"Total_Sales\"),\n",
    "    avg(\"Quantity\").alias(\"Average_Quantity\")\n",
    ").display()\n"
   ]
  },
  {
   "cell_type": "code",
   "execution_count": 0,
   "metadata": {
    "application/vnd.databricks.v1+cell": {
     "cellMetadata": {},
     "inputWidgets": {},
     "nuid": "20ba137b-88a9-447b-b98c-45b26aa515ff",
     "showTitle": true,
     "tableResultSettingsMap": {},
     "title": "Using agg() With groupBy()"
    }
   },
   "outputs": [],
   "source": [
    "df.groupBy(\"Category\").agg(\n",
    "    sum(\"Sales\").alias(\"Total_Sales\"),\n",
    "    avg(\"Quantity\").alias(\"Average_Quantity\"),\n",
    "    max(\"Sales\").alias(\"Max_Sales\"),\n",
    "    min(\"Sales\").alias(\"Min_Sales\")\n",
    ").display()\n"
   ]
  },
  {
   "cell_type": "code",
   "execution_count": 0,
   "metadata": {
    "application/vnd.databricks.v1+cell": {
     "cellMetadata": {},
     "inputWidgets": {},
     "nuid": "1348b2a7-6774-4a95-9a38-a754125b9663",
     "showTitle": true,
     "tableResultSettingsMap": {},
     "title": "Using Multiple Aggregations in a Dictionary Style"
    }
   },
   "outputs": [],
   "source": [
    "df.groupBy(\"Category\").agg(\n",
    "    {\"Sales\": \"sum\", \"Quantity\": \"avg\"}\n",
    ").display()\n"
   ]
  },
  {
   "cell_type": "markdown",
   "metadata": {
    "application/vnd.databricks.v1+cell": {
     "cellMetadata": {},
     "inputWidgets": {},
     "nuid": "23168a95-290d-47cf-a728-7abd696c383b",
     "showTitle": true,
     "tableResultSettingsMap": {},
     "title": "✅ Key Points:"
    }
   },
   "source": [
    "### ✅ Key Points:\n",
    "\n",
    "  agg() can be used with or without groupBy().\n",
    "\n",
    "  Supports multiple aggregation functions in one call.\n",
    "\n",
    "  Can alias columns for readability.\n",
    "\n",
    "  Accepts both function calls and dictionary syntax."
   ]
  }
 ],
 "metadata": {
  "application/vnd.databricks.v1+notebook": {
   "computePreferences": null,
   "dashboards": [],
   "environmentMetadata": {
    "base_environment": "",
    "environment_version": "2"
   },
   "inputWidgetPreferences": null,
   "language": "python",
   "notebookMetadata": {
    "pythonIndentUnit": 4
   },
   "notebookName": "32. How to Aggregate Data Using agg() Function in PySpark",
   "widgets": {}
  },
  "language_info": {
   "name": "python"
  }
 },
 "nbformat": 4,
 "nbformat_minor": 0
}
