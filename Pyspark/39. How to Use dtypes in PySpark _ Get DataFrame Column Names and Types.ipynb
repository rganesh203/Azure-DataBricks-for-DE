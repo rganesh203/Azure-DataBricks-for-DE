{
 "cells": [
  {
   "cell_type": "markdown",
   "metadata": {
    "application/vnd.databricks.v1+cell": {
     "cellMetadata": {},
     "inputWidgets": {},
     "nuid": "6ed4e50a-09e0-4335-8c37-6c21d0d446b9",
     "showTitle": false,
     "tableResultSettingsMap": {},
     "title": ""
    }
   },
   "source": [
    "In PySpark, the .dtypes attribute is a quick way to get column names and their data types in a DataFrame."
   ]
  },
  {
   "cell_type": "code",
   "execution_count": 0,
   "metadata": {
    "application/vnd.databricks.v1+cell": {
     "cellMetadata": {
      "byteLimit": 2048000,
      "rowLimit": 10000
     },
     "inputWidgets": {},
     "nuid": "a31ccfb1-0192-43c5-af91-409c07651a1f",
     "showTitle": false,
     "tableResultSettingsMap": {},
     "title": ""
    }
   },
   "outputs": [
    {
     "output_type": "display_data",
     "data": {
      "text/html": [
       "<style scoped>\n",
       "  .table-result-container {\n",
       "    max-height: 300px;\n",
       "    overflow: auto;\n",
       "  }\n",
       "  table, th, td {\n",
       "    border: 1px solid black;\n",
       "    border-collapse: collapse;\n",
       "  }\n",
       "  th, td {\n",
       "    padding: 5px;\n",
       "  }\n",
       "  th {\n",
       "    text-align: left;\n",
       "  }\n",
       "</style><div class='table-result-container'><table class='table-result'><thead style='background-color: white'><tr><th>id</th><th>name</th><th>age</th><th>salary</th><th>is_active</th></tr></thead><tbody><tr><td>1</td><td>Alice</td><td>25</td><td>50000.5</td><td>true</td></tr><tr><td>2</td><td>Bob</td><td>30</td><td>60000.0</td><td>false</td></tr><tr><td>3</td><td>Cathy</td><td>28</td><td>70000.75</td><td>true</td></tr></tbody></table></div>"
      ]
     },
     "metadata": {
      "application/vnd.databricks.v1+output": {
       "addedWidgets": {},
       "aggData": [],
       "aggError": "",
       "aggOverflow": false,
       "aggSchema": [],
       "aggSeriesLimitReached": false,
       "aggType": "",
       "arguments": {},
       "columnCustomDisplayInfos": {},
       "data": [
        [
         1,
         "Alice",
         25,
         50000.5,
         true
        ],
        [
         2,
         "Bob",
         30,
         60000.0,
         false
        ],
        [
         3,
         "Cathy",
         28,
         70000.75,
         true
        ]
       ],
       "datasetInfos": [],
       "dbfsResultPath": null,
       "isJsonSchema": true,
       "metadata": {},
       "overflow": false,
       "plotOptions": {
        "customPlotOptions": {},
        "displayType": "table",
        "pivotAggregation": null,
        "pivotColumns": null,
        "xColumns": null,
        "yColumns": null
       },
       "removedWidgets": [],
       "schema": [
        {
         "metadata": "{}",
         "name": "id",
         "type": "\"long\""
        },
        {
         "metadata": "{}",
         "name": "name",
         "type": "\"string\""
        },
        {
         "metadata": "{}",
         "name": "age",
         "type": "\"long\""
        },
        {
         "metadata": "{}",
         "name": "salary",
         "type": "\"double\""
        },
        {
         "metadata": "{}",
         "name": "is_active",
         "type": "\"boolean\""
        }
       ],
       "type": "table"
      }
     },
     "output_type": "display_data"
    }
   ],
   "source": [
    "data = [\n",
    "    (1, \"Alice\", 25, 50000.50, True),\n",
    "    (2, \"Bob\",   30, 60000.00, False),\n",
    "    (3, \"Cathy\", 28, 70000.75, True),\n",
    "]\n",
    "\n",
    "columns = [\"id\", \"name\", \"age\", \"salary\", \"is_active\"]\n",
    "\n",
    "df = spark.createDataFrame(data, columns)\n",
    "\n",
    "df.display()"
   ]
  },
  {
   "cell_type": "code",
   "execution_count": 0,
   "metadata": {
    "application/vnd.databricks.v1+cell": {
     "cellMetadata": {
      "byteLimit": 2048000,
      "rowLimit": 10000
     },
     "inputWidgets": {},
     "nuid": "a9a10911-271a-4ada-9717-fb19ff2c6e69",
     "showTitle": true,
     "tableResultSettingsMap": {},
     "title": "Step 2: Use .dtypes"
    }
   },
   "outputs": [
    {
     "output_type": "stream",
     "name": "stdout",
     "output_type": "stream",
     "text": [
      "[('id', 'bigint'), ('name', 'string'), ('age', 'bigint'), ('salary', 'double'), ('is_active', 'boolean')]\n"
     ]
    }
   ],
   "source": [
    "print(df.dtypes)"
   ]
  },
  {
   "cell_type": "code",
   "execution_count": 0,
   "metadata": {
    "application/vnd.databricks.v1+cell": {
     "cellMetadata": {
      "byteLimit": 2048000,
      "rowLimit": 10000
     },
     "inputWidgets": {},
     "nuid": "493f7540-7218-4e24-b028-44c63b0889d1",
     "showTitle": true,
     "tableResultSettingsMap": {},
     "title": "Step 3: Extract Column Names Only"
    }
   },
   "outputs": [
    {
     "output_type": "stream",
     "name": "stdout",
     "output_type": "stream",
     "text": [
      "['id', 'name', 'age', 'salary', 'is_active']\n"
     ]
    }
   ],
   "source": [
    "col_names = [name for name, dtype in df.dtypes]\n",
    "print(col_names)"
   ]
  },
  {
   "cell_type": "code",
   "execution_count": 0,
   "metadata": {
    "application/vnd.databricks.v1+cell": {
     "cellMetadata": {
      "byteLimit": 2048000,
      "rowLimit": 10000
     },
     "inputWidgets": {},
     "nuid": "4c580a6a-bd2a-4ecc-aef3-d9f170b8dbe9",
     "showTitle": true,
     "tableResultSettingsMap": {},
     "title": "Step 4: Extract Column Data Types Only"
    }
   },
   "outputs": [
    {
     "output_type": "stream",
     "name": "stdout",
     "output_type": "stream",
     "text": [
      "['bigint', 'string', 'bigint', 'double', 'boolean']\n"
     ]
    }
   ],
   "source": [
    "col_types = [dtype for name, dtype in df.dtypes]\n",
    "print(col_types)"
   ]
  },
  {
   "cell_type": "code",
   "execution_count": 0,
   "metadata": {
    "application/vnd.databricks.v1+cell": {
     "cellMetadata": {
      "byteLimit": 2048000,
      "rowLimit": 10000
     },
     "inputWidgets": {},
     "nuid": "711eadf0-1299-4635-80f3-6731f8dcf274",
     "showTitle": true,
     "tableResultSettingsMap": {},
     "title": "Step 5: Use printSchema() (Readable Tree Format)"
    }
   },
   "outputs": [
    {
     "output_type": "stream",
     "name": "stdout",
     "output_type": "stream",
     "text": [
      "root\n |-- id: long (nullable = true)\n |-- name: string (nullable = true)\n |-- age: long (nullable = true)\n |-- salary: double (nullable = true)\n |-- is_active: boolean (nullable = true)\n\n"
     ]
    }
   ],
   "source": [
    "df.printSchema()"
   ]
  },
  {
   "cell_type": "code",
   "execution_count": 0,
   "metadata": {
    "application/vnd.databricks.v1+cell": {
     "cellMetadata": {
      "byteLimit": 2048000,
      "rowLimit": 10000
     },
     "inputWidgets": {},
     "nuid": "1eb4a68b-eae9-49a3-84d0-e03bdc5b5394",
     "showTitle": true,
     "tableResultSettingsMap": {},
     "title": "Filter Numeric Columns Only"
    }
   },
   "outputs": [
    {
     "output_type": "stream",
     "name": "stdout",
     "output_type": "stream",
     "text": [
      "Numeric columns: ['id', 'age', 'salary']\n"
     ]
    }
   ],
   "source": [
    "numeric_cols = [name for name, dtype in df.dtypes if dtype in (\"int\", \"bigint\", \"double\", \"float\")]\n",
    "print(\"Numeric columns:\", numeric_cols)"
   ]
  },
  {
   "cell_type": "markdown",
   "metadata": {
    "application/vnd.databricks.v1+cell": {
     "cellMetadata": {},
     "inputWidgets": {},
     "nuid": "a416adcc-0467-426d-aea6-8b7573e9bd55",
     "showTitle": false,
     "tableResultSettingsMap": {},
     "title": ""
    }
   },
   "source": [
    "### ✅ Summary\n",
    "\n",
    "df.dtypes → list of (column, type) tuples.\n",
    "\n",
    "df.printSchema() → pretty tree format.\n",
    "\n",
    "You can filter/extract names or types programmatically."
   ]
  }
 ],
 "metadata": {
  "application/vnd.databricks.v1+notebook": {
   "computePreferences": null,
   "dashboards": [],
   "environmentMetadata": {
    "base_environment": "",
    "environment_version": "1"
   },
   "inputWidgetPreferences": null,
   "language": "python",
   "notebookMetadata": {
    "pythonIndentUnit": 4
   },
   "notebookName": "39. How to Use dtypes in PySpark | Get DataFrame Column Names and Types",
   "widgets": {}
  }
 },
 "nbformat": 4,
 "nbformat_minor": 0
}