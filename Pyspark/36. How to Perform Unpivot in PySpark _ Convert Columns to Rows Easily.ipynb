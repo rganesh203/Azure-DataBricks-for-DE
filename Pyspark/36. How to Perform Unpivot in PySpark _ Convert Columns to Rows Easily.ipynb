{
 "cells": [
  {
   "cell_type": "code",
   "execution_count": 0,
   "metadata": {
    "application/vnd.databricks.v1+cell": {
     "cellMetadata": {
      "byteLimit": 2048000,
      "rowLimit": 10000
     },
     "inputWidgets": {},
     "nuid": "d816ff6f-19f0-42e5-b001-efd693aeb389",
     "showTitle": false,
     "tableResultSettingsMap": {},
     "title": ""
    }
   },
   "outputs": [
    {
     "output_type": "display_data",
     "data": {
      "text/html": [
       "<style scoped>\n",
       "  .table-result-container {\n",
       "    max-height: 300px;\n",
       "    overflow: auto;\n",
       "  }\n",
       "  table, th, td {\n",
       "    border: 1px solid black;\n",
       "    border-collapse: collapse;\n",
       "  }\n",
       "  th, td {\n",
       "    padding: 5px;\n",
       "  }\n",
       "  th {\n",
       "    text-align: left;\n",
       "  }\n",
       "</style><div class='table-result-container'><table class='table-result'><thead style='background-color: white'><tr><th>id</th><th>name</th><th>math</th><th>science</th><th>english</th></tr></thead><tbody><tr><td>1</td><td>Alice</td><td>10</td><td>20</td><td>30</td></tr><tr><td>2</td><td>Bob</td><td>40</td><td>50</td><td>60</td></tr><tr><td>3</td><td>Cathy</td><td>70</td><td>80</td><td>90</td></tr></tbody></table></div>"
      ]
     },
     "metadata": {
      "application/vnd.databricks.v1+output": {
       "addedWidgets": {},
       "aggData": [],
       "aggError": "",
       "aggOverflow": false,
       "aggSchema": [],
       "aggSeriesLimitReached": false,
       "aggType": "",
       "arguments": {},
       "columnCustomDisplayInfos": {},
       "data": [
        [
         1,
         "Alice",
         10,
         20,
         30
        ],
        [
         2,
         "Bob",
         40,
         50,
         60
        ],
        [
         3,
         "Cathy",
         70,
         80,
         90
        ]
       ],
       "datasetInfos": [],
       "dbfsResultPath": null,
       "isJsonSchema": true,
       "metadata": {},
       "overflow": false,
       "plotOptions": {
        "customPlotOptions": {},
        "displayType": "table",
        "pivotAggregation": null,
        "pivotColumns": null,
        "xColumns": null,
        "yColumns": null
       },
       "removedWidgets": [],
       "schema": [
        {
         "metadata": "{}",
         "name": "id",
         "type": "\"long\""
        },
        {
         "metadata": "{}",
         "name": "name",
         "type": "\"string\""
        },
        {
         "metadata": "{}",
         "name": "math",
         "type": "\"long\""
        },
        {
         "metadata": "{}",
         "name": "science",
         "type": "\"long\""
        },
        {
         "metadata": "{}",
         "name": "english",
         "type": "\"long\""
        }
       ],
       "type": "table"
      }
     },
     "output_type": "display_data"
    }
   ],
   "source": [
    "data = [\n",
    "    (1, \"Alice\", 10, 20, 30),\n",
    "    (2, \"Bob\",   40, 50, 60),\n",
    "    (3, \"Cathy\", 70, 80, 90)\n",
    "]\n",
    "\n",
    "columns = [\"id\", \"name\", \"math\", \"science\", \"english\"]\n",
    "\n",
    "df = spark.createDataFrame(data, columns)\n",
    "\n",
    "df.display()"
   ]
  },
  {
   "cell_type": "code",
   "execution_count": 0,
   "metadata": {
    "application/vnd.databricks.v1+cell": {
     "cellMetadata": {
      "byteLimit": 2048000,
      "rowLimit": 10000
     },
     "inputWidgets": {},
     "nuid": "cf9a9841-dd24-4589-81a9-792316a47ea3",
     "showTitle": true,
     "tableResultSettingsMap": {},
     "title": "Method 1: Using selectExpr + stack()"
    }
   },
   "outputs": [
    {
     "output_type": "display_data",
     "data": {
      "text/html": [
       "<style scoped>\n",
       "  .table-result-container {\n",
       "    max-height: 300px;\n",
       "    overflow: auto;\n",
       "  }\n",
       "  table, th, td {\n",
       "    border: 1px solid black;\n",
       "    border-collapse: collapse;\n",
       "  }\n",
       "  th, td {\n",
       "    padding: 5px;\n",
       "  }\n",
       "  th {\n",
       "    text-align: left;\n",
       "  }\n",
       "</style><div class='table-result-container'><table class='table-result'><thead style='background-color: white'><tr><th>id</th><th>name</th><th>subject</th><th>score</th></tr></thead><tbody><tr><td>1</td><td>Alice</td><td>math</td><td>10</td></tr><tr><td>1</td><td>Alice</td><td>science</td><td>20</td></tr><tr><td>1</td><td>Alice</td><td>english</td><td>30</td></tr><tr><td>2</td><td>Bob</td><td>math</td><td>40</td></tr><tr><td>2</td><td>Bob</td><td>science</td><td>50</td></tr><tr><td>2</td><td>Bob</td><td>english</td><td>60</td></tr><tr><td>3</td><td>Cathy</td><td>math</td><td>70</td></tr><tr><td>3</td><td>Cathy</td><td>science</td><td>80</td></tr><tr><td>3</td><td>Cathy</td><td>english</td><td>90</td></tr></tbody></table></div>"
      ]
     },
     "metadata": {
      "application/vnd.databricks.v1+output": {
       "addedWidgets": {},
       "aggData": [],
       "aggError": "",
       "aggOverflow": false,
       "aggSchema": [],
       "aggSeriesLimitReached": false,
       "aggType": "",
       "arguments": {},
       "columnCustomDisplayInfos": {},
       "data": [
        [
         1,
         "Alice",
         "math",
         10
        ],
        [
         1,
         "Alice",
         "science",
         20
        ],
        [
         1,
         "Alice",
         "english",
         30
        ],
        [
         2,
         "Bob",
         "math",
         40
        ],
        [
         2,
         "Bob",
         "science",
         50
        ],
        [
         2,
         "Bob",
         "english",
         60
        ],
        [
         3,
         "Cathy",
         "math",
         70
        ],
        [
         3,
         "Cathy",
         "science",
         80
        ],
        [
         3,
         "Cathy",
         "english",
         90
        ]
       ],
       "datasetInfos": [],
       "dbfsResultPath": null,
       "isJsonSchema": true,
       "metadata": {},
       "overflow": false,
       "plotOptions": {
        "customPlotOptions": {},
        "displayType": "table",
        "pivotAggregation": null,
        "pivotColumns": null,
        "xColumns": null,
        "yColumns": null
       },
       "removedWidgets": [],
       "schema": [
        {
         "metadata": "{}",
         "name": "id",
         "type": "\"long\""
        },
        {
         "metadata": "{}",
         "name": "name",
         "type": "\"string\""
        },
        {
         "metadata": "{}",
         "name": "subject",
         "type": "\"string\""
        },
        {
         "metadata": "{}",
         "name": "score",
         "type": "\"long\""
        }
       ],
       "type": "table"
      }
     },
     "output_type": "display_data"
    }
   ],
   "source": [
    "# Unpivot using stack\n",
    "unpivotDF = df.selectExpr(\n",
    "    \"id\",\n",
    "    \"name\",\n",
    "    \"stack(3, 'math', math, 'science', science, 'english', english) as (subject, score)\"\n",
    ")\n",
    "\n",
    "unpivotDF.display()\n"
   ]
  },
  {
   "cell_type": "code",
   "execution_count": 0,
   "metadata": {
    "application/vnd.databricks.v1+cell": {
     "cellMetadata": {
      "byteLimit": 2048000,
      "rowLimit": 10000
     },
     "inputWidgets": {},
     "nuid": "4a44fd85-5862-4bfa-8304-b6553f0ce6ba",
     "showTitle": true,
     "tableResultSettingsMap": {},
     "title": "Method 2: Using union (Less Efficient for Many Columns)"
    }
   },
   "outputs": [
    {
     "output_type": "display_data",
     "data": {
      "text/html": [
       "<style scoped>\n",
       "  .table-result-container {\n",
       "    max-height: 300px;\n",
       "    overflow: auto;\n",
       "  }\n",
       "  table, th, td {\n",
       "    border: 1px solid black;\n",
       "    border-collapse: collapse;\n",
       "  }\n",
       "  th, td {\n",
       "    padding: 5px;\n",
       "  }\n",
       "  th {\n",
       "    text-align: left;\n",
       "  }\n",
       "</style><div class='table-result-container'><table class='table-result'><thead style='background-color: white'><tr><th>id</th><th>name</th><th>subject</th><th>score</th></tr></thead><tbody><tr><td>1</td><td>Alice</td><td>math</td><td>10</td></tr><tr><td>2</td><td>Bob</td><td>math</td><td>40</td></tr><tr><td>3</td><td>Cathy</td><td>math</td><td>70</td></tr><tr><td>1</td><td>Alice</td><td>science</td><td>20</td></tr><tr><td>2</td><td>Bob</td><td>science</td><td>50</td></tr><tr><td>3</td><td>Cathy</td><td>science</td><td>80</td></tr><tr><td>1</td><td>Alice</td><td>english</td><td>30</td></tr><tr><td>2</td><td>Bob</td><td>english</td><td>60</td></tr><tr><td>3</td><td>Cathy</td><td>english</td><td>90</td></tr></tbody></table></div>"
      ]
     },
     "metadata": {
      "application/vnd.databricks.v1+output": {
       "addedWidgets": {},
       "aggData": [],
       "aggError": "",
       "aggOverflow": false,
       "aggSchema": [],
       "aggSeriesLimitReached": false,
       "aggType": "",
       "arguments": {},
       "columnCustomDisplayInfos": {},
       "data": [
        [
         1,
         "Alice",
         "math",
         10
        ],
        [
         2,
         "Bob",
         "math",
         40
        ],
        [
         3,
         "Cathy",
         "math",
         70
        ],
        [
         1,
         "Alice",
         "science",
         20
        ],
        [
         2,
         "Bob",
         "science",
         50
        ],
        [
         3,
         "Cathy",
         "science",
         80
        ],
        [
         1,
         "Alice",
         "english",
         30
        ],
        [
         2,
         "Bob",
         "english",
         60
        ],
        [
         3,
         "Cathy",
         "english",
         90
        ]
       ],
       "datasetInfos": [],
       "dbfsResultPath": null,
       "isJsonSchema": true,
       "metadata": {},
       "overflow": false,
       "plotOptions": {
        "customPlotOptions": {},
        "displayType": "table",
        "pivotAggregation": null,
        "pivotColumns": null,
        "xColumns": null,
        "yColumns": null
       },
       "removedWidgets": [],
       "schema": [
        {
         "metadata": "{}",
         "name": "id",
         "type": "\"long\""
        },
        {
         "metadata": "{}",
         "name": "name",
         "type": "\"string\""
        },
        {
         "metadata": "{}",
         "name": "subject",
         "type": "\"string\""
        },
        {
         "metadata": "{}",
         "name": "score",
         "type": "\"long\""
        }
       ],
       "type": "table"
      }
     },
     "output_type": "display_data"
    }
   ],
   "source": [
    "from pyspark.sql.functions import lit\n",
    "\n",
    "unpivotDF2 = (\n",
    "    df.select(\"id\", \"name\", lit(\"math\").alias(\"subject\"), df[\"math\"].alias(\"score\"))\n",
    "    .union(df.select(\"id\", \"name\", lit(\"science\"), df[\"science\"]))\n",
    "    .union(df.select(\"id\", \"name\", lit(\"english\"), df[\"english\"]))\n",
    ")\n",
    "\n",
    "unpivotDF2.display()\n"
   ]
  },
  {
   "cell_type": "markdown",
   "metadata": {
    "application/vnd.databricks.v1+cell": {
     "cellMetadata": {},
     "inputWidgets": {},
     "nuid": "297c571d-265d-45b2-a64b-65a440f1fccb",
     "showTitle": false,
     "tableResultSettingsMap": {},
     "title": ""
    }
   },
   "source": [
    "### ✅ Best Practice\n",
    "\n",
    "Use stack() when you know the columns in advance (best performance).\n",
    "\n",
    "Use dynamic stack generation (via Python list join) if column names are many."
   ]
  }
 ],
 "metadata": {
  "application/vnd.databricks.v1+notebook": {
   "computePreferences": null,
   "dashboards": [],
   "environmentMetadata": {
    "base_environment": "",
    "environment_version": "1"
   },
   "inputWidgetPreferences": null,
   "language": "python",
   "notebookMetadata": {
    "pythonIndentUnit": 4
   },
   "notebookName": "36. How to Perform Unpivot in PySpark | Convert Columns to Rows Easily",
   "widgets": {}
  }
 },
 "nbformat": 4,
 "nbformat_minor": 0
}