{
 "cells": [
  {
   "cell_type": "markdown",
   "metadata": {
    "application/vnd.databricks.v1+cell": {
     "cellMetadata": {},
     "inputWidgets": {},
     "nuid": "3fc6d775-2c0a-4b0c-9770-195ad6449870",
     "showTitle": false,
     "tableResultSettingsMap": {},
     "title": ""
    }
   },
   "source": [
    "In PySpark there’s no built-in melt() like pandas, but you can reshape (“unpivot”) cleanly with stack() (fast + scalable) or with a dynamic explode trick. Here’s a quick, copy-pasteable guide with a sample DataFrame."
   ]
  },
  {
   "cell_type": "code",
   "execution_count": 0,
   "metadata": {
    "application/vnd.databricks.v1+cell": {
     "cellMetadata": {
      "byteLimit": 2048000,
      "rowLimit": 10000
     },
     "inputWidgets": {},
     "nuid": "f2071bb2-42ff-4f11-b090-44763e13bbd4",
     "showTitle": true,
     "tableResultSettingsMap": {},
     "title": "Sample DataFrame"
    }
   },
   "outputs": [
    {
     "output_type": "display_data",
     "data": {
      "text/html": [
       "<style scoped>\n",
       "  .table-result-container {\n",
       "    max-height: 300px;\n",
       "    overflow: auto;\n",
       "  }\n",
       "  table, th, td {\n",
       "    border: 1px solid black;\n",
       "    border-collapse: collapse;\n",
       "  }\n",
       "  th, td {\n",
       "    padding: 5px;\n",
       "  }\n",
       "  th {\n",
       "    text-align: left;\n",
       "  }\n",
       "</style><div class='table-result-container'><table class='table-result'><thead style='background-color: white'><tr><th>id</th><th>name</th><th>math</th><th>science</th><th>english</th></tr></thead><tbody><tr><td>1</td><td>Alice</td><td>10</td><td>20</td><td>30</td></tr><tr><td>2</td><td>Bob</td><td>40</td><td>50</td><td>null</td></tr><tr><td>3</td><td>Cathy</td><td>70</td><td>80</td><td>90</td></tr></tbody></table></div>"
      ]
     },
     "metadata": {
      "application/vnd.databricks.v1+output": {
       "addedWidgets": {},
       "aggData": [],
       "aggError": "",
       "aggOverflow": false,
       "aggSchema": [],
       "aggSeriesLimitReached": false,
       "aggType": "",
       "arguments": {},
       "columnCustomDisplayInfos": {},
       "data": [
        [
         1,
         "Alice",
         10,
         20,
         30
        ],
        [
         2,
         "Bob",
         40,
         50,
         null
        ],
        [
         3,
         "Cathy",
         70,
         80,
         90
        ]
       ],
       "datasetInfos": [],
       "dbfsResultPath": null,
       "isJsonSchema": true,
       "metadata": {},
       "overflow": false,
       "plotOptions": {
        "customPlotOptions": {},
        "displayType": "table",
        "pivotAggregation": null,
        "pivotColumns": null,
        "xColumns": null,
        "yColumns": null
       },
       "removedWidgets": [],
       "schema": [
        {
         "metadata": "{}",
         "name": "id",
         "type": "\"long\""
        },
        {
         "metadata": "{}",
         "name": "name",
         "type": "\"string\""
        },
        {
         "metadata": "{}",
         "name": "math",
         "type": "\"long\""
        },
        {
         "metadata": "{}",
         "name": "science",
         "type": "\"long\""
        },
        {
         "metadata": "{}",
         "name": "english",
         "type": "\"long\""
        }
       ],
       "type": "table"
      }
     },
     "output_type": "display_data"
    }
   ],
   "source": [
    "data = [\n",
    "    (1, \"Alice\", 10, 20, 30),\n",
    "    (2, \"Bob\",   40, 50, None),\n",
    "    (3, \"Cathy\", 70, 80, 90),\n",
    "]\n",
    "cols = [\"id\", \"name\", \"math\", \"science\", \"english\"]\n",
    "df = spark.createDataFrame(data, cols)\n",
    "df.display()\n"
   ]
  },
  {
   "cell_type": "code",
   "execution_count": 0,
   "metadata": {
    "application/vnd.databricks.v1+cell": {
     "cellMetadata": {
      "byteLimit": 2048000,
      "rowLimit": 10000
     },
     "inputWidgets": {},
     "nuid": "39e6733b-270e-4f03-8a49-340015e9a514",
     "showTitle": true,
     "tableResultSettingsMap": {},
     "title": "Method 1 (Best): stack() = real “melt”"
    }
   },
   "outputs": [
    {
     "output_type": "display_data",
     "data": {
      "text/html": [
       "<style scoped>\n",
       "  .table-result-container {\n",
       "    max-height: 300px;\n",
       "    overflow: auto;\n",
       "  }\n",
       "  table, th, td {\n",
       "    border: 1px solid black;\n",
       "    border-collapse: collapse;\n",
       "  }\n",
       "  th, td {\n",
       "    padding: 5px;\n",
       "  }\n",
       "  th {\n",
       "    text-align: left;\n",
       "  }\n",
       "</style><div class='table-result-container'><table class='table-result'><thead style='background-color: white'><tr><th>id</th><th>name</th><th>subject</th><th>score</th></tr></thead><tbody><tr><td>1</td><td>Alice</td><td>math</td><td>10</td></tr><tr><td>1</td><td>Alice</td><td>science</td><td>20</td></tr><tr><td>1</td><td>Alice</td><td>english</td><td>30</td></tr><tr><td>2</td><td>Bob</td><td>math</td><td>40</td></tr><tr><td>2</td><td>Bob</td><td>science</td><td>50</td></tr><tr><td>2</td><td>Bob</td><td>english</td><td>null</td></tr><tr><td>3</td><td>Cathy</td><td>math</td><td>70</td></tr><tr><td>3</td><td>Cathy</td><td>science</td><td>80</td></tr><tr><td>3</td><td>Cathy</td><td>english</td><td>90</td></tr></tbody></table></div>"
      ]
     },
     "metadata": {
      "application/vnd.databricks.v1+output": {
       "addedWidgets": {},
       "aggData": [],
       "aggError": "",
       "aggOverflow": false,
       "aggSchema": [],
       "aggSeriesLimitReached": false,
       "aggType": "",
       "arguments": {},
       "columnCustomDisplayInfos": {},
       "data": [
        [
         1,
         "Alice",
         "math",
         10
        ],
        [
         1,
         "Alice",
         "science",
         20
        ],
        [
         1,
         "Alice",
         "english",
         30
        ],
        [
         2,
         "Bob",
         "math",
         40
        ],
        [
         2,
         "Bob",
         "science",
         50
        ],
        [
         2,
         "Bob",
         "english",
         null
        ],
        [
         3,
         "Cathy",
         "math",
         70
        ],
        [
         3,
         "Cathy",
         "science",
         80
        ],
        [
         3,
         "Cathy",
         "english",
         90
        ]
       ],
       "datasetInfos": [],
       "dbfsResultPath": null,
       "isJsonSchema": true,
       "metadata": {},
       "overflow": false,
       "plotOptions": {
        "customPlotOptions": {},
        "displayType": "table",
        "pivotAggregation": null,
        "pivotColumns": null,
        "xColumns": null,
        "yColumns": null
       },
       "removedWidgets": [],
       "schema": [
        {
         "metadata": "{}",
         "name": "id",
         "type": "\"long\""
        },
        {
         "metadata": "{}",
         "name": "name",
         "type": "\"string\""
        },
        {
         "metadata": "{}",
         "name": "subject",
         "type": "\"string\""
        },
        {
         "metadata": "{}",
         "name": "score",
         "type": "\"long\""
        }
       ],
       "type": "table"
      }
     },
     "output_type": "display_data"
    }
   ],
   "source": [
    "# Unpivot 3 score columns into two columns: subject, score\n",
    "unpivot = df.selectExpr(\n",
    "    \"id\",\n",
    "    \"name\",\n",
    "    \"stack(3, 'math', math, 'science', science, 'english', english) as (subject, score)\"\n",
    ")\n",
    "unpivot.display()\n"
   ]
  },
  {
   "cell_type": "code",
   "execution_count": 0,
   "metadata": {
    "application/vnd.databricks.v1+cell": {
     "cellMetadata": {
      "byteLimit": 2048000,
      "rowLimit": 10000
     },
     "inputWidgets": {},
     "nuid": "514ce623-1e1d-44c3-9268-0b2af132a45f",
     "showTitle": true,
     "tableResultSettingsMap": {},
     "title": "A Generic melt() Helper (pandas-style)"
    }
   },
   "outputs": [
    {
     "output_type": "display_data",
     "data": {
      "text/html": [
       "<style scoped>\n",
       "  .table-result-container {\n",
       "    max-height: 300px;\n",
       "    overflow: auto;\n",
       "  }\n",
       "  table, th, td {\n",
       "    border: 1px solid black;\n",
       "    border-collapse: collapse;\n",
       "  }\n",
       "  th, td {\n",
       "    padding: 5px;\n",
       "  }\n",
       "  th {\n",
       "    text-align: left;\n",
       "  }\n",
       "</style><div class='table-result-container'><table class='table-result'><thead style='background-color: white'><tr><th>id</th><th>name</th><th>subject</th><th>score</th></tr></thead><tbody><tr><td>1</td><td>Alice</td><td>math</td><td>10</td></tr><tr><td>1</td><td>Alice</td><td>science</td><td>20</td></tr><tr><td>1</td><td>Alice</td><td>english</td><td>30</td></tr><tr><td>2</td><td>Bob</td><td>math</td><td>40</td></tr><tr><td>2</td><td>Bob</td><td>science</td><td>50</td></tr><tr><td>2</td><td>Bob</td><td>english</td><td>null</td></tr><tr><td>3</td><td>Cathy</td><td>math</td><td>70</td></tr><tr><td>3</td><td>Cathy</td><td>science</td><td>80</td></tr><tr><td>3</td><td>Cathy</td><td>english</td><td>90</td></tr></tbody></table></div>"
      ]
     },
     "metadata": {
      "application/vnd.databricks.v1+output": {
       "addedWidgets": {},
       "aggData": [],
       "aggError": "",
       "aggOverflow": false,
       "aggSchema": [],
       "aggSeriesLimitReached": false,
       "aggType": "",
       "arguments": {},
       "columnCustomDisplayInfos": {},
       "data": [
        [
         1,
         "Alice",
         "math",
         10
        ],
        [
         1,
         "Alice",
         "science",
         20
        ],
        [
         1,
         "Alice",
         "english",
         30
        ],
        [
         2,
         "Bob",
         "math",
         40
        ],
        [
         2,
         "Bob",
         "science",
         50
        ],
        [
         2,
         "Bob",
         "english",
         null
        ],
        [
         3,
         "Cathy",
         "math",
         70
        ],
        [
         3,
         "Cathy",
         "science",
         80
        ],
        [
         3,
         "Cathy",
         "english",
         90
        ]
       ],
       "datasetInfos": [],
       "dbfsResultPath": null,
       "isJsonSchema": true,
       "metadata": {},
       "overflow": false,
       "plotOptions": {
        "customPlotOptions": {},
        "displayType": "table",
        "pivotAggregation": null,
        "pivotColumns": null,
        "xColumns": null,
        "yColumns": null
       },
       "removedWidgets": [],
       "schema": [
        {
         "metadata": "{}",
         "name": "id",
         "type": "\"long\""
        },
        {
         "metadata": "{}",
         "name": "name",
         "type": "\"string\""
        },
        {
         "metadata": "{}",
         "name": "subject",
         "type": "\"string\""
        },
        {
         "metadata": "{}",
         "name": "score",
         "type": "\"long\""
        }
       ],
       "type": "table"
      }
     },
     "output_type": "display_data"
    }
   ],
   "source": [
    "def melt(df, id_vars, value_vars, var_name=\"variable\", value_name=\"value\"):\n",
    "    n = len(value_vars)\n",
    "    pairs = \", \".join([f\"'{c}', `{c}`\" for c in value_vars])\n",
    "    return df.selectExpr(\n",
    "        *id_vars,\n",
    "        f\"stack({n}, {pairs}) as (`{var_name}`, `{value_name}`)\"\n",
    "    )\n",
    "\n",
    "melted = melt(df, id_vars=[\"id\",\"name\"],\n",
    "              value_vars=[\"math\",\"science\",\"english\"],\n",
    "              var_name=\"subject\", value_name=\"score\")\n",
    "melted.display()\n"
   ]
  },
  {
   "cell_type": "code",
   "execution_count": 0,
   "metadata": {
    "application/vnd.databricks.v1+cell": {
     "cellMetadata": {
      "byteLimit": 2048000,
      "rowLimit": 10000
     },
     "inputWidgets": {},
     "nuid": "5ce69fd5-4411-4166-83c7-3ca2219f193d",
     "showTitle": true,
     "tableResultSettingsMap": {},
     "title": "Method 2: Fully dynamic (no SQL strings) with map_from_arrays + explode"
    }
   },
   "outputs": [
    {
     "output_type": "display_data",
     "data": {
      "text/html": [
       "<style scoped>\n",
       "  .table-result-container {\n",
       "    max-height: 300px;\n",
       "    overflow: auto;\n",
       "  }\n",
       "  table, th, td {\n",
       "    border: 1px solid black;\n",
       "    border-collapse: collapse;\n",
       "  }\n",
       "  th, td {\n",
       "    padding: 5px;\n",
       "  }\n",
       "  th {\n",
       "    text-align: left;\n",
       "  }\n",
       "</style><div class='table-result-container'><table class='table-result'><thead style='background-color: white'><tr><th>id</th><th>name</th><th>subject</th><th>score</th></tr></thead><tbody><tr><td>1</td><td>Alice</td><td>math</td><td>10</td></tr><tr><td>1</td><td>Alice</td><td>science</td><td>20</td></tr><tr><td>1</td><td>Alice</td><td>english</td><td>30</td></tr><tr><td>2</td><td>Bob</td><td>math</td><td>40</td></tr><tr><td>2</td><td>Bob</td><td>science</td><td>50</td></tr><tr><td>2</td><td>Bob</td><td>english</td><td>null</td></tr><tr><td>3</td><td>Cathy</td><td>math</td><td>70</td></tr><tr><td>3</td><td>Cathy</td><td>science</td><td>80</td></tr><tr><td>3</td><td>Cathy</td><td>english</td><td>90</td></tr></tbody></table></div>"
      ]
     },
     "metadata": {
      "application/vnd.databricks.v1+output": {
       "addedWidgets": {},
       "aggData": [],
       "aggError": "",
       "aggOverflow": false,
       "aggSchema": [],
       "aggSeriesLimitReached": false,
       "aggType": "",
       "arguments": {},
       "columnCustomDisplayInfos": {},
       "data": [
        [
         1,
         "Alice",
         "math",
         10
        ],
        [
         1,
         "Alice",
         "science",
         20
        ],
        [
         1,
         "Alice",
         "english",
         30
        ],
        [
         2,
         "Bob",
         "math",
         40
        ],
        [
         2,
         "Bob",
         "science",
         50
        ],
        [
         2,
         "Bob",
         "english",
         null
        ],
        [
         3,
         "Cathy",
         "math",
         70
        ],
        [
         3,
         "Cathy",
         "science",
         80
        ],
        [
         3,
         "Cathy",
         "english",
         90
        ]
       ],
       "datasetInfos": [],
       "dbfsResultPath": null,
       "isJsonSchema": true,
       "metadata": {},
       "overflow": false,
       "plotOptions": {
        "customPlotOptions": {},
        "displayType": "table",
        "pivotAggregation": null,
        "pivotColumns": null,
        "xColumns": null,
        "yColumns": null
       },
       "removedWidgets": [],
       "schema": [
        {
         "metadata": "{}",
         "name": "id",
         "type": "\"long\""
        },
        {
         "metadata": "{}",
         "name": "name",
         "type": "\"string\""
        },
        {
         "metadata": "{}",
         "name": "subject",
         "type": "\"string\""
        },
        {
         "metadata": "{}",
         "name": "score",
         "type": "\"long\""
        }
       ],
       "type": "table"
      }
     },
     "output_type": "display_data"
    }
   ],
   "source": [
    "from pyspark.sql.functions import col, lit, array, map_from_arrays, explode\n",
    "\n",
    "value_vars = [c for c in df.columns if c in (\"math\",\"science\",\"english\")]  # or any pattern\n",
    "mapping = map_from_arrays(array([lit(c) for c in value_vars]),\n",
    "                          array([col(c) for c in value_vars]))\n",
    "\n",
    "melt_dynamic = df.select(\"id\",\"name\", explode(mapping).alias(\"subject\",\"score\"))\n",
    "melt_dynamic.display()\n"
   ]
  },
  {
   "cell_type": "code",
   "execution_count": 0,
   "metadata": {
    "application/vnd.databricks.v1+cell": {
     "cellMetadata": {
      "byteLimit": 2048000,
      "rowLimit": 10000
     },
     "inputWidgets": {},
     "nuid": "04fe8644-b359-4d74-a0d6-b25b45eb68eb",
     "showTitle": true,
     "tableResultSettingsMap": {},
     "title": "Multi-measure melt (several value columns at once)"
    }
   },
   "outputs": [
    {
     "output_type": "display_data",
     "data": {
      "text/html": [
       "<style scoped>\n",
       "  .table-result-container {\n",
       "    max-height: 300px;\n",
       "    overflow: auto;\n",
       "  }\n",
       "  table, th, td {\n",
       "    border: 1px solid black;\n",
       "    border-collapse: collapse;\n",
       "  }\n",
       "  th, td {\n",
       "    padding: 5px;\n",
       "  }\n",
       "  th {\n",
       "    text-align: left;\n",
       "  }\n",
       "</style><div class='table-result-container'><table class='table-result'><thead style='background-color: white'><tr><th>id</th><th>name</th><th>quarter</th><th>sales</th><th>profit</th></tr></thead><tbody><tr><td>1</td><td>Alice</td><td>Q1</td><td>100</td><td>10.0</td></tr><tr><td>1</td><td>Alice</td><td>Q2</td><td>120</td><td>12.5</td></tr><tr><td>1</td><td>Alice</td><td>Q3</td><td>140</td><td>15.0</td></tr><tr><td>2</td><td>Bob</td><td>Q1</td><td>90</td><td>9.5</td></tr><tr><td>2</td><td>Bob</td><td>Q2</td><td>110</td><td>11.0</td></tr><tr><td>2</td><td>Bob</td><td>Q3</td><td>130</td><td>13.0</td></tr></tbody></table></div>"
      ]
     },
     "metadata": {
      "application/vnd.databricks.v1+output": {
       "addedWidgets": {},
       "aggData": [],
       "aggError": "",
       "aggOverflow": false,
       "aggSchema": [],
       "aggSeriesLimitReached": false,
       "aggType": "",
       "arguments": {},
       "columnCustomDisplayInfos": {},
       "data": [
        [
         1,
         "Alice",
         "Q1",
         100,
         10.0
        ],
        [
         1,
         "Alice",
         "Q2",
         120,
         12.5
        ],
        [
         1,
         "Alice",
         "Q3",
         140,
         15.0
        ],
        [
         2,
         "Bob",
         "Q1",
         90,
         9.5
        ],
        [
         2,
         "Bob",
         "Q2",
         110,
         11.0
        ],
        [
         2,
         "Bob",
         "Q3",
         130,
         13.0
        ]
       ],
       "datasetInfos": [],
       "dbfsResultPath": null,
       "isJsonSchema": true,
       "metadata": {},
       "overflow": false,
       "plotOptions": {
        "customPlotOptions": {},
        "displayType": "table",
        "pivotAggregation": null,
        "pivotColumns": null,
        "xColumns": null,
        "yColumns": null
       },
       "removedWidgets": [],
       "schema": [
        {
         "metadata": "{}",
         "name": "id",
         "type": "\"long\""
        },
        {
         "metadata": "{}",
         "name": "name",
         "type": "\"string\""
        },
        {
         "metadata": "{}",
         "name": "quarter",
         "type": "\"string\""
        },
        {
         "metadata": "{}",
         "name": "sales",
         "type": "\"long\""
        },
        {
         "metadata": "{}",
         "name": "profit",
         "type": "\"double\""
        }
       ],
       "type": "table"
      }
     },
     "output_type": "display_data"
    }
   ],
   "source": [
    "data2 = [\n",
    "    (1, \"Alice\", 100, 10.0, 120, 12.5, 140, 15.0),  # sales_Q1, profit_Q1, sales_Q2, profit_Q2, ...\n",
    "    (2, \"Bob\",    90,  9.5, 110, 11.0, 130, 13.0),\n",
    "]\n",
    "cols2 = [\"id\",\"name\",\"sales_Q1\",\"profit_Q1\",\"sales_Q2\",\"profit_Q2\",\"sales_Q3\",\"profit_Q3\"]\n",
    "df2 = spark.createDataFrame(data2, cols2)\n",
    "\n",
    "multi = df2.selectExpr(\n",
    "    \"id\",\"name\",\n",
    "    \"\"\"\n",
    "    stack(\n",
    "      3,\n",
    "      'Q1', sales_Q1, profit_Q1,\n",
    "      'Q2', sales_Q2, profit_Q2,\n",
    "      'Q3', sales_Q3, profit_Q3\n",
    "    ) as (quarter, sales, profit)\n",
    "    \"\"\"\n",
    ")\n",
    "multi.display()\n"
   ]
  },
  {
   "cell_type": "markdown",
   "metadata": {
    "application/vnd.databricks.v1+cell": {
     "cellMetadata": {},
     "inputWidgets": {},
     "nuid": "88c2713f-24e9-441b-8097-3aea36e80f2f",
     "showTitle": false,
     "tableResultSettingsMap": {},
     "title": ""
    }
   },
   "source": [
    "### Tips & gotchas\n",
    "\n",
    "Prefer stack() for performance and clarity.\n",
    "\n",
    "All stacked columns should be compatible types (cast if mixing ints/floats/strings).\n",
    "\n",
    "To keep all original rows even when all value columns are null, stack() already does the right thing.\n",
    "\n",
    "Avoid building huge union chains—they’re slow and cluttered.\n",
    "\n",
    "Want me to tailor the helper to “all columns except id/name”, or to output sorted by id, subject?"
   ]
  }
 ],
 "metadata": {
  "application/vnd.databricks.v1+notebook": {
   "computePreferences": null,
   "dashboards": [],
   "environmentMetadata": {
    "base_environment": "",
    "environment_version": "1"
   },
   "inputWidgetPreferences": null,
   "language": "python",
   "notebookMetadata": {
    "pythonIndentUnit": 4
   },
   "notebookName": "41. PySpark Melt Function Explained | Reshape & Unpivot DataFrames Step by Step",
   "widgets": {}
  }
 },
 "nbformat": 4,
 "nbformat_minor": 0
}