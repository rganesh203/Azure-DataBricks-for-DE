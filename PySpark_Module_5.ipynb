{
  "nbformat": 4,
  "nbformat_minor": 0,
  "metadata": {
    "colab": {
      "provenance": [],
      "include_colab_link": true
    },
    "kernelspec": {
      "name": "python3",
      "display_name": "Python 3"
    }
  },
  "cells": [
    {
      "cell_type": "markdown",
      "metadata": {
        "id": "view-in-github",
        "colab_type": "text"
      },
      "source": [
        "<a href=\"https://colab.research.google.com/github/rganesh203/Pyspark/blob/main/PySpark_Module5.ipynb\" target=\"_parent\"><img src=\"https://colab.research.google.com/assets/colab-badge.svg\" alt=\"Open In Colab\"/></a>"
      ]
    },
    {
      "cell_type": "code",
      "source": [
        "!apt-get update"
      ],
      "metadata": {
        "colab": {
          "base_uri": "https://localhost:8080/"
        },
        "id": "c_KGJRUUzI1R",
        "outputId": "5152b94d-c7bc-4e4c-ce2a-e17744cd5de4"
      },
      "execution_count": null,
      "outputs": [
        {
          "output_type": "stream",
          "name": "stdout",
          "text": [
            "Get:1 https://cloud.r-project.org/bin/linux/ubuntu focal-cran40/ InRelease [3,622 B]\n",
            "Hit:2 https://developer.download.nvidia.com/compute/cuda/repos/ubuntu2004/x86_64  InRelease\n",
            "Hit:3 http://archive.ubuntu.com/ubuntu focal InRelease\n",
            "Get:4 http://archive.ubuntu.com/ubuntu focal-updates InRelease [114 kB]\n",
            "Get:5 http://security.ubuntu.com/ubuntu focal-security InRelease [114 kB]\n",
            "Get:6 http://ppa.launchpad.net/c2d4u.team/c2d4u4.0+/ubuntu focal InRelease [18.1 kB]\n",
            "Get:7 http://archive.ubuntu.com/ubuntu focal-backports InRelease [108 kB]\n",
            "Hit:8 http://ppa.launchpad.net/cran/libgit2/ubuntu focal InRelease\n",
            "Get:9 http://archive.ubuntu.com/ubuntu focal-updates/main amd64 Packages [3,252 kB]\n",
            "Hit:10 http://ppa.launchpad.net/deadsnakes/ppa/ubuntu focal InRelease\n",
            "Get:11 http://archive.ubuntu.com/ubuntu focal-updates/universe amd64 Packages [1,351 kB]\n",
            "Hit:12 http://ppa.launchpad.net/graphics-drivers/ppa/ubuntu focal InRelease\n",
            "Hit:13 http://ppa.launchpad.net/ubuntugis/ppa/ubuntu focal InRelease\n",
            "Get:14 http://security.ubuntu.com/ubuntu focal-security/main amd64 Packages [2,773 kB]\n",
            "Get:15 http://ppa.launchpad.net/c2d4u.team/c2d4u4.0+/ubuntu focal/main Sources [2,586 kB]\n",
            "Get:16 http://ppa.launchpad.net/c2d4u.team/c2d4u4.0+/ubuntu focal/main amd64 Packages [1,220 kB]\n",
            "Fetched 11.5 MB in 3s (3,466 kB/s)\n",
            "Reading package lists... Done\n"
          ]
        }
      ]
    },
    {
      "cell_type": "code",
      "metadata": {
        "id": "nKmVzCmlfqv0",
        "colab": {
          "base_uri": "https://localhost:8080/"
        },
        "outputId": "fde33d4a-68e7-4a18-f6ce-c19d7e2c68e8"
      },
      "source": [
        "!apt-get install -y openjdk-8-jdk-headless"
      ],
      "execution_count": null,
      "outputs": [
        {
          "output_type": "stream",
          "name": "stdout",
          "text": [
            "Reading package lists... Done\n",
            "Building dependency tree       \n",
            "Reading state information... Done\n",
            "The following additional packages will be installed:\n",
            "  libxtst6 openjdk-8-jre-headless\n",
            "Suggested packages:\n",
            "  openjdk-8-demo openjdk-8-source libnss-mdns fonts-dejavu-extra\n",
            "  fonts-ipafont-gothic fonts-ipafont-mincho fonts-wqy-microhei\n",
            "  fonts-wqy-zenhei fonts-indic\n",
            "The following NEW packages will be installed:\n",
            "  libxtst6 openjdk-8-jdk-headless openjdk-8-jre-headless\n",
            "0 upgraded, 3 newly installed, 0 to remove and 36 not upgraded.\n",
            "Need to get 36.5 MB of archives.\n",
            "After this operation, 144 MB of additional disk space will be used.\n",
            "Get:1 http://archive.ubuntu.com/ubuntu focal/main amd64 libxtst6 amd64 2:1.2.3-1 [12.8 kB]\n",
            "Get:2 http://archive.ubuntu.com/ubuntu focal-updates/universe amd64 openjdk-8-jre-headless amd64 8u372-ga~us1-0ubuntu1~20.04 [28.3 MB]\n",
            "Get:3 http://archive.ubuntu.com/ubuntu focal-updates/universe amd64 openjdk-8-jdk-headless amd64 8u372-ga~us1-0ubuntu1~20.04 [8,282 kB]\n",
            "Fetched 36.5 MB in 1s (41.7 MB/s)\n",
            "Selecting previously unselected package libxtst6:amd64.\n",
            "(Reading database ... 122542 files and directories currently installed.)\n",
            "Preparing to unpack .../libxtst6_2%3a1.2.3-1_amd64.deb ...\n",
            "Unpacking libxtst6:amd64 (2:1.2.3-1) ...\n",
            "Selecting previously unselected package openjdk-8-jre-headless:amd64.\n",
            "Preparing to unpack .../openjdk-8-jre-headless_8u372-ga~us1-0ubuntu1~20.04_amd64.deb ...\n",
            "Unpacking openjdk-8-jre-headless:amd64 (8u372-ga~us1-0ubuntu1~20.04) ...\n",
            "Selecting previously unselected package openjdk-8-jdk-headless:amd64.\n",
            "Preparing to unpack .../openjdk-8-jdk-headless_8u372-ga~us1-0ubuntu1~20.04_amd64.deb ...\n",
            "Unpacking openjdk-8-jdk-headless:amd64 (8u372-ga~us1-0ubuntu1~20.04) ...\n",
            "Setting up libxtst6:amd64 (2:1.2.3-1) ...\n",
            "Setting up openjdk-8-jre-headless:amd64 (8u372-ga~us1-0ubuntu1~20.04) ...\n",
            "update-alternatives: using /usr/lib/jvm/java-8-openjdk-amd64/jre/bin/orbd to provide /usr/bin/orbd (orbd) in auto mode\n",
            "update-alternatives: using /usr/lib/jvm/java-8-openjdk-amd64/jre/bin/servertool to provide /usr/bin/servertool (servertool) in auto mode\n",
            "update-alternatives: using /usr/lib/jvm/java-8-openjdk-amd64/jre/bin/tnameserv to provide /usr/bin/tnameserv (tnameserv) in auto mode\n",
            "Setting up openjdk-8-jdk-headless:amd64 (8u372-ga~us1-0ubuntu1~20.04) ...\n",
            "update-alternatives: using /usr/lib/jvm/java-8-openjdk-amd64/bin/idlj to provide /usr/bin/idlj (idlj) in auto mode\n",
            "update-alternatives: using /usr/lib/jvm/java-8-openjdk-amd64/bin/wsimport to provide /usr/bin/wsimport (wsimport) in auto mode\n",
            "update-alternatives: using /usr/lib/jvm/java-8-openjdk-amd64/bin/jsadebugd to provide /usr/bin/jsadebugd (jsadebugd) in auto mode\n",
            "update-alternatives: using /usr/lib/jvm/java-8-openjdk-amd64/bin/native2ascii to provide /usr/bin/native2ascii (native2ascii) in auto mode\n",
            "update-alternatives: using /usr/lib/jvm/java-8-openjdk-amd64/bin/javah to provide /usr/bin/javah (javah) in auto mode\n",
            "update-alternatives: using /usr/lib/jvm/java-8-openjdk-amd64/bin/clhsdb to provide /usr/bin/clhsdb (clhsdb) in auto mode\n",
            "update-alternatives: using /usr/lib/jvm/java-8-openjdk-amd64/bin/jhat to provide /usr/bin/jhat (jhat) in auto mode\n",
            "update-alternatives: using /usr/lib/jvm/java-8-openjdk-amd64/bin/extcheck to provide /usr/bin/extcheck (extcheck) in auto mode\n",
            "update-alternatives: using /usr/lib/jvm/java-8-openjdk-amd64/bin/hsdb to provide /usr/bin/hsdb (hsdb) in auto mode\n",
            "update-alternatives: using /usr/lib/jvm/java-8-openjdk-amd64/bin/schemagen to provide /usr/bin/schemagen (schemagen) in auto mode\n",
            "update-alternatives: using /usr/lib/jvm/java-8-openjdk-amd64/bin/xjc to provide /usr/bin/xjc (xjc) in auto mode\n",
            "update-alternatives: using /usr/lib/jvm/java-8-openjdk-amd64/bin/wsgen to provide /usr/bin/wsgen (wsgen) in auto mode\n",
            "Processing triggers for libc-bin (2.31-0ubuntu9.9) ...\n"
          ]
        }
      ]
    },
    {
      "cell_type": "code",
      "metadata": {
        "id": "dkeH2p37NRGX",
        "colab": {
          "base_uri": "https://localhost:8080/"
        },
        "outputId": "68507bd9-4466-42d3-ea41-b21fe40ea2fb"
      },
      "source": [
        "!sudo update-alternatives --config java"
      ],
      "execution_count": null,
      "outputs": [
        {
          "output_type": "stream",
          "name": "stdout",
          "text": [
            "There are 2 choices for the alternative java (providing /usr/bin/java).\n",
            "\n",
            "  Selection    Path                                            Priority   Status\n",
            "------------------------------------------------------------\n",
            "* 0            /usr/lib/jvm/java-11-openjdk-amd64/bin/java      1111      auto mode\n",
            "  1            /usr/lib/jvm/java-11-openjdk-amd64/bin/java      1111      manual mode\n",
            "  2            /usr/lib/jvm/java-8-openjdk-amd64/jre/bin/java   1081      manual mode\n",
            "\n",
            "Press <enter> to keep the current choice[*], or type selection number: 2\n",
            "update-alternatives: using /usr/lib/jvm/java-8-openjdk-amd64/jre/bin/java to provide /usr/bin/java (java) in manual mode\n"
          ]
        }
      ]
    },
    {
      "cell_type": "code",
      "metadata": {
        "id": "3hJ2KzB9M6pd"
      },
      "source": [
        "!wget -q https://archive.apache.org/dist/spark/spark-2.4.3/spark-2.4.3-bin-hadoop2.7.tgz"
      ],
      "execution_count": null,
      "outputs": []
    },
    {
      "cell_type": "code",
      "metadata": {
        "id": "QuVi65UOoQS_"
      },
      "source": [
        "!tar xf spark-2.4.3-bin-hadoop2.7.tgz"
      ],
      "execution_count": null,
      "outputs": []
    },
    {
      "cell_type": "code",
      "metadata": {
        "id": "D8HVHvTcoR6u"
      },
      "source": [
        "!pip install -q findspark"
      ],
      "execution_count": null,
      "outputs": []
    },
    {
      "cell_type": "code",
      "metadata": {
        "id": "OHU5W-LhoS4W"
      },
      "source": [
        "import os\n",
        "os.environ[\"JAVA_HOME\"] = \"/usr/lib/jvm/java-8-openjdk-amd64\"\n",
        "os.environ[\"SPARK_HOME\"] = \"/content/spark-2.4.3-bin-hadoop2.7\""
      ],
      "execution_count": null,
      "outputs": []
    },
    {
      "cell_type": "code",
      "metadata": {
        "id": "p8xtPzbCoS_W",
        "colab": {
          "base_uri": "https://localhost:8080/",
          "height": 435
        },
        "outputId": "29add2e9-9f5f-4f9b-d345-068a7fa08adb"
      },
      "source": [
        "import findspark\n",
        "findspark.init()\n",
        "from pyspark.sql import SparkSession\n",
        "#spark = SparkSession.builder.master(\"local[*]\").getOrCreate()\n",
        "spark = SparkSession.builder.master(\"local[1]\").appName('SparkByExamples.com').getOrCreate()"
      ],
      "execution_count": null,
      "outputs": [
        {
          "output_type": "error",
          "ename": "TypeError",
          "evalue": "ignored",
          "traceback": [
            "\u001b[0;31m---------------------------------------------------------------------------\u001b[0m",
            "\u001b[0;31mTypeError\u001b[0m                                 Traceback (most recent call last)",
            "\u001b[0;32m<ipython-input-11-c38d6ba2db43>\u001b[0m in \u001b[0;36m<cell line: 3>\u001b[0;34m()\u001b[0m\n\u001b[1;32m      1\u001b[0m \u001b[0;32mimport\u001b[0m \u001b[0mfindspark\u001b[0m\u001b[0;34m\u001b[0m\u001b[0;34m\u001b[0m\u001b[0m\n\u001b[1;32m      2\u001b[0m \u001b[0mfindspark\u001b[0m\u001b[0;34m.\u001b[0m\u001b[0minit\u001b[0m\u001b[0;34m(\u001b[0m\u001b[0;34m)\u001b[0m\u001b[0;34m\u001b[0m\u001b[0;34m\u001b[0m\u001b[0m\n\u001b[0;32m----> 3\u001b[0;31m \u001b[0;32mfrom\u001b[0m \u001b[0mpyspark\u001b[0m\u001b[0;34m.\u001b[0m\u001b[0msql\u001b[0m \u001b[0;32mimport\u001b[0m \u001b[0mSparkSession\u001b[0m\u001b[0;34m\u001b[0m\u001b[0;34m\u001b[0m\u001b[0m\n\u001b[0m\u001b[1;32m      4\u001b[0m \u001b[0;31m#spark = SparkSession.builder.master(\"local[*]\").getOrCreate()\u001b[0m\u001b[0;34m\u001b[0m\u001b[0;34m\u001b[0m\u001b[0m\n\u001b[1;32m      5\u001b[0m \u001b[0mspark\u001b[0m \u001b[0;34m=\u001b[0m \u001b[0mSparkSession\u001b[0m\u001b[0;34m.\u001b[0m\u001b[0mbuilder\u001b[0m\u001b[0;34m.\u001b[0m\u001b[0mmaster\u001b[0m\u001b[0;34m(\u001b[0m\u001b[0;34m\"local[1]\"\u001b[0m\u001b[0;34m)\u001b[0m\u001b[0;34m.\u001b[0m\u001b[0mappName\u001b[0m\u001b[0;34m(\u001b[0m\u001b[0;34m'SparkByExamples.com'\u001b[0m\u001b[0;34m)\u001b[0m\u001b[0;34m.\u001b[0m\u001b[0mgetOrCreate\u001b[0m\u001b[0;34m(\u001b[0m\u001b[0;34m)\u001b[0m\u001b[0;34m\u001b[0m\u001b[0;34m\u001b[0m\u001b[0m\n",
            "\u001b[0;32m/content/spark-2.4.3-bin-hadoop2.7/python/pyspark/__init__.py\u001b[0m in \u001b[0;36m<module>\u001b[0;34m\u001b[0m\n\u001b[1;32m     49\u001b[0m \u001b[0;34m\u001b[0m\u001b[0m\n\u001b[1;32m     50\u001b[0m \u001b[0;32mfrom\u001b[0m \u001b[0mpyspark\u001b[0m\u001b[0;34m.\u001b[0m\u001b[0mconf\u001b[0m \u001b[0;32mimport\u001b[0m \u001b[0mSparkConf\u001b[0m\u001b[0;34m\u001b[0m\u001b[0;34m\u001b[0m\u001b[0m\n\u001b[0;32m---> 51\u001b[0;31m \u001b[0;32mfrom\u001b[0m \u001b[0mpyspark\u001b[0m\u001b[0;34m.\u001b[0m\u001b[0mcontext\u001b[0m \u001b[0;32mimport\u001b[0m \u001b[0mSparkContext\u001b[0m\u001b[0;34m\u001b[0m\u001b[0;34m\u001b[0m\u001b[0m\n\u001b[0m\u001b[1;32m     52\u001b[0m \u001b[0;32mfrom\u001b[0m \u001b[0mpyspark\u001b[0m\u001b[0;34m.\u001b[0m\u001b[0mrdd\u001b[0m \u001b[0;32mimport\u001b[0m \u001b[0mRDD\u001b[0m\u001b[0;34m,\u001b[0m \u001b[0mRDDBarrier\u001b[0m\u001b[0;34m\u001b[0m\u001b[0;34m\u001b[0m\u001b[0m\n\u001b[1;32m     53\u001b[0m \u001b[0;32mfrom\u001b[0m \u001b[0mpyspark\u001b[0m\u001b[0;34m.\u001b[0m\u001b[0mfiles\u001b[0m \u001b[0;32mimport\u001b[0m \u001b[0mSparkFiles\u001b[0m\u001b[0;34m\u001b[0m\u001b[0;34m\u001b[0m\u001b[0m\n",
            "\u001b[0;32m/content/spark-2.4.3-bin-hadoop2.7/python/pyspark/context.py\u001b[0m in \u001b[0;36m<module>\u001b[0;34m\u001b[0m\n\u001b[1;32m     29\u001b[0m \u001b[0;32mfrom\u001b[0m \u001b[0mpy4j\u001b[0m\u001b[0;34m.\u001b[0m\u001b[0mprotocol\u001b[0m \u001b[0;32mimport\u001b[0m \u001b[0mPy4JError\u001b[0m\u001b[0;34m\u001b[0m\u001b[0;34m\u001b[0m\u001b[0m\n\u001b[1;32m     30\u001b[0m \u001b[0;34m\u001b[0m\u001b[0m\n\u001b[0;32m---> 31\u001b[0;31m \u001b[0;32mfrom\u001b[0m \u001b[0mpyspark\u001b[0m \u001b[0;32mimport\u001b[0m \u001b[0maccumulators\u001b[0m\u001b[0;34m\u001b[0m\u001b[0;34m\u001b[0m\u001b[0m\n\u001b[0m\u001b[1;32m     32\u001b[0m \u001b[0;32mfrom\u001b[0m \u001b[0mpyspark\u001b[0m\u001b[0;34m.\u001b[0m\u001b[0maccumulators\u001b[0m \u001b[0;32mimport\u001b[0m \u001b[0mAccumulator\u001b[0m\u001b[0;34m\u001b[0m\u001b[0;34m\u001b[0m\u001b[0m\n\u001b[1;32m     33\u001b[0m \u001b[0;32mfrom\u001b[0m \u001b[0mpyspark\u001b[0m\u001b[0;34m.\u001b[0m\u001b[0mbroadcast\u001b[0m \u001b[0;32mimport\u001b[0m \u001b[0mBroadcast\u001b[0m\u001b[0;34m,\u001b[0m \u001b[0mBroadcastPickleRegistry\u001b[0m\u001b[0;34m\u001b[0m\u001b[0;34m\u001b[0m\u001b[0m\n",
            "\u001b[0;32m/content/spark-2.4.3-bin-hadoop2.7/python/pyspark/accumulators.py\u001b[0m in \u001b[0;36m<module>\u001b[0;34m\u001b[0m\n\u001b[1;32m     95\u001b[0m     \u001b[0;32mimport\u001b[0m \u001b[0msocketserver\u001b[0m \u001b[0;32mas\u001b[0m \u001b[0mSocketServer\u001b[0m\u001b[0;34m\u001b[0m\u001b[0;34m\u001b[0m\u001b[0m\n\u001b[1;32m     96\u001b[0m \u001b[0;32mimport\u001b[0m \u001b[0mthreading\u001b[0m\u001b[0;34m\u001b[0m\u001b[0;34m\u001b[0m\u001b[0m\n\u001b[0;32m---> 97\u001b[0;31m \u001b[0;32mfrom\u001b[0m \u001b[0mpyspark\u001b[0m\u001b[0;34m.\u001b[0m\u001b[0mserializers\u001b[0m \u001b[0;32mimport\u001b[0m \u001b[0mread_int\u001b[0m\u001b[0;34m,\u001b[0m \u001b[0mPickleSerializer\u001b[0m\u001b[0;34m\u001b[0m\u001b[0;34m\u001b[0m\u001b[0m\n\u001b[0m\u001b[1;32m     98\u001b[0m \u001b[0;34m\u001b[0m\u001b[0m\n\u001b[1;32m     99\u001b[0m \u001b[0;34m\u001b[0m\u001b[0m\n",
            "\u001b[0;32m/content/spark-2.4.3-bin-hadoop2.7/python/pyspark/serializers.py\u001b[0m in \u001b[0;36m<module>\u001b[0;34m\u001b[0m\n\u001b[1;32m     69\u001b[0m     \u001b[0mxrange\u001b[0m \u001b[0;34m=\u001b[0m \u001b[0mrange\u001b[0m\u001b[0;34m\u001b[0m\u001b[0;34m\u001b[0m\u001b[0m\n\u001b[1;32m     70\u001b[0m \u001b[0;34m\u001b[0m\u001b[0m\n\u001b[0;32m---> 71\u001b[0;31m \u001b[0;32mfrom\u001b[0m \u001b[0mpyspark\u001b[0m \u001b[0;32mimport\u001b[0m \u001b[0mcloudpickle\u001b[0m\u001b[0;34m\u001b[0m\u001b[0;34m\u001b[0m\u001b[0m\n\u001b[0m\u001b[1;32m     72\u001b[0m \u001b[0;32mfrom\u001b[0m \u001b[0mpyspark\u001b[0m\u001b[0;34m.\u001b[0m\u001b[0mutil\u001b[0m \u001b[0;32mimport\u001b[0m \u001b[0m_exception_message\u001b[0m\u001b[0;34m\u001b[0m\u001b[0;34m\u001b[0m\u001b[0m\n\u001b[1;32m     73\u001b[0m \u001b[0;34m\u001b[0m\u001b[0m\n",
            "\u001b[0;32m/content/spark-2.4.3-bin-hadoop2.7/python/pyspark/cloudpickle.py\u001b[0m in \u001b[0;36m<module>\u001b[0;34m\u001b[0m\n\u001b[1;32m    143\u001b[0m \u001b[0;34m\u001b[0m\u001b[0m\n\u001b[1;32m    144\u001b[0m \u001b[0;34m\u001b[0m\u001b[0m\n\u001b[0;32m--> 145\u001b[0;31m \u001b[0m_cell_set_template_code\u001b[0m \u001b[0;34m=\u001b[0m \u001b[0m_make_cell_set_template_code\u001b[0m\u001b[0;34m(\u001b[0m\u001b[0;34m)\u001b[0m\u001b[0;34m\u001b[0m\u001b[0;34m\u001b[0m\u001b[0m\n\u001b[0m\u001b[1;32m    146\u001b[0m \u001b[0;34m\u001b[0m\u001b[0m\n\u001b[1;32m    147\u001b[0m \u001b[0;34m\u001b[0m\u001b[0m\n",
            "\u001b[0;32m/content/spark-2.4.3-bin-hadoop2.7/python/pyspark/cloudpickle.py\u001b[0m in \u001b[0;36m_make_cell_set_template_code\u001b[0;34m()\u001b[0m\n\u001b[1;32m    124\u001b[0m         )\n\u001b[1;32m    125\u001b[0m     \u001b[0;32melse\u001b[0m\u001b[0;34m:\u001b[0m\u001b[0;34m\u001b[0m\u001b[0;34m\u001b[0m\u001b[0m\n\u001b[0;32m--> 126\u001b[0;31m         return types.CodeType(\n\u001b[0m\u001b[1;32m    127\u001b[0m             \u001b[0mco\u001b[0m\u001b[0;34m.\u001b[0m\u001b[0mco_argcount\u001b[0m\u001b[0;34m,\u001b[0m\u001b[0;34m\u001b[0m\u001b[0;34m\u001b[0m\u001b[0m\n\u001b[1;32m    128\u001b[0m             \u001b[0mco\u001b[0m\u001b[0;34m.\u001b[0m\u001b[0mco_kwonlyargcount\u001b[0m\u001b[0;34m,\u001b[0m\u001b[0;34m\u001b[0m\u001b[0;34m\u001b[0m\u001b[0m\n",
            "\u001b[0;31mTypeError\u001b[0m: 'bytes' object cannot be interpreted as an integer"
          ]
        }
      ]
    },
    {
      "cell_type": "code",
      "metadata": {
        "colab": {
          "resources": {
            "http://localhost:8080/nbextensions/google.colab/files.js": {
              "data": "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",
              "ok": true,
              "headers": [
                [
                  "content-type",
                  "application/javascript"
                ]
              ],
              "status": 200,
              "status_text": ""
            }
          },
          "base_uri": "https://localhost:8080/",
          "height": 73
        },
        "id": "bedbCQ_hMaNO",
        "outputId": "c068c28f-9c7c-4767-f522-2a6150b915ce"
      },
      "source": [
        "from google.colab import files\n",
        "uploaded = files.upload()"
      ],
      "execution_count": null,
      "outputs": [
        {
          "output_type": "display_data",
          "data": {
            "text/html": [
              "\n",
              "     <input type=\"file\" id=\"files-caed1d0c-46e1-4e19-adf4-926dbbd63a30\" name=\"files[]\" multiple disabled\n",
              "        style=\"border:none\" />\n",
              "     <output id=\"result-caed1d0c-46e1-4e19-adf4-926dbbd63a30\">\n",
              "      Upload widget is only available when the cell has been executed in the\n",
              "      current browser session. Please rerun this cell to enable.\n",
              "      </output>\n",
              "      <script src=\"/nbextensions/google.colab/files.js\"></script> "
            ],
            "text/plain": [
              "<IPython.core.display.HTML object>"
            ]
          },
          "metadata": {}
        },
        {
          "output_type": "stream",
          "name": "stdout",
          "text": [
            "Saving heart.csv to heart.csv\n"
          ]
        }
      ]
    },
    {
      "cell_type": "code",
      "source": [
        "def fun1_rdd_datatype(row):\n",
        "    list1= list()\n",
        "    list1.append(row[0]):\n",
        "    for x in range(1,len(row)):\n",
        "        list1.append(int(row[x]))\n",
        "    return list1"
      ],
      "metadata": {
        "id": "nDjtA8NJAwqQ"
      },
      "execution_count": null,
      "outputs": []
    },
    {
      "cell_type": "code",
      "source": [
        "from pyspark.sql.types import *\n",
        "rdd1= spark.sparkContext.textFile('/content/cricket_1.txt')\n",
        "rdd2=rdd1.map(lambda row: row.split(','))\n",
        "rdd3=rdd2.map(fun1_rdd_datatype)\n",
        "schema = StructType([StructField('player_name', StringType(), True),\n",
        "        StructField('matches_played', IntegerType(), True),\n",
        "        StructField('runs_scored', IntegerType(), True),\n",
        "        StructField('Half_centuries', IntegerType(), True),\n",
        "        StructField('centuries', IntegerType(), True)])\n",
        "print(rdd3.collect())\n",
        "df_student = spark.createDataFrame([[\"praveen,29\"],[\"Rahul\",30],[\"jayakumar\",30]])\n",
        "#df_hive = spark.sql(\"select * from emp_db.hive_table1\")\n",
        "df_csv =spark.read.option(\"header\",\"false\").csv(\"/content/cricket_1.txt\")\n",
        "#df_csv =spark.read.option(\"header\",\"True\").csv(\"/content/heart.txt\")\n",
        "#df_csv.show()\n",
        "#df_jdbc=spark.read.jdbc\n",
        "#read any kind of file using below format option\n",
        "    #df_gen = spark.read.format(\"avro\").load(\"/content/heart.avro\")\n",
        "    #df_gen = spark.read.option(\"rowTag\",\"\").format(\"xml\").load(\"/content/heart.xml\")\n",
        "df_student.show()\n",
        "df1=spark.createDataFrame(rdd3)\n",
        "df1.withColumnRenamed(\"_1\",\"Matches_Played\").df1.withColumnRenamed(\"_2\",\"Player_name\").df1.withColumnRenamed(\"_3\",\"Runs_scored\")\n",
        "df1.printSchema()\n",
        "df1.show()\n",
        "df2=df1.withColumn('AverageScore',df1.runs_scored/df.matches_played)\n",
        "df2.show()\n",
        "def validation(a,b,c,d,e,f):\n",
        "    status=\"pass\"\n",
        "    if isinstance(a,int):\n",
        "        pass\n",
        "    elif isinstance(b,int):\n",
        "        pass\n",
        "    elif isinstance(c,int):\n",
        "        pass\n",
        "    elif isinstance(d,int):\n",
        "        pass\n",
        "    elif isinstance(e,int):\n",
        "        pass\n",
        "    elif isinstance(f,int):\n",
        "        pass\n",
        "    else:\n",
        "        status = \" F:\n",
        "        return status\n",
        "#validation_udf= pandas_udf(validation, returnType=StringType())\n",
        "#df3=df2.withColumn('validation', validation_udf(df2._1,df2._2,df2._3,df2._4,df2._5,df2.AverageScore))\n",
        "#df3.show()\n",
        "#df4 = df3.where(\"validation=True\")\n",
        "\n",
        "\n"
      ],
      "metadata": {
        "id": "fkWszpxl_ZYl"
      },
      "execution_count": null,
      "outputs": []
    },
    {
      "cell_type": "code",
      "source": [
        "from google.colab import files\n",
        "uploaded = files.upload()"
      ],
      "metadata": {
        "id": "VUDFqdrAMWdm"
      },
      "execution_count": null,
      "outputs": []
    },
    {
      "cell_type": "markdown",
      "source": [
        "#studentper forfermance"
      ],
      "metadata": {
        "id": "rsboCE2MGqf5"
      }
    },
    {
      "cell_type": "code",
      "metadata": {
        "id": "9qg6r2WQMsRx"
      },
      "source": [
        "from pyspark.sql.functions import *\n",
        "from pyspark.sql.types import *\n",
        "from pyspark.sql.functions import monotonically_increasing_id, lit\n",
        "schema = StructType([StructField('IDP_DATA_DATE', StringType(), True),\n",
        "        StructField('INSTRUMENT_KEY', StringType(), True),\n",
        "        StructField('ACCOUNT_NUMBER', StringType(), True),\n",
        "        StructField('SOURCE_SYSTEM_CODE', StringType(), True),\n",
        "        StructField('COUNTER_PARTY_ID', StringType(), True),\n",
        "        StructField('COUNTER_PARTY_NAME', StringType(), True),\n",
        "        StructField('PRODUCT_ID', StringType(), True),\n",
        "        StructField('PRODUCT_NAME', StringType(), True),\n",
        "        StructField('GL_NUMBER', StringType(), True),\n",
        "        StructField('REPORTING_UNIT', StringType(), True),\n",
        "        StructField('RESPONSIBILITY_CENTER', StringType(), True),\n",
        "        StructField('CURRENCY_CODE', StringType(), True),\n",
        "        StructField('EFFECTIVE_DATE', StringType(), True),\n",
        "        StructField('MATURITY_DATE', StringType(), True),\n",
        "        StructField('APPRAISED_VALUE', DecimalType(38, 18), True),\n",
        "        StructField('BMO_INTERNAL_CUSTOMER_CLASS', StringType(), True),\n",
        "        StructField('COUNTRY_ULTIMATE_RISK', StringType(), True),\n",
        "        StructField('SOURCE_CUSTOMER_CHANNEL', StringType(), True),\n",
        "        StructField('FACILITY_ID', StringType(), True),\n",
        "        StructField('CAN_SIC_CODE', StringType(), True),\n",
        "        StructField('INSURED_BY', StringType(), True),\n",
        "        StructField('INTER_COMPANY_TRANSACTION_ID', StringType(), True),\n",
        "        StructField('LOAN_CONDITION_CODE', StringType(), True),\n",
        "        StructField('LOAN_STATUS_CODE', StringType(), True),\n",
        "        StructField('TYPE_OF_RESIDENCE_CODE', StringType(), True),\n",
        "        StructField('BALANCE_AMOUNT', DecimalType(38, 18), True),\n",
        "        StructField('BALANCE_AMOUNT_CDE', DecimalType(38, 18), True),\n",
        "        StructField('INTEREST_RATE_PCT', DecimalType(8, 5), True),\n",
        "        StructField('INTEREST_RATE_TYPE', StringType(), True),\n",
        "        StructField('INTEREST_SPREAD', DecimalType(38, 18), True),\n",
        "        StructField('INTEREST_CALCULATION_METHOD', StringType(), True),\n",
        "        StructField('INTEREST_CALCULATION_FREQUENCY', StringType(), True),\n",
        "        StructField('INTEREST_PAYMENT_FREQUENCY', StringType(), True),\n",
        "        StructField('CAP_RATE_PCT', DecimalType(8, 5), True),\n",
        "        StructField('FLOOR_RATE_PCT', DecimalType(8, 5), True),\n",
        "        StructField('ACCRUAL_DAY_COUNT_BASIS', StringType(), True),\n",
        "        StructField('AMORTIZATION_CODE', StringType(), True),\n",
        "        StructField('AMORTIZATION_END_DATE', StringType(), True),\n",
        "        StructField('AMORTIZATION_TERM_MTH_CNT', StringType(), True),\n",
        "        StructField('AUTHORIZED_AMOUNT', DecimalType(38, 18), True),\n",
        "        StructField('CONTRACTUAL_AMORTIZATION_END_DATE', StringType(), True),\n",
        "        StructField('CONTRACTUAL_AMORTIZATION_TERM', StringType(), True),\n",
        "        StructField('FIRST_PAYMENT_DATE', StringType(), True),\n",
        "        StructField('PREPAYMENT_AMOUNT', DecimalType(38, 18), True),\n",
        "        StructField('MINIMUM_PAYMENT', DecimalType(38, 18), True),\n",
        "        StructField('NEXT_RATE_RESET_DATE', StringType(), True),\n",
        "        StructField('NEXT_PAYMENT_DATE', StringType(), True),\n",
        "        StructField('ORIGINAL_BALANCE', DecimalType(38, 18), True),\n",
        "        StructField('PAYMENT_AMOUNT', DecimalType(38, 18), True),\n",
        "        StructField('PERFORMING_IND', StringType(), True),\n",
        "        StructField('PRINCIPAL_REMAINING', DecimalType(38, 18), True),\n",
        "        StructField('REFERENCE_INTEREST_RATE_TYPE', StringType(), True),\n",
        "        StructField('REPRICING_FREQUENCY_CNT', StringType(), True),\n",
        "        StructField('RESET_RATE_PCT', DecimalType(8, 5), True),\n",
        "        StructField('RESIDUAL_AMOUNT', DecimalType(38, 18), True),\n",
        "        StructField('SECURED_IND', StringType(), True),\n",
        "        StructField('ORIGINAL_TERM_TO_MATURITY_DAYS_CNT', IntegerType(), True),\n",
        "        StructField('REMAINING_TERM_TO_MATURITY_DAYS_CNT', IntegerType(), True),\n",
        "        StructField('RESIDUAL_VALUE', DecimalType(38, 18), True),\n",
        "        StructField('TERM_REVOLVING_IND', StringType(), True),\n",
        "        StructField('DRAWN_AMOUNT', DecimalType(38, 18), True),\n",
        "        StructField('UNDRAWN_AMOUNT', DecimalType(38, 18), True),\n",
        "        StructField('LOAN_TO_VALUE_RATIO_PCT', DecimalType(8, 5), True),\n",
        "        StructField('BALANCE_AMOUNT_USE', DecimalType(38, 18), True),\n",
        "        StructField('RETAIL_IND', StringType(), True),\n",
        "        StructField('DEPOSIT_OVERDRAFT_IND', StringType(), True),\n",
        "        StructField('BACKDATED_ENTRIES_IND', StringType(), True),\n",
        "        StructField('NEXT_PRINCIPAL_PAYMENT_AMOUNT', DecimalType(38, 18), True),\n",
        "        StructField('AGREEMENT_DATE', StringType(), True),\n",
        "        StructField('FACILITY_MATURITY_DATE', StringType(), True),\n",
        "        StructField('COMMITTED_UNCOMMITTED_IND', StringType(), True),\n",
        "        StructField('FACILITY_NAME', StringType(), True),\n",
        "        StructField('FACILITY_TYPE', StringType(), True),\n",
        "        StructField('LOAN_PURPOSE', StringType(), True),\n",
        "        StructField('RISK_TYPE', StringType(), True),\n",
        "        StructField('ECIF_ID', StringType(), True),\n",
        "        StructField('FI_INSTRUMENT_ID', StringType(), True),\n",
        "        StructField('COUNTRY_OF_DOMICILE', StringType(), True),\n",
        "        StructField('SOURCE_ACCOUNT_TYPE', StringType(), True),\n",
        "        StructField('DEPOSITOR_TYPE', StringType(), True),\n",
        "        StructField('INTEREST_BEARING_IND', StringType(), True),\n",
        "        StructField('PRODUCT_TYPE_IND', StringType(), True),\n",
        "        StructField('REMAINING_TERM_TO_MATURITY_MTH_CNT', IntegerType(), True),\n",
        "        StructField('DELINQUENCY_CODE', StringType(), True),\n",
        "        StructField('PROPERTY_OWNER_IND', StringType(), True),\n",
        "        StructField('ORIGINAL_TERM_TO_MATURITY_MTH_CNT', StringType(), True),\n",
        "        StructField('CUSTOMER_PROVINCE_CODE', StringType(), True),\n",
        "        StructField('ACCOUNT_BLOCK_CODE', StringType(), True),\n",
        "        StructField('CCAPS_REFERENCE_NUMBER', StringType(), True),\n",
        "        StructField('LOAN_TERM_CLOSING_CNT', IntegerType(), True),\n",
        "        StructField('COLLATERAL_VEHICLE_MAKE', StringType(), True),\n",
        "        StructField('COLLATERAL_CODE', StringType(), True),\n",
        "        StructField('ORIGINATION_CREDIT_BUREAU_SCORE', StringType(), True),\n",
        "        StructField('DELINQUENCY_LEVEL', IntegerType(), True),\n",
        "        StructField('DELINQUENCY_1_CNT', IntegerType(), True),\n",
        "        StructField('DELINQUENCY_2_CNT', IntegerType(), True),\n",
        "        StructField('DELINQUENCY_3_CNT', IntegerType(), True),\n",
        "        StructField('LAST_POSTING_PAYMENT_AMOUNT', DecimalType(38, 18), True),\n",
        "        StructField('ORIGINATION_LOAN_DATE', StringType(), True),\n",
        "        StructField('ACTUAL_PAYMENT_AMOUNT', DecimalType(38, 18), True),\n",
        "        StructField('SUBVENTION_IND', StringType(), True),\n",
        "        StructField('TOTAL_DELINQUENT_AMOUNT', DecimalType(38, 18), True),\n",
        "        StructField('VEHICLE_CONDITION_IND', StringType(), True),\n",
        "        StructField('NEXT_PAYMENT_AMOUNT_INTEREST', DecimalType(38, 18), True),\n",
        "        StructField('MTD_AVERAGE_DAILY_BALANCE', DecimalType(38, 18), True),\n",
        "        StructField('REVISED_INTEREST_RATE_PCT', DecimalType(8, 5), True),\n",
        "        StructField('REVISED_RESIDUAL_BALANCE', DecimalType(38, 18), True),\n",
        "        StructField('LOAN_ALIAS', StringType(), True),\n",
        "        StructField('LOAN_TYPE', StringType(), True),\n",
        "        StructField('LOAN_RISK_TYPE', StringType(), True),\n",
        "        StructField('AUTHORIZED_CREDIT_LIMIT', DecimalType(38, 18), True),\n",
        "        StructField('LEASE_ADVANCE_LIMIT', DecimalType(38, 18), True),\n",
        "        StructField('SKIP_PAYMENT_AMOUNT', DecimalType(38, 18), True),\n",
        "        StructField('BALLOON_PAYMENT_AMOUNT', DecimalType(38, 18), True),\n",
        "        StructField('INVESTOR_REFERENCE_NUMBER', StringType(), True),\n",
        "        StructField('LOAN_PURPOSE_CODE', StringType(), True),\n",
        "        StructField('INV_SUB', IntegerType(), True),\n",
        "        StructField('CURRENT_LOAN_TO_VALUE_RATIO_PCT', DecimalType(8, 5), True),\n",
        "        StructField('START_DATE_CURRENT_TERM', StringType(), True),\n",
        "        StructField('LOAN_STATUS_CODE_CLOSURE', StringType(), True),\n",
        "        StructField('CURRENT_MINIMUM_PAYMENT_AMOUNT', DecimalType(38, 18), True),\n",
        "        StructField('ACCOUNT_NUMBER_ECIF', StringType(), True),\n",
        "        StructField('CURRENT_TERM_DAYS_CNT', IntegerType(), True),\n",
        "        StructField('CURRENT_TERM_MTH_CNT', IntegerType(), True),\n",
        "        StructField('BUYDOWN_IND', StringType(), True),\n",
        "        StructField('CREDIT_INTEREST_AMOUNT', DecimalType(38, 18), True),\n",
        "        StructField('SRC_SYS_CD', StringType(), True),\n",
        "        StructField('GL_ACCT_NUM', StringType(), True),\n",
        "        StructField('COST_CTR_CD', StringType(), True),\n",
        "        StructField('PROFIT_CTR_CD', StringType(), True),\n",
        "        StructField('BKNG_LOC_CMPNY_CD', StringType(), True),\n",
        "        StructField('BKNG_LOC_CD', StringType(), True),\n",
        "        StructField('PROD_CD', StringType(), True),\n",
        "        StructField('LGCY_GL_ACCT_NUM', StringType(), True),\n",
        "        StructField('CNTRY_CD', StringType(), True),\n",
        "        StructField('TRDNG_PRTNR_CD', StringType(), True),\n",
        "        StructField('CCY_CD', StringType(), True),\n",
        "        StructField('BMO_GL_ACCT', StringType(), True),\n",
        "        StructField('BMO_CENTER', StringType(), True),\n",
        "        StructField('BMO_TRANSIT', StringType(), True),\n",
        "        StructField('STRUCTURAL_BALANCE_SHEET_IND', StringType(), True),\n",
        "        StructField('PARENT_BANK_IND', StringType(), True),\n",
        "        StructField('NRMLZD_END_BAL_AMT', DecimalType(38, 18), True),\n",
        "        StructField('I3_REPORTING_LINE', IntegerType(), True),\n",
        "        StructField('I3_ORDINAL', StringType(), True),\n",
        "        StructField('I3_LINENAME_EN', StringType(), True),\n",
        "        StructField('FULL_PATH_CODE_PC', StringType(), True),\n",
        "        StructField('EXCHANGE_RATE_CDE', DecimalType(27, 12), True),\n",
        "        StructField('EXCHANGE_RATE_USE', DecimalType(27, 12), True),\n",
        "        StructField('MTD_AVERAGE_DAILY_BALANCE_CDE', DecimalType(38, 18), True),\n",
        "        StructField('MTD_AVERAGE_DAILY_BALANCE_USE', DecimalType(38, 18), True),\n",
        "        StructField('NRMLZD_END_BAL_AMT_CDE', DecimalType(38, 18), True),\n",
        "        StructField('NRMLZD_END_BAL_AMT_USE', DecimalType(38, 18), True),\n",
        "        StructField('FTP_PRODUCT', StringType(), True),\n",
        "        StructField('SETTLEMENT_IND', StringType(), True),\n",
        "        StructField('ALTERNATE_ACCOUNT', StringType(), True),\n",
        "        StructField('EXPLICIT_MARGIN_PCT', DecimalType(8, 5), True),\n",
        "        StructField('PRICING_FORMULA', StringType(), True),\n",
        "        StructField('FLOOR_RATE_INTERIM_PCT', DecimalType(8, 5), True),\n",
        "        StructField('AVERAGING_METHOD', StringType(), True),\n",
        "        StructField('INTEREST_PAYMENT_LOCKOUT_DAYS_CNT', DecimalType(38, 18), True),\n",
        "        StructField('MATURITY_PAYMENT_LOCKOUT_DAYS_CNT', DecimalType(38, 18), True),\n",
        "        StructField('LOOKBACK_DAYS_CNT', DecimalType(38, 18), True),\n",
        "        StructField('OBSERVATION_SHIFT_IND', StringType(), True),\n",
        "        StructField('SPREAD_CREDIT_ADJUSTMENT_PCT', DecimalType(38, 18), True),\n",
        "        StructField('PAYMENT_LAG_DAYS_CNT', DecimalType(38, 18), True),\n",
        "        StructField('ARR_BASE_RATE_FLOOR_PCT', DecimalType(8, 5), True),\n",
        "        StructField('ARR_ACCRUAL_DAY_COUNT_BASIS', StringType(), True),\n",
        "        StructField('NRMLZD_MTD_AD_BAL_AMT', DecimalType(38, 18), True),\n",
        "        StructField('NRMLZD_MTD_AD_BAL_AMT_CDE', DecimalType(38, 18), True),\n",
        "        StructField('NRMLZD_MTD_AD_BAL_AMT_USE', DecimalType(38, 18), True),\n",
        "        StructField('LEGACY_PRODUCT_ID', StringType(), True),\n",
        "        StructField('DEPARTMENT_ID', StringType(), True)\n",
        "        ])"
      ],
      "execution_count": null,
      "outputs": []
    },
    {
      "cell_type": "code",
      "metadata": {
        "id": "Jm1CZfYD8mYa"
      },
      "source": [
        "df = spark.read.csv(\n",
        "            '/content/QRM_D_LOAN_LS2_20191129_20210303160999.txt',\n",
        "            sep=\"¶\",\n",
        "            header=True,\n",
        "            schema=schema,\n",
        "            encoding=\"latin1\"\n",
        "        )"
      ],
      "execution_count": null,
      "outputs": []
    },
    {
      "cell_type": "code",
      "source": [
        "df.show()"
      ],
      "metadata": {
        "id": "FrNpn5KKgfP_",
        "outputId": "2bd92078-fed3-4816-d979-52b8905c757b",
        "colab": {
          "base_uri": "https://localhost:8080/"
        }
      },
      "execution_count": null,
      "outputs": [
        {
          "output_type": "stream",
          "name": "stdout",
          "text": [
            "+-------------+--------------+--------------+------------------+----------------+------------------+----------+------------+---------+--------------+---------------------+-------------+--------------+-------------+---------------+---------------------------+---------------------+-----------------------+-----------+------------+----------+----------------------------+-------------------+----------------+----------------------+--------------+------------------+-----------------+------------------+---------------+---------------------------+------------------------------+--------------------------+------------+--------------+-----------------------+-----------------+---------------------+-------------------------+-----------------+---------------------------------+-----------------------------+------------------+-----------------+---------------+--------------------+-----------------+----------------+--------------+--------------+-------------------+----------------------------+-----------------------+--------------+---------------+-----------+----------------------------------+-----------------------------------+--------------+------------------+------------+--------------+-----------------------+------------------+----------+---------------------+---------------------+-----------------------------+--------------+----------------------+-------------------------+-------------+-------------+------------+---------+-------+----------------+-------------------+-------------------+--------------+--------------------+----------------+----------------------------------+----------------+------------------+---------------------------------+----------------------+------------------+----------------------+---------------------+-----------------------+---------------+-------------------------------+-----------------+-----------------+-----------------+-----------------+---------------------------+---------------------+---------------------+--------------+-----------------------+---------------------+----------------------------+-------------------------+-------------------------+------------------------+----------+---------+--------------+-----------------------+-------------------+-------------------+----------------------+-------------------------+-----------------+-------+-------------------------------+-----------------------+------------------------+------------------------------+-------------------+---------------------+--------------------+-----------+----------------------+----------+-----------+-----------+-------------+-----------------+-----------+-------+----------------+--------+--------------+------+-----------+----------+-----------+----------------------------+---------------+------------------+-----------------+----------+--------------+-----------------+-----------------+-----------------+-----------------------------+-----------------------------+----------------------+----------------------+-----------+--------------+-----------------+-------------------+---------------+----------------------+----------------+---------------------------------+---------------------------------+-----------------+---------------------+----------------------------+--------------------+-----------------------+---------------------------+---------------------+-------------------------+-------------------------+-----------------+-------------+\n",
            "|IDP_DATA_DATE|INSTRUMENT_KEY|ACCOUNT_NUMBER|SOURCE_SYSTEM_CODE|COUNTER_PARTY_ID|COUNTER_PARTY_NAME|PRODUCT_ID|PRODUCT_NAME|GL_NUMBER|REPORTING_UNIT|RESPONSIBILITY_CENTER|CURRENCY_CODE|EFFECTIVE_DATE|MATURITY_DATE|APPRAISED_VALUE|BMO_INTERNAL_CUSTOMER_CLASS|COUNTRY_ULTIMATE_RISK|SOURCE_CUSTOMER_CHANNEL|FACILITY_ID|CAN_SIC_CODE|INSURED_BY|INTER_COMPANY_TRANSACTION_ID|LOAN_CONDITION_CODE|LOAN_STATUS_CODE|TYPE_OF_RESIDENCE_CODE|BALANCE_AMOUNT|BALANCE_AMOUNT_CDE|INTEREST_RATE_PCT|INTEREST_RATE_TYPE|INTEREST_SPREAD|INTEREST_CALCULATION_METHOD|INTEREST_CALCULATION_FREQUENCY|INTEREST_PAYMENT_FREQUENCY|CAP_RATE_PCT|FLOOR_RATE_PCT|ACCRUAL_DAY_COUNT_BASIS|AMORTIZATION_CODE|AMORTIZATION_END_DATE|AMORTIZATION_TERM_MTH_CNT|AUTHORIZED_AMOUNT|CONTRACTUAL_AMORTIZATION_END_DATE|CONTRACTUAL_AMORTIZATION_TERM|FIRST_PAYMENT_DATE|PREPAYMENT_AMOUNT|MINIMUM_PAYMENT|NEXT_RATE_RESET_DATE|NEXT_PAYMENT_DATE|ORIGINAL_BALANCE|PAYMENT_AMOUNT|PERFORMING_IND|PRINCIPAL_REMAINING|REFERENCE_INTEREST_RATE_TYPE|REPRICING_FREQUENCY_CNT|RESET_RATE_PCT|RESIDUAL_AMOUNT|SECURED_IND|ORIGINAL_TERM_TO_MATURITY_DAYS_CNT|REMAINING_TERM_TO_MATURITY_DAYS_CNT|RESIDUAL_VALUE|TERM_REVOLVING_IND|DRAWN_AMOUNT|UNDRAWN_AMOUNT|LOAN_TO_VALUE_RATIO_PCT|BALANCE_AMOUNT_USE|RETAIL_IND|DEPOSIT_OVERDRAFT_IND|BACKDATED_ENTRIES_IND|NEXT_PRINCIPAL_PAYMENT_AMOUNT|AGREEMENT_DATE|FACILITY_MATURITY_DATE|COMMITTED_UNCOMMITTED_IND|FACILITY_NAME|FACILITY_TYPE|LOAN_PURPOSE|RISK_TYPE|ECIF_ID|FI_INSTRUMENT_ID|COUNTRY_OF_DOMICILE|SOURCE_ACCOUNT_TYPE|DEPOSITOR_TYPE|INTEREST_BEARING_IND|PRODUCT_TYPE_IND|REMAINING_TERM_TO_MATURITY_MTH_CNT|DELINQUENCY_CODE|PROPERTY_OWNER_IND|ORIGINAL_TERM_TO_MATURITY_MTH_CNT|CUSTOMER_PROVINCE_CODE|ACCOUNT_BLOCK_CODE|CCAPS_REFERENCE_NUMBER|LOAN_TERM_CLOSING_CNT|COLLATERAL_VEHICLE_MAKE|COLLATERAL_CODE|ORIGINATION_CREDIT_BUREAU_SCORE|DELINQUENCY_LEVEL|DELINQUENCY_1_CNT|DELINQUENCY_2_CNT|DELINQUENCY_3_CNT|LAST_POSTING_PAYMENT_AMOUNT|ORIGINATION_LOAN_DATE|ACTUAL_PAYMENT_AMOUNT|SUBVENTION_IND|TOTAL_DELINQUENT_AMOUNT|VEHICLE_CONDITION_IND|NEXT_PAYMENT_AMOUNT_INTEREST|MTD_AVERAGE_DAILY_BALANCE|REVISED_INTEREST_RATE_PCT|REVISED_RESIDUAL_BALANCE|LOAN_ALIAS|LOAN_TYPE|LOAN_RISK_TYPE|AUTHORIZED_CREDIT_LIMIT|LEASE_ADVANCE_LIMIT|SKIP_PAYMENT_AMOUNT|BALLOON_PAYMENT_AMOUNT|INVESTOR_REFERENCE_NUMBER|LOAN_PURPOSE_CODE|INV_SUB|CURRENT_LOAN_TO_VALUE_RATIO_PCT|START_DATE_CURRENT_TERM|LOAN_STATUS_CODE_CLOSURE|CURRENT_MINIMUM_PAYMENT_AMOUNT|ACCOUNT_NUMBER_ECIF|CURRENT_TERM_DAYS_CNT|CURRENT_TERM_MTH_CNT|BUYDOWN_IND|CREDIT_INTEREST_AMOUNT|SRC_SYS_CD|GL_ACCT_NUM|COST_CTR_CD|PROFIT_CTR_CD|BKNG_LOC_CMPNY_CD|BKNG_LOC_CD|PROD_CD|LGCY_GL_ACCT_NUM|CNTRY_CD|TRDNG_PRTNR_CD|CCY_CD|BMO_GL_ACCT|BMO_CENTER|BMO_TRANSIT|STRUCTURAL_BALANCE_SHEET_IND|PARENT_BANK_IND|NRMLZD_END_BAL_AMT|I3_REPORTING_LINE|I3_ORDINAL|I3_LINENAME_EN|FULL_PATH_CODE_PC|EXCHANGE_RATE_CDE|EXCHANGE_RATE_USE|MTD_AVERAGE_DAILY_BALANCE_CDE|MTD_AVERAGE_DAILY_BALANCE_USE|NRMLZD_END_BAL_AMT_CDE|NRMLZD_END_BAL_AMT_USE|FTP_PRODUCT|SETTLEMENT_IND|ALTERNATE_ACCOUNT|EXPLICIT_MARGIN_PCT|PRICING_FORMULA|FLOOR_RATE_INTERIM_PCT|AVERAGING_METHOD|INTEREST_PAYMENT_LOCKOUT_DAYS_CNT|MATURITY_PAYMENT_LOCKOUT_DAYS_CNT|LOOKBACK_DAYS_CNT|OBSERVATION_SHIFT_IND|SPREAD_CREDIT_ADJUSTMENT_PCT|PAYMENT_LAG_DAYS_CNT|ARR_BASE_RATE_FLOOR_PCT|ARR_ACCRUAL_DAY_COUNT_BASIS|NRMLZD_MTD_AD_BAL_AMT|NRMLZD_MTD_AD_BAL_AMT_CDE|NRMLZD_MTD_AD_BAL_AMT_USE|LEGACY_PRODUCT_ID|DEPARTMENT_ID|\n",
            "+-------------+--------------+--------------+------------------+----------------+------------------+----------+------------+---------+--------------+---------------------+-------------+--------------+-------------+---------------+---------------------------+---------------------+-----------------------+-----------+------------+----------+----------------------------+-------------------+----------------+----------------------+--------------+------------------+-----------------+------------------+---------------+---------------------------+------------------------------+--------------------------+------------+--------------+-----------------------+-----------------+---------------------+-------------------------+-----------------+---------------------------------+-----------------------------+------------------+-----------------+---------------+--------------------+-----------------+----------------+--------------+--------------+-------------------+----------------------------+-----------------------+--------------+---------------+-----------+----------------------------------+-----------------------------------+--------------+------------------+------------+--------------+-----------------------+------------------+----------+---------------------+---------------------+-----------------------------+--------------+----------------------+-------------------------+-------------+-------------+------------+---------+-------+----------------+-------------------+-------------------+--------------+--------------------+----------------+----------------------------------+----------------+------------------+---------------------------------+----------------------+------------------+----------------------+---------------------+-----------------------+---------------+-------------------------------+-----------------+-----------------+-----------------+-----------------+---------------------------+---------------------+---------------------+--------------+-----------------------+---------------------+----------------------------+-------------------------+-------------------------+------------------------+----------+---------+--------------+-----------------------+-------------------+-------------------+----------------------+-------------------------+-----------------+-------+-------------------------------+-----------------------+------------------------+------------------------------+-------------------+---------------------+--------------------+-----------+----------------------+----------+-----------+-----------+-------------+-----------------+-----------+-------+----------------+--------+--------------+------+-----------+----------+-----------+----------------------------+---------------+------------------+-----------------+----------+--------------+-----------------+-----------------+-----------------+-----------------------------+-----------------------------+----------------------+----------------------+-----------+--------------+-----------------+-------------------+---------------+----------------------+----------------+---------------------------------+---------------------------------+-----------------+---------------------+----------------------------+--------------------+-----------------------+---------------------------+---------------------+-------------------------+-------------------------+-----------------+-------------+\n",
            "|         null|          null|          null|              null|            null|              null|      null|        null|     null|          null|                 null|         null|          null|         null|           null|                       null|                 null|                   null|       null|        null|      null|                        null|               null|            null|                  null|          null|              null|             null|              null|           null|                       null|                          null|                      null|        null|          null|                   null|             null|                 null|                     null|             null|                             null|                         null|              null|             null|           null|                null|             null|            null|          null|          null|               null|                        null|                   null|          null|           null|       null|                              null|                               null|          null|              null|        null|          null|                   null|              null|      null|                 null|                 null|                         null|          null|                  null|                     null|         null|         null|        null|     null|   null|            null|               null|               null|          null|                null|            null|                              null|            null|              null|                             null|                  null|              null|                  null|                 null|                   null|           null|                           null|             null|             null|             null|             null|                       null|                 null|                 null|          null|                   null|                 null|                        null|                     null|                     null|                    null|      null|     null|          null|                   null|               null|               null|                  null|                     null|             null|   null|                           null|                   null|                    null|                          null|               null|                 null|                null|       null|                  null|      null|       null|       null|         null|             null|       null|   null|            null|    null|          null|  null|       null|      null|       null|                        null|           null|              null|             null|      null|          null|             null|             null|             null|                         null|                         null|                  null|                  null|       null|          null|             null|               null|           null|                  null|            null|                             null|                             null|             null|                 null|                        null|                null|                   null|                       null|                 null|                     null|                     null|             null|         null|\n",
            "|         null|          null|          null|              null|            null|              null|      null|        null|     null|          null|                 null|         null|          null|         null|           null|                       null|                 null|                   null|       null|        null|      null|                        null|               null|            null|                  null|          null|              null|             null|              null|           null|                       null|                          null|                      null|        null|          null|                   null|             null|                 null|                     null|             null|                             null|                         null|              null|             null|           null|                null|             null|            null|          null|          null|               null|                        null|                   null|          null|           null|       null|                              null|                               null|          null|              null|        null|          null|                   null|              null|      null|                 null|                 null|                         null|          null|                  null|                     null|         null|         null|        null|     null|   null|            null|               null|               null|          null|                null|            null|                              null|            null|              null|                             null|                  null|              null|                  null|                 null|                   null|           null|                           null|             null|             null|             null|             null|                       null|                 null|                 null|          null|                   null|                 null|                        null|                     null|                     null|                    null|      null|     null|          null|                   null|               null|               null|                  null|                     null|             null|   null|                           null|                   null|                    null|                          null|               null|                 null|                null|       null|                  null|      null|       null|       null|         null|             null|       null|   null|            null|    null|          null|  null|       null|      null|       null|                        null|           null|              null|             null|      null|          null|             null|             null|             null|                         null|                         null|                  null|                  null|       null|          null|             null|               null|           null|                  null|            null|                             null|                             null|             null|                 null|                        null|                null|                   null|                       null|                 null|                     null|                     null|             null|         null|\n",
            "|         null|          null|          null|              null|            null|              null|      null|        null|     null|          null|                 null|         null|          null|         null|           null|                       null|                 null|                   null|       null|        null|      null|                        null|               null|            null|                  null|          null|              null|             null|              null|           null|                       null|                          null|                      null|        null|          null|                   null|             null|                 null|                     null|             null|                             null|                         null|              null|             null|           null|                null|             null|            null|          null|          null|               null|                        null|                   null|          null|           null|       null|                              null|                               null|          null|              null|        null|          null|                   null|              null|      null|                 null|                 null|                         null|          null|                  null|                     null|         null|         null|        null|     null|   null|            null|               null|               null|          null|                null|            null|                              null|            null|              null|                             null|                  null|              null|                  null|                 null|                   null|           null|                           null|             null|             null|             null|             null|                       null|                 null|                 null|          null|                   null|                 null|                        null|                     null|                     null|                    null|      null|     null|          null|                   null|               null|               null|                  null|                     null|             null|   null|                           null|                   null|                    null|                          null|               null|                 null|                null|       null|                  null|      null|       null|       null|         null|             null|       null|   null|            null|    null|          null|  null|       null|      null|       null|                        null|           null|              null|             null|      null|          null|             null|             null|             null|                         null|                         null|                  null|                  null|       null|          null|             null|               null|           null|                  null|            null|                             null|                             null|             null|                 null|                        null|                null|                   null|                       null|                 null|                     null|                     null|             null|         null|\n",
            "|         null|          null|          null|              null|            null|              null|      null|        null|     null|          null|                 null|         null|          null|         null|           null|                       null|                 null|                   null|       null|        null|      null|                        null|               null|            null|                  null|          null|              null|             null|              null|           null|                       null|                          null|                      null|        null|          null|                   null|             null|                 null|                     null|             null|                             null|                         null|              null|             null|           null|                null|             null|            null|          null|          null|               null|                        null|                   null|          null|           null|       null|                              null|                               null|          null|              null|        null|          null|                   null|              null|      null|                 null|                 null|                         null|          null|                  null|                     null|         null|         null|        null|     null|   null|            null|               null|               null|          null|                null|            null|                              null|            null|              null|                             null|                  null|              null|                  null|                 null|                   null|           null|                           null|             null|             null|             null|             null|                       null|                 null|                 null|          null|                   null|                 null|                        null|                     null|                     null|                    null|      null|     null|          null|                   null|               null|               null|                  null|                     null|             null|   null|                           null|                   null|                    null|                          null|               null|                 null|                null|       null|                  null|      null|       null|       null|         null|             null|       null|   null|            null|    null|          null|  null|       null|      null|       null|                        null|           null|              null|             null|      null|          null|             null|             null|             null|                         null|                         null|                  null|                  null|       null|          null|             null|               null|           null|                  null|            null|                             null|                             null|             null|                 null|                        null|                null|                   null|                       null|                 null|                     null|                     null|             null|         null|\n",
            "|         null|          null|          null|              null|            null|              null|      null|        null|     null|          null|                 null|         null|          null|         null|           null|                       null|                 null|                   null|       null|        null|      null|                        null|               null|            null|                  null|          null|              null|             null|              null|           null|                       null|                          null|                      null|        null|          null|                   null|             null|                 null|                     null|             null|                             null|                         null|              null|             null|           null|                null|             null|            null|          null|          null|               null|                        null|                   null|          null|           null|       null|                              null|                               null|          null|              null|        null|          null|                   null|              null|      null|                 null|                 null|                         null|          null|                  null|                     null|         null|         null|        null|     null|   null|            null|               null|               null|          null|                null|            null|                              null|            null|              null|                             null|                  null|              null|                  null|                 null|                   null|           null|                           null|             null|             null|             null|             null|                       null|                 null|                 null|          null|                   null|                 null|                        null|                     null|                     null|                    null|      null|     null|          null|                   null|               null|               null|                  null|                     null|             null|   null|                           null|                   null|                    null|                          null|               null|                 null|                null|       null|                  null|      null|       null|       null|         null|             null|       null|   null|            null|    null|          null|  null|       null|      null|       null|                        null|           null|              null|             null|      null|          null|             null|             null|             null|                         null|                         null|                  null|                  null|       null|          null|             null|               null|           null|                  null|            null|                             null|                             null|             null|                 null|                        null|                null|                   null|                       null|                 null|                     null|                     null|             null|         null|\n",
            "|         null|          null|          null|              null|            null|              null|      null|        null|     null|          null|                 null|         null|          null|         null|           null|                       null|                 null|                   null|       null|        null|      null|                        null|               null|            null|                  null|          null|              null|             null|              null|           null|                       null|                          null|                      null|        null|          null|                   null|             null|                 null|                     null|             null|                             null|                         null|              null|             null|           null|                null|             null|            null|          null|          null|               null|                        null|                   null|          null|           null|       null|                              null|                               null|          null|              null|        null|          null|                   null|              null|      null|                 null|                 null|                         null|          null|                  null|                     null|         null|         null|        null|     null|   null|            null|               null|               null|          null|                null|            null|                              null|            null|              null|                             null|                  null|              null|                  null|                 null|                   null|           null|                           null|             null|             null|             null|             null|                       null|                 null|                 null|          null|                   null|                 null|                        null|                     null|                     null|                    null|      null|     null|          null|                   null|               null|               null|                  null|                     null|             null|   null|                           null|                   null|                    null|                          null|               null|                 null|                null|       null|                  null|      null|       null|       null|         null|             null|       null|   null|            null|    null|          null|  null|       null|      null|       null|                        null|           null|              null|             null|      null|          null|             null|             null|             null|                         null|                         null|                  null|                  null|       null|          null|             null|               null|           null|                  null|            null|                             null|                             null|             null|                 null|                        null|                null|                   null|                       null|                 null|                     null|                     null|             null|         null|\n",
            "|         null|          null|          null|              null|            null|              null|      null|        null|     null|          null|                 null|         null|          null|         null|           null|                       null|                 null|                   null|       null|        null|      null|                        null|               null|            null|                  null|          null|              null|             null|              null|           null|                       null|                          null|                      null|        null|          null|                   null|             null|                 null|                     null|             null|                             null|                         null|              null|             null|           null|                null|             null|            null|          null|          null|               null|                        null|                   null|          null|           null|       null|                              null|                               null|          null|              null|        null|          null|                   null|              null|      null|                 null|                 null|                         null|          null|                  null|                     null|         null|         null|        null|     null|   null|            null|               null|               null|          null|                null|            null|                              null|            null|              null|                             null|                  null|              null|                  null|                 null|                   null|           null|                           null|             null|             null|             null|             null|                       null|                 null|                 null|          null|                   null|                 null|                        null|                     null|                     null|                    null|      null|     null|          null|                   null|               null|               null|                  null|                     null|             null|   null|                           null|                   null|                    null|                          null|               null|                 null|                null|       null|                  null|      null|       null|       null|         null|             null|       null|   null|            null|    null|          null|  null|       null|      null|       null|                        null|           null|              null|             null|      null|          null|             null|             null|             null|                         null|                         null|                  null|                  null|       null|          null|             null|               null|           null|                  null|            null|                             null|                             null|             null|                 null|                        null|                null|                   null|                       null|                 null|                     null|                     null|             null|         null|\n",
            "|         null|          null|          null|              null|            null|              null|      null|        null|     null|          null|                 null|         null|          null|         null|           null|                       null|                 null|                   null|       null|        null|      null|                        null|               null|            null|                  null|          null|              null|             null|              null|           null|                       null|                          null|                      null|        null|          null|                   null|             null|                 null|                     null|             null|                             null|                         null|              null|             null|           null|                null|             null|            null|          null|          null|               null|                        null|                   null|          null|           null|       null|                              null|                               null|          null|              null|        null|          null|                   null|              null|      null|                 null|                 null|                         null|          null|                  null|                     null|         null|         null|        null|     null|   null|            null|               null|               null|          null|                null|            null|                              null|            null|              null|                             null|                  null|              null|                  null|                 null|                   null|           null|                           null|             null|             null|             null|             null|                       null|                 null|                 null|          null|                   null|                 null|                        null|                     null|                     null|                    null|      null|     null|          null|                   null|               null|               null|                  null|                     null|             null|   null|                           null|                   null|                    null|                          null|               null|                 null|                null|       null|                  null|      null|       null|       null|         null|             null|       null|   null|            null|    null|          null|  null|       null|      null|       null|                        null|           null|              null|             null|      null|          null|             null|             null|             null|                         null|                         null|                  null|                  null|       null|          null|             null|               null|           null|                  null|            null|                             null|                             null|             null|                 null|                        null|                null|                   null|                       null|                 null|                     null|                     null|             null|         null|\n",
            "|         null|          null|          null|              null|            null|              null|      null|        null|     null|          null|                 null|         null|          null|         null|           null|                       null|                 null|                   null|       null|        null|      null|                        null|               null|            null|                  null|          null|              null|             null|              null|           null|                       null|                          null|                      null|        null|          null|                   null|             null|                 null|                     null|             null|                             null|                         null|              null|             null|           null|                null|             null|            null|          null|          null|               null|                        null|                   null|          null|           null|       null|                              null|                               null|          null|              null|        null|          null|                   null|              null|      null|                 null|                 null|                         null|          null|                  null|                     null|         null|         null|        null|     null|   null|            null|               null|               null|          null|                null|            null|                              null|            null|              null|                             null|                  null|              null|                  null|                 null|                   null|           null|                           null|             null|             null|             null|             null|                       null|                 null|                 null|          null|                   null|                 null|                        null|                     null|                     null|                    null|      null|     null|          null|                   null|               null|               null|                  null|                     null|             null|   null|                           null|                   null|                    null|                          null|               null|                 null|                null|       null|                  null|      null|       null|       null|         null|             null|       null|   null|            null|    null|          null|  null|       null|      null|       null|                        null|           null|              null|             null|      null|          null|             null|             null|             null|                         null|                         null|                  null|                  null|       null|          null|             null|               null|           null|                  null|            null|                             null|                             null|             null|                 null|                        null|                null|                   null|                       null|                 null|                     null|                     null|             null|         null|\n",
            "|         null|          null|          null|              null|            null|              null|      null|        null|     null|          null|                 null|         null|          null|         null|           null|                       null|                 null|                   null|       null|        null|      null|                        null|               null|            null|                  null|          null|              null|             null|              null|           null|                       null|                          null|                      null|        null|          null|                   null|             null|                 null|                     null|             null|                             null|                         null|              null|             null|           null|                null|             null|            null|          null|          null|               null|                        null|                   null|          null|           null|       null|                              null|                               null|          null|              null|        null|          null|                   null|              null|      null|                 null|                 null|                         null|          null|                  null|                     null|         null|         null|        null|     null|   null|            null|               null|               null|          null|                null|            null|                              null|            null|              null|                             null|                  null|              null|                  null|                 null|                   null|           null|                           null|             null|             null|             null|             null|                       null|                 null|                 null|          null|                   null|                 null|                        null|                     null|                     null|                    null|      null|     null|          null|                   null|               null|               null|                  null|                     null|             null|   null|                           null|                   null|                    null|                          null|               null|                 null|                null|       null|                  null|      null|       null|       null|         null|             null|       null|   null|            null|    null|          null|  null|       null|      null|       null|                        null|           null|              null|             null|      null|          null|             null|             null|             null|                         null|                         null|                  null|                  null|       null|          null|             null|               null|           null|                  null|            null|                             null|                             null|             null|                 null|                        null|                null|                   null|                       null|                 null|                     null|                     null|             null|         null|\n",
            "|         null|          null|          null|              null|            null|              null|      null|        null|     null|          null|                 null|         null|          null|         null|           null|                       null|                 null|                   null|       null|        null|      null|                        null|               null|            null|                  null|          null|              null|             null|              null|           null|                       null|                          null|                      null|        null|          null|                   null|             null|                 null|                     null|             null|                             null|                         null|              null|             null|           null|                null|             null|            null|          null|          null|               null|                        null|                   null|          null|           null|       null|                              null|                               null|          null|              null|        null|          null|                   null|              null|      null|                 null|                 null|                         null|          null|                  null|                     null|         null|         null|        null|     null|   null|            null|               null|               null|          null|                null|            null|                              null|            null|              null|                             null|                  null|              null|                  null|                 null|                   null|           null|                           null|             null|             null|             null|             null|                       null|                 null|                 null|          null|                   null|                 null|                        null|                     null|                     null|                    null|      null|     null|          null|                   null|               null|               null|                  null|                     null|             null|   null|                           null|                   null|                    null|                          null|               null|                 null|                null|       null|                  null|      null|       null|       null|         null|             null|       null|   null|            null|    null|          null|  null|       null|      null|       null|                        null|           null|              null|             null|      null|          null|             null|             null|             null|                         null|                         null|                  null|                  null|       null|          null|             null|               null|           null|                  null|            null|                             null|                             null|             null|                 null|                        null|                null|                   null|                       null|                 null|                     null|                     null|             null|         null|\n",
            "|         null|          null|          null|              null|            null|              null|      null|        null|     null|          null|                 null|         null|          null|         null|           null|                       null|                 null|                   null|       null|        null|      null|                        null|               null|            null|                  null|          null|              null|             null|              null|           null|                       null|                          null|                      null|        null|          null|                   null|             null|                 null|                     null|             null|                             null|                         null|              null|             null|           null|                null|             null|            null|          null|          null|               null|                        null|                   null|          null|           null|       null|                              null|                               null|          null|              null|        null|          null|                   null|              null|      null|                 null|                 null|                         null|          null|                  null|                     null|         null|         null|        null|     null|   null|            null|               null|               null|          null|                null|            null|                              null|            null|              null|                             null|                  null|              null|                  null|                 null|                   null|           null|                           null|             null|             null|             null|             null|                       null|                 null|                 null|          null|                   null|                 null|                        null|                     null|                     null|                    null|      null|     null|          null|                   null|               null|               null|                  null|                     null|             null|   null|                           null|                   null|                    null|                          null|               null|                 null|                null|       null|                  null|      null|       null|       null|         null|             null|       null|   null|            null|    null|          null|  null|       null|      null|       null|                        null|           null|              null|             null|      null|          null|             null|             null|             null|                         null|                         null|                  null|                  null|       null|          null|             null|               null|           null|                  null|            null|                             null|                             null|             null|                 null|                        null|                null|                   null|                       null|                 null|                     null|                     null|             null|         null|\n",
            "|         null|          null|          null|              null|            null|              null|      null|        null|     null|          null|                 null|         null|          null|         null|           null|                       null|                 null|                   null|       null|        null|      null|                        null|               null|            null|                  null|          null|              null|             null|              null|           null|                       null|                          null|                      null|        null|          null|                   null|             null|                 null|                     null|             null|                             null|                         null|              null|             null|           null|                null|             null|            null|          null|          null|               null|                        null|                   null|          null|           null|       null|                              null|                               null|          null|              null|        null|          null|                   null|              null|      null|                 null|                 null|                         null|          null|                  null|                     null|         null|         null|        null|     null|   null|            null|               null|               null|          null|                null|            null|                              null|            null|              null|                             null|                  null|              null|                  null|                 null|                   null|           null|                           null|             null|             null|             null|             null|                       null|                 null|                 null|          null|                   null|                 null|                        null|                     null|                     null|                    null|      null|     null|          null|                   null|               null|               null|                  null|                     null|             null|   null|                           null|                   null|                    null|                          null|               null|                 null|                null|       null|                  null|      null|       null|       null|         null|             null|       null|   null|            null|    null|          null|  null|       null|      null|       null|                        null|           null|              null|             null|      null|          null|             null|             null|             null|                         null|                         null|                  null|                  null|       null|          null|             null|               null|           null|                  null|            null|                             null|                             null|             null|                 null|                        null|                null|                   null|                       null|                 null|                     null|                     null|             null|         null|\n",
            "|         null|          null|          null|              null|            null|              null|      null|        null|     null|          null|                 null|         null|          null|         null|           null|                       null|                 null|                   null|       null|        null|      null|                        null|               null|            null|                  null|          null|              null|             null|              null|           null|                       null|                          null|                      null|        null|          null|                   null|             null|                 null|                     null|             null|                             null|                         null|              null|             null|           null|                null|             null|            null|          null|          null|               null|                        null|                   null|          null|           null|       null|                              null|                               null|          null|              null|        null|          null|                   null|              null|      null|                 null|                 null|                         null|          null|                  null|                     null|         null|         null|        null|     null|   null|            null|               null|               null|          null|                null|            null|                              null|            null|              null|                             null|                  null|              null|                  null|                 null|                   null|           null|                           null|             null|             null|             null|             null|                       null|                 null|                 null|          null|                   null|                 null|                        null|                     null|                     null|                    null|      null|     null|          null|                   null|               null|               null|                  null|                     null|             null|   null|                           null|                   null|                    null|                          null|               null|                 null|                null|       null|                  null|      null|       null|       null|         null|             null|       null|   null|            null|    null|          null|  null|       null|      null|       null|                        null|           null|              null|             null|      null|          null|             null|             null|             null|                         null|                         null|                  null|                  null|       null|          null|             null|               null|           null|                  null|            null|                             null|                             null|             null|                 null|                        null|                null|                   null|                       null|                 null|                     null|                     null|             null|         null|\n",
            "|         null|          null|          null|              null|            null|              null|      null|        null|     null|          null|                 null|         null|          null|         null|           null|                       null|                 null|                   null|       null|        null|      null|                        null|               null|            null|                  null|          null|              null|             null|              null|           null|                       null|                          null|                      null|        null|          null|                   null|             null|                 null|                     null|             null|                             null|                         null|              null|             null|           null|                null|             null|            null|          null|          null|               null|                        null|                   null|          null|           null|       null|                              null|                               null|          null|              null|        null|          null|                   null|              null|      null|                 null|                 null|                         null|          null|                  null|                     null|         null|         null|        null|     null|   null|            null|               null|               null|          null|                null|            null|                              null|            null|              null|                             null|                  null|              null|                  null|                 null|                   null|           null|                           null|             null|             null|             null|             null|                       null|                 null|                 null|          null|                   null|                 null|                        null|                     null|                     null|                    null|      null|     null|          null|                   null|               null|               null|                  null|                     null|             null|   null|                           null|                   null|                    null|                          null|               null|                 null|                null|       null|                  null|      null|       null|       null|         null|             null|       null|   null|            null|    null|          null|  null|       null|      null|       null|                        null|           null|              null|             null|      null|          null|             null|             null|             null|                         null|                         null|                  null|                  null|       null|          null|             null|               null|           null|                  null|            null|                             null|                             null|             null|                 null|                        null|                null|                   null|                       null|                 null|                     null|                     null|             null|         null|\n",
            "|         null|          null|          null|              null|            null|              null|      null|        null|     null|          null|                 null|         null|          null|         null|           null|                       null|                 null|                   null|       null|        null|      null|                        null|               null|            null|                  null|          null|              null|             null|              null|           null|                       null|                          null|                      null|        null|          null|                   null|             null|                 null|                     null|             null|                             null|                         null|              null|             null|           null|                null|             null|            null|          null|          null|               null|                        null|                   null|          null|           null|       null|                              null|                               null|          null|              null|        null|          null|                   null|              null|      null|                 null|                 null|                         null|          null|                  null|                     null|         null|         null|        null|     null|   null|            null|               null|               null|          null|                null|            null|                              null|            null|              null|                             null|                  null|              null|                  null|                 null|                   null|           null|                           null|             null|             null|             null|             null|                       null|                 null|                 null|          null|                   null|                 null|                        null|                     null|                     null|                    null|      null|     null|          null|                   null|               null|               null|                  null|                     null|             null|   null|                           null|                   null|                    null|                          null|               null|                 null|                null|       null|                  null|      null|       null|       null|         null|             null|       null|   null|            null|    null|          null|  null|       null|      null|       null|                        null|           null|              null|             null|      null|          null|             null|             null|             null|                         null|                         null|                  null|                  null|       null|          null|             null|               null|           null|                  null|            null|                             null|                             null|             null|                 null|                        null|                null|                   null|                       null|                 null|                     null|                     null|             null|         null|\n",
            "|         null|          null|          null|              null|            null|              null|      null|        null|     null|          null|                 null|         null|          null|         null|           null|                       null|                 null|                   null|       null|        null|      null|                        null|               null|            null|                  null|          null|              null|             null|              null|           null|                       null|                          null|                      null|        null|          null|                   null|             null|                 null|                     null|             null|                             null|                         null|              null|             null|           null|                null|             null|            null|          null|          null|               null|                        null|                   null|          null|           null|       null|                              null|                               null|          null|              null|        null|          null|                   null|              null|      null|                 null|                 null|                         null|          null|                  null|                     null|         null|         null|        null|     null|   null|            null|               null|               null|          null|                null|            null|                              null|            null|              null|                             null|                  null|              null|                  null|                 null|                   null|           null|                           null|             null|             null|             null|             null|                       null|                 null|                 null|          null|                   null|                 null|                        null|                     null|                     null|                    null|      null|     null|          null|                   null|               null|               null|                  null|                     null|             null|   null|                           null|                   null|                    null|                          null|               null|                 null|                null|       null|                  null|      null|       null|       null|         null|             null|       null|   null|            null|    null|          null|  null|       null|      null|       null|                        null|           null|              null|             null|      null|          null|             null|             null|             null|                         null|                         null|                  null|                  null|       null|          null|             null|               null|           null|                  null|            null|                             null|                             null|             null|                 null|                        null|                null|                   null|                       null|                 null|                     null|                     null|             null|         null|\n",
            "|         null|          null|          null|              null|            null|              null|      null|        null|     null|          null|                 null|         null|          null|         null|           null|                       null|                 null|                   null|       null|        null|      null|                        null|               null|            null|                  null|          null|              null|             null|              null|           null|                       null|                          null|                      null|        null|          null|                   null|             null|                 null|                     null|             null|                             null|                         null|              null|             null|           null|                null|             null|            null|          null|          null|               null|                        null|                   null|          null|           null|       null|                              null|                               null|          null|              null|        null|          null|                   null|              null|      null|                 null|                 null|                         null|          null|                  null|                     null|         null|         null|        null|     null|   null|            null|               null|               null|          null|                null|            null|                              null|            null|              null|                             null|                  null|              null|                  null|                 null|                   null|           null|                           null|             null|             null|             null|             null|                       null|                 null|                 null|          null|                   null|                 null|                        null|                     null|                     null|                    null|      null|     null|          null|                   null|               null|               null|                  null|                     null|             null|   null|                           null|                   null|                    null|                          null|               null|                 null|                null|       null|                  null|      null|       null|       null|         null|             null|       null|   null|            null|    null|          null|  null|       null|      null|       null|                        null|           null|              null|             null|      null|          null|             null|             null|             null|                         null|                         null|                  null|                  null|       null|          null|             null|               null|           null|                  null|            null|                             null|                             null|             null|                 null|                        null|                null|                   null|                       null|                 null|                     null|                     null|             null|         null|\n",
            "|         null|          null|          null|              null|            null|              null|      null|        null|     null|          null|                 null|         null|          null|         null|           null|                       null|                 null|                   null|       null|        null|      null|                        null|               null|            null|                  null|          null|              null|             null|              null|           null|                       null|                          null|                      null|        null|          null|                   null|             null|                 null|                     null|             null|                             null|                         null|              null|             null|           null|                null|             null|            null|          null|          null|               null|                        null|                   null|          null|           null|       null|                              null|                               null|          null|              null|        null|          null|                   null|              null|      null|                 null|                 null|                         null|          null|                  null|                     null|         null|         null|        null|     null|   null|            null|               null|               null|          null|                null|            null|                              null|            null|              null|                             null|                  null|              null|                  null|                 null|                   null|           null|                           null|             null|             null|             null|             null|                       null|                 null|                 null|          null|                   null|                 null|                        null|                     null|                     null|                    null|      null|     null|          null|                   null|               null|               null|                  null|                     null|             null|   null|                           null|                   null|                    null|                          null|               null|                 null|                null|       null|                  null|      null|       null|       null|         null|             null|       null|   null|            null|    null|          null|  null|       null|      null|       null|                        null|           null|              null|             null|      null|          null|             null|             null|             null|                         null|                         null|                  null|                  null|       null|          null|             null|               null|           null|                  null|            null|                             null|                             null|             null|                 null|                        null|                null|                   null|                       null|                 null|                     null|                     null|             null|         null|\n",
            "|         null|          null|          null|              null|            null|              null|      null|        null|     null|          null|                 null|         null|          null|         null|           null|                       null|                 null|                   null|       null|        null|      null|                        null|               null|            null|                  null|          null|              null|             null|              null|           null|                       null|                          null|                      null|        null|          null|                   null|             null|                 null|                     null|             null|                             null|                         null|              null|             null|           null|                null|             null|            null|          null|          null|               null|                        null|                   null|          null|           null|       null|                              null|                               null|          null|              null|        null|          null|                   null|              null|      null|                 null|                 null|                         null|          null|                  null|                     null|         null|         null|        null|     null|   null|            null|               null|               null|          null|                null|            null|                              null|            null|              null|                             null|                  null|              null|                  null|                 null|                   null|           null|                           null|             null|             null|             null|             null|                       null|                 null|                 null|          null|                   null|                 null|                        null|                     null|                     null|                    null|      null|     null|          null|                   null|               null|               null|                  null|                     null|             null|   null|                           null|                   null|                    null|                          null|               null|                 null|                null|       null|                  null|      null|       null|       null|         null|             null|       null|   null|            null|    null|          null|  null|       null|      null|       null|                        null|           null|              null|             null|      null|          null|             null|             null|             null|                         null|                         null|                  null|                  null|       null|          null|             null|               null|           null|                  null|            null|                             null|                             null|             null|                 null|                        null|                null|                   null|                       null|                 null|                     null|                     null|             null|         null|\n",
            "+-------------+--------------+--------------+------------------+----------------+------------------+----------+------------+---------+--------------+---------------------+-------------+--------------+-------------+---------------+---------------------------+---------------------+-----------------------+-----------+------------+----------+----------------------------+-------------------+----------------+----------------------+--------------+------------------+-----------------+------------------+---------------+---------------------------+------------------------------+--------------------------+------------+--------------+-----------------------+-----------------+---------------------+-------------------------+-----------------+---------------------------------+-----------------------------+------------------+-----------------+---------------+--------------------+-----------------+----------------+--------------+--------------+-------------------+----------------------------+-----------------------+--------------+---------------+-----------+----------------------------------+-----------------------------------+--------------+------------------+------------+--------------+-----------------------+------------------+----------+---------------------+---------------------+-----------------------------+--------------+----------------------+-------------------------+-------------+-------------+------------+---------+-------+----------------+-------------------+-------------------+--------------+--------------------+----------------+----------------------------------+----------------+------------------+---------------------------------+----------------------+------------------+----------------------+---------------------+-----------------------+---------------+-------------------------------+-----------------+-----------------+-----------------+-----------------+---------------------------+---------------------+---------------------+--------------+-----------------------+---------------------+----------------------------+-------------------------+-------------------------+------------------------+----------+---------+--------------+-----------------------+-------------------+-------------------+----------------------+-------------------------+-----------------+-------+-------------------------------+-----------------------+------------------------+------------------------------+-------------------+---------------------+--------------------+-----------+----------------------+----------+-----------+-----------+-------------+-----------------+-----------+-------+----------------+--------+--------------+------+-----------+----------+-----------+----------------------------+---------------+------------------+-----------------+----------+--------------+-----------------+-----------------+-----------------+-----------------------------+-----------------------------+----------------------+----------------------+-----------+--------------+-----------------+-------------------+---------------+----------------------+----------------+---------------------------------+---------------------------------+-----------------+---------------------+----------------------------+--------------------+-----------------------+---------------------------+---------------------+-------------------------+-------------------------+-----------------+-------------+\n",
            "only showing top 20 rows\n",
            "\n"
          ]
        }
      ]
    },
    {
      "cell_type": "code",
      "source": [
        "df = df.withColumn(\"index\", monotonically_increasing_id()) # lit(current_timestamp().cast(StringType)\n",
        "df.createOrReplaceTempView(\"table_df\")\n",
        "query_latest_rec = \"\"\"SELECT * FROM table_df ORDER BY index DESC limit 1\"\"\"\n",
        "latest_rec = spark.sql(query_latest_rec)\n",
        "last_row = latest_rec.collect()\n",
        "last = last_row[0][0]\n",
        "lastsum = last_row[0][1]"
      ],
      "metadata": {
        "id": "Y1_BmPR0cEqO"
      },
      "execution_count": null,
      "outputs": []
    },
    {
      "cell_type": "code",
      "source": [
        "import decimal\n",
        "from datetime import datetime, timedelta\n",
        "import time\n",
        "cnt_assert = int(last.split(':')[1])\n",
        "cnt = df.count() - 1\n",
        "sum_string = lastsum.split(':')[1]\n",
        "sum_assert = decimal.Decimal(sum_string)\n",
        "start_time = time.time()\n",
        "start_time_In_format = datetime.now()\n",
        "ingestion_time = datetime.now().strftime(\"%Y-%m-%d %H:%M:%S\")\n",
        "df = df.withColumn(\"INGESTION_TIMESTAMP\", lit(ingestion_time))\n",
        "end_time = time.time()\n",
        "end_time_In_format = datetime.now()\n",
        "execution_time = end_time - start_time\n",
        "filter1 = \"INGESTION_TIMESTAMP=='{}'\".format(ingestion_time)\n",
        "df = df.filter(filter1)\n",
        "dict1 = dict()\n",
        "source_parent = 'Loan'\n",
        "source_child = 'LS2'\n",
        "path = 's3a://aws-sbx-use1-01-qrm-ftp/INBOUND/IDP/DLY/FNAT/QRM_D_LOAN_LS2_20191129_20210303160999.txt'\n",
        "filename = path.split('/')[-1]\n",
        "d_date = filename.split('_')[-2][0:8]\n",
        "print(d_date)\n",
        "#FQDN_table = configs[interval.lower()][\"table\"]\n",
        "FQDN_table ='qrmftpinbound_loan_loan_daily'\n",
        "db = FQDN_table.split('_')[0]\n",
        "db_schema = FQDN_table.split('_')[1]\n",
        "target_table = \"_\".join(FQDN_table.split('_')[2:])\n",
        "# dict1[\"data_date\"] = datetime.strptime(datetime.now().strftime(\"%Y-%m-%d\"),\"%Y-%m-%d\")\n",
        "dict1[\"data_date\"] = datetime.strptime(d_date, \"%Y%m%d\")\n",
        "dict1[\"product_name\"] = source_parent\n",
        "dict1[\"source_system\"] = source_child\n",
        "dict1[\"file_trailer_count\"] = cnt_assert\n",
        "dict1[\"file_trailer_checksum\"] = sum_assert\n",
        "dict1[\"table_count\"] = df.count()\n",
        "dict1[\"table_asat_checksum\"] = df.agg({\"NRMLZD_END_BAL_AMT\":\"sum\"}).collect()[0][0]\n",
        "dict1[\"table_adb_checksum\"] = df.agg({\"NRMLZD_MTD_AD_BAL_AMT\":\"sum\"}).collect()[0][0]\n",
        "dict1[\"file_name\"] = filename\n",
        "dict1['job_start_time'] = start_time_In_format\n",
        "dict1['job_end_time'] = end_time_In_format\n",
        "dict1['job_exec_duration'] = decimal.Decimal(execution_time)\n",
        "dict1['target_table'] = db+'.'+db_schema+'.'+target_table\n",
        "print(dict1)\n",
        "\n",
        "schema1 = StructType([StructField('data_date', DateType(), True),\n",
        "      StructField('product_name', StringType(), True),\n",
        "      StructField('source_system', StringType(), True),\n",
        "      StructField('file_trailer_count', IntegerType(), True),\n",
        "      StructField('file_trailer_checksum', DecimalType(38,18), True),\n",
        "      StructField('table_count', IntegerType(), True),\n",
        "      StructField('table_asat_checksum', DecimalType(38,18), True),\n",
        "      StructField('table_adb_checksum', DecimalType(38,18), True),\n",
        "      StructField('file_name', StringType(), True),\n",
        "      StructField('job_start_time', TimestampType(), True),\n",
        "      StructField('job_end_time', TimestampType(), True),\n",
        "      StructField('job_exec_duration', DecimalType(38,18), True),\n",
        "      StructField('target_table', StringType(), True)])\n",
        "audit_df = spark.createDataFrame([dict1], schema=schema1)\n",
        "audit_df.show(truncate=False)"
      ],
      "metadata": {
        "colab": {
          "base_uri": "https://localhost:8080/"
        },
        "id": "DBOa8RVUcWfN",
        "outputId": "4abd1a3c-5268-4d77-f75f-6c3216fed5a6"
      },
      "execution_count": null,
      "outputs": [
        {
          "output_type": "stream",
          "name": "stdout",
          "text": [
            "20191129\n",
            "{'data_date': datetime.datetime(2019, 11, 29, 0, 0), 'product_name': 'Loan', 'source_system': 'LS2', 'file_trailer_count': 1312, 'file_trailer_checksum': Decimal('88229547653.4800'), 'table_count': 1313, 'table_asat_checksum': None, 'table_adb_checksum': None, 'file_name': 'QRM_D_LOAN_LS2_20191129_20210303160999.txt', 'job_start_time': datetime.datetime(2021, 12, 23, 16, 57, 50, 733435), 'job_end_time': datetime.datetime(2021, 12, 23, 16, 57, 50, 816358), 'job_exec_duration': Decimal('0.0829010009765625'), 'target_table': 'qrmftpinbound.loan.loan_daily'}\n",
            "+----------+------------+-------------+------------------+------------------------------+-----------+-------------------+------------------+------------------------------------------+--------------------------+--------------------------+--------------------+-----------------------------+\n",
            "|data_date |product_name|source_system|file_trailer_count|file_trailer_checksum         |table_count|table_asat_checksum|table_adb_checksum|file_name                                 |job_start_time            |job_end_time              |job_exec_duration   |target_table                 |\n",
            "+----------+------------+-------------+------------------+------------------------------+-----------+-------------------+------------------+------------------------------------------+--------------------------+--------------------------+--------------------+-----------------------------+\n",
            "|2019-11-29|Loan        |LS2          |1312              |88229547653.480000000000000000|1313       |null               |null              |QRM_D_LOAN_LS2_20191129_20210303160999.txt|2021-12-23 16:57:50.733435|2021-12-23 16:57:50.816358|0.082901000976562500|qrmftpinbound.loan.loan_daily|\n",
            "+----------+------------+-------------+------------------+------------------------------+-----------+-------------------+------------------+------------------------------------------+--------------------------+--------------------------+--------------------+-----------------------------+\n",
            "\n"
          ]
        }
      ]
    },
    {
      "cell_type": "code",
      "source": [
        "dict1 = dict()\n",
        "dict1[\"data_date\"] =  datetime.strptime(datetime.now().strftime(\"%Y-%m-%d\"),\"%Y-%m-%d\")\n",
        "dict1[\"product_name\"] = 'LOAN'\n",
        "dict1[\"source_system\"] = 'LS2'\n",
        "dict1[\"file_trailer_count\"] = cnt_assert\n",
        "dict1[\"file_trailer_checksum\"] = sum_assert\n",
        "dict1[\"table_count\"] = df.count()\n",
        "dict1[\"table_asat_checksum\"] = df.agg({\"NRMLZD_END_BAL_AMT\":\"sum\"}).collect()[0][0]\n",
        "dict1[\"table_adb_checksum\"] = df.agg({\"NRMLZD_MTD_AD_BAL_AMT\":\"sum\"}).collect()[0][0]\n",
        "dict1[\"file_name\"] = 'path'\n",
        "dict1['start_time_In_format'] = start_time_In_format\n",
        "dict1['end_time_In_format'] = end_time_In_format\n",
        "dict1['execution_time'] = decimal.Decimal(execution_time)\n",
        "print(dict1)\n",
        "\n",
        "schema1 = StructType([StructField('data_date', DateType(), True),\n",
        "                      StructField('product_name', StringType(), True),\n",
        "                      StructField('source_system', StringType(), True),\n",
        "                      StructField('file_trailer_count', IntegerType(), True),\n",
        "                      StructField('file_trailer_checksum', DecimalType(38,18), True),\n",
        "                      StructField('table_count', IntegerType(), True),\n",
        "                      StructField('table_asat_checksum', DecimalType(38,18), True),\n",
        "                      StructField('table_adb_checksum', DecimalType(38,18), True),\n",
        "                      StructField('file_name', StringType(), True),\n",
        "                      StructField('start_time_In_format', TimestampType(), True),\n",
        "                      StructField('end_time_In_format', TimestampType(), True),\n",
        "                      StructField('execution_time', DecimalType(38,18), True)])\n",
        "audit_df = spark.createDataFrame([dict1],schema=schema1)\n",
        "audit_df.show()\n",
        "audit_ODS_Balance_Control_df = audit_df.select(\"data_date\",\"product_name\",\"source_system\",\"file_trailer_count\",\"file_trailer_checksum\",\"file_trailer_checksum\",\"table_count\",\"table_asat_checksum\",\"file_name\")\n",
        "audit_ODS_FEED_STATUS_df = audit_df.select(\"data_date\",\"product_name\",\"source_system\",\"start_time_In_format\",\"end_time_In_format\",\"execution_time\",\"file_name\")\n",
        "audit_ODS_Balance_Control_df.show()\n",
        "audit_ODS_FEED_STATUS_df.show()"
      ],
      "metadata": {
        "colab": {
          "base_uri": "https://localhost:8080/"
        },
        "id": "DHhigrVudUlv",
        "outputId": "b018dd32-a92f-4a9f-d43a-c23461db7bd7"
      },
      "execution_count": null,
      "outputs": [
        {
          "output_type": "stream",
          "name": "stdout",
          "text": [
            "{'data_date': datetime.datetime(2021, 12, 16, 0, 0), 'product_name': 'LOAN', 'source_system': 'LS2', 'file_trailer_count': 1312, 'file_trailer_checksum': Decimal('88229547653.4800'), 'table_count': 1313, 'table_asat_checksum': None, 'table_adb_checksum': None, 'file_name': 'path', 'start_time_In_format': datetime.datetime(2021, 12, 16, 19, 18, 29, 241217), 'end_time_In_format': datetime.datetime(2021, 12, 16, 19, 18, 29, 338326), 'execution_time': Decimal('0.09709453582763671875')}\n",
            "+----------+------------+-------------+------------------+---------------------+-----------+-------------------+------------------+---------+--------------------+--------------------+--------------------+\n",
            "| data_date|product_name|source_system|file_trailer_count|file_trailer_checksum|table_count|table_asat_checksum|table_adb_checksum|file_name|start_time_In_format|  end_time_In_format|      execution_time|\n",
            "+----------+------------+-------------+------------------+---------------------+-----------+-------------------+------------------+---------+--------------------+--------------------+--------------------+\n",
            "|2021-12-16|        LOAN|          LS2|              1312| 88229547653.48000...|       1313|               null|              null|     path|2021-12-16 19:18:...|2021-12-16 19:18:...|0.097094535827636719|\n",
            "+----------+------------+-------------+------------------+---------------------+-----------+-------------------+------------------+---------+--------------------+--------------------+--------------------+\n",
            "\n",
            "+----------+------------+-------------+------------------+---------------------+---------------------+-----------+-------------------+---------+\n",
            "| data_date|product_name|source_system|file_trailer_count|file_trailer_checksum|file_trailer_checksum|table_count|table_asat_checksum|file_name|\n",
            "+----------+------------+-------------+------------------+---------------------+---------------------+-----------+-------------------+---------+\n",
            "|2021-12-16|        LOAN|          LS2|              1312| 88229547653.48000...| 88229547653.48000...|       1313|               null|     path|\n",
            "+----------+------------+-------------+------------------+---------------------+---------------------+-----------+-------------------+---------+\n",
            "\n",
            "+----------+------------+-------------+--------------------+--------------------+--------------------+---------+\n",
            "| data_date|product_name|source_system|start_time_In_format|  end_time_In_format|      execution_time|file_name|\n",
            "+----------+------------+-------------+--------------------+--------------------+--------------------+---------+\n",
            "|2021-12-16|        LOAN|          LS2|2021-12-16 19:18:...|2021-12-16 19:18:...|0.097094535827636719|     path|\n",
            "+----------+------------+-------------+--------------------+--------------------+--------------------+---------+\n",
            "\n"
          ]
        }
      ]
    },
    {
      "cell_type": "code",
      "metadata": {
        "id": "m_z800CuMjpn"
      },
      "source": [
        "df1 = spark.read.csv('QRM_D_LOAN_LS2_20201130_20211124152441.txt'\n",
        ",schema=schema,sep=\"¶\",header=True,encoding=\"latin1\")"
      ],
      "execution_count": null,
      "outputs": []
    },
    {
      "cell_type": "code",
      "metadata": {
        "colab": {
          "base_uri": "https://localhost:8080/"
        },
        "id": "9QJeAh3CfohV",
        "outputId": "b6f23610-fc4a-4f3e-f015-f5766f7a3044"
      },
      "source": [
        "import decimal\n",
        "df1 = df1.drop(\"FLOOR_RATE_PCT\")\n",
        "df1 = df1.drop(\"FLOOR_RATE_INTERIM_PCT\")\n",
        "\n",
        "def calculate_floor_rate_interim(value):\n",
        "    try:\n",
        "        col_val = eval(value.lower())\n",
        "    except:\n",
        "        col_val = -999\n",
        "        pass\n",
        "    return float(col_val)\n",
        "\n",
        "udfCalFloorRateInterim = udf(calculate_floor_rate_interim, DoubleType())\n",
        "df2 = df1.withColumn(\"FLOOR_RATE_INTERIM_PCT\", udfCalFloorRateInterim(df1.PRICING_FORMULA))\n",
        "\n",
        "def set_floor_rate(value, explicit_margin_value):\n",
        "    col_val = 0\n",
        "    if value == -999 or value is None:\n",
        "        col_val = -999\n",
        "    elif value <= 0:\n",
        "        col_val = 0\n",
        "    else:\n",
        "        decimal.getcontext().prec=2\n",
        "        col_val = decimal.Decimal(value) + decimal.Decimal(explicit_margin_value)\n",
        "    return float(col_val)\n",
        "\n",
        "udfSetFloorRate = udf(set_floor_rate, DoubleType())\n",
        "df = df2.withColumn(\"FLOOR_RATE_PCT\", udfSetFloorRate(df2.FLOOR_RATE_INTERIM_PCT, df2.EXPLICIT_MARGIN_PCT))\n",
        "df.select(\"PRICING_FORMULA\",\"FLOOR_RATE_INTERIM_PCT\",\"EXPLICIT_MARGIN_PCT\",\"FLOOR_RATE_PCT\").show()\n"
      ],
      "execution_count": null,
      "outputs": [
        {
          "output_type": "stream",
          "name": "stdout",
          "text": [
            "+--------------------+----------------------+-------------------+--------------+\n",
            "|     PRICING_FORMULA|FLOOR_RATE_INTERIM_PCT|EXPLICIT_MARGIN_PCT|FLOOR_RATE_PCT|\n",
            "+--------------------+----------------------+-------------------+--------------+\n",
            "|          -100 + (1)|                 -99.0|            1.00000|           0.0|\n",
            "|        -100 + (1.5)|                 -98.5|            1.50000|           0.0|\n",
            "|          -100 + (0)|                -100.0|            0.00000|           0.0|\n",
            "|                null|                -999.0|               null|        -999.0|\n",
            "|                null|                -999.0|               null|        -999.0|\n",
            "|       -100 + (0.75)|                -99.25|            0.75000|           0.0|\n",
            "|          -100 + (0)|                -100.0|            0.00000|           0.0|\n",
            "|       -100 + (1.75)|                -98.25|            1.75000|           0.0|\n",
            "|                null|                -999.0|               null|        -999.0|\n",
            "|MAX( -100 , 1 ) +...|                  5.35|            4.35000|           9.7|\n",
            "|        -100 + (0.5)|                 -99.5|            0.50000|           0.0|\n",
            "|                null|                -999.0|               null|        -999.0|\n",
            "|        -100 + (1.5)|                 -98.5|            1.50000|           0.0|\n",
            "|MAX( -100 , ( -10...|                 -97.5|            1.00000|           0.0|\n",
            "|MAX( -100 , ( MAX...|                  3.25|            1.25000|           4.5|\n",
            "|                null|                -999.0|               null|        -999.0|\n",
            "|        -100 + (0.5)|                 -99.5|            0.50000|           0.0|\n",
            "|        -100 + (1.1)|                 -98.9|            1.10000|           0.0|\n",
            "|       -100 + (1.85)|                -98.15|            1.85000|           0.0|\n",
            "|          -100 + (0)|                -100.0|            0.00000|           0.0|\n",
            "+--------------------+----------------------+-------------------+--------------+\n",
            "only showing top 20 rows\n",
            "\n"
          ]
        }
      ]
    },
    {
      "cell_type": "code",
      "metadata": {
        "colab": {
          "base_uri": "https://localhost:8080/"
        },
        "id": "Z0OB4bZdutj2",
        "outputId": "f73ca97f-ec5b-49d5-cc4e-9ea964c644fe"
      },
      "source": [
        "print(eval('-100 + (1.5)'))"
      ],
      "execution_count": null,
      "outputs": [
        {
          "output_type": "stream",
          "name": "stdout",
          "text": [
            "-98.5\n"
          ]
        }
      ]
    },
    {
      "cell_type": "code",
      "metadata": {
        "colab": {
          "base_uri": "https://localhost:8080/"
        },
        "id": "ExX-bsry83SV",
        "outputId": "5e1ec49b-c5ff-40e5-d79b-0bd460fa810e"
      },
      "source": [
        "df1.show(10)\n",
        "#df2.printSchema()\n",
        "#df1.show()"
      ],
      "execution_count": null,
      "outputs": [
        {
          "output_type": "stream",
          "name": "stdout",
          "text": [
            "+----------------+----------+----------+----------------------+--------------------+----------+-------+-----------------+----------+--------------+-------+--------------+-----------+--------------+-------------------+-----------------+------------+-----------+----------------------+-----------------------+----------------+-----------------+----------------------+--------------+---------------+------------------------+--------------+-----------+-------------------+-------------+----------+-----------+-------------+-------+-----------+------------+-----------------------+-----------------------+----------+------------------------------+---------+--------+----------------------------+---------------------+--------------------+----------------+--------------------+-------------------+-----------------+-----------------+\n",
            "|SMR_REPORTING_DT| CUTOFF_DT|SRC_SYS_CD|SRC_SYS_APPLICATION_ID|SRC_SYS_MTG_ACCT_NBR|INV_REF_NO|INV_SUB|EXISTING_MORT_NUM|SRC_CCY_CD|REPORTING_UNIT|RESP_CD|AUTHORIZED_AMT|SRC_PROD_CD|APPLICATION_DT|COMMITMENT_START_DT|COMMITMENT_EXP_DT|FUNDS_REQ_DT|INTEREST_RT|SRC_INTEREST_RT_TYP_CD|INTEREST_RT_TYP_CONF_CD|SRC_LOAN_PURP_CD|LOAN_PURP_CONF_CD|ADJUDICATION_STATUS_CD|TERM_IN_MONTHS|PARENT_BANK_IND|STRUCTURAL_BAL_SHEET_IND|MECH_STATUS_CD|POSTED_TERM|SPECIAL_PROGRAM_PRD|MORT_PROVINCE|FRD_WINDOW|TIME_TO_FRD|TIME_FROM_FRD|FRD_ADJ|BUILDER_IND|PAM_IND_RQST|APP_RQST_PRODUCT_CODE_1|APP_APRV_PRODUCT_CODE_1|APRV_AMT_1|MTG_STRUCTURE_OF_PROPERTY_CODE|BOOK_DT_1|BOOK_IND|APP_DATE_DATA_ENTRY_COMPLETE|APP_DATA_COMPLETE_IND|APP_RECORD_TYPE_CODE|PREAPP_INDICATOR|APRV_LOAN_RATE_PCT_1|CLS_LOAN_RATE_PCT_1|CBR_CB_RISK_MODEL|CBR_CB_RISK_SCORE|\n",
            "+----------------+----------+----------+----------------------+--------------------+----------+-------+-----------------+----------+--------------+-------+--------------+-----------+--------------+-------------------+-----------------+------------+-----------+----------------------+-----------------------+----------------+-----------------+----------------------+--------------+---------------+------------------------+--------------+-----------+-------------------+-------------+----------+-----------+-------------+-------+-----------+------------+-----------------------+-----------------------+----------+------------------------------+---------+--------+----------------------------+---------------------+--------------------+----------------+--------------------+-------------------+-----------------+-----------------+\n",
            "|      2020-11-30|2020-11-30|      FNAT|               1147864|             1147864|        -1|     -1|             null|       CAD|          null|   null|     471000.00|  U003 year|    2020-11-06|         2020-11-06|       2020-12-15|  2020-12-15|   3.800000|                    00|                      F|            null|             null|                     A|            37|              Y|              Structural|          null|         37|                  0|         null|      null|       null|         null|   null|       null|        null|                   null|                   null|      null|                          null|     null|    null|                        null|                 null|                null|               A|                null|               null|             null|             null|\n",
            "|      2020-11-30|2020-11-30|      FNAT|               2957783|             2957783|        -1|     -1|             null|       CAD|          null|   null|     335000.00|  U005 year|    2020-11-11|         2020-11-11|       2020-12-10|  2020-12-10|   2.500000|                    00|                      F|            null|             null|                     A|            54|              Y|              Structural|          null|         54|                  0|         null|      null|       null|         null|   null|       null|        null|                   null|                   null|      null|                          null|     null|    null|                        null|                 null|                null|               A|                null|               null|             null|             null|\n",
            "|      2020-11-30|2020-11-30|      FNAT|               2947487|             2947487|        -1|     -1|             null|       CAD|          null|   null|     295540.24|  D005 year|    2020-08-03|         2020-08-03|       2020-12-18|  2020-12-18|   1.840000|                    00|                      F|            null|             null|                     A|            60|              Y|              Structural|          null|         60|                  0|         null|      null|       null|         null|   null|       null|        null|                   null|                   null|      null|                          null|     null|    null|                        null|                 null|                null|               A|                null|               null|             null|             null|\n",
            "|      2020-11-30|2020-11-30|      FNAT|               7242742|             7242742|        -1|     -1|             null|       CAD|          null|   null|     310000.00|  U004 year|    2020-11-02|         2020-11-02|       2020-12-16|  2020-12-16|   2.350000|                    00|                      F|            null|             null|                     A|            46|              Y|              Structural|          null|         46|                  0|         null|      null|       null|         null|   null|       null|        null|                   null|                   null|      null|                          null|     null|    null|                        null|                 null|                null|               A|                null|               null|             null|             null|\n",
            "|      2020-11-30|2020-11-30|      FNAT|               7240897|             7240897|        -1|     -1|             null|       CAD|          null|   null|     452318.86|  G004 year|    2020-11-06|         2020-11-06|       2020-12-11|  2020-12-11|   2.450000|                    00|                      F|            null|             null|                     A|            43|              Y|              Structural|          null|         43|                  0|         null|      null|       null|         null|   null|       null|        null|                   null|                   null|      null|                          null|     null|    null|                        null|                 null|                null|               A|                null|               null|             null|             null|\n",
            "|      2020-11-30|2020-11-30|      FNAT|               3244351|             3244351|        -1|     -1|             null|       CAD|          null|   null|     608239.57|  G003 year|    2020-10-26|         2020-10-26|       2021-01-14|  2021-01-14|   2.700000|                    00|                      F|            null|             null|                     A|            35|              Y|              Structural|          null|         35|                  0|         null|      null|       null|         null|   null|       null|        null|                   null|                   null|      null|                          null|     null|    null|                        null|                 null|                null|               A|                null|               null|             null|             null|\n",
            "|      2020-11-30|2020-11-30|      FNAT|               3244864|             3244864|        -1|     -1|             null|       CAD|          null|   null|     250000.00|  U004 year|    2020-11-04|         2020-11-04|       2020-12-15|  2020-12-15|   2.510000|                    00|                      F|            null|             null|                     A|            51|              Y|              Structural|          null|         51|                  0|         null|      null|       null|         null|   null|       null|        null|                   null|                   null|      null|                          null|     null|    null|                        null|                 null|                null|               A|                null|               null|             null|             null|\n",
            "|      2020-11-30|2020-11-30|      FNAT|               2978685|             2978685|        -1|     -1|             null|       CAD|          null|   null|     287718.70|  G005 year|    2020-08-19|         2020-08-19|       2020-12-08|  2020-12-08|   1.990000|                    00|                      F|            null|             null|                     A|            60|              Y|              Structural|          null|         60|                  0|         null|      null|       null|         null|   null|       null|        null|                   null|                   null|      null|                          null|     null|    null|                        null|                 null|                null|               A|                null|               null|             null|             null|\n",
            "|      2020-11-30|2020-11-30|      FNAT|               2967496|             2967496|        -1|     -1|             null|       CAD|          null|   null|     290000.00|  U004 year|    2020-11-24|         2020-11-24|       2021-01-25|  2021-01-25|   2.400000|                    00|                      F|            null|             null|                     A|            53|              Y|              Structural|          null|         53|                  0|         null|      null|       null|         null|   null|       null|        null|                   null|                   null|      null|                          null|     null|    null|                        null|                 null|                null|               A|                null|               null|             null|             null|\n",
            "|      2020-11-30|2020-11-30|      FNAT|               7237801|             7237801|        -1|     -1|             null|       CAD|          null|   null|     426400.00|  D002 year|    2020-08-17|         2020-08-17|       2021-01-29|  2021-01-29|   2.550000|                    00|                      F|            null|             null|                     A|            21|              Y|              Structural|          null|         21|                  0|         null|      null|       null|         null|   null|       null|        null|                   null|                   null|      null|                          null|     null|    null|                        null|                 null|                null|               A|                null|               null|             null|             null|\n",
            "+----------------+----------+----------+----------------------+--------------------+----------+-------+-----------------+----------+--------------+-------+--------------+-----------+--------------+-------------------+-----------------+------------+-----------+----------------------+-----------------------+----------------+-----------------+----------------------+--------------+---------------+------------------------+--------------+-----------+-------------------+-------------+----------+-----------+-------------+-------+-----------+------------+-----------------------+-----------------------+----------+------------------------------+---------+--------+----------------------------+---------------------+--------------------+----------------+--------------------+-------------------+-----------------+-----------------+\n",
            "only showing top 10 rows\n",
            "\n"
          ]
        }
      ]
    },
    {
      "cell_type": "code",
      "metadata": {
        "colab": {
          "base_uri": "https://localhost:8080/"
        },
        "id": "m_EfoRYW_tsl",
        "outputId": "bf16e803-2ca3-4ad1-bdee-759b4e5507a8"
      },
      "source": [
        "from math import *\n",
        "def func1(a):\n",
        "  a+=10\n",
        "  return a\n",
        "\n",
        "string1 = \"func1(4)\"\n",
        "func_return = eval(string1)\n",
        "print(func_return)"
      ],
      "execution_count": null,
      "outputs": [
        {
          "output_type": "stream",
          "name": "stdout",
          "text": [
            "14\n"
          ]
        }
      ]
    },
    {
      "cell_type": "code",
      "metadata": {
        "colab": {
          "base_uri": "https://localhost:8080/"
        },
        "id": "2WLEDkP6NGzO",
        "outputId": "248f5724-d641-483d-fd4b-46860766fcf8"
      },
      "source": [
        "def return_formula(value):\n",
        "  return \"max(\"+str(value)+\",10)\"\n",
        "\n",
        "\n",
        "# NOTE: it seems that calls to udf() must be after SparkContext() is called\n",
        "udfValueToCategory = udf(return_formula, StringType())\n",
        "df2 = df1.withColumn(\"ID\",monotonically_increasing_id())\n",
        "df3 = df2.withColumn(\"PRICING_FORMULA\", lit(udfValueToCategory(df2.ID)))\n",
        "df4 = df3.drop(\"FLOOR_RATE_PCT\")\n",
        "def calculate_floor_rate_interim(value):\n",
        "  try:\n",
        "    col_val = int(eval(value))\n",
        "  except:\n",
        "    col_val=-999\n",
        "    pass\n",
        "  return col_val\n",
        "udfCalFloorRateInterm = udf(calculate_floor_rate_interim, IntegerType())\n",
        "df5 = df4.withColumn(\"FLOOR_RATE_INTERIM_PCT\",lit(udfCalFloorRateInterm(df4.PRICING_FORMULA)))\n",
        "#df5.show(20)\n",
        "def set_floor_rate(value):\n",
        "  col_val = 0\n",
        "  if int(value) <=0:\n",
        "    col_val = 0\n",
        "  else:\n",
        "    col_val = value\n",
        "  return col_val\n",
        "udfSetFloorRate = udf(set_floor_rate, IntegerType())\n",
        "df6 = df5.withColumn(\"FLOOR_RATE_PCT\",lit(udfSetFloorRate(df5.FLOOR_RATE_INTERIM_PCT)))\n",
        "df6.show()"
      ],
      "execution_count": null,
      "outputs": [
        {
          "output_type": "stream",
          "name": "stdout",
          "text": [
            "+-------------+--------------------+--------------------+------------------+----------------+--------------------+----------+------------------+---------+--------------+---------------------+-------------+-------------------+-------------------+---------------+---------------------------+---------------------+-----------------------+-----------+------------+----------+----------------------------+-------------------+----------------+----------------------+--------------+------------------+-----------------+------------------+---------------+---------------------------+------------------------------+--------------------------+------------+-----------------------+-----------------+---------------------+-------------------------+-----------------+---------------------------------+-----------------------------+------------------+-----------------+---------------+--------------------+-------------------+----------------+--------------+--------------+-------------------+----------------------------+-----------------------+--------------+---------------+-----------+----------------------------------+-----------------------------------+--------------+------------------+-------------+--------------+-----------------------+------------------+----------+---------------------+---------------------+-----------------------------+-------------------+----------------------+-------------------------+--------------------+--------------------+--------------------+---------+-------+--------------------+-------------------+----------------------+-------------------+--------------+--------------------+----------------+----------------------------------+----------------+------------------+---------------------------------+----------------------+------------------+----------------------+---------------------+-----------------------+---------------+-------------------------------+-----------------+-----------------+-----------------+-----------------+---------------------------+---------------------+---------------------+--------------+-----------------------+---------------------+----------------------------+-------------------------+-------------------------+------------------------+---------------+---------+--------------+-----------------------+-------------------+-------------------+----------------------+-------------------------+-----------------+-------+-------------------------------+-----------------------+------------------------+------------------------------+--------------------+---------------------+--------------------+-----------+----------------------+----------+-----------+-----------+-------------+-----------------+-----------+--------------------+----------------+--------+--------------+------+-----------+----------+-----------+----------------------------+---------------+------------------+-----------------+----------+--------------------+--------------------+-----------------+-----------------+-----------------------------+-----------------------------+----------------------+----------------------+------------------+---+---------------+----------------------+--------------+\n",
            "|IDP_DATA_DATE|      INSTRUMENT_KEY|      ACCOUNT_NUMBER|SOURCE_SYSTEM_CODE|COUNTER_PARTY_ID|  COUNTER_PARTY_NAME|PRODUCT_ID|      PRODUCT_NAME|GL_NUMBER|REPORTING_UNIT|RESPONSIBILITY_CENTER|CURRENCY_CODE|     EFFECTIVE_DATE|      MATURITY_DATE|APPRAISED_VALUE|BMO_INTERNAL_CUSTOMER_CLASS|COUNTRY_ULTIMATE_RISK|SOURCE_CUSTOMER_CHANNEL|FACILITY_ID|CAN_SIC_CODE|INSURED_BY|INTER_COMPANY_TRANSACTION_ID|LOAN_CONDITION_CODE|LOAN_STATUS_CODE|TYPE_OF_RESIDENCE_CODE|BALANCE_AMOUNT|BALANCE_AMOUNT_CDE|INTEREST_RATE_PCT|INTEREST_RATE_TYPE|INTEREST_SPREAD|INTEREST_CALCULATION_METHOD|INTEREST_CALCULATION_FREQUENCY|INTEREST_PAYMENT_FREQUENCY|CAP_RATE_PCT|ACCRUAL_DAY_COUNT_BASIS|AMORTIZATION_CODE|AMORTIZATION_END_DATE|AMORTIZATION_TERM_MTH_CNT|AUTHORIZED_AMOUNT|CONTRACTUAL_AMORTIZATION_END_DATE|CONTRACTUAL_AMORTIZATION_TERM|FIRST_PAYMENT_DATE|PREPAYMENT_AMOUNT|MINIMUM_PAYMENT|NEXT_RATE_RESET_DATE|  NEXT_PAYMENT_DATE|ORIGINAL_BALANCE|PAYMENT_AMOUNT|PERFORMING_IND|PRINCIPAL_REMAINING|REFERENCE_INTEREST_RATE_TYPE|REPRICING_FREQUENCY_CNT|RESET_RATE_PCT|RESIDUAL_AMOUNT|SECURED_IND|ORIGINAL_TERM_TO_MATURITY_DAYS_CNT|REMAINING_TERM_TO_MATURITY_DAYS_CNT|RESIDUAL_VALUE|TERM_REVOLVING_IND| DRAWN_AMOUNT|UNDRAWN_AMOUNT|LOAN_TO_VALUE_RATIO_PCT|BALANCE_AMOUNT_USE|RETAIL_IND|DEPOSIT_OVERDRAFT_IND|BACKDATED_ENTRIES_IND|NEXT_PRINCIPAL_PAYMENT_AMOUNT|     AGREEMENT_DATE|FACILITY_MATURITY_DATE|COMMITTED_UNCOMMITTED_IND|       FACILITY_NAME|       FACILITY_TYPE|        LOAN_PURPOSE|RISK_TYPE|ECIF_ID|    FI_INSTRUMENT_ID|COUNTRY_OF_DOMICILE|PREVIOUS_INSTRUMENT_ID|SOURCE_ACCOUNT_TYPE|DEPOSITOR_TYPE|INTEREST_BEARING_IND|PRODUCT_TYPE_IND|REMAINING_TERM_TO_MATURITY_MTH_CNT|DELINQUENCY_CODE|PROPERTY_OWNER_IND|ORIGINAL_TERM_TO_MATURITY_MTH_CNT|CUSTOMER_PROVINCE_CODE|ACCOUNT_BLOCK_CODE|CCAPS_REFERENCE_NUMBER|LOAN_TERM_CLOSING_CNT|COLLATERAL_VEHICLE_MAKE|COLLATERAL_CODE|ORIGINATION_CREDIT_BUREAU_SCORE|DELINQUENCY_LEVEL|DELINQUENCY_1_CNT|DELINQUENCY_2_CNT|DELINQUENCY_3_CNT|LAST_POSTING_PAYMENT_AMOUNT|ORIGINATION_LOAN_DATE|ACTUAL_PAYMENT_AMOUNT|SUBVENTION_IND|TOTAL_DELINQUENT_AMOUNT|VEHICLE_CONDITION_IND|NEXT_PAYMENT_AMOUNT_INTEREST|MTD_AVERAGE_DAILY_BALANCE|REVISED_INTEREST_RATE_PCT|REVISED_RESIDUAL_BALANCE|     LOAN_ALIAS|LOAN_TYPE|LOAN_RISK_TYPE|AUTHORIZED_CREDIT_LIMIT|LEASE_ADVANCE_LIMIT|SKIP_PAYMENT_AMOUNT|BALLOON_PAYMENT_AMOUNT|INVESTOR_REFERENCE_NUMBER|LOAN_PURPOSE_CODE|INV_SUB|CURRENT_LOAN_TO_VALUE_RATIO_PCT|START_DATE_CURRENT_TERM|LOAN_STATUS_CODE_CLOSURE|CURRENT_MINIMUM_PAYMENT_AMOUNT| ACCOUNT_NUMBER_ECIF|CURRENT_TERM_DAYS_CNT|CURRENT_TERM_MTH_CNT|BUYDOWN_IND|CREDIT_INTEREST_AMOUNT|SRC_SYS_CD|GL_ACCT_NUM|COST_CTR_CD|PROFIT_CTR_CD|BKNG_LOC_CMPNY_CD|BKNG_LOC_CD|             PROD_CD|LGCY_GL_ACCT_NUM|CNTRY_CD|TRDNG_PRTNR_CD|CCY_CD|BMO_GL_ACCT|BMO_CENTER|BMO_TRANSIT|STRUCTURAL_BALANCE_SHEET_IND|PARENT_BANK_IND|NRMLZD_END_BAL_AMT|I3_REPORTING_LINE|I3_ORDINAL|      I3_LINENAME_EN|   FULL_PATH_CODE_PC|EXCHANGE_RATE_CDE|EXCHANGE_RATE_USE|MTD_AVERAGE_DAILY_BALANCE_CDE|MTD_AVERAGE_DAILY_BALANCE_USE|NRMLZD_END_BAL_AMT_CDE|NRMLZD_END_BAL_AMT_USE|       FTP_PRODUCT| ID|PRICING_FORMULA|FLOOR_RATE_INTERIM_PCT|FLOOR_RATE_PCT|\n",
            "+-------------+--------------------+--------------------+------------------+----------------+--------------------+----------+------------------+---------+--------------+---------------------+-------------+-------------------+-------------------+---------------+---------------------------+---------------------+-----------------------+-----------+------------+----------+----------------------------+-------------------+----------------+----------------------+--------------+------------------+-----------------+------------------+---------------+---------------------------+------------------------------+--------------------------+------------+-----------------------+-----------------+---------------------+-------------------------+-----------------+---------------------------------+-----------------------------+------------------+-----------------+---------------+--------------------+-------------------+----------------+--------------+--------------+-------------------+----------------------------+-----------------------+--------------+---------------+-----------+----------------------------------+-----------------------------------+--------------+------------------+-------------+--------------+-----------------------+------------------+----------+---------------------+---------------------+-----------------------------+-------------------+----------------------+-------------------------+--------------------+--------------------+--------------------+---------+-------+--------------------+-------------------+----------------------+-------------------+--------------+--------------------+----------------+----------------------------------+----------------+------------------+---------------------------------+----------------------+------------------+----------------------+---------------------+-----------------------+---------------+-------------------------------+-----------------+-----------------+-----------------+-----------------+---------------------------+---------------------+---------------------+--------------+-----------------------+---------------------+----------------------------+-------------------------+-------------------------+------------------------+---------------+---------+--------------+-----------------------+-------------------+-------------------+----------------------+-------------------------+-----------------+-------+-------------------------------+-----------------------+------------------------+------------------------------+--------------------+---------------------+--------------------+-----------+----------------------+----------+-----------+-----------+-------------+-----------------+-----------+--------------------+----------------+--------+--------------+------+-----------+----------+-----------+----------------------------+---------------+------------------+-----------------+----------+--------------------+--------------------+-----------------+-----------------+-----------------------------+-----------------------------+----------------------+----------------------+------------------+---+---------------+----------------------+--------------+\n",
            "|   2019-11-29|LS235032473G=C5FL...|35032473G=C5FLH9G...|               LS2|        35032473|HARMONY AUTO SALE...|      LOAN|              LOAN|136680000|         03860|                C4585|          CAD|2016-06-20 00:00:00|               null|            0.0|                        COM|                 null|                   null|   G=C5FLHY|        6311|      null|                           N|               null|         ACCRUED|                  null|     2265317.8|         2265317.8|             2.96|                 V|            1.0|               SIMPLE DAILY|                         DAILY|                       MON|        null|        ACT/ACTY (ISDA)|             null|                 null|                        0|        6500000.0|                             null|                            0|              null|             null|           null|                null|               null|      3077031.33|          null|             P|          2265317.8|                       CNDNP|                   null|          2.96|           null|          N|                              null|                               null|          null|                 R|    2265317.8|     4234682.2|                   null|        1706518.36|      null|                 null|                 null|                         null|2015-01-29 00:00:00|                  null|                        Y|DEMAND LOAN REVOLVER|DEMAND LOAN REVOLVER|General Corporate...|     FLOR|   null|LS20000035032473G...|               null|                  null|               null|          null|                null|            null|                                 0|               0|              null|                                0|                    BC|              null|                  null|                 null|                   null|             SA|                           null|             null|             null|             null|             null|                 3049384.67|  2016-06-20 00:00:00|                  0.0|          null|   0.000000000000000000|                 null|                        null|                2265317.8|                     null|                    null|   350324730001|     null|          null|                   null|               null|               null|                  null|                        0|               GC|   null|                           null|    2016-06-20 00:00:00|                    null|                          null|35032473G=C5FLH9G...|                 null|                   0|       null|                  null|       LS2| 1840136680|       null|        C4585|             9998|      03860|    COMML LOAN OTHER|       136680000|      CA|          null|   CAD|  136680000|     C4585|      03860|                           Y|              Y|              null|               13|      (iv)|TO INDIVIDUALS AN...||99995|K9898|9999...|              1.0|   0.753324042337|                    2265317.8|                   1706518.36|                  null|                  null|        LNCM_VCOMT|  0|      max(0,10)|                    10|            10|\n",
            "|   2019-11-29|LS235080571#YB1EM...|35080571#YB1EM3T9...|               LS2|        35080571|Curt Manufacturin...|      LOAN|              LOAN|196430000|         03896|                F8895|          USD|2019-10-01 00:00:00|2022-06-16 00:00:00|            0.0|                        COM|                 null|                   null|   9DBG7L8S|        3259|      null|                           N|               null|         ACCRUED|                  null|    1515311.53|        2011500.29|          6.34863|                 V|           4.25|               SIMPLE DAILY|                         DAILY|                       QUA|        null|                ACT/360|             null|  2022-06-16 00:00:00|                       31|       1515311.53|              2022-06-16 00:00:00|                           31|              null|             null|           null| 2020-01-02 00:00:00|               null|      1515311.53|          null|             P|         1515311.53|                       LIBOR|                     3M|       6.34863|           null|          N|                               989|                                930|          null|                 T|   1515311.53|           0.0|                   null|        1515311.53|      null|                 null|                 null|                         null|               null|   2022-06-16 00:00:00|                        Y| 3RD AMEND TERM LOAN|           TERM LOAN|General Corporate...|      CDA|   null|LS20000035080571#...|               null|                  null|               null|          null|                null|            null|                                31|               0|              null|                               32|                    WI|              null|                  null|                  913|                   null|              6|                           null|             null|             null|             null|             null|                       null|  2019-10-01 00:00:00|                  0.0|          null|   0.000000000000000000|                 null|                        null|               1515311.53|                     null|                    null|XL2019092760155|     null|          null|                   null|               null|               null|                  null|                        0|               GC|   null|                           null|    2019-10-01 00:00:00|                    null|                          null|35080571#YB1EM3T9...|                  989|                  32|       null|                  null|       LS2| 1840196430|       null|        F8895|             3896|      03896|         LIBOR LOANS|       196430000|      US|          null|   USD|  196430000|     F8895|      03896|                           Y|              Y|              null|               13|      (iv)|TO INDIVIDUALS AN...||99995|K9898|9999...|          1.32745|              1.0|                   2011500.29|                   1515311.53|                  null|                  null|LNCM_VGT3MLBORCOMT|  1|      max(1,10)|                    10|            10|\n",
            "|   2019-11-29|LS2000303302BAZ6W...|000303302BAZ6WIRS...|               LS2|           30330|     KELLOGG COMPANY|     DCTLN|     DISCOUNT LOAN|196200000|         03896|                G3342|          USD|2019-11-12 00:00:00|2020-01-29 00:00:00|            0.0|                        COM|                 null|                   null|   S@B1RCHP|        1052|      null|                           N|               null|         ACCRUED|                  null|       1105.61|           1467.64|            2.501|                 F|            0.0|               SIMPLE DAILY|                         DAILY|                       QUA|        null|                ACT/360|             null|  2020-01-29 00:00:00|                        2|            3.7E8|              2020-01-29 00:00:00|                            2|              null|             null|           null|                null|               null|         1105.61|          null|             P|            1105.61|                       DISCL|                   null|         2.501|           null|          N|                                78|                                 61|          null|                 R|      1105.61|3.6999889439E8|                   null|           1105.61|      null|                 null|                 null|                         null|2014-01-15 00:00:00|                  null|                        Y|SUPPLY CHAIN REVO...|TRADE FINANCE SUP...|Receivables Purch...|     TFSC|   null|LS200000000303302...|               null|                  null|               null|          null|                null|            null|                                 2|               0|              null|                                3|                    MI|              null|                  null|                 null|                   null|              *|                           null|             null|             null|             null|             null|                       null|  2019-11-12 00:00:00|                  0.0|          null|   0.000000000000000000|                 null|                        null|                  1105.61|                     null|                    null|303300000155426|     null|          null|                   null|               null|               null|                  null|                        0|             RPSC|   null|                           null|    2019-11-12 00:00:00|                    null|                          null|000303302BAZ6WIRS...|                   78|                   3|       null|                  null|       LS2| 1840196200|       null|        G3342|             3896|      03896|    COMML LOAN OTHER|       196200000|      US|          null|   USD|  196200000|     G3342|      03896|                           Y|              Y|              null|             null|      null|                null||99995|K9898|9999...|          1.32745|              1.0|                      1467.64|                      1105.61|                  null|                  null|     LNCM_FCOMTUSD|  2|      max(2,10)|                    10|            10|\n",
            "|   2019-11-29|LS2000303302BAZ6W...|000303302BAZ6WIRS...|               LS2|           30330|     KELLOGG COMPANY|     DCTLN|     DISCOUNT LOAN|196200000|         03896|                G3342|          USD|2019-11-26 00:00:00|2020-03-13 00:00:00|            0.0|                        COM|                 null|                   null|   S@B1RCHP|        1052|      null|                           N|               null|         ACCRUED|                  null|     328393.58|         435926.06|            2.514|                 F|            0.0|               SIMPLE DAILY|                         DAILY|                       QUA|        null|                ACT/360|             null|  2020-03-13 00:00:00|                        3|            3.7E8|              2020-03-13 00:00:00|                            3|              null|             null|           null|                null|               null|       328393.58|          null|             P|          328393.58|                       DISCL|                   null|         2.514|           null|          N|                               108|                                105|          null|                 R|    328393.58|3.6967160642E8|                   null|         328393.58|      null|                 null|                 null|                         null|2014-01-15 00:00:00|                  null|                        Y|SUPPLY CHAIN REVO...|TRADE FINANCE SUP...|Receivables Purch...|     TFSC|   null|LS200000000303302...|               null|                  null|               null|          null|                null|            null|                                 3|               0|              null|                                4|                    MI|              null|                  null|                 null|                   null|              *|                           null|             null|             null|             null|             null|                       null|  2019-11-26 00:00:00|                  0.0|          null|   0.000000000000000000|                 null|                        null|                328393.58|                     null|                    null|303300000156793|     null|          null|                   null|               null|               null|                  null|                        0|             RPSC|   null|                           null|    2019-11-26 00:00:00|                    null|                          null|000303302BAZ6WIRS...|                  108|                   4|       null|                  null|       LS2| 1840196200|       null|        G3342|             3896|      03896|    COMML LOAN OTHER|       196200000|      US|          null|   USD|  196200000|     G3342|      03896|                           Y|              Y|              null|             null|      null|                null||99995|K9898|9999...|          1.32745|              1.0|                    435926.06|                    328393.58|                  null|                  null|     LNCM_FCOMTUSD|  3|      max(3,10)|                    10|            10|\n",
            "|   2019-11-29|LS235013524*:7TK8...|35013524*:7TK8DP*...|               LS2|        35013524|LOWE'S COMPANIES,...|     DCTLN|     DISCOUNT LOAN|196200000|         03896|                G3342|          USD|2019-11-15 00:00:00|2020-03-13 00:00:00|            0.0|                        COM|                 null|                   null|   *:7TK8WJ|        6599|      null|                           N|               null|         ACCRUED|                  null|     115348.42|         153119.26|            2.514|                 F|            0.0|               SIMPLE DAILY|                         DAILY|                       QUA|        null|                ACT/360|             null|  2020-03-13 00:00:00|                        3|            3.5E8|              2020-03-13 00:00:00|                            3|              null|             null|           null|                null|               null|       115348.42|          null|             P|          115348.42|                       DISCL|                   null|         2.514|           null|          N|                               119|                                105|          null|                 R|    115348.42|3.4988465158E8|                   null|         115348.42|      null|                 null|                 null|                         null|               null|                  null|                        Y|$380MM LOWE'S PAY...|TRADE FINANCE SUP...|Receivables Purch...|     TFSC|   null|LS20000035013524*...|               null|                  null|               null|          null|                null|            null|                                 3|               0|              null|                                4|                    NC|              null|                  null|                 null|                   null|              *|                           null|             null|             null|             null|             null|                       null|  2019-11-15 00:00:00|                  0.0|          null|   0.000000000000000000|                 null|                        null|                115348.42|                     null|                    null|350135240155765|     null|          null|                   null|               null|               null|                  null|                        0|             RPSC|   null|                           null|    2019-11-15 00:00:00|                    null|                          null|35013524*:7TK8DP*...|                  119|                   4|       null|                  null|       LS2| 1840196200|       null|        G3342|             3896|      03896|    COMML LOAN OTHER|       196200000|      US|          null|   USD|  196200000|     G3342|      03896|                           Y|              Y|              null|             null|      null|                null||99995|K9898|9999...|          1.32745|              1.0|                    153119.26|                    115348.42|                  null|                  null|     LNCM_FCOMTUSD|  4|      max(4,10)|                    10|            10|\n",
            "|   2019-11-29|LS2000303302BAZ6W...|000303302BAZ6WIRS...|               LS2|           30330|     KELLOGG COMPANY|     DCTLN|     DISCOUNT LOAN|196200000|         03896|                G3342|          USD|2019-11-22 00:00:00|2020-02-12 00:00:00|            0.0|                        COM|                 null|                   null|   S@B1RCHP|        1052|      null|                           N|               null|         ACCRUED|                  null|       25810.0|          34261.48|            2.499|                 F|            0.0|               SIMPLE DAILY|                         DAILY|                       QUA|        null|                ACT/360|             null|  2020-02-12 00:00:00|                        2|            3.7E8|              2020-02-12 00:00:00|                            2|              null|             null|           null|                null|               null|         25810.0|          null|             P|            25810.0|                       DISCL|                   null|         2.499|           null|          N|                                82|                                 75|          null|                 R|      25810.0|   3.6997419E8|                   null|           25810.0|      null|                 null|                 null|                         null|2014-01-15 00:00:00|                  null|                        Y|SUPPLY CHAIN REVO...|TRADE FINANCE SUP...|Receivables Purch...|     TFSC|   null|LS200000000303302...|               null|                  null|               null|          null|                null|            null|                                 2|               0|              null|                                3|                    MI|              null|                  null|                 null|                   null|              *|                           null|             null|             null|             null|             null|                       null|  2019-11-22 00:00:00|                  0.0|          null|   0.000000000000000000|                 null|                        null|                  25810.0|                     null|                    null|303300000156496|     null|          null|                   null|               null|               null|                  null|                        0|             RPSC|   null|                           null|    2019-11-22 00:00:00|                    null|                          null|000303302BAZ6WIRS...|                   82|                   3|       null|                  null|       LS2| 1840196200|       null|        G3342|             3896|      03896|    COMML LOAN OTHER|       196200000|      US|          null|   USD|  196200000|     G3342|      03896|                           Y|              Y|              null|             null|      null|                null||99995|K9898|9999...|          1.32745|              1.0|                     34261.48|                      25810.0|                  null|                  null|     LNCM_FCOMTUSD|  5|      max(5,10)|                    10|            10|\n",
            "|   2019-11-29|LS2000303302BAZ6W...|000303302BAZ6WIRS...|               LS2|           30330|     KELLOGG COMPANY|     DCTLN|     DISCOUNT LOAN|196200000|         03896|                G3342|          USD|2019-11-25 00:00:00|2019-12-30 00:00:00|            0.0|                        COM|                 null|                   null|   S@B1RCHP|        1052|      null|                           N|               null|         ACCRUED|                  null|       1124.01|           1492.07|            2.441|                 F|            0.0|               SIMPLE DAILY|                         DAILY|                       QUA|        null|                ACT/360|             null|  2019-12-30 00:00:00|                        1|            3.7E8|              2019-12-30 00:00:00|                            1|              null|             null|           null|                null|               null|         1124.01|          null|             P|            1124.01|                       DISCL|                   null|         2.441|           null|          N|                                35|                                 31|          null|                 R|      1124.01|3.6999887599E8|                   null|           1124.01|      null|                 null|                 null|                         null|2014-01-15 00:00:00|                  null|                        Y|SUPPLY CHAIN REVO...|TRADE FINANCE SUP...|Receivables Purch...|     TFSC|   null|LS200000000303302...|               null|                  null|               null|          null|                null|            null|                                 1|               0|              null|                                1|                    MI|              null|                  null|                 null|                   null|              *|                           null|             null|             null|             null|             null|                       null|  2019-11-25 00:00:00|                  0.0|          null|   0.000000000000000000|                 null|                        null|                  1124.01|                     null|                    null|303300000156684|     null|          null|                   null|               null|               null|                  null|                        0|             RPSC|   null|                           null|    2019-11-25 00:00:00|                    null|                          null|000303302BAZ6WIRS...|                   35|                   1|       null|                  null|       LS2| 1840196200|       null|        G3342|             3896|      03896|    COMML LOAN OTHER|       196200000|      US|          null|   USD|  196200000|     G3342|      03896|                           Y|              Y|              null|             null|      null|                null||99995|K9898|9999...|          1.32745|              1.0|                      1492.07|                      1124.01|                  null|                  null|     LNCM_FCOMTUSD|  6|      max(6,10)|                    10|            10|\n",
            "|   2019-11-29|LS236592988D-DGC7...|36592988D-DGC7BGD...|               LS2|        36592988|MINHAS ENTERPRISE...|      LOAN|              LOAN|197680000|         03896|                D9022|          USD|2018-10-17 00:00:00|2021-10-31 00:00:00|            0.0|                        COM|                 null|                   null|   D-DGC7TS|        2619|      null|                           N|               null|         ACCRUED|                  null|     273690.78|         363310.83|             4.75|                 F|            0.0|               SIMPLE DAILY|                         DAILY|                       MON|        null|        ACT/ACTY (ISDA)|              P&I|  2021-10-31 00:00:00|                       23|        262887.02|              2021-10-31 00:00:00|                           23|              null|             null|            0.0|                null|2019-12-02 00:00:00|        400000.0|      11943.51|             P|          273690.78|                        FTFR|                   null|          4.75|           null|          N|                              1110|                                702|          null|                 T|    273690.78|     -10803.76|                   null|         273690.78|      null|                 null|                 null|                     10803.76|2018-10-16 00:00:00|   2021-10-31 00:00:00|                        Y|               FAC 2|DEMAND LOAN NON-R...|General Corporate...|      CDA|   null|LS20000036592988D...|               null|                  null|               null|          null|                null|            null|                                23|               0|              null|                               36|                    NC|              null|                  null|                 1111|                   null|            FIM|                           null|             null|             null|             null|             null|                   10795.82|  2018-10-17 00:00:00|                  0.0|          null|   0.000000000000000000|                 null|                     1139.75|                273690.78|                     null|                    null|   365929880004|     null|          null|                   null|               null|               null|                  null|                        0|               GC|   null|                           null|    2018-10-17 00:00:00|                    null|                          null|36592988D-DGC7BGD...|                 1110|                  36|       null|                  null|       LS2| 1840197680|       null|        D9022|             3896|      03896| COMML LOAN FLOATING|       197680000|      CA|          null|   USD|  197680000|     D9022|      03896|                           Y|              Y|              null|               13|      (iv)|TO INDIVIDUALS AN...||99995|K9898|9999...|          1.32745|              1.0|                    363310.83|                    273690.78|                  null|                  null|     LNCM_FCOMTUSD|  7|      max(7,10)|                    10|            10|\n",
            "|   2019-11-29|LS237019702#0DUDK...|37019702#0DUDKFU#...|               LS2|        37019702|D'OR DEVELOPMENTS...|       BA1|BANKERS ACCEPTANCE|341403000|         03860|                C6502|          CAD|2019-11-22 00:00:00|2019-12-20 00:00:00|            0.0|                        COM|                 null|                   null|   #0DUDLP6|        4012|      null|                           N|               null|         ACCRUED|                  null|     1600000.0|         1600000.0|             1.96|                 V|            0.0|               SIMPLE DAILY|                         DAILY|                       QUA|        null|                ACT/365|             null|  2019-12-20 00:00:00|                        1|            7.4E7|              2019-12-20 00:00:00|                            1|              null|             null|           null|                null|               null|       1600000.0|          null|             P|          1600000.0|                          BA|                   null|          1.96|           null|          N|                                28|                                 21|          null|                 T|    1600000.0|        7.24E7|                   null|        1205318.47|      null|                 null|                 null|                         null|2019-08-15 00:00:00|   2023-03-02 00:00:00|                        Y|       TERM FACILITY|           TERM LOAN|        Construction|       BA|   null|LS20000037019702#...|               null|                  null|               null|          null|                null|            null|                                 1|               0|              null|                                1|                   ONT|              null|                  null|                 1280|                   null|           null|                           null|             null|             null|             null|             null|                       null|  2019-11-22 00:00:00|                  0.0|          null|   0.000000000000000000|                 null|                        null|                1600000.0|                     null|                    null|   370197020004|     null|          null|                   null|               null|               null|                  null|                        0|               CO|   null|                           null|    2019-11-22 00:00:00|                    null|                          null|37019702#0DUDKFU#...|                   28|                   1|       null|                  null|       LS2| 1081341403|       null|        C6502|             9998|      03860|          NO PRODUCT|       341403000|      CA|          null|   CAD|  341403000|     C6502|      03860|                           Y|              Y|              null|                4|       (a)|                CASH||99995|K9898|9999...|              1.0|   0.753324042337|                    1600000.0|                   1205318.47|                  null|                  null|      LNCM_VBACOMT|  8|      max(8,10)|                    10|            10|\n",
            "|   2019-11-29|LS2362922921)BVAD...|362922921)BVADN41...|               LS2|        36292292|NV HIGHWAY PROPER...|      LOAN|              LOAN|136680000|         03860|                C4984|          CAD|2016-03-14 00:00:00|               null|            0.0|                        COM|                 null|                   null|   1)BVADNK|        4012|      null|                           N|               null|         ACCRUED|                  null|     9000000.0|         9000000.0|             4.95|                 V|            1.0|               SIMPLE DAILY|                         DAILY|                       MON|        null|        ACT/ACTY (ISDA)|             null|                 null|                        0|        9000000.0|                             null|                            0|              null|             null|           null|                null|               null|       9000000.0|          null|             P|          9000000.0|                       CNDNP|                   null|          4.95|           null|          N|                              null|                               null|          null|                 T|    9000000.0|           0.0|                   null|        6779916.38|      null|                 null|                 null|                         null|2014-11-17 00:00:00|                  null|                        Y|DEMAND LOAN NON-R...|DEMAND LOAN NON-R...|         Real Estate|      CDA|   null|LS200000362922921...|               null|                  null|               null|          null|                null|            null|                                 0|               0|              null|                                0|                    BC|              null|                  null|                 null|                   null|           null|                           null|             null|             null|             null|             null|                       null|  2016-03-14 00:00:00|                  0.0|          null|   0.000000000000000000|                 null|                        null|                9000000.0|                     null|                    null|   362922920001|     null|          null|                   null|               null|               null|                  null|                        0|               RE|   null|                           null|    2016-03-14 00:00:00|                    null|                          null|362922921)BVADN41...|                 null|                   0|       null|                  null|       LS2| 1840136680|       null|        C4984|             9998|      03860|    COMML LOAN OTHER|       136680000|      CA|          null|   CAD|  136680000|     C4984|      03860|                           Y|              Y|              null|               13|      (iv)|TO INDIVIDUALS AN...||99995|K9898|9999...|              1.0|   0.753324042337|                    9000000.0|                   6779916.38|                  null|                  null|        LNCM_VCOMT|  9|      max(9,10)|                    10|            10|\n",
            "|   2019-11-29|LS236331997(9D6K9...|36331997(9D6K98X)...|               LS2|        36331997|    IPL PLASTICS PLC|      LOAN|              LOAN|199680000|         03860|                C4069|          USD|2019-10-30 00:00:00|2023-04-17 00:00:00|            0.0|                        COM|                 null|                   null|   )RD6XJOB|        1699|      null|                           N|               null|         ACCRUED|                  null|      450000.0|          597352.5|           4.5855|                 V|           2.65|               SIMPLE DAILY|                         DAILY|                       QUA|        null|                ACT/360|             null|  2023-04-17 00:00:00|                       41|    1.217067564E8|              2023-04-17 00:00:00|                           41|              null|             null|           null| 2020-01-30 00:00:00|               null|        450000.0|          null|             P|           450000.0|                       LIBOR|                     3M|        4.5855|           null|          N|                              1265|                               1235|          null|                 R|     450000.0| 1.212567564E8|                   null|          450000.0|      null|                 null|                 null|                         null|2018-04-16 00:00:00|   2023-04-17 00:00:00|                        Y|REVOLVING COMMITT...| REVOLVING COMMITTED|General Corporate...|      CDA|   null|LS20000036331997(...|               null|                  null|               null|          null|                null|            null|                                41|               0|              null|                               42|                  null|              null|                  null|                 1826|                   null|           null|                           null|             null|             null|             null|             null|                       null|  2019-10-30 00:00:00|                  0.0|          null|   0.000000000000000000|                 null|                        null|                 450000.0|                     null|                    null|   363319970061|     null|          null|                   null|               null|               null|                  null|                        0|               GC|   null|                           null|    2019-10-30 00:00:00|                    null|                          null|36331997(9D6K98X)...|                 1265|                  42|       null|                  null|       LS2| 1842199680|       null|        C4069|             9998|      03860| COMML LOAN FLOATING|       199680000|      CA|          null|   USD|  199680000|     C4069|      03860|                           Y|              Y|              null|             null|      null|                null||99995|K9898|9999...|          1.32745|              1.0|                     597352.5|                     450000.0|                  null|                  null|LNCM_VGT3MLBORCOMT| 10|     max(10,10)|                    10|            10|\n",
            "|   2019-11-29|LS2371010021QDRUV...|371010021QDRUV4D1...|               LS2|        37101002|John Wiley & Sons...|      LOAN|              LOAN|196430000|         03896|                H3004|          USD|2019-11-08 00:00:00|2024-05-30 00:00:00|            0.0|                        COM|                 null|                   null|   1QDRUW7B|        2831|      null|                           N|               null|         ACCRUED|                  null|     4250000.0|         5641662.5|            2.835|                 V|           1.08|               SIMPLE DAILY|                         DAILY|                       MON|        null|                ACT/360|             null|  2024-05-30 00:00:00|                       54|   4.1943650756E8|              2024-05-30 00:00:00|                           54|              null|             null|           null| 2019-12-09 00:00:00|               null|       4250000.0|          null|             P|          4250000.0|                       LIBOR|                    30D|         2.835|           null|          N|                              1665|                               1644|          null|                 R|    4250000.0|4.1518650756E8|                   null|         4250000.0|      null|                 null|                 null|                         null|2019-05-30 00:00:00|   2024-05-30 00:00:00|                        Y|JOHN WILEY USD RC...| REVOLVING COMMITTED|General Corporate...|      CDA|   null|LS200000371010021...|               null|                  null|               null|          null|                null|            null|                                54|               0|              null|                               55|                    NJ|              null|                  null|                 1827|                   null|              *|                           null|             null|             null|             null|             null|                       null|  2019-11-08 00:00:00|                  0.0|          null|   0.000000000000000000|                 null|                        null|                4250000.0|                     null|                    null|XL2019110660056|     null|          null|                   null|               null|               null|                  null|                        0|               GC|   null|                           null|    2019-11-08 00:00:00|                    null|                          null|371010021QDRUV4D1...|                 1665|                  55|       null|                  null|       LS2| 1840196430|       null|        H3004|             3896|      03896|         LIBOR LOANS|       196430000|      US|          null|   USD|  196430000|     H3004|      03896|                           Y|              Y|              null|               13|      (iv)|TO INDIVIDUALS AN...||99995|K9898|9999...|          1.32745|              1.0|                    5641662.5|                    4250000.0|                  null|                  null|LNCM_VGT3MLBORCOMT| 11|     max(11,10)|                    11|            11|\n",
            "|   2019-11-29|LS2000303302BAZ6W...|000303302BAZ6WIRS...|               LS2|           30330|     KELLOGG COMPANY|     DCTLN|     DISCOUNT LOAN|196200000|         03896|                G3342|          USD|2019-09-13 00:00:00|2020-01-06 00:00:00|            0.0|                        COM|                 null|                   null|   S@B1RCHP|        1052|      null|                           N|               null|         ACCRUED|                  null|     113926.15|         151231.27|            2.702|                 F|            0.0|               SIMPLE DAILY|                         DAILY|                       QUA|        null|                ACT/360|             null|  2020-01-06 00:00:00|                        1|            3.7E8|              2020-01-06 00:00:00|                            1|              null|             null|           null|                null|               null|       113926.15|          null|             P|          113926.15|                       DISCL|                   null|         2.702|           null|          N|                               115|                                 38|          null|                 R|    113926.15|3.6988607385E8|                   null|         113926.15|      null|                 null|                 null|                         null|2014-01-15 00:00:00|                  null|                        Y|SUPPLY CHAIN REVO...|TRADE FINANCE SUP...|Receivables Purch...|     TFSC|   null|LS200000000303302...|               null|                  null|               null|          null|                null|            null|                                 1|               0|              null|                                4|                    MI|              null|                  null|                 null|                   null|              *|                           null|             null|             null|             null|             null|                       null|  2019-09-13 00:00:00|                  0.0|          null|   0.000000000000000000|                 null|                        null|                113926.15|                     null|                    null|303300000150163|     null|          null|                   null|               null|               null|                  null|                        0|             RPSC|   null|                           null|    2019-09-13 00:00:00|                    null|                          null|000303302BAZ6WIRS...|                  115|                   4|       null|                  null|       LS2| 1840196200|       null|        G3342|             3896|      03896|    COMML LOAN OTHER|       196200000|      US|          null|   USD|  196200000|     G3342|      03896|                           Y|              Y|              null|             null|      null|                null||99995|K9898|9999...|          1.32745|              1.0|                    151231.27|                    113926.15|                  null|                  null|     LNCM_FCOMTUSD| 12|     max(12,10)|                    12|            12|\n",
            "|   2019-11-29|LS236321780U$C6EU...|36321780U$C6EUY5U...|               LS2|        36321780|1942454 Ontario Inc.|      LOAN|              LOAN|136583000|         03860|                H5021|          CAD|2019-11-01 00:00:00|2025-09-30 00:00:00|            0.0|                        COM|                 null|                   null|   U$C6EUYP|        8621|      null|                           N|               null|         ACCRUED|                  null|    6659641.16|        6659641.16|             3.71|                 F|           1.75|               SIMPLE DAILY|                         DAILY|                       MON|        null|        ACT/ACTY (ISDA)|             null|  2025-09-30 00:00:00|                       70|       6659641.16|              2025-09-30 00:00:00|                           70|              null|             null|           null| 2019-12-02 00:00:00|               null|      6659641.16|          null|             P|         6659641.16|                       FIXED|                    30D|          3.71|           null|          N|                              2160|                               2132|          null|                 T|   6659641.16|           0.0|                   null|         5016867.8|      null|                 null|                 null|                         null|2015-07-28 00:00:00|   2025-09-30 00:00:00|                        Y| FAC C -NON REV TERM|           TERM LOAN|Fixed Rate Operat...|      CDA|   null|LS20000036321780U...|               null|                  null|               null|          null|                null|            null|                                60|               0|              null|                               71|                   ONT|              null|                  null|                 3652|                   null|           CLMS|                           null|             null|             null|             null|             null|                       null|  2019-11-01 00:00:00|                  0.0|          null|   0.000000000000000000|                 null|                        null|               6659641.16|                     null|                    null|   363217800039|     null|          null|                   null|               null|               null|                  null|                        0|             FROL|   null|                           null|    2019-11-01 00:00:00|                    null|                          null|36321780U$C6EUY5U...|                 2160|                  71|       null|                  null|       LS2| 1840136583|       null|        H5021|             9998|      03860|FIXED RATE OPER LOAN|       136583000|      CA|          null|   CAD|  136583000|     H5021|      03860|                           Y|              Y|              null|               13|      (iv)|TO INDIVIDUALS AN...||99995|K9898|9999...|              1.0|   0.753324042337|                   6659641.16|                    5016867.8|                  null|                  null|LNCM_FGT3MFROLCOMT| 13|     max(13,10)|                    13|            13|\n",
            "|   2019-11-29|LS236924012G5D26R...|36924012G5D26R07G...|               LS2|        36924012|Johnson Controls,...|     DCTLN|     DISCOUNT LOAN|196200000|         03896|                F5951|          USD|2019-11-08 00:00:00|2020-05-05 00:00:00|            0.0|                        COM|                 null|                   null|   G5D26S8H|        3199|      null|                           N|               null|         ACCRUED|                  null|      96342.99|          127890.5|            2.774|                 F|            0.0|               SIMPLE DAILY|                         DAILY|                       QUA|        null|                ACT/360|             null|  2020-05-05 00:00:00|                        5|            5.4E7|              2020-05-05 00:00:00|                            5|              null|             null|           null|                null|               null|        96342.99|          null|             P|           96342.99|                       DISCL|                   null|         2.774|           null|          N|                               179|                                158|          null|                 R|     96342.99| 5.390365701E7|                   null|          96342.99|      null|                 null|                 null|                         null|2018-01-03 00:00:00|                  null|                        Y|TRADE FINANCE SUP...|TRADE FINANCE SUP...|Receivables Purch...|     TFSC|   null|LS20000036924012G...|               null|                  null|               null|          null|                null|            null|                                 5|               0|              null|                                6|                    WI|              null|                  null|                 null|                   null|              *|                           null|             null|             null|             null|             null|                       null|  2019-11-08 00:00:00|                  0.0|          null|   0.000000000000000000|                 null|                        null|                 96342.99|                     null|                    null|369240120155201|     null|          null|                   null|               null|               null|                  null|                        0|             RPSC|   null|                           null|    2019-11-08 00:00:00|                    null|                          null|36924012G5D26R07G...|                  179|                   6|       null|                  null|       LS2| 1840196200|       null|        F5951|             3896|      03896|    COMML LOAN OTHER|       196200000|      US|          null|   USD|  196200000|     F5951|      03896|                           Y|              Y|              null|             null|      null|                null||99995|K9898|9999...|          1.32745|              1.0|                     127890.5|                     96342.99|                  null|                  null|     LNCM_FCOMTUSD| 14|     max(14,10)|                    14|            14|\n",
            "|   2019-11-29|LS235013524*:7TK8...|35013524*:7TK8DP*...|               LS2|        35013524|LOWE'S COMPANIES,...|     DCTLN|     DISCOUNT LOAN|196200000|         03896|                G3342|          USD|2019-09-09 00:00:00|2019-12-30 00:00:00|            0.0|                        COM|                 null|                   null|   *:7TK8WJ|        6599|      null|                           N|               null|         ACCRUED|                  null|     788629.41|        1046866.11|            2.663|                 F|            0.0|               SIMPLE DAILY|                         DAILY|                       QUA|        null|                ACT/360|             null|  2019-12-30 00:00:00|                        1|            3.5E8|              2019-12-30 00:00:00|                            1|              null|             null|           null|                null|               null|       788629.41|          null|             P|          788629.41|                       DISCL|                   null|         2.663|           null|          N|                               112|                                 31|          null|                 R|    788629.41|3.4921137059E8|                   null|         788629.41|      null|                 null|                 null|                         null|               null|                  null|                        Y|$380MM LOWE'S PAY...|TRADE FINANCE SUP...|Receivables Purch...|     TFSC|   null|LS20000035013524*...|               null|                  null|               null|          null|                null|            null|                                 1|               0|              null|                                4|                    NC|              null|                  null|                 null|                   null|              *|                           null|             null|             null|             null|             null|                       null|  2019-09-09 00:00:00|                  0.0|          null|   0.000000000000000000|                 null|                        null|                788629.41|                     null|                    null|350135240149610|     null|          null|                   null|               null|               null|                  null|                        0|             RPSC|   null|                           null|    2019-09-09 00:00:00|                    null|                          null|35013524*:7TK8DP*...|                  112|                   4|       null|                  null|       LS2| 1840196200|       null|        G3342|             3896|      03896|    COMML LOAN OTHER|       196200000|      US|          null|   USD|  196200000|     G3342|      03896|                           Y|              Y|              null|             null|      null|                null||99995|K9898|9999...|          1.32745|              1.0|                   1046866.11|                    788629.41|                  null|                  null|     LNCM_FCOMTUSD| 15|     max(15,10)|                    15|            15|\n",
            "|   2019-11-29|LS235098631U:CFZD...|35098631U:CFZDUVU...|               LS2|        35098631|Center Fork Ranch...|      LOAN|              LOAN|136680000|         03860|                H0776|          CAD|2016-11-15 00:00:00|2024-12-02 00:00:00|            0.0|                        COM|                 null|                   null|   U:CFZDW0|        0112|      null|                           N|               null|         ACCRUED|                  null|     878888.48|         878888.48|              4.2|                 V|           0.25|               SIMPLE DAILY|                         DAILY|                       MON|        null|        ACT/ACTY (ISDA)|                P|  2024-12-02 00:00:00|                       60|        864444.04|              2024-12-02 00:00:00|                           60|              null|             null|            0.0|                null|2019-12-02 00:00:00|      1398888.32|      14444.44|             P|          878888.48|                       CNDNP|                   null|           4.2|           null|          N|                              2939|                               1830|          null|                 T|    878888.48|     -14444.44|                   null|         662087.82|      null|                 null|                 null|                     14444.44|2015-04-30 00:00:00|                  null|                        Y|          FACILITY 2|DEMAND LOAN NON-R...|Takeover or Acqui...|      CDA|   null|LS20000035098631U...|               null|                  null|               null|          null|                null|            null|                                60|               0|              null|                               97|                   SAS|              null|                  null|                 null|                   null|           CBAA|                           null|             null|             null|             null|             null|                   14444.44|  2016-11-15 00:00:00|                  0.0|          null|   0.000000000000000000|                 null|                         0.0|                878888.48|                     null|                    null|   350986310001|     null|          null|                   null|               null|               null|                  null|                        0|               TA|   null|                           null|    2016-11-15 00:00:00|                    null|                          null|35098631U:CFZDUVU...|                 2939|                  97|       null|                  null|       LS2| 1840136680|       null|        H0776|             9998|      03860|    COMML LOAN OTHER|       136680000|      CA|          null|   CAD|  136680000|     H0776|      03860|                           Y|              Y|              null|               13|      (iv)|TO INDIVIDUALS AN...||99995|K9898|9999...|              1.0|   0.753324042337|                    878888.48|                    662087.82|                  null|                  null|        LNCM_VCOMT| 16|     max(16,10)|                    16|            16|\n",
            "|   2019-11-29|LS23503935231C0FL...|3503935231C0FL3NE...|               LS2|        35039352|LOCH LOMOND MOTOR...|      LOAN|              LOAN|136680000|         03860|                C8349|          CAD|2017-07-12 00:00:00|2022-06-30 00:00:00|            0.0|                        COM|                 null|                   null|   E-CSTSFM|        6311|      null|                           N|               null|         ACCRUED|                  null|      53233.02|          53233.02|             4.45|                 V|            0.5|               SIMPLE DAILY|                         DAILY|                       MON|        null|        ACT/ACTY (ISDA)|                P|  2022-06-30 00:00:00|                       31|         51569.49|              2022-06-30 00:00:00|                           31|              null|             null|            0.0|                null|2019-12-02 00:00:00|        99811.86|       1663.53|             P|           53233.02|                       CNDNP|                   null|          4.45|           null|          N|                              1814|                                944|          null|                 T|     53233.02|      -1663.53|                   null|          40101.71|      null|                 null|                 null|                      1663.53|2017-07-10 00:00:00|                  null|                        Y|FACILITY G -  DLN...|DEMAND LOAN NON-R...|General Corporate...|      CDA|   null|LS200000350393523...|               null|                  null|               null|          null|                null|            null|                                31|               0|              null|                               60|                    NB|              null|                  null|                 null|                   null|           CBAA|                           null|             null|             null|             null|             null|                    1663.53|  2017-07-12 00:00:00|                  0.0|          null|   0.000000000000000000|                 null|                         0.0|                 53233.02|                     null|                    null|   350393520007|     null|          null|                   null|               null|               null|                  null|                        0|               GC|   null|                           null|    2017-07-12 00:00:00|                    null|                          null|3503935231C0FL3NE...|                 1814|                  60|       null|                  null|       LS2| 1840136680|       null|        C8349|             9998|      03860|    COMML LOAN OTHER|       136680000|      CA|          null|   CAD|  136680000|     C8349|      03860|                           Y|              Y|              null|               13|      (iv)|TO INDIVIDUALS AN...||99995|K9898|9999...|              1.0|   0.753324042337|                     53233.02|                     40101.71|                  null|                  null|        LNCM_VCOMT| 17|     max(17,10)|                    17|            17|\n",
            "|   2019-11-29|LS236525476)SCL2F...|36525476)SCL2F9E)...|               LS2|        36525476|Maple Ridge Senio...|      LOAN|              LOAN|136680000|         03860|                C4921|          CAD|2019-11-01 00:00:00|2024-08-31 00:00:00|            0.0|                        COM|                 null|                   null|   )SCL2FA6|        8621|      null|                           N|               null|         ACCRUED|                  null| 2.462112977E7|     2.462112977E7|             3.26|                 F|            1.3|               SIMPLE DAILY|                         DAILY|                       MON|        null|        ACT/ACTY (ISDA)|             null|  2024-08-31 00:00:00|                       57|    2.462112977E7|              2024-08-31 00:00:00|                           57|              null|             null|           null| 2019-12-02 00:00:00|               null|   2.462112977E7|          null|             P|      2.462112977E7|                       FIXED|                    30D|          3.26|           null|          N|                              1765|                               1737|          null|                 T|2.462112977E7|           0.0|                   null|     1.854768901E7|      null|                 null|                 null|                         null|2017-02-10 00:00:00|   2024-08-31 00:00:00|                        Y|FAC 1 NON-REVOLVI...|           TERM LOAN|         Refinancing|      CDA|   null|LS20000036525476)...|               null|                  null|               null|          null|                null|            null|                                57|               0|              null|                               58|                    BC|              null|                  null|                 2759|                   null|              *|                           null|             null|             null|             null|             null|                       null|  2019-11-01 00:00:00|                  0.0|          null|   0.000000000000000000|                 null|                        null|            2.462112977E7|                     null|                    null|   365254760068|     null|          null|                   null|               null|               null|                  null|                        0|               RF|   null|                           null|    2019-11-01 00:00:00|                    null|                          null|36525476)SCL2F9E)...|                 1765|                  58|       null|                  null|       LS2| 1840136680|       null|        C4921|             9998|      03860|    COMML LOAN OTHER|       136680000|      CA|          null|   CAD|  136680000|     C4921|      03860|                           Y|              Y|              null|               13|      (iv)|TO INDIVIDUALS AN...||99995|K9898|9999...|              1.0|   0.753324042337|                2.462112977E7|                1.854768901E7|                  null|                  null|        LNCM_FCOMT| 18|     max(18,10)|                    18|            18|\n",
            "|   2019-11-29|LS235044395:PC1TU...|35044395:PC1TUPU:...|               LS2|        35044395|PRIME PROPERTY FU...|      LOAN|              LOAN|193846000|         03896|                G6425|          USD|2019-11-15 00:00:00|2022-06-30 00:00:00|            0.0|                        COM|                 null|                   null|   :PC1TY29|        7222|      null|                           N|               null|         ACCRUED|                  null| 1.442307692E7|     1.914591346E7|            2.545|                 V|          0.775|               SIMPLE DAILY|                         DAILY|                       MON|        null|                ACT/360|             null|  2022-06-30 00:00:00|                       31|            7.5E7|              2022-06-30 00:00:00|                           31|              null|             null|           null| 2019-12-16 00:00:00|               null|   1.442307692E7|          null|             P|      1.442307692E7|                       LIBOR|                    30D|         2.545|           null|          N|                               958|                                944|          null|                 R|1.442307692E7| 6.057692308E7|                   null|     1.442307692E7|      null|                 null|                 null|                         null|2016-02-04 00:00:00|   2022-06-30 00:00:00|                        Y|            REVOLVER| REVOLVING COMMITTED|     Working Capital|      CDA|   null|LS20000035044395:...|               null|                  null|               null|          null|                null|            null|                                31|               0|              null|                               31|                    GA|              null|                  null|                 2338|                   null|            C10|                           null|             null|             null|             null|             null|                       null|  2019-11-15 00:00:00|                  0.0|          null|   0.000000000000000000|                 null|                        null|            1.442307692E7|                     null|                    null|XL2019111460034|     null|          null|                   null|               null|               null|                  null|                        0|               WC|   null|                           null|    2019-11-15 00:00:00|                    null|                          null|35044395:PC1TUPU:...|                  958|                  31|       null|                  null|       LS2| 1846133383|       null|        G6425|             3896|      03896|    COMML LOAN OTHER|       193846000|      US|          null|   USD|  193846000|     G6425|      03896|                           Y|              Y|              null|               13|      (iv)|TO INDIVIDUALS AN...||99995|K9898|9999...|          1.32745|              1.0|                1.914591346E7|                1.442307692E7|                  null|                  null|LNCM_VGT3MLBORCOMT| 19|     max(19,10)|                    19|            19|\n",
            "+-------------+--------------------+--------------------+------------------+----------------+--------------------+----------+------------------+---------+--------------+---------------------+-------------+-------------------+-------------------+---------------+---------------------------+---------------------+-----------------------+-----------+------------+----------+----------------------------+-------------------+----------------+----------------------+--------------+------------------+-----------------+------------------+---------------+---------------------------+------------------------------+--------------------------+------------+-----------------------+-----------------+---------------------+-------------------------+-----------------+---------------------------------+-----------------------------+------------------+-----------------+---------------+--------------------+-------------------+----------------+--------------+--------------+-------------------+----------------------------+-----------------------+--------------+---------------+-----------+----------------------------------+-----------------------------------+--------------+------------------+-------------+--------------+-----------------------+------------------+----------+---------------------+---------------------+-----------------------------+-------------------+----------------------+-------------------------+--------------------+--------------------+--------------------+---------+-------+--------------------+-------------------+----------------------+-------------------+--------------+--------------------+----------------+----------------------------------+----------------+------------------+---------------------------------+----------------------+------------------+----------------------+---------------------+-----------------------+---------------+-------------------------------+-----------------+-----------------+-----------------+-----------------+---------------------------+---------------------+---------------------+--------------+-----------------------+---------------------+----------------------------+-------------------------+-------------------------+------------------------+---------------+---------+--------------+-----------------------+-------------------+-------------------+----------------------+-------------------------+-----------------+-------+-------------------------------+-----------------------+------------------------+------------------------------+--------------------+---------------------+--------------------+-----------+----------------------+----------+-----------+-----------+-------------+-----------------+-----------+--------------------+----------------+--------+--------------+------+-----------+----------+-----------+----------------------------+---------------+------------------+-----------------+----------+--------------------+--------------------+-----------------+-----------------+-----------------------------+-----------------------------+----------------------+----------------------+------------------+---+---------------+----------------------+--------------+\n",
            "only showing top 20 rows\n",
            "\n"
          ]
        }
      ]
    },
    {
      "cell_type": "code",
      "metadata": {
        "colab": {
          "base_uri": "https://localhost:8080/"
        },
        "id": "MOMR2bLaKtal",
        "outputId": "d4d6bede-7c06-4c40-ada5-31070950af4b"
      },
      "source": [
        "rdd1 = spark.sparkContext.parallelize([{'name':'praveen','score':234},{'name':'pravee','score':23}])\n",
        "df1 = spark.createDataFrame(rdd1)\n",
        "df1.createOrReplaceTempView(\"table\")\n",
        "df1.show()\n",
        "df2 = df1.select(\"*\")\n",
        "df3 = spark.sql(\"select * from table\")\n",
        "df2.show()\n",
        "df3.show()\n",
        "#df1 = spark.sql(\"select count(*) from default.table1 group by col1\")"
      ],
      "execution_count": null,
      "outputs": [
        {
          "output_type": "stream",
          "name": "stderr",
          "text": [
            "/content/spark-2.4.3-bin-hadoop2.7/python/pyspark/sql/session.py:366: UserWarning: Using RDD of dict to inferSchema is deprecated. Use pyspark.sql.Row instead\n",
            "  warnings.warn(\"Using RDD of dict to inferSchema is deprecated. \"\n"
          ]
        },
        {
          "output_type": "stream",
          "name": "stdout",
          "text": [
            "+-------+-----+\n",
            "|   name|score|\n",
            "+-------+-----+\n",
            "|praveen|  234|\n",
            "| pravee|   23|\n",
            "+-------+-----+\n",
            "\n",
            "+-------+-----+\n",
            "|   name|score|\n",
            "+-------+-----+\n",
            "|praveen|  234|\n",
            "| pravee|   23|\n",
            "+-------+-----+\n",
            "\n",
            "+-------+-----+\n",
            "|   name|score|\n",
            "+-------+-----+\n",
            "|praveen|  234|\n",
            "| pravee|   23|\n",
            "+-------+-----+\n",
            "\n"
          ]
        }
      ]
    },
    {
      "cell_type": "code",
      "metadata": {
        "id": "ApmBKFUSoaTN"
      },
      "source": [
        "spark.stop()"
      ],
      "execution_count": null,
      "outputs": []
    },
    {
      "cell_type": "code",
      "metadata": {
        "id": "eAMreSN4obWB",
        "colab": {
          "base_uri": "https://localhost:8080/",
          "height": 358
        },
        "outputId": "4089f9bf-4053-4342-8d72-2beb9027764a"
      },
      "source": [
        "!pip install pyspark"
      ],
      "execution_count": null,
      "outputs": [
        {
          "output_type": "stream",
          "name": "stdout",
          "text": [
            "Collecting pyspark\n",
            "  Downloading pyspark-3.2.1.tar.gz (281.4 MB)\n",
            "\u001b[K     |████████████████████████████████| 281.4 MB 33 kB/s \n",
            "\u001b[?25hCollecting py4j==0.10.9.3\n",
            "  Downloading py4j-0.10.9.3-py2.py3-none-any.whl (198 kB)\n",
            "\u001b[K     |████████████████████████████████| 198 kB 52.1 MB/s \n",
            "\u001b[?25hBuilding wheels for collected packages: pyspark\n",
            "  Building wheel for pyspark (setup.py) ... \u001b[?25l\u001b[?25hdone\n",
            "  Created wheel for pyspark: filename=pyspark-3.2.1-py2.py3-none-any.whl size=281853642 sha256=0032443e461f291ccf8763e51436d1e2cc21d22dbe82237704c62e76cbcfc642\n",
            "  Stored in directory: /root/.cache/pip/wheels/9f/f5/07/7cd8017084dce4e93e84e92efd1e1d5334db05f2e83bcef74f\n",
            "Successfully built pyspark\n",
            "Installing collected packages: py4j, pyspark\n",
            "Successfully installed py4j-0.10.9.3 pyspark-3.2.1\n"
          ]
        },
        {
          "output_type": "display_data",
          "data": {
            "application/vnd.colab-display-data+json": {
              "pip_warning": {
                "packages": [
                  "py4j",
                  "pyspark"
                ]
              }
            }
          },
          "metadata": {}
        }
      ]
    },
    {
      "cell_type": "markdown",
      "metadata": {
        "id": "Oia_0gHqDXjQ"
      },
      "source": [
        "***User Defined Functions***\n",
        "**Scalar Pandas UDF**"
      ]
    },
    {
      "cell_type": "code",
      "metadata": {
        "id": "GMwu4M40DijS",
        "colab": {
          "base_uri": "https://localhost:8080/"
        },
        "outputId": "16a949c4-376b-442e-e030-46159ab9158b"
      },
      "source": [
        "import pandas as pd\n",
        "import findspark\n",
        "findspark.init()\n",
        "os.environ['PYSPARK_SUBMIT_ARGS'] = '--executor-memory 9G pyspark-shell'\n",
        "from pyspark.sql.functions import col, pandas_udf\n",
        "from pyspark.sql.types import LongType,StringType\n",
        "\n",
        "spark = SparkSession.builder.master(\"local\").appName(\" UDF Example\").config(\"spark.some.config.option\", \"some-value\").getOrCreate()\n",
        "\n",
        "# Declare the function and create the UDF\n",
        "def multiply_func(a, b):\n",
        "    return a * b\n",
        "\n",
        "multiply = pandas_udf(multiply_func, returnType=LongType())\n",
        "\n",
        "# The function for a pandas_udf should be able to execute with local Pandas data\n",
        "x = pd.Series([1, 2, 3])\n",
        "print(multiply_func(x, x))\n",
        "# 0    1\n",
        "# 1    4\n",
        "# 2    9\n",
        "# dtype: int64\n",
        "\n",
        "# Create a Spark DataFrame, 'spark' is an existing SparkSession\n",
        "df = spark.createDataFrame(pd.DataFrame(x, columns=[\"x\"]))\n",
        "df.show()\n",
        "df.printSchema()\n",
        "# Execute function as a Spark vectorized UDF\n",
        "df.withColumn(\"square\",multiply_func(col(\"x\"), col(\"x\"))).show()\n"
      ],
      "execution_count": null,
      "outputs": [
        {
          "output_type": "stream",
          "name": "stdout",
          "text": [
            "0    1\n",
            "1    4\n",
            "2    9\n",
            "dtype: int64\n",
            "+---+\n",
            "|  x|\n",
            "+---+\n",
            "|  1|\n",
            "|  2|\n",
            "|  3|\n",
            "+---+\n",
            "\n",
            "root\n",
            " |-- x: long (nullable = true)\n",
            "\n",
            "+---+------+\n",
            "|  x|square|\n",
            "+---+------+\n",
            "|  1|     1|\n",
            "|  2|     4|\n",
            "|  3|     9|\n",
            "+---+------+\n",
            "\n"
          ]
        }
      ]
    },
    {
      "cell_type": "markdown",
      "metadata": {
        "id": "DzO83gcGGQVg"
      },
      "source": [
        "***User Defined Functions***\n",
        "**Group By**"
      ]
    },
    {
      "cell_type": "code",
      "metadata": {
        "id": "sAC9QQsoGV-l",
        "colab": {
          "base_uri": "https://localhost:8080/",
          "height": 1000
        },
        "outputId": "5127f4fa-55ac-4345-c998-81fa1c69a171"
      },
      "source": [
        "from pyspark.sql.functions import pandas_udf, PandasUDFType\n",
        "\n",
        "df = spark.createDataFrame(\n",
        "    [(1, 1.0), (1, 2.0), (2, 3.0), (2, 5.0), (2, 10.0)],\n",
        "    (\"id\", \"v\"))\n",
        "\n",
        "# +---+----+\n",
        "# | id|   v|\n",
        "# +---+----+\n",
        "# |  1|1.0 |\n",
        "# |  1|2.0 |\n",
        "# |  2|3.0 |\n",
        "# |  2|5.0 |\n",
        "# |  2|10.0|\n",
        "# +---+----+\n",
        "\n",
        "@pandas_udf(\"id long, v double\", PandasUDFType.GROUPED_MAP)\n",
        "def substract_mean(pdf):\n",
        "    # pdf is a pandas.DataFrame\n",
        "    v = pdf.v\n",
        "    return pdf.assign(v=v - v.mean())\n",
        "\n",
        "df.groupby(\"id\").apply(substract_mean).show()\n",
        "# +---+----+\n",
        "# | id|   v|\n",
        "# +---+----+\n",
        "# |  1|-0.5|\n",
        "# |  1| 0.5|\n",
        "# |  2|-3.0|\n",
        "# |  2|-1.0|\n",
        "# |  2| 4.0|\n",
        "# +---+----+\n"
      ],
      "execution_count": null,
      "outputs": [
        {
          "output_type": "error",
          "ename": "Py4JJavaError",
          "evalue": "ignored",
          "traceback": [
            "\u001b[0;31m---------------------------------------------------------------------------\u001b[0m",
            "\u001b[0;31mPy4JJavaError\u001b[0m                             Traceback (most recent call last)",
            "\u001b[0;32m<ipython-input-19-4f0a770138ab>\u001b[0m in \u001b[0;36m<module>\u001b[0;34m()\u001b[0m\n\u001b[1;32m     21\u001b[0m     \u001b[0;32mreturn\u001b[0m \u001b[0mpdf\u001b[0m\u001b[0;34m.\u001b[0m\u001b[0massign\u001b[0m\u001b[0;34m(\u001b[0m\u001b[0mv\u001b[0m\u001b[0;34m=\u001b[0m\u001b[0mv\u001b[0m \u001b[0;34m-\u001b[0m \u001b[0mv\u001b[0m\u001b[0;34m.\u001b[0m\u001b[0mmean\u001b[0m\u001b[0;34m(\u001b[0m\u001b[0;34m)\u001b[0m\u001b[0;34m)\u001b[0m\u001b[0;34m\u001b[0m\u001b[0;34m\u001b[0m\u001b[0m\n\u001b[1;32m     22\u001b[0m \u001b[0;34m\u001b[0m\u001b[0m\n\u001b[0;32m---> 23\u001b[0;31m \u001b[0mdf\u001b[0m\u001b[0;34m.\u001b[0m\u001b[0mgroupby\u001b[0m\u001b[0;34m(\u001b[0m\u001b[0;34m\"id\"\u001b[0m\u001b[0;34m)\u001b[0m\u001b[0;34m.\u001b[0m\u001b[0mapply\u001b[0m\u001b[0;34m(\u001b[0m\u001b[0msubstract_mean\u001b[0m\u001b[0;34m)\u001b[0m\u001b[0;34m.\u001b[0m\u001b[0mshow\u001b[0m\u001b[0;34m(\u001b[0m\u001b[0;34m)\u001b[0m\u001b[0;34m\u001b[0m\u001b[0;34m\u001b[0m\u001b[0m\n\u001b[0m\u001b[1;32m     24\u001b[0m \u001b[0;31m# +---+----+\u001b[0m\u001b[0;34m\u001b[0m\u001b[0;34m\u001b[0m\u001b[0;34m\u001b[0m\u001b[0m\n\u001b[1;32m     25\u001b[0m \u001b[0;31m# | id|   v|\u001b[0m\u001b[0;34m\u001b[0m\u001b[0;34m\u001b[0m\u001b[0;34m\u001b[0m\u001b[0m\n",
            "\u001b[0;32m/content/spark-2.4.3-bin-hadoop2.7/python/pyspark/sql/dataframe.py\u001b[0m in \u001b[0;36mshow\u001b[0;34m(self, n, truncate, vertical)\u001b[0m\n\u001b[1;32m    376\u001b[0m         \"\"\"\n\u001b[1;32m    377\u001b[0m         \u001b[0;32mif\u001b[0m \u001b[0misinstance\u001b[0m\u001b[0;34m(\u001b[0m\u001b[0mtruncate\u001b[0m\u001b[0;34m,\u001b[0m \u001b[0mbool\u001b[0m\u001b[0;34m)\u001b[0m \u001b[0;32mand\u001b[0m \u001b[0mtruncate\u001b[0m\u001b[0;34m:\u001b[0m\u001b[0;34m\u001b[0m\u001b[0;34m\u001b[0m\u001b[0m\n\u001b[0;32m--> 378\u001b[0;31m             \u001b[0mprint\u001b[0m\u001b[0;34m(\u001b[0m\u001b[0mself\u001b[0m\u001b[0;34m.\u001b[0m\u001b[0m_jdf\u001b[0m\u001b[0;34m.\u001b[0m\u001b[0mshowString\u001b[0m\u001b[0;34m(\u001b[0m\u001b[0mn\u001b[0m\u001b[0;34m,\u001b[0m \u001b[0;36m20\u001b[0m\u001b[0;34m,\u001b[0m \u001b[0mvertical\u001b[0m\u001b[0;34m)\u001b[0m\u001b[0;34m)\u001b[0m\u001b[0;34m\u001b[0m\u001b[0;34m\u001b[0m\u001b[0m\n\u001b[0m\u001b[1;32m    379\u001b[0m         \u001b[0;32melse\u001b[0m\u001b[0;34m:\u001b[0m\u001b[0;34m\u001b[0m\u001b[0;34m\u001b[0m\u001b[0m\n\u001b[1;32m    380\u001b[0m             \u001b[0mprint\u001b[0m\u001b[0;34m(\u001b[0m\u001b[0mself\u001b[0m\u001b[0;34m.\u001b[0m\u001b[0m_jdf\u001b[0m\u001b[0;34m.\u001b[0m\u001b[0mshowString\u001b[0m\u001b[0;34m(\u001b[0m\u001b[0mn\u001b[0m\u001b[0;34m,\u001b[0m \u001b[0mint\u001b[0m\u001b[0;34m(\u001b[0m\u001b[0mtruncate\u001b[0m\u001b[0;34m)\u001b[0m\u001b[0;34m,\u001b[0m \u001b[0mvertical\u001b[0m\u001b[0;34m)\u001b[0m\u001b[0;34m)\u001b[0m\u001b[0;34m\u001b[0m\u001b[0;34m\u001b[0m\u001b[0m\n",
            "\u001b[0;32m/content/spark-2.4.3-bin-hadoop2.7/python/lib/py4j-0.10.7-src.zip/py4j/java_gateway.py\u001b[0m in \u001b[0;36m__call__\u001b[0;34m(self, *args)\u001b[0m\n\u001b[1;32m   1255\u001b[0m         \u001b[0manswer\u001b[0m \u001b[0;34m=\u001b[0m \u001b[0mself\u001b[0m\u001b[0;34m.\u001b[0m\u001b[0mgateway_client\u001b[0m\u001b[0;34m.\u001b[0m\u001b[0msend_command\u001b[0m\u001b[0;34m(\u001b[0m\u001b[0mcommand\u001b[0m\u001b[0;34m)\u001b[0m\u001b[0;34m\u001b[0m\u001b[0;34m\u001b[0m\u001b[0m\n\u001b[1;32m   1256\u001b[0m         return_value = get_return_value(\n\u001b[0;32m-> 1257\u001b[0;31m             answer, self.gateway_client, self.target_id, self.name)\n\u001b[0m\u001b[1;32m   1258\u001b[0m \u001b[0;34m\u001b[0m\u001b[0m\n\u001b[1;32m   1259\u001b[0m         \u001b[0;32mfor\u001b[0m \u001b[0mtemp_arg\u001b[0m \u001b[0;32min\u001b[0m \u001b[0mtemp_args\u001b[0m\u001b[0;34m:\u001b[0m\u001b[0;34m\u001b[0m\u001b[0;34m\u001b[0m\u001b[0m\n",
            "\u001b[0;32m/content/spark-2.4.3-bin-hadoop2.7/python/pyspark/sql/utils.py\u001b[0m in \u001b[0;36mdeco\u001b[0;34m(*a, **kw)\u001b[0m\n\u001b[1;32m     61\u001b[0m     \u001b[0;32mdef\u001b[0m \u001b[0mdeco\u001b[0m\u001b[0;34m(\u001b[0m\u001b[0;34m*\u001b[0m\u001b[0ma\u001b[0m\u001b[0;34m,\u001b[0m \u001b[0;34m**\u001b[0m\u001b[0mkw\u001b[0m\u001b[0;34m)\u001b[0m\u001b[0;34m:\u001b[0m\u001b[0;34m\u001b[0m\u001b[0;34m\u001b[0m\u001b[0m\n\u001b[1;32m     62\u001b[0m         \u001b[0;32mtry\u001b[0m\u001b[0;34m:\u001b[0m\u001b[0;34m\u001b[0m\u001b[0;34m\u001b[0m\u001b[0m\n\u001b[0;32m---> 63\u001b[0;31m             \u001b[0;32mreturn\u001b[0m \u001b[0mf\u001b[0m\u001b[0;34m(\u001b[0m\u001b[0;34m*\u001b[0m\u001b[0ma\u001b[0m\u001b[0;34m,\u001b[0m \u001b[0;34m**\u001b[0m\u001b[0mkw\u001b[0m\u001b[0;34m)\u001b[0m\u001b[0;34m\u001b[0m\u001b[0;34m\u001b[0m\u001b[0m\n\u001b[0m\u001b[1;32m     64\u001b[0m         \u001b[0;32mexcept\u001b[0m \u001b[0mpy4j\u001b[0m\u001b[0;34m.\u001b[0m\u001b[0mprotocol\u001b[0m\u001b[0;34m.\u001b[0m\u001b[0mPy4JJavaError\u001b[0m \u001b[0;32mas\u001b[0m \u001b[0me\u001b[0m\u001b[0;34m:\u001b[0m\u001b[0;34m\u001b[0m\u001b[0;34m\u001b[0m\u001b[0m\n\u001b[1;32m     65\u001b[0m             \u001b[0ms\u001b[0m \u001b[0;34m=\u001b[0m \u001b[0me\u001b[0m\u001b[0;34m.\u001b[0m\u001b[0mjava_exception\u001b[0m\u001b[0;34m.\u001b[0m\u001b[0mtoString\u001b[0m\u001b[0;34m(\u001b[0m\u001b[0;34m)\u001b[0m\u001b[0;34m\u001b[0m\u001b[0;34m\u001b[0m\u001b[0m\n",
            "\u001b[0;32m/content/spark-2.4.3-bin-hadoop2.7/python/lib/py4j-0.10.7-src.zip/py4j/protocol.py\u001b[0m in \u001b[0;36mget_return_value\u001b[0;34m(answer, gateway_client, target_id, name)\u001b[0m\n\u001b[1;32m    326\u001b[0m                 raise Py4JJavaError(\n\u001b[1;32m    327\u001b[0m                     \u001b[0;34m\"An error occurred while calling {0}{1}{2}.\\n\"\u001b[0m\u001b[0;34m.\u001b[0m\u001b[0;34m\u001b[0m\u001b[0;34m\u001b[0m\u001b[0m\n\u001b[0;32m--> 328\u001b[0;31m                     format(target_id, \".\", name), value)\n\u001b[0m\u001b[1;32m    329\u001b[0m             \u001b[0;32melse\u001b[0m\u001b[0;34m:\u001b[0m\u001b[0;34m\u001b[0m\u001b[0;34m\u001b[0m\u001b[0m\n\u001b[1;32m    330\u001b[0m                 raise Py4JError(\n",
            "\u001b[0;31mPy4JJavaError\u001b[0m: An error occurred while calling o495.showString.\n: org.apache.spark.SparkException: Job aborted due to stage failure: Task 44 in stage 40.0 failed 1 times, most recent failure: Lost task 44.0 in stage 40.0 (TID 278, localhost, executor driver): java.lang.IllegalArgumentException\n\tat java.nio.ByteBuffer.allocate(ByteBuffer.java:334)\n\tat org.apache.arrow.vector.ipc.message.MessageSerializer.readMessage(MessageSerializer.java:543)\n\tat org.apache.arrow.vector.ipc.message.MessageChannelReader.readNext(MessageChannelReader.java:58)\n\tat org.apache.arrow.vector.ipc.ArrowStreamReader.readSchema(ArrowStreamReader.java:132)\n\tat org.apache.arrow.vector.ipc.ArrowReader.initialize(ArrowReader.java:181)\n\tat org.apache.arrow.vector.ipc.ArrowReader.ensureInitialized(ArrowReader.java:172)\n\tat org.apache.arrow.vector.ipc.ArrowReader.getVectorSchemaRoot(ArrowReader.java:65)\n\tat org.apache.spark.sql.execution.python.ArrowPythonRunner$$anon$1.read(ArrowPythonRunner.scala:162)\n\tat org.apache.spark.sql.execution.python.ArrowPythonRunner$$anon$1.read(ArrowPythonRunner.scala:122)\n\tat org.apache.spark.api.python.BasePythonRunner$ReaderIterator.hasNext(PythonRunner.scala:406)\n\tat org.apache.spark.InterruptibleIterator.hasNext(InterruptibleIterator.scala:37)\n\tat scala.collection.Iterator$$anon$12.hasNext(Iterator.scala:440)\n\tat scala.collection.Iterator$$anon$11.hasNext(Iterator.scala:409)\n\tat org.apache.spark.sql.catalyst.expressions.GeneratedClass$GeneratedIteratorForCodegenStage3.processNext(Unknown Source)\n\tat org.apache.spark.sql.execution.BufferedRowIterator.hasNext(BufferedRowIterator.java:43)\n\tat org.apache.spark.sql.execution.WholeStageCodegenExec$$anonfun$13$$anon$1.hasNext(WholeStageCodegenExec.scala:636)\n\tat org.apache.spark.sql.execution.SparkPlan$$anonfun$2.apply(SparkPlan.scala:255)\n\tat org.apache.spark.sql.execution.SparkPlan$$anonfun$2.apply(SparkPlan.scala:247)\n\tat org.apache.spark.rdd.RDD$$anonfun$mapPartitionsInternal$1$$anonfun$apply$24.apply(RDD.scala:836)\n\tat org.apache.spark.rdd.RDD$$anonfun$mapPartitionsInternal$1$$anonfun$apply$24.apply(RDD.scala:836)\n\tat org.apache.spark.rdd.MapPartitionsRDD.compute(MapPartitionsRDD.scala:52)\n\tat org.apache.spark.rdd.RDD.computeOrReadCheckpoint(RDD.scala:324)\n\tat org.apache.spark.rdd.RDD.iterator(RDD.scala:288)\n\tat org.apache.spark.rdd.MapPartitionsRDD.compute(MapPartitionsRDD.scala:52)\n\tat org.apache.spark.rdd.RDD.computeOrReadCheckpoint(RDD.scala:324)\n\tat org.apache.spark.rdd.RDD.iterator(RDD.scala:288)\n\tat org.apache.spark.scheduler.ResultTask.runTask(ResultTask.scala:90)\n\tat org.apache.spark.scheduler.Task.run(Task.scala:121)\n\tat org.apache.spark.executor.Executor$TaskRunner$$anonfun$10.apply(Executor.scala:408)\n\tat org.apache.spark.util.Utils$.tryWithSafeFinally(Utils.scala:1360)\n\tat org.apache.spark.executor.Executor$TaskRunner.run(Executor.scala:414)\n\tat java.util.concurrent.ThreadPoolExecutor.runWorker(ThreadPoolExecutor.java:1149)\n\tat java.util.concurrent.ThreadPoolExecutor$Worker.run(ThreadPoolExecutor.java:624)\n\tat java.lang.Thread.run(Thread.java:748)\n\nDriver stacktrace:\n\tat org.apache.spark.scheduler.DAGScheduler.org$apache$spark$scheduler$DAGScheduler$$failJobAndIndependentStages(DAGScheduler.scala:1889)\n\tat org.apache.spark.scheduler.DAGScheduler$$anonfun$abortStage$1.apply(DAGScheduler.scala:1877)\n\tat org.apache.spark.scheduler.DAGScheduler$$anonfun$abortStage$1.apply(DAGScheduler.scala:1876)\n\tat scala.collection.mutable.ResizableArray$class.foreach(ResizableArray.scala:59)\n\tat scala.collection.mutable.ArrayBuffer.foreach(ArrayBuffer.scala:48)\n\tat org.apache.spark.scheduler.DAGScheduler.abortStage(DAGScheduler.scala:1876)\n\tat org.apache.spark.scheduler.DAGScheduler$$anonfun$handleTaskSetFailed$1.apply(DAGScheduler.scala:926)\n\tat org.apache.spark.scheduler.DAGScheduler$$anonfun$handleTaskSetFailed$1.apply(DAGScheduler.scala:926)\n\tat scala.Option.foreach(Option.scala:257)\n\tat org.apache.spark.scheduler.DAGScheduler.handleTaskSetFailed(DAGScheduler.scala:926)\n\tat org.apache.spark.scheduler.DAGSchedulerEventProcessLoop.doOnReceive(DAGScheduler.scala:2110)\n\tat org.apache.spark.scheduler.DAGSchedulerEventProcessLoop.onReceive(DAGScheduler.scala:2059)\n\tat org.apache.spark.scheduler.DAGSchedulerEventProcessLoop.onReceive(DAGScheduler.scala:2048)\n\tat org.apache.spark.util.EventLoop$$anon$1.run(EventLoop.scala:49)\n\tat org.apache.spark.scheduler.DAGScheduler.runJob(DAGScheduler.scala:737)\n\tat org.apache.spark.SparkContext.runJob(SparkContext.scala:2061)\n\tat org.apache.spark.SparkContext.runJob(SparkContext.scala:2082)\n\tat org.apache.spark.SparkContext.runJob(SparkContext.scala:2101)\n\tat org.apache.spark.sql.execution.SparkPlan.executeTake(SparkPlan.scala:365)\n\tat org.apache.spark.sql.execution.CollectLimitExec.executeCollect(limit.scala:38)\n\tat org.apache.spark.sql.Dataset.org$apache$spark$sql$Dataset$$collectFromPlan(Dataset.scala:3383)\n\tat org.apache.spark.sql.Dataset$$anonfun$head$1.apply(Dataset.scala:2544)\n\tat org.apache.spark.sql.Dataset$$anonfun$head$1.apply(Dataset.scala:2544)\n\tat org.apache.spark.sql.Dataset$$anonfun$53.apply(Dataset.scala:3364)\n\tat org.apache.spark.sql.execution.SQLExecution$$anonfun$withNewExecutionId$1.apply(SQLExecution.scala:78)\n\tat org.apache.spark.sql.execution.SQLExecution$.withSQLConfPropagated(SQLExecution.scala:125)\n\tat org.apache.spark.sql.execution.SQLExecution$.withNewExecutionId(SQLExecution.scala:73)\n\tat org.apache.spark.sql.Dataset.withAction(Dataset.scala:3363)\n\tat org.apache.spark.sql.Dataset.head(Dataset.scala:2544)\n\tat org.apache.spark.sql.Dataset.take(Dataset.scala:2758)\n\tat org.apache.spark.sql.Dataset.getRows(Dataset.scala:254)\n\tat org.apache.spark.sql.Dataset.showString(Dataset.scala:291)\n\tat sun.reflect.NativeMethodAccessorImpl.invoke0(Native Method)\n\tat sun.reflect.NativeMethodAccessorImpl.invoke(NativeMethodAccessorImpl.java:62)\n\tat sun.reflect.DelegatingMethodAccessorImpl.invoke(DelegatingMethodAccessorImpl.java:43)\n\tat java.lang.reflect.Method.invoke(Method.java:498)\n\tat py4j.reflection.MethodInvoker.invoke(MethodInvoker.java:244)\n\tat py4j.reflection.ReflectionEngine.invoke(ReflectionEngine.java:357)\n\tat py4j.Gateway.invoke(Gateway.java:282)\n\tat py4j.commands.AbstractCommand.invokeMethod(AbstractCommand.java:132)\n\tat py4j.commands.CallCommand.execute(CallCommand.java:79)\n\tat py4j.GatewayConnection.run(GatewayConnection.java:238)\n\tat java.lang.Thread.run(Thread.java:748)\nCaused by: java.lang.IllegalArgumentException\n\tat java.nio.ByteBuffer.allocate(ByteBuffer.java:334)\n\tat org.apache.arrow.vector.ipc.message.MessageSerializer.readMessage(MessageSerializer.java:543)\n\tat org.apache.arrow.vector.ipc.message.MessageChannelReader.readNext(MessageChannelReader.java:58)\n\tat org.apache.arrow.vector.ipc.ArrowStreamReader.readSchema(ArrowStreamReader.java:132)\n\tat org.apache.arrow.vector.ipc.ArrowReader.initialize(ArrowReader.java:181)\n\tat org.apache.arrow.vector.ipc.ArrowReader.ensureInitialized(ArrowReader.java:172)\n\tat org.apache.arrow.vector.ipc.ArrowReader.getVectorSchemaRoot(ArrowReader.java:65)\n\tat org.apache.spark.sql.execution.python.ArrowPythonRunner$$anon$1.read(ArrowPythonRunner.scala:162)\n\tat org.apache.spark.sql.execution.python.ArrowPythonRunner$$anon$1.read(ArrowPythonRunner.scala:122)\n\tat org.apache.spark.api.python.BasePythonRunner$ReaderIterator.hasNext(PythonRunner.scala:406)\n\tat org.apache.spark.InterruptibleIterator.hasNext(InterruptibleIterator.scala:37)\n\tat scala.collection.Iterator$$anon$12.hasNext(Iterator.scala:440)\n\tat scala.collection.Iterator$$anon$11.hasNext(Iterator.scala:409)\n\tat org.apache.spark.sql.catalyst.expressions.GeneratedClass$GeneratedIteratorForCodegenStage3.processNext(Unknown Source)\n\tat org.apache.spark.sql.execution.BufferedRowIterator.hasNext(BufferedRowIterator.java:43)\n\tat org.apache.spark.sql.execution.WholeStageCodegenExec$$anonfun$13$$anon$1.hasNext(WholeStageCodegenExec.scala:636)\n\tat org.apache.spark.sql.execution.SparkPlan$$anonfun$2.apply(SparkPlan.scala:255)\n\tat org.apache.spark.sql.execution.SparkPlan$$anonfun$2.apply(SparkPlan.scala:247)\n\tat org.apache.spark.rdd.RDD$$anonfun$mapPartitionsInternal$1$$anonfun$apply$24.apply(RDD.scala:836)\n\tat org.apache.spark.rdd.RDD$$anonfun$mapPartitionsInternal$1$$anonfun$apply$24.apply(RDD.scala:836)\n\tat org.apache.spark.rdd.MapPartitionsRDD.compute(MapPartitionsRDD.scala:52)\n\tat org.apache.spark.rdd.RDD.computeOrReadCheckpoint(RDD.scala:324)\n\tat org.apache.spark.rdd.RDD.iterator(RDD.scala:288)\n\tat org.apache.spark.rdd.MapPartitionsRDD.compute(MapPartitionsRDD.scala:52)\n\tat org.apache.spark.rdd.RDD.computeOrReadCheckpoint(RDD.scala:324)\n\tat org.apache.spark.rdd.RDD.iterator(RDD.scala:288)\n\tat org.apache.spark.scheduler.ResultTask.runTask(ResultTask.scala:90)\n\tat org.apache.spark.scheduler.Task.run(Task.scala:121)\n\tat org.apache.spark.executor.Executor$TaskRunner$$anonfun$10.apply(Executor.scala:408)\n\tat org.apache.spark.util.Utils$.tryWithSafeFinally(Utils.scala:1360)\n\tat org.apache.spark.executor.Executor$TaskRunner.run(Executor.scala:414)\n\tat java.util.concurrent.ThreadPoolExecutor.runWorker(ThreadPoolExecutor.java:1149)\n\tat java.util.concurrent.ThreadPoolExecutor$Worker.run(ThreadPoolExecutor.java:624)\n\t... 1 more\n"
          ]
        }
      ]
    },
    {
      "cell_type": "code",
      "metadata": {
        "colab": {
          "resources": {
            "http://localhost:8080/nbextensions/google.colab/files.js": {
              "data": "Ly8gQ29weXJpZ2h0IDIwMTcgR29vZ2xlIExMQwovLwovLyBMaWNlbnNlZCB1bmRlciB0aGUgQXBhY2hlIExpY2Vuc2UsIFZlcnNpb24gMi4wICh0aGUgIkxpY2Vuc2UiKTsKLy8geW91IG1heSBub3QgdXNlIHRoaXMgZmlsZSBleGNlcHQgaW4gY29tcGxpYW5jZSB3aXRoIHRoZSBMaWNlbnNlLgovLyBZb3UgbWF5IG9idGFpbiBhIGNvcHkgb2YgdGhlIExpY2Vuc2UgYXQKLy8KLy8gICAgICBodHRwOi8vd3d3LmFwYWNoZS5vcmcvbGljZW5zZXMvTElDRU5TRS0yLjAKLy8KLy8gVW5sZXNzIHJlcXVpcmVkIGJ5IGFwcGxpY2FibGUgbGF3IG9yIGFncmVlZCB0byBpbiB3cml0aW5nLCBzb2Z0d2FyZQovLyBkaXN0cmlidXRlZCB1bmRlciB0aGUgTGljZW5zZSBpcyBkaXN0cmlidXRlZCBvbiBhbiAiQVMgSVMiIEJBU0lTLAovLyBXSVRIT1VUIFdBUlJBTlRJRVMgT1IgQ09ORElUSU9OUyBPRiBBTlkgS0lORCwgZWl0aGVyIGV4cHJlc3Mgb3IgaW1wbGllZC4KLy8gU2VlIHRoZSBMaWNlbnNlIGZvciB0aGUgc3BlY2lmaWMgbGFuZ3VhZ2UgZ292ZXJuaW5nIHBlcm1pc3Npb25zIGFuZAovLyBsaW1pdGF0aW9ucyB1bmRlciB0aGUgTGljZW5zZS4KCi8qKgogKiBAZmlsZW92ZXJ2aWV3IEhlbHBlcnMgZm9yIGdvb2dsZS5jb2xhYiBQeXRob24gbW9kdWxlLgogKi8KKGZ1bmN0aW9uKHNjb3BlKSB7CmZ1bmN0aW9uIHNwYW4odGV4dCwgc3R5bGVBdHRyaWJ1dGVzID0ge30pIHsKICBjb25zdCBlbGVtZW50ID0gZG9jdW1lbnQuY3JlYXRlRWxlbWVudCgnc3BhbicpOwogIGVsZW1lbnQudGV4dENvbnRlbnQgPSB0ZXh0OwogIGZvciAoY29uc3Qga2V5IG9mIE9iamVjdC5rZXlzKHN0eWxlQXR0cmlidXRlcykpIHsKICAgIGVsZW1lbnQuc3R5bGVba2V5XSA9IHN0eWxlQXR0cmlidXRlc1trZXldOwogIH0KICByZXR1cm4gZWxlbWVudDsKfQoKLy8gTWF4IG51bWJlciBvZiBieXRlcyB3aGljaCB3aWxsIGJlIHVwbG9hZGVkIGF0IGEgdGltZS4KY29uc3QgTUFYX1BBWUxPQURfU0laRSA9IDEwMCAqIDEwMjQ7CgpmdW5jdGlvbiBfdXBsb2FkRmlsZXMoaW5wdXRJZCwgb3V0cHV0SWQpIHsKICBjb25zdCBzdGVwcyA9IHVwbG9hZEZpbGVzU3RlcChpbnB1dElkLCBvdXRwdXRJZCk7CiAgY29uc3Qgb3V0cHV0RWxlbWVudCA9IGRvY3VtZW50LmdldEVsZW1lbnRCeUlkKG91dHB1dElkKTsKICAvLyBDYWNoZSBzdGVwcyBvbiB0aGUgb3V0cHV0RWxlbWVudCB0byBtYWtlIGl0IGF2YWlsYWJsZSBmb3IgdGhlIG5leHQgY2FsbAogIC8vIHRvIHVwbG9hZEZpbGVzQ29udGludWUgZnJvbSBQeXRob24uCiAgb3V0cHV0RWxlbWVudC5zdGVwcyA9IHN0ZXBzOwoKICByZXR1cm4gX3VwbG9hZEZpbGVzQ29udGludWUob3V0cHV0SWQpOwp9CgovLyBUaGlzIGlzIHJvdWdobHkgYW4gYXN5bmMgZ2VuZXJhdG9yIChub3Qgc3VwcG9ydGVkIGluIHRoZSBicm93c2VyIHlldCksCi8vIHdoZXJlIHRoZXJlIGFyZSBtdWx0aXBsZSBhc3luY2hyb25vdXMgc3RlcHMgYW5kIHRoZSBQeXRob24gc2lkZSBpcyBnb2luZwovLyB0byBwb2xsIGZvciBjb21wbGV0aW9uIG9mIGVhY2ggc3RlcC4KLy8gVGhpcyB1c2VzIGEgUHJvbWlzZSB0byBibG9jayB0aGUgcHl0aG9uIHNpZGUgb24gY29tcGxldGlvbiBvZiBlYWNoIHN0ZXAsCi8vIHRoZW4gcGFzc2VzIHRoZSByZXN1bHQgb2YgdGhlIHByZXZpb3VzIHN0ZXAgYXMgdGhlIGlucHV0IHRvIHRoZSBuZXh0IHN0ZXAuCmZ1bmN0aW9uIF91cGxvYWRGaWxlc0NvbnRpbnVlKG91dHB1dElkKSB7CiAgY29uc3Qgb3V0cHV0RWxlbWVudCA9IGRvY3VtZW50LmdldEVsZW1lbnRCeUlkKG91dHB1dElkKTsKICBjb25zdCBzdGVwcyA9IG91dHB1dEVsZW1lbnQuc3RlcHM7CgogIGNvbnN0IG5leHQgPSBzdGVwcy5uZXh0KG91dHB1dEVsZW1lbnQubGFzdFByb21pc2VWYWx1ZSk7CiAgcmV0dXJuIFByb21pc2UucmVzb2x2ZShuZXh0LnZhbHVlLnByb21pc2UpLnRoZW4oKHZhbHVlKSA9PiB7CiAgICAvLyBDYWNoZSB0aGUgbGFzdCBwcm9taXNlIHZhbHVlIHRvIG1ha2UgaXQgYXZhaWxhYmxlIHRvIHRoZSBuZXh0CiAgICAvLyBzdGVwIG9mIHRoZSBnZW5lcmF0b3IuCiAgICBvdXRwdXRFbGVtZW50Lmxhc3RQcm9taXNlVmFsdWUgPSB2YWx1ZTsKICAgIHJldHVybiBuZXh0LnZhbHVlLnJlc3BvbnNlOwogIH0pOwp9CgovKioKICogR2VuZXJhdG9yIGZ1bmN0aW9uIHdoaWNoIGlzIGNhbGxlZCBiZXR3ZWVuIGVhY2ggYXN5bmMgc3RlcCBvZiB0aGUgdXBsb2FkCiAqIHByb2Nlc3MuCiAqIEBwYXJhbSB7c3RyaW5nfSBpbnB1dElkIEVsZW1lbnQgSUQgb2YgdGhlIGlucHV0IGZpbGUgcGlja2VyIGVsZW1lbnQuCiAqIEBwYXJhbSB7c3RyaW5nfSBvdXRwdXRJZCBFbGVtZW50IElEIG9mIHRoZSBvdXRwdXQgZGlzcGxheS4KICogQHJldHVybiB7IUl0ZXJhYmxlPCFPYmplY3Q+fSBJdGVyYWJsZSBvZiBuZXh0IHN0ZXBzLgogKi8KZnVuY3Rpb24qIHVwbG9hZEZpbGVzU3RlcChpbnB1dElkLCBvdXRwdXRJZCkgewogIGNvbnN0IGlucHV0RWxlbWVudCA9IGRvY3VtZW50LmdldEVsZW1lbnRCeUlkKGlucHV0SWQpOwogIGlucHV0RWxlbWVudC5kaXNhYmxlZCA9IGZhbHNlOwoKICBjb25zdCBvdXRwdXRFbGVtZW50ID0gZG9jdW1lbnQuZ2V0RWxlbWVudEJ5SWQob3V0cHV0SWQpOwogIG91dHB1dEVsZW1lbnQuaW5uZXJIVE1MID0gJyc7CgogIGNvbnN0IHBpY2tlZFByb21pc2UgPSBuZXcgUHJvbWlzZSgocmVzb2x2ZSkgPT4gewogICAgaW5wdXRFbGVtZW50LmFkZEV2ZW50TGlzdGVuZXIoJ2NoYW5nZScsIChlKSA9PiB7CiAgICAgIHJlc29sdmUoZS50YXJnZXQuZmlsZXMpOwogICAgfSk7CiAgfSk7CgogIGNvbnN0IGNhbmNlbCA9IGRvY3VtZW50LmNyZWF0ZUVsZW1lbnQoJ2J1dHRvbicpOwogIGlucHV0RWxlbWVudC5wYXJlbnRFbGVtZW50LmFwcGVuZENoaWxkKGNhbmNlbCk7CiAgY2FuY2VsLnRleHRDb250ZW50ID0gJ0NhbmNlbCB1cGxvYWQnOwogIGNvbnN0IGNhbmNlbFByb21pc2UgPSBuZXcgUHJvbWlzZSgocmVzb2x2ZSkgPT4gewogICAgY2FuY2VsLm9uY2xpY2sgPSAoKSA9PiB7CiAgICAgIHJlc29sdmUobnVsbCk7CiAgICB9OwogIH0pOwoKICAvLyBXYWl0IGZvciB0aGUgdXNlciB0byBwaWNrIHRoZSBmaWxlcy4KICBjb25zdCBmaWxlcyA9IHlpZWxkIHsKICAgIHByb21pc2U6IFByb21pc2UucmFjZShbcGlja2VkUHJvbWlzZSwgY2FuY2VsUHJvbWlzZV0pLAogICAgcmVzcG9uc2U6IHsKICAgICAgYWN0aW9uOiAnc3RhcnRpbmcnLAogICAgfQogIH07CgogIGNhbmNlbC5yZW1vdmUoKTsKCiAgLy8gRGlzYWJsZSB0aGUgaW5wdXQgZWxlbWVudCBzaW5jZSBmdXJ0aGVyIHBpY2tzIGFyZSBub3QgYWxsb3dlZC4KICBpbnB1dEVsZW1lbnQuZGlzYWJsZWQgPSB0cnVlOwoKICBpZiAoIWZpbGVzKSB7CiAgICByZXR1cm4gewogICAgICByZXNwb25zZTogewogICAgICAgIGFjdGlvbjogJ2NvbXBsZXRlJywKICAgICAgfQogICAgfTsKICB9CgogIGZvciAoY29uc3QgZmlsZSBvZiBmaWxlcykgewogICAgY29uc3QgbGkgPSBkb2N1bWVudC5jcmVhdGVFbGVtZW50KCdsaScpOwogICAgbGkuYXBwZW5kKHNwYW4oZmlsZS5uYW1lLCB7Zm9udFdlaWdodDogJ2JvbGQnfSkpOwogICAgbGkuYXBwZW5kKHNwYW4oCiAgICAgICAgYCgke2ZpbGUudHlwZSB8fCAnbi9hJ30pIC0gJHtmaWxlLnNpemV9IGJ5dGVzLCBgICsKICAgICAgICBgbGFzdCBtb2RpZmllZDogJHsKICAgICAgICAgICAgZmlsZS5sYXN0TW9kaWZpZWREYXRlID8gZmlsZS5sYXN0TW9kaWZpZWREYXRlLnRvTG9jYWxlRGF0ZVN0cmluZygpIDoKICAgICAgICAgICAgICAgICAgICAgICAgICAgICAgICAgICAgJ24vYSd9IC0gYCkpOwogICAgY29uc3QgcGVyY2VudCA9IHNwYW4oJzAlIGRvbmUnKTsKICAgIGxpLmFwcGVuZENoaWxkKHBlcmNlbnQpOwoKICAgIG91dHB1dEVsZW1lbnQuYXBwZW5kQ2hpbGQobGkpOwoKICAgIGNvbnN0IGZpbGVEYXRhUHJvbWlzZSA9IG5ldyBQcm9taXNlKChyZXNvbHZlKSA9PiB7CiAgICAgIGNvbnN0IHJlYWRlciA9IG5ldyBGaWxlUmVhZGVyKCk7CiAgICAgIHJlYWRlci5vbmxvYWQgPSAoZSkgPT4gewogICAgICAgIHJlc29sdmUoZS50YXJnZXQucmVzdWx0KTsKICAgICAgfTsKICAgICAgcmVhZGVyLnJlYWRBc0FycmF5QnVmZmVyKGZpbGUpOwogICAgfSk7CiAgICAvLyBXYWl0IGZvciB0aGUgZGF0YSB0byBiZSByZWFkeS4KICAgIGxldCBmaWxlRGF0YSA9IHlpZWxkIHsKICAgICAgcHJvbWlzZTogZmlsZURhdGFQcm9taXNlLAogICAgICByZXNwb25zZTogewogICAgICAgIGFjdGlvbjogJ2NvbnRpbnVlJywKICAgICAgfQogICAgfTsKCiAgICAvLyBVc2UgYSBjaHVua2VkIHNlbmRpbmcgdG8gYXZvaWQgbWVzc2FnZSBzaXplIGxpbWl0cy4gU2VlIGIvNjIxMTU2NjAuCiAgICBsZXQgcG9zaXRpb24gPSAwOwogICAgZG8gewogICAgICBjb25zdCBsZW5ndGggPSBNYXRoLm1pbihmaWxlRGF0YS5ieXRlTGVuZ3RoIC0gcG9zaXRpb24sIE1BWF9QQVlMT0FEX1NJWkUpOwogICAgICBjb25zdCBjaHVuayA9IG5ldyBVaW50OEFycmF5KGZpbGVEYXRhLCBwb3NpdGlvbiwgbGVuZ3RoKTsKICAgICAgcG9zaXRpb24gKz0gbGVuZ3RoOwoKICAgICAgY29uc3QgYmFzZTY0ID0gYnRvYShTdHJpbmcuZnJvbUNoYXJDb2RlLmFwcGx5KG51bGwsIGNodW5rKSk7CiAgICAgIHlpZWxkIHsKICAgICAgICByZXNwb25zZTogewogICAgICAgICAgYWN0aW9uOiAnYXBwZW5kJywKICAgICAgICAgIGZpbGU6IGZpbGUubmFtZSwKICAgICAgICAgIGRhdGE6IGJhc2U2NCwKICAgICAgICB9LAogICAgICB9OwoKICAgICAgbGV0IHBlcmNlbnREb25lID0gZmlsZURhdGEuYnl0ZUxlbmd0aCA9PT0gMCA/CiAgICAgICAgICAxMDAgOgogICAgICAgICAgTWF0aC5yb3VuZCgocG9zaXRpb24gLyBmaWxlRGF0YS5ieXRlTGVuZ3RoKSAqIDEwMCk7CiAgICAgIHBlcmNlbnQudGV4dENvbnRlbnQgPSBgJHtwZXJjZW50RG9uZX0lIGRvbmVgOwoKICAgIH0gd2hpbGUgKHBvc2l0aW9uIDwgZmlsZURhdGEuYnl0ZUxlbmd0aCk7CiAgfQoKICAvLyBBbGwgZG9uZS4KICB5aWVsZCB7CiAgICByZXNwb25zZTogewogICAgICBhY3Rpb246ICdjb21wbGV0ZScsCiAgICB9CiAgfTsKfQoKc2NvcGUuZ29vZ2xlID0gc2NvcGUuZ29vZ2xlIHx8IHt9OwpzY29wZS5nb29nbGUuY29sYWIgPSBzY29wZS5nb29nbGUuY29sYWIgfHwge307CnNjb3BlLmdvb2dsZS5jb2xhYi5fZmlsZXMgPSB7CiAgX3VwbG9hZEZpbGVzLAogIF91cGxvYWRGaWxlc0NvbnRpbnVlLAp9Owp9KShzZWxmKTsK",
              "ok": true,
              "headers": [
                [
                  "content-type",
                  "application/javascript"
                ]
              ],
              "status": 200,
              "status_text": ""
            }
          },
          "base_uri": "https://localhost:8080/",
          "height": 73
        },
        "id": "txutTMDJFJYY",
        "outputId": "1a313dd0-cd02-4a35-ff0d-00428e83bec8"
      },
      "source": [
        "from google.colab import files\n",
        "\n",
        "uploaded = files.upload()"
      ],
      "execution_count": null,
      "outputs": [
        {
          "output_type": "display_data",
          "data": {
            "text/html": [
              "\n",
              "     <input type=\"file\" id=\"files-5ebedf6c-4f25-493a-b9b6-69af69b505b8\" name=\"files[]\" multiple disabled\n",
              "        style=\"border:none\" />\n",
              "     <output id=\"result-5ebedf6c-4f25-493a-b9b6-69af69b505b8\">\n",
              "      Upload widget is only available when the cell has been executed in the\n",
              "      current browser session. Please rerun this cell to enable.\n",
              "      </output>\n",
              "      <script src=\"/nbextensions/google.colab/files.js\"></script> "
            ],
            "text/plain": [
              "<IPython.core.display.HTML object>"
            ]
          },
          "metadata": {}
        },
        {
          "output_type": "stream",
          "name": "stdout",
          "text": [
            "Saving cricket_1.txt to cricket_1.txt\n"
          ]
        }
      ]
    },
    {
      "cell_type": "code",
      "metadata": {
        "colab": {
          "base_uri": "https://localhost:8080/"
        },
        "id": "nThjgXZaFcLp",
        "outputId": "ca4a60cf-c797-4636-861e-6dd51c01c449"
      },
      "source": [
        "from pyspark.sql.types import *\n",
        "rdd1 = spark.sparkContext.textFile('/content/cricket_1.txt')\n",
        "rdd2 = rdd1.map(lambda row: row.split(','))\n",
        "rdd3 = rdd2.map(func1_rdd_datatype)\n",
        "user_schema = StructType([StructField('Player_Name', StringType(), True),\n",
        "        StructField('Matches_Played', IntegerType(), True),\n",
        "        StructField('Runs_Scored', IntegerType(), True),\n",
        "        StructField('Half_Centuries', IntegerType(), True),\n",
        "        StructField('Centuries', IntegerType(), True)])\n",
        "print(rdd3.collect())\n",
        "df_student = spark.createDataFrame([[\"Praveen\",29],[\"Rahul\",30],[\"jayakumar\",30]])\n",
        "#df_hive = spark.sql(\"select * from emp_db.hive_table1\")\n",
        "df_csv = spark.read.option(\"header\",\"true\").csv(\"/content/heart.csv\")\n",
        "df_gen = spark.read.format(\"text\").load(\"/content/heart.avro\")\n",
        "df_student.show()\n",
        "df_csv.show()\n",
        "df1 = spark.createDataFrame(rdd3)\n",
        "df1 = df1.withColumnRenamed(\"_1\",\"Player_Name\").withColumnRenamed(\"_2\",\"Matches_Played\").withColumnRenamed(\"_3\",\"Runs_Scored\")\n",
        "df1.printSchema()\n",
        "df1.show()\n",
        "df2 = df1.withColumn('AverageScore',df1.Runs_Scored/df1.Matches_Played)\n",
        "df2.show()\n",
        "def validation(a, b,c,d,e,f):\n",
        "  status = \"pass\"\n",
        "  if isinstance(a,int):\n",
        "    pass\n",
        "  elif isinstance(b,int):\n",
        "    pass\n",
        "  elif isinstance(c,int):\n",
        "    pass\n",
        "  elif isinstance(d,int):\n",
        "    pass\n",
        "  elif isinstance(e,int):\n",
        "    pass\n",
        "  elif isinstance(f,int):\n",
        "    pass\n",
        "  else:\n",
        "    status =\" F\"\n",
        "    return status\n",
        "\n",
        "#validation_udf = pandas_udf(validation, returnType=StringType())\n",
        "#df3 = df2.withColumn('Validation',validation_udf(df2._1,df2._2,df2._3,df2._4,df2._5,df2.AverageScore))\n",
        "#df3.show()\n",
        "#df4 = df3.where(\"Validation=True\")"
      ],
      "execution_count": null,
      "outputs": [
        {
          "output_type": "stream",
          "name": "stdout",
          "text": [
            "[['Dravid', 100, 2000, 3, 4], ['Sachin', 100, 3000, 4, 5], ['Sangakara', 200, 5000, 6, 7], ['Abd', 400, 10000, 5, 9]]\n",
            "+---------+---+\n",
            "|       _1| _2|\n",
            "+---------+---+\n",
            "|  Praveen| 29|\n",
            "|    Rahul| 30|\n",
            "|jayakumar| 30|\n",
            "+---------+---+\n",
            "\n",
            "+---+---+---+--------+----+---+-------+-------+-----+-------+-----+---+----+------+\n",
            "|age|sex| cp|trestbps|chol|fbs|restecg|thalach|exang|oldpeak|slope| ca|thal|target|\n",
            "+---+---+---+--------+----+---+-------+-------+-----+-------+-----+---+----+------+\n",
            "| 63|  1|  3|     145| 233|  1|      0|    150|    0|    2.3|    0|  0|   1|     1|\n",
            "| 37|  1|  2|     130| 250|  0|      1|    187|    0|    3.5|    0|  0|   2|     1|\n",
            "| 41|  0|  1|     130| 204|  0|      0|    172|    0|    1.4|    2|  0|   2|     1|\n",
            "| 56|  1|  1|     120| 236|  0|      1|    178|    0|    0.8|    2|  0|   2|     1|\n",
            "| 57|  0|  0|     120| 354|  0|      1|    163|    1|    0.6|    2|  0|   2|     1|\n",
            "| 57|  1|  0|     140| 192|  0|      1|    148|    0|    0.4|    1|  0|   1|     1|\n",
            "| 56|  0|  1|     140| 294|  0|      0|    153|    0|    1.3|    1|  0|   2|     1|\n",
            "| 44|  1|  1|     120| 263|  0|      1|    173|    0|      0|    2|  0|   3|     1|\n",
            "| 52|  1|  2|     172| 199|  1|      1|    162|    0|    0.5|    2|  0|   3|     1|\n",
            "| 57|  1|  2|     150| 168|  0|      1|    174|    0|    1.6|    2|  0|   2|     1|\n",
            "| 54|  1|  0|     140| 239|  0|      1|    160|    0|    1.2|    2|  0|   2|     1|\n",
            "| 48|  0|  2|     130| 275|  0|      1|    139|    0|    0.2|    2|  0|   2|     1|\n",
            "| 49|  1|  1|     130| 266|  0|      1|    171|    0|    0.6|    2|  0|   2|     1|\n",
            "| 64|  1|  3|     110| 211|  0|      0|    144|    1|    1.8|    1|  0|   2|     1|\n",
            "| 58|  0|  3|     150| 283|  1|      0|    162|    0|      1|    2|  0|   2|     1|\n",
            "| 50|  0|  2|     120| 219|  0|      1|    158|    0|    1.6|    1|  0|   2|     1|\n",
            "| 58|  0|  2|     120| 340|  0|      1|    172|    0|      0|    2|  0|   2|     1|\n",
            "| 66|  0|  3|     150| 226|  0|      1|    114|    0|    2.6|    0|  0|   2|     1|\n",
            "| 43|  1|  0|     150| 247|  0|      1|    171|    0|    1.5|    2|  0|   2|     1|\n",
            "| 69|  0|  3|     140| 239|  0|      1|    151|    0|    1.8|    2|  2|   2|     1|\n",
            "+---+---+---+--------+----+---+-------+-------+-----+-------+-----+---+----+------+\n",
            "only showing top 20 rows\n",
            "\n",
            "root\n",
            " |-- Player_Name: string (nullable = true)\n",
            " |-- Matches_Played: long (nullable = true)\n",
            " |-- Runs_Scored: long (nullable = true)\n",
            " |-- _4: long (nullable = true)\n",
            " |-- _5: long (nullable = true)\n",
            "\n",
            "+-----------+--------------+-----------+---+---+\n",
            "|Player_Name|Matches_Played|Runs_Scored| _4| _5|\n",
            "+-----------+--------------+-----------+---+---+\n",
            "|     Dravid|           100|       2000|  3|  4|\n",
            "|     Sachin|           100|       3000|  4|  5|\n",
            "|  Sangakara|           200|       5000|  6|  7|\n",
            "|        Abd|           400|      10000|  5|  9|\n",
            "+-----------+--------------+-----------+---+---+\n",
            "\n",
            "+-----------+--------------+-----------+---+---+------------+\n",
            "|Player_Name|Matches_Played|Runs_Scored| _4| _5|AverageScore|\n",
            "+-----------+--------------+-----------+---+---+------------+\n",
            "|     Dravid|           100|       2000|  3|  4|        20.0|\n",
            "|     Sachin|           100|       3000|  4|  5|        30.0|\n",
            "|  Sangakara|           200|       5000|  6|  7|        25.0|\n",
            "|        Abd|           400|      10000|  5|  9|        25.0|\n",
            "+-----------+--------------+-----------+---+---+------------+\n",
            "\n"
          ]
        }
      ]
    },
    {
      "cell_type": "code",
      "metadata": {
        "id": "q_8xhAnNvW55",
        "colab": {
          "base_uri": "https://localhost:8080/",
          "height": 34
        },
        "outputId": "688d4a77-f49e-445f-b250-80988bf83871"
      },
      "source": [
        "from pyspark.conf import SparkConf\n",
        "SparkSession.builder.config(conf=SparkConf())\n",
        "SparkSession.builder.config(\"spark.some.config.option\", \"some-value\")"
      ],
      "execution_count": null,
      "outputs": [
        {
          "output_type": "execute_result",
          "data": {
            "text/plain": [
              "<pyspark.sql.session.SparkSession.Builder at 0x7f80f27f0208>"
            ]
          },
          "metadata": {
            "tags": []
          },
          "execution_count": 14
        }
      ]
    },
    {
      "cell_type": "code",
      "metadata": {
        "id": "i3PhJeTfoeHm"
      },
      "source": [
        "import pyspark"
      ],
      "execution_count": null,
      "outputs": []
    },
    {
      "cell_type": "code",
      "source": [
        "spark.stop()"
      ],
      "metadata": {
        "id": "67c-Rgu2geOs"
      },
      "execution_count": null,
      "outputs": []
    },
    {
      "cell_type": "code",
      "metadata": {
        "id": "Uj0_LO_kofUG"
      },
      "source": [
        "from pyspark import SparkConf\n",
        "from pyspark import SparkContext\n",
        "import pandas as pd\n",
        "conf = SparkConf()\n",
        "conf.setMaster('local')\n",
        "conf.setAppName('spark-basic')\n",
        "sc = SparkContext(conf=conf)"
      ],
      "execution_count": null,
      "outputs": []
    },
    {
      "cell_type": "code",
      "metadata": {
        "id": "MBp-HQ_3vuHC",
        "colab": {
          "base_uri": "https://localhost:8080/",
          "height": 34
        },
        "outputId": "b3c92dee-a9ec-4077-8cb3-1cbf8a92b817"
      },
      "source": [
        "s1 = SparkSession.builder.config(\"k1\", \"v1\").getOrCreate()\n",
        "s1.conf.get(\"k1\") == s1.sparkContext.getConf().get(\"k1\") == \"v1\""
      ],
      "execution_count": null,
      "outputs": [
        {
          "output_type": "execute_result",
          "data": {
            "text/plain": [
              "True"
            ]
          },
          "metadata": {
            "tags": []
          },
          "execution_count": 17
        }
      ]
    },
    {
      "cell_type": "code",
      "metadata": {
        "id": "HGw3WNFrwJu1"
      },
      "source": [
        "spark = SparkSession.builder.master(\"local\").appName(\"Word Count\").getOrCreate()"
      ],
      "execution_count": null,
      "outputs": []
    },
    {
      "cell_type": "code",
      "metadata": {
        "id": "uT0T-k8xv1r6",
        "colab": {
          "base_uri": "https://localhost:8080/",
          "height": 34
        },
        "outputId": "54ce7b51-755a-4e25-9441-f560deeca2d0"
      },
      "source": [
        "s2 = SparkSession.builder.config(\"k2\", \"v2\").getOrCreate()\n",
        "s1.conf.get(\"k1\") == s2.conf.get(\"k1\")\n",
        "s1.conf.get(\"k2\") == s2.conf.get(\"k2\")"
      ],
      "execution_count": null,
      "outputs": [
        {
          "output_type": "execute_result",
          "data": {
            "text/plain": [
              "True"
            ]
          },
          "metadata": {
            "tags": []
          },
          "execution_count": 19
        }
      ]
    },
    {
      "cell_type": "markdown",
      "metadata": {
        "id": "P4a4OY-tGyKX"
      },
      "source": [
        "**Making sample dataframe from Titanic Data**"
      ]
    },
    {
      "cell_type": "code",
      "metadata": {
        "id": "f2Jn7641qqeM"
      },
      "source": [
        "data1 = {'PassengerId': {0: 1, 1: 2, 2: 3, 3: 4, 4: 5},\n",
        "         'Name': {0: 'Owen', 1: 'Florence', 2: 'Laina', 3: 'Lily', 4: 'William'},\n",
        "         'Sex': {0: 'male', 1: 'female', 2: 'female', 3: 'female', 4: 'male'},\n",
        "         'Survived': {0: 0, 1: 1, 2: 1, 3: 1, 4: 0}}\n",
        "\n",
        "data2 = {'PassengerId': {0: 1, 1: 2, 2: 3, 3: 4, 4: 5},\n",
        "         'Age': {0: 22, 1: 38, 2: 26, 3: 35, 4: 35},\n",
        "         'Fare': {0: 7.3, 1: 71.3, 2: 7.9, 3: 53.1, 4: 8.0},\n",
        "         'Pclass': {0: 3, 1: 1, 2: 3, 3: 1, 4: 3}}\n",
        "\n",
        "df1_pd = pd.DataFrame(data1, columns=data1.keys())\n",
        "df2_pd = pd.DataFrame(data2, columns=data2.keys())"
      ],
      "execution_count": null,
      "outputs": []
    },
    {
      "cell_type": "markdown",
      "metadata": {
        "id": "tIHAoRzgG4MV"
      },
      "source": [
        "**Printing Pandas Dataframe**"
      ]
    },
    {
      "cell_type": "code",
      "metadata": {
        "id": "5gvlwW8PqtE8",
        "colab": {
          "base_uri": "https://localhost:8080/",
          "height": 206
        },
        "outputId": "52ef8c03-f87f-44e0-b7cd-acb6f7513614"
      },
      "source": [
        "df1_pd"
      ],
      "execution_count": null,
      "outputs": [
        {
          "output_type": "execute_result",
          "data": {
            "text/html": [
              "\n",
              "  <div id=\"df-a93dbe7b-a6f5-48dd-8a08-510f1b905787\">\n",
              "    <div class=\"colab-df-container\">\n",
              "      <div>\n",
              "<style scoped>\n",
              "    .dataframe tbody tr th:only-of-type {\n",
              "        vertical-align: middle;\n",
              "    }\n",
              "\n",
              "    .dataframe tbody tr th {\n",
              "        vertical-align: top;\n",
              "    }\n",
              "\n",
              "    .dataframe thead th {\n",
              "        text-align: right;\n",
              "    }\n",
              "</style>\n",
              "<table border=\"1\" class=\"dataframe\">\n",
              "  <thead>\n",
              "    <tr style=\"text-align: right;\">\n",
              "      <th></th>\n",
              "      <th>PassengerId</th>\n",
              "      <th>Name</th>\n",
              "      <th>Sex</th>\n",
              "      <th>Survived</th>\n",
              "    </tr>\n",
              "  </thead>\n",
              "  <tbody>\n",
              "    <tr>\n",
              "      <th>0</th>\n",
              "      <td>1</td>\n",
              "      <td>Owen</td>\n",
              "      <td>male</td>\n",
              "      <td>0</td>\n",
              "    </tr>\n",
              "    <tr>\n",
              "      <th>1</th>\n",
              "      <td>2</td>\n",
              "      <td>Florence</td>\n",
              "      <td>female</td>\n",
              "      <td>1</td>\n",
              "    </tr>\n",
              "    <tr>\n",
              "      <th>2</th>\n",
              "      <td>3</td>\n",
              "      <td>Laina</td>\n",
              "      <td>female</td>\n",
              "      <td>1</td>\n",
              "    </tr>\n",
              "    <tr>\n",
              "      <th>3</th>\n",
              "      <td>4</td>\n",
              "      <td>Lily</td>\n",
              "      <td>female</td>\n",
              "      <td>1</td>\n",
              "    </tr>\n",
              "    <tr>\n",
              "      <th>4</th>\n",
              "      <td>5</td>\n",
              "      <td>William</td>\n",
              "      <td>male</td>\n",
              "      <td>0</td>\n",
              "    </tr>\n",
              "  </tbody>\n",
              "</table>\n",
              "</div>\n",
              "      <button class=\"colab-df-convert\" onclick=\"convertToInteractive('df-a93dbe7b-a6f5-48dd-8a08-510f1b905787')\"\n",
              "              title=\"Convert this dataframe to an interactive table.\"\n",
              "              style=\"display:none;\">\n",
              "        \n",
              "  <svg xmlns=\"http://www.w3.org/2000/svg\" height=\"24px\"viewBox=\"0 0 24 24\"\n",
              "       width=\"24px\">\n",
              "    <path d=\"M0 0h24v24H0V0z\" fill=\"none\"/>\n",
              "    <path d=\"M18.56 5.44l.94 2.06.94-2.06 2.06-.94-2.06-.94-.94-2.06-.94 2.06-2.06.94zm-11 1L8.5 8.5l.94-2.06 2.06-.94-2.06-.94L8.5 2.5l-.94 2.06-2.06.94zm10 10l.94 2.06.94-2.06 2.06-.94-2.06-.94-.94-2.06-.94 2.06-2.06.94z\"/><path d=\"M17.41 7.96l-1.37-1.37c-.4-.4-.92-.59-1.43-.59-.52 0-1.04.2-1.43.59L10.3 9.45l-7.72 7.72c-.78.78-.78 2.05 0 2.83L4 21.41c.39.39.9.59 1.41.59.51 0 1.02-.2 1.41-.59l7.78-7.78 2.81-2.81c.8-.78.8-2.07 0-2.86zM5.41 20L4 18.59l7.72-7.72 1.47 1.35L5.41 20z\"/>\n",
              "  </svg>\n",
              "      </button>\n",
              "      \n",
              "  <style>\n",
              "    .colab-df-container {\n",
              "      display:flex;\n",
              "      flex-wrap:wrap;\n",
              "      gap: 12px;\n",
              "    }\n",
              "\n",
              "    .colab-df-convert {\n",
              "      background-color: #E8F0FE;\n",
              "      border: none;\n",
              "      border-radius: 50%;\n",
              "      cursor: pointer;\n",
              "      display: none;\n",
              "      fill: #1967D2;\n",
              "      height: 32px;\n",
              "      padding: 0 0 0 0;\n",
              "      width: 32px;\n",
              "    }\n",
              "\n",
              "    .colab-df-convert:hover {\n",
              "      background-color: #E2EBFA;\n",
              "      box-shadow: 0px 1px 2px rgba(60, 64, 67, 0.3), 0px 1px 3px 1px rgba(60, 64, 67, 0.15);\n",
              "      fill: #174EA6;\n",
              "    }\n",
              "\n",
              "    [theme=dark] .colab-df-convert {\n",
              "      background-color: #3B4455;\n",
              "      fill: #D2E3FC;\n",
              "    }\n",
              "\n",
              "    [theme=dark] .colab-df-convert:hover {\n",
              "      background-color: #434B5C;\n",
              "      box-shadow: 0px 1px 3px 1px rgba(0, 0, 0, 0.15);\n",
              "      filter: drop-shadow(0px 1px 2px rgba(0, 0, 0, 0.3));\n",
              "      fill: #FFFFFF;\n",
              "    }\n",
              "  </style>\n",
              "\n",
              "      <script>\n",
              "        const buttonEl =\n",
              "          document.querySelector('#df-a93dbe7b-a6f5-48dd-8a08-510f1b905787 button.colab-df-convert');\n",
              "        buttonEl.style.display =\n",
              "          google.colab.kernel.accessAllowed ? 'block' : 'none';\n",
              "\n",
              "        async function convertToInteractive(key) {\n",
              "          const element = document.querySelector('#df-a93dbe7b-a6f5-48dd-8a08-510f1b905787');\n",
              "          const dataTable =\n",
              "            await google.colab.kernel.invokeFunction('convertToInteractive',\n",
              "                                                     [key], {});\n",
              "          if (!dataTable) return;\n",
              "\n",
              "          const docLinkHtml = 'Like what you see? Visit the ' +\n",
              "            '<a target=\"_blank\" href=https://colab.research.google.com/notebooks/data_table.ipynb>data table notebook</a>'\n",
              "            + ' to learn more about interactive tables.';\n",
              "          element.innerHTML = '';\n",
              "          dataTable['output_type'] = 'display_data';\n",
              "          await google.colab.output.renderOutput(dataTable, element);\n",
              "          const docLink = document.createElement('div');\n",
              "          docLink.innerHTML = docLinkHtml;\n",
              "          element.appendChild(docLink);\n",
              "        }\n",
              "      </script>\n",
              "    </div>\n",
              "  </div>\n",
              "  "
            ],
            "text/plain": [
              "   PassengerId      Name     Sex  Survived\n",
              "0            1      Owen    male         0\n",
              "1            2  Florence  female         1\n",
              "2            3     Laina  female         1\n",
              "3            4      Lily  female         1\n",
              "4            5   William    male         0"
            ]
          },
          "metadata": {},
          "execution_count": 33
        }
      ]
    },
    {
      "cell_type": "code",
      "metadata": {
        "id": "_5Jhx1S7vo1f",
        "colab": {
          "base_uri": "https://localhost:8080/",
          "height": 34
        },
        "outputId": "25e391ee-e2ec-4e66-8335-b0addcc8f7b5"
      },
      "source": [
        "l = [('Alice', 1)]\n",
        "spark.createDataFrame(l).collect()"
      ],
      "execution_count": null,
      "outputs": [
        {
          "output_type": "execute_result",
          "data": {
            "text/plain": [
              "[Row(_1='Alice', _2=1)]"
            ]
          },
          "metadata": {
            "tags": []
          },
          "execution_count": 22
        }
      ]
    },
    {
      "cell_type": "markdown",
      "metadata": {
        "id": "40f8c_5JkUu5"
      },
      "source": [
        "**Converting Pandas DF to Spark DF**"
      ]
    },
    {
      "cell_type": "code",
      "metadata": {
        "id": "txmWv6Ggq7hc",
        "colab": {
          "base_uri": "https://localhost:8080/"
        },
        "outputId": "ced6d63e-753e-43a5-8743-ce19f2fe5781"
      },
      "source": [
        "df1 = spark.createDataFrame(df1_pd)\n",
        "df2 = spark.createDataFrame(df2_pd)\n",
        "df1.show()\n",
        "df2.show()"
      ],
      "execution_count": null,
      "outputs": [
        {
          "output_type": "stream",
          "name": "stdout",
          "text": [
            "+-----------+--------+------+--------+\n",
            "|PassengerId|    Name|   Sex|Survived|\n",
            "+-----------+--------+------+--------+\n",
            "|          1|    Owen|  male|       0|\n",
            "|          2|Florence|female|       1|\n",
            "|          3|   Laina|female|       1|\n",
            "|          4|    Lily|female|       1|\n",
            "|          5| William|  male|       0|\n",
            "+-----------+--------+------+--------+\n",
            "\n",
            "+-----------+---+----+------+\n",
            "|PassengerId|Age|Fare|Pclass|\n",
            "+-----------+---+----+------+\n",
            "|          1| 22| 7.3|     3|\n",
            "|          2| 38|71.3|     1|\n",
            "|          3| 26| 7.9|     3|\n",
            "|          4| 35|53.1|     1|\n",
            "|          5| 35| 8.0|     3|\n",
            "+-----------+---+----+------+\n",
            "\n"
          ]
        }
      ]
    },
    {
      "cell_type": "markdown",
      "metadata": {
        "id": "0O_U--ODmEag"
      },
      "source": [
        "**Transformation - Select**"
      ]
    },
    {
      "cell_type": "code",
      "metadata": {
        "id": "kcbJ5rpMw-kq",
        "colab": {
          "base_uri": "https://localhost:8080/"
        },
        "outputId": "9f806d3e-6e0c-4152-86f6-ffa225a15f78"
      },
      "source": [
        "from pyspark.sql.functions import col\n",
        "print(df1.columns)\n",
        "#new_column=list()\n",
        "#for x in range(75,80):\n",
        "   #new_column.append(df.coulns[x])\n",
        "cols1 = ['PassengerId', 'Name']\n",
        "df4 = df1.select(cols1)\n",
        "df4.show()\n",
        "df3 = df1.select(df1.PassengerId,df1.Name)\n",
        "df3.show()\n",
        "#df.read.parquet(\"/sdsd\").createOrReplaceTempView(\"inQ1\")\n",
        "df5 = df1.select(\"PassengerId\",\"Name\")\n",
        "df5.show()\n",
        "df6 = df1.select(col(\"PassengerId\"),col(\"Name\"))\n",
        "df6.show()\n",
        "#select * from dfame"
      ],
      "execution_count": null,
      "outputs": [
        {
          "output_type": "stream",
          "name": "stdout",
          "text": [
            "['PassengerId', 'Name', 'Sex', 'Survived']\n",
            "+-----------+--------+\n",
            "|PassengerId|    Name|\n",
            "+-----------+--------+\n",
            "|          1|    Owen|\n",
            "|          2|Florence|\n",
            "|          3|   Laina|\n",
            "|          4|    Lily|\n",
            "|          5| William|\n",
            "+-----------+--------+\n",
            "\n",
            "+-----------+--------+\n",
            "|PassengerId|    Name|\n",
            "+-----------+--------+\n",
            "|          1|    Owen|\n",
            "|          2|Florence|\n",
            "|          3|   Laina|\n",
            "|          4|    Lily|\n",
            "|          5| William|\n",
            "+-----------+--------+\n",
            "\n",
            "+-----------+--------+\n",
            "|PassengerId|    Name|\n",
            "+-----------+--------+\n",
            "|          1|    Owen|\n",
            "|          2|Florence|\n",
            "|          3|   Laina|\n",
            "|          4|    Lily|\n",
            "|          5| William|\n",
            "+-----------+--------+\n",
            "\n",
            "+-----------+--------+\n",
            "|PassengerId|    Name|\n",
            "+-----------+--------+\n",
            "|          1|    Owen|\n",
            "|          2|Florence|\n",
            "|          3|   Laina|\n",
            "|          4|    Lily|\n",
            "|          5| William|\n",
            "+-----------+--------+\n",
            "\n"
          ]
        }
      ]
    },
    {
      "cell_type": "markdown",
      "metadata": {
        "id": "5WHPrY6VmJHh"
      },
      "source": [
        "**Transformation - Filter**"
      ]
    },
    {
      "cell_type": "code",
      "metadata": {
        "id": "PMslaFV8mEFi",
        "colab": {
          "base_uri": "https://localhost:8080/"
        },
        "outputId": "3d02b1e8-5e01-4b10-9980-2b1c21898aa3"
      },
      "source": [
        "#df1.filter(df1.Sex == 'female').show()\n",
        "df_f1 = df1.filter(\"Sex = 'female'\")\n",
        "df_f1.show()\n",
        "df_f2=df1.where(\"Sex = 'female'\")\n",
        "df_f2.show()\n",
        "# select * from table1 where sex='Female'"
      ],
      "execution_count": null,
      "outputs": [
        {
          "output_type": "stream",
          "name": "stdout",
          "text": [
            "+-----------+--------+------+--------+\n",
            "|PassengerId|    Name|   Sex|Survived|\n",
            "+-----------+--------+------+--------+\n",
            "|          2|Florence|female|       1|\n",
            "|          3|   Laina|female|       1|\n",
            "|          4|    Lily|female|       1|\n",
            "+-----------+--------+------+--------+\n",
            "\n",
            "+-----------+--------+------+--------+\n",
            "|PassengerId|    Name|   Sex|Survived|\n",
            "+-----------+--------+------+--------+\n",
            "|          2|Florence|female|       1|\n",
            "|          3|   Laina|female|       1|\n",
            "|          4|    Lily|female|       1|\n",
            "+-----------+--------+------+--------+\n",
            "\n"
          ]
        }
      ]
    },
    {
      "cell_type": "markdown",
      "metadata": {
        "id": "yl0Z-_pzmP8J"
      },
      "source": [
        "**Transformation - Mutate**"
      ]
    },
    {
      "cell_type": "code",
      "metadata": {
        "id": "FdGMqCNKmU7x",
        "colab": {
          "base_uri": "https://localhost:8080/"
        },
        "outputId": "bdb626e8-2bab-4598-cd5b-d4620d6311b7"
      },
      "source": [
        "from pyspark.sql.functions import lit,col,expr\n",
        "df2.show()\n",
        "df_w1 = df2.withColumn('AgeTimesFare', df2.Fare*df2.Age).withColumn(\"Age_new\",df2.Age)\n",
        "df_w1.drop(\"Age\").show()\n",
        "df_w1.show()\n",
        "df_w2 = df2.withColumnRenamed(\"Age\",\"AgeNew\")\n",
        "df_w2.show()\n",
        "# select PassengerId,Age,Fare,Pclass, (Age*Fare) as AgeTimesFare from table1"
      ],
      "execution_count": null,
      "outputs": [
        {
          "output_type": "stream",
          "name": "stdout",
          "text": [
            "+-----------+---+----+------+\n",
            "|PassengerId|Age|Fare|Pclass|\n",
            "+-----------+---+----+------+\n",
            "|          1| 22| 7.3|     3|\n",
            "|          2| 38|71.3|     1|\n",
            "|          3| 26| 7.9|     3|\n",
            "|          4| 35|53.1|     1|\n",
            "|          5| 35| 8.0|     3|\n",
            "+-----------+---+----+------+\n",
            "\n",
            "+-----------+----+------+------------+-------+\n",
            "|PassengerId|Fare|Pclass|AgeTimesFare|Age_new|\n",
            "+-----------+----+------+------------+-------+\n",
            "|          1| 7.3|     3|       160.6|     22|\n",
            "|          2|71.3|     1|      2709.4|     38|\n",
            "|          3| 7.9|     3|       205.4|     26|\n",
            "|          4|53.1|     1|      1858.5|     35|\n",
            "|          5| 8.0|     3|       280.0|     35|\n",
            "+-----------+----+------+------------+-------+\n",
            "\n",
            "+-----------+---+----+------+------------+-------+\n",
            "|PassengerId|Age|Fare|Pclass|AgeTimesFare|Age_new|\n",
            "+-----------+---+----+------+------------+-------+\n",
            "|          1| 22| 7.3|     3|       160.6|     22|\n",
            "|          2| 38|71.3|     1|      2709.4|     38|\n",
            "|          3| 26| 7.9|     3|       205.4|     26|\n",
            "|          4| 35|53.1|     1|      1858.5|     35|\n",
            "|          5| 35| 8.0|     3|       280.0|     35|\n",
            "+-----------+---+----+------+------------+-------+\n",
            "\n",
            "+-----------+------+----+------+\n",
            "|PassengerId|AgeNew|Fare|Pclass|\n",
            "+-----------+------+----+------+\n",
            "|          1|    22| 7.3|     3|\n",
            "|          2|    38|71.3|     1|\n",
            "|          3|    26| 7.9|     3|\n",
            "|          4|    35|53.1|     1|\n",
            "|          5|    35| 8.0|     3|\n",
            "+-----------+------+----+------+\n",
            "\n"
          ]
        }
      ]
    },
    {
      "cell_type": "markdown",
      "metadata": {
        "id": "Z9Pm3wOxmeaH"
      },
      "source": [
        "**Transformation - Summarize**"
      ]
    },
    {
      "cell_type": "code",
      "metadata": {
        "id": "llW9AtcjmeoK",
        "colab": {
          "base_uri": "https://localhost:8080/"
        },
        "outputId": "56e809e3-fc44-40cf-85a9-06f5485e9823"
      },
      "source": [
        "df2.show()\n",
        "gdf2 = df2.groupby('Pclass')\n",
        "\n",
        "df2.show()\n",
        "df2.createOrReplaceTempView('inputDf')\n",
        "#df10 = spark.sql(\"select Passengerid,concat(date,time) as starttime,concat(enddate,time) as endtime  from inputDf\")\n",
        "#df11 = df10.witchColumn(\"datediff\",date_sub(col(\"starttime\"),col(\"endtime\")))\n",
        "#gdf2=df11.groupBy('id')\n",
        "#df10.show()\n",
        "print(gdf2)\n",
        "df12 = gdf2.agg({'Age':'max','Fare':'avg'})\n",
        "df12.show()\n",
        "# select max(Age),avg(Fare) from tabl1 group by Pclass"
      ],
      "execution_count": null,
      "outputs": [
        {
          "output_type": "stream",
          "name": "stdout",
          "text": [
            "+-----------+---+----+------+\n",
            "|PassengerId|Age|Fare|Pclass|\n",
            "+-----------+---+----+------+\n",
            "|          1| 22| 7.3|     3|\n",
            "|          2| 38|71.3|     1|\n",
            "|          3| 26| 7.9|     3|\n",
            "|          4| 35|53.1|     1|\n",
            "|          5| 35| 8.0|     3|\n",
            "+-----------+---+----+------+\n",
            "\n",
            "+-----------+---+----+------+\n",
            "|PassengerId|Age|Fare|Pclass|\n",
            "+-----------+---+----+------+\n",
            "|          1| 22| 7.3|     3|\n",
            "|          2| 38|71.3|     1|\n",
            "|          3| 26| 7.9|     3|\n",
            "|          4| 35|53.1|     1|\n",
            "|          5| 35| 8.0|     3|\n",
            "+-----------+---+----+------+\n",
            "\n",
            "<pyspark.sql.group.GroupedData object at 0x7fe9401a30d0>\n",
            "+------+--------+-----------------+\n",
            "|Pclass|max(Age)|        avg(Fare)|\n",
            "+------+--------+-----------------+\n",
            "|     1|      38|             62.2|\n",
            "|     3|      35|7.733333333333333|\n",
            "+------+--------+-----------------+\n",
            "\n"
          ]
        }
      ]
    },
    {
      "cell_type": "markdown",
      "metadata": {
        "id": "_eEz60a7mltw"
      },
      "source": [
        "**Average of Columns**"
      ]
    },
    {
      "cell_type": "code",
      "metadata": {
        "id": "W92p5GHAmnw2",
        "colab": {
          "base_uri": "https://localhost:8080/"
        },
        "outputId": "1614aff3-4820-4e3e-ef09-c819560b01f7"
      },
      "source": [
        "avg_cols = ['Age', 'Fare']\n",
        "gdf2.avg(*avg_cols).show()"
      ],
      "execution_count": null,
      "outputs": [
        {
          "output_type": "stream",
          "name": "stdout",
          "text": [
            "+------+------------------+-----------------+\n",
            "|Pclass|          avg(Age)|        avg(Fare)|\n",
            "+------+------------------+-----------------+\n",
            "|     1|              36.5|             62.2|\n",
            "|     3|27.666666666666668|7.733333333333333|\n",
            "+------+------------------+-----------------+\n",
            "\n"
          ]
        }
      ]
    },
    {
      "cell_type": "markdown",
      "metadata": {
        "id": "hDBGc9bLmsfv"
      },
      "source": [
        "**Passing a dctionary**"
      ]
    },
    {
      "cell_type": "code",
      "metadata": {
        "id": "D-CUVzmUmudZ",
        "colab": {
          "base_uri": "https://localhost:8080/"
        },
        "outputId": "e3457abc-b1de-4900-955a-8568c81c9629"
      },
      "source": [
        "gdf2.agg({'*': 'count', 'Age': 'avg', 'Fare':'sum'}).show()"
      ],
      "execution_count": null,
      "outputs": [
        {
          "output_type": "stream",
          "text": [
            "+------+--------+------------------+---------+\n",
            "|Pclass|count(1)|          avg(Age)|sum(Fare)|\n",
            "+------+--------+------------------+---------+\n",
            "|     1|       2|              36.5|    124.4|\n",
            "|     3|       3|27.666666666666668|     23.2|\n",
            "+------+--------+------------------+---------+\n",
            "\n"
          ],
          "name": "stdout"
        }
      ]
    },
    {
      "cell_type": "markdown",
      "metadata": {
        "id": "nbUDgzKImuTX"
      },
      "source": [
        "**Renaming columns**"
      ]
    },
    {
      "cell_type": "code",
      "metadata": {
        "id": "CMA7weepm2Z-",
        "colab": {
          "base_uri": "https://localhost:8080/"
        },
        "outputId": "a8f373be-bce0-4f76-89da-b21458297b3b"
      },
      "source": [
        "gdf2.agg({'*': 'count', 'Age': 'avg', 'Fare':'sum'}).toDF('Pclass', 'counts', 'average_age', 'total_fare').show()\n",
        "df11 = spark.createDataFrame([{'col1':'val1','col2':'val2'},{'col1':'val1','col2':'val2'}])\n",
        "gdf2.agg({'*': 'count', 'Age': 'avg', 'Fare':'sum'}).withColumnRenamed(\"avg(Age)\",\"AvgAge\").show()"
      ],
      "execution_count": null,
      "outputs": [
        {
          "output_type": "stream",
          "name": "stdout",
          "text": [
            "+------+------+------------------+----------+\n",
            "|Pclass|counts|       average_age|total_fare|\n",
            "+------+------+------------------+----------+\n",
            "|     1|     2|              36.5|     124.4|\n",
            "|     3|     3|27.666666666666668|      23.2|\n",
            "+------+------+------------------+----------+\n",
            "\n"
          ]
        },
        {
          "output_type": "stream",
          "name": "stderr",
          "text": [
            "/content/spark-2.4.3-bin-hadoop2.7/python/pyspark/sql/session.py:346: UserWarning: inferring schema from dict is deprecated,please use pyspark.sql.Row instead\n",
            "  warnings.warn(\"inferring schema from dict is deprecated,\"\n"
          ]
        },
        {
          "output_type": "stream",
          "name": "stdout",
          "text": [
            "+------+--------+------------------+---------+\n",
            "|Pclass|count(1)|            AvgAge|sum(Fare)|\n",
            "+------+--------+------------------+---------+\n",
            "|     1|       2|              36.5|    124.4|\n",
            "|     3|       3|27.666666666666668|     23.2|\n",
            "+------+--------+------------------+---------+\n",
            "\n"
          ]
        }
      ]
    },
    {
      "cell_type": "markdown",
      "metadata": {
        "id": "c77HwyWLnLOQ"
      },
      "source": [
        "**Transformation - Arrange**"
      ]
    },
    {
      "cell_type": "code",
      "metadata": {
        "id": "ReKMwsKInQdR",
        "colab": {
          "base_uri": "https://localhost:8080/"
        },
        "outputId": "31dc8ff2-adc7-4f80-e754-f6fdc8e1b6d4"
      },
      "source": [
        "df2.sort(avg_cols, ascending=False).show()\n",
        "df2.orderBy(avg_cols, ascending=False).show()\n",
        "# select * from table1 order by Age,Fare Asc"
      ],
      "execution_count": null,
      "outputs": [
        {
          "output_type": "stream",
          "name": "stdout",
          "text": [
            "+-----------+---+----+------+\n",
            "|PassengerId|Age|Fare|Pclass|\n",
            "+-----------+---+----+------+\n",
            "|          2| 38|71.3|     1|\n",
            "|          4| 35|53.1|     1|\n",
            "|          5| 35| 8.0|     3|\n",
            "|          3| 26| 7.9|     3|\n",
            "|          1| 22| 7.3|     3|\n",
            "+-----------+---+----+------+\n",
            "\n",
            "+-----------+---+----+------+\n",
            "|PassengerId|Age|Fare|Pclass|\n",
            "+-----------+---+----+------+\n",
            "|          2| 38|71.3|     1|\n",
            "|          4| 35|53.1|     1|\n",
            "|          5| 35| 8.0|     3|\n",
            "|          3| 26| 7.9|     3|\n",
            "|          1| 22| 7.3|     3|\n",
            "+-----------+---+----+------+\n",
            "\n"
          ]
        }
      ]
    },
    {
      "cell_type": "markdown",
      "metadata": {
        "id": "TXDwx9E4nOGA"
      },
      "source": [
        "**Transformation - Joins**"
      ]
    },
    {
      "cell_type": "code",
      "metadata": {
        "id": "_y1hPETSnVnX",
        "colab": {
          "base_uri": "https://localhost:8080/"
        },
        "outputId": "706d8130-ad10-481c-8321-4c6f2783cb14"
      },
      "source": [
        "df20 = df2.filter(\"PassengerId != 1\")\n",
        "#df21 = df1.withColumnRenamed(\"PassengerId\",\"Passenger\")\n",
        "df21 = df1.filter(\"PassengerId !=2\")\n",
        "\n",
        "#df10 = df1.withColumnRenamed(\"PassengerId\",\"Passenger\")\n",
        "#df10.show()\n",
        "#left_join_df = df10.join(df2,[df10.Passenger==df2.PassengerId,df10.Survived==df2.Pclass],how='left')\n",
        "#select * from df1 left join df2 on df1.PassengerId=df2.PassegerID and df1.Survived=df2.Pclass\n",
        "#left_join_df.show()\n",
        "print(\"all original dataset\")\n",
        "df1.show()\n",
        "df2.show()\n",
        "print(\"df20\")\n",
        "df20.show()\n",
        "print(\"df21\")\n",
        "df21.show()\n",
        "newDf = df21.join(df20, [\"PassengerId\"] ,how='left_semi')#df21^df20\n",
        "print(\"\"\"new_df df21.join(df20, [\"PassengerId\"] ,how='left_semi')\"\"\")\n",
        "newDf.show()\n",
        "newDf1 = df21.join(df20, [\"PassengerId\"] ,how='left_anti')#df21-df20\n",
        "print(\"\"\"new_df1 df21.join(df20, [\"PassengerId\"] ,how='left_anti')\"\"\")\n",
        "newDf1.show()\n",
        "newDf3 = df20.join(df21, [\"PassengerId\"] ,how='left_semi')#df20^df21\n",
        "print(\"\"\"new_df3 df20.join(df21, [\"PassengerId\"] ,how='left_semi')\"\"\")\n",
        "newDf3.show()\n",
        "newDf4 = df20.join(df21, [\"PassengerId\"] ,how='left_anti')#df20-df21\n",
        "print(\"\"\"new_df4 df20.join(df21, [\"PassengerId\"] ,how='left_anti')\"\"\")\n",
        "newDf4.show()\n",
        "#newDf.join(df1,[\"PassengerId\"]).show()\n",
        "#select a.*,b.* from df21 a join df20 b on a.Passenger=b.PassengerId\n",
        "#newDf1 = df20.join(df1,\"PassengerId\")\n",
        "#newDf1.show()"
      ],
      "execution_count": null,
      "outputs": [
        {
          "output_type": "stream",
          "name": "stdout",
          "text": [
            "all original dataset\n",
            "+-----------+--------+------+--------+\n",
            "|PassengerId|    Name|   Sex|Survived|\n",
            "+-----------+--------+------+--------+\n",
            "|          1|    Owen|  male|       0|\n",
            "|          2|Florence|female|       1|\n",
            "|          3|   Laina|female|       1|\n",
            "|          4|    Lily|female|       1|\n",
            "|          5| William|  male|       0|\n",
            "+-----------+--------+------+--------+\n",
            "\n",
            "+-----------+---+----+------+\n",
            "|PassengerId|Age|Fare|Pclass|\n",
            "+-----------+---+----+------+\n",
            "|          1| 22| 7.3|     3|\n",
            "|          2| 38|71.3|     1|\n",
            "|          3| 26| 7.9|     3|\n",
            "|          4| 35|53.1|     1|\n",
            "|          5| 35| 8.0|     3|\n",
            "+-----------+---+----+------+\n",
            "\n",
            "df20\n",
            "+-----------+---+----+------+\n",
            "|PassengerId|Age|Fare|Pclass|\n",
            "+-----------+---+----+------+\n",
            "|          2| 38|71.3|     1|\n",
            "|          3| 26| 7.9|     3|\n",
            "|          4| 35|53.1|     1|\n",
            "|          5| 35| 8.0|     3|\n",
            "+-----------+---+----+------+\n",
            "\n",
            "df21\n",
            "+-----------+-------+------+--------+\n",
            "|PassengerId|   Name|   Sex|Survived|\n",
            "+-----------+-------+------+--------+\n",
            "|          1|   Owen|  male|       0|\n",
            "|          3|  Laina|female|       1|\n",
            "|          4|   Lily|female|       1|\n",
            "|          5|William|  male|       0|\n",
            "+-----------+-------+------+--------+\n",
            "\n",
            "new_df df21.join(df20, [\"PassengerId\"] ,how='left_semi')\n",
            "+-----------+-------+------+--------+\n",
            "|PassengerId|   Name|   Sex|Survived|\n",
            "+-----------+-------+------+--------+\n",
            "|          5|William|  male|       0|\n",
            "|          3|  Laina|female|       1|\n",
            "|          4|   Lily|female|       1|\n",
            "+-----------+-------+------+--------+\n",
            "\n",
            "new_df1 df21.join(df20, [\"PassengerId\"] ,how='left_anti')\n",
            "+-----------+----+----+--------+\n",
            "|PassengerId|Name| Sex|Survived|\n",
            "+-----------+----+----+--------+\n",
            "|          1|Owen|male|       0|\n",
            "+-----------+----+----+--------+\n",
            "\n",
            "new_df3 df20.join(df21, [\"PassengerId\"] ,how='left_semi')\n",
            "+-----------+---+----+------+\n",
            "|PassengerId|Age|Fare|Pclass|\n",
            "+-----------+---+----+------+\n",
            "|          5| 35| 8.0|     3|\n",
            "|          3| 26| 7.9|     3|\n",
            "|          4| 35|53.1|     1|\n",
            "+-----------+---+----+------+\n",
            "\n",
            "new_df4 df20.join(df21, [\"PassengerId\"] ,how='left_anti')\n",
            "+-----------+---+----+------+\n",
            "|PassengerId|Age|Fare|Pclass|\n",
            "+-----------+---+----+------+\n",
            "|          2| 38|71.3|     1|\n",
            "+-----------+---+----+------+\n",
            "\n"
          ]
        }
      ]
    },
    {
      "cell_type": "markdown",
      "metadata": {
        "id": "67_DmkyNnQLJ"
      },
      "source": [
        "**Transformation - Nonequi joins**"
      ]
    },
    {
      "cell_type": "code",
      "metadata": {
        "id": "aG9W2oIunclI",
        "colab": {
          "base_uri": "https://localhost:8080/"
        },
        "outputId": "03db0161-5571-421e-ddeb-31192fc518c7"
      },
      "source": [
        "df20.show()\n",
        "df1.join(df20, df1.PassengerId <= df20.PassengerId,how='left').show()\n",
        "# Note the duplicate col names"
      ],
      "execution_count": null,
      "outputs": [
        {
          "output_type": "stream",
          "name": "stdout",
          "text": [
            "+-----------+---+----+------+\n",
            "|PassengerId|Age|Fare|Pclass|\n",
            "+-----------+---+----+------+\n",
            "|          2| 38|71.3|     1|\n",
            "|          3| 26| 7.9|     3|\n",
            "|          4| 35|53.1|     1|\n",
            "|          5| 35| 8.0|     3|\n",
            "+-----------+---+----+------+\n",
            "\n",
            "+-----------+--------+------+--------+-----------+---+----+------+\n",
            "|PassengerId|    Name|   Sex|Survived|PassengerId|Age|Fare|Pclass|\n",
            "+-----------+--------+------+--------+-----------+---+----+------+\n",
            "|          1|    Owen|  male|       0|          2| 38|71.3|     1|\n",
            "|          1|    Owen|  male|       0|          3| 26| 7.9|     3|\n",
            "|          1|    Owen|  male|       0|          4| 35|53.1|     1|\n",
            "|          1|    Owen|  male|       0|          5| 35| 8.0|     3|\n",
            "|          2|Florence|female|       1|          2| 38|71.3|     1|\n",
            "|          2|Florence|female|       1|          3| 26| 7.9|     3|\n",
            "|          2|Florence|female|       1|          4| 35|53.1|     1|\n",
            "|          2|Florence|female|       1|          5| 35| 8.0|     3|\n",
            "|          3|   Laina|female|       1|          3| 26| 7.9|     3|\n",
            "|          3|   Laina|female|       1|          4| 35|53.1|     1|\n",
            "|          3|   Laina|female|       1|          5| 35| 8.0|     3|\n",
            "|          4|    Lily|female|       1|          4| 35|53.1|     1|\n",
            "|          4|    Lily|female|       1|          5| 35| 8.0|     3|\n",
            "|          5| William|  male|       0|          5| 35| 8.0|     3|\n",
            "+-----------+--------+------+--------+-----------+---+----+------+\n",
            "\n"
          ]
        }
      ]
    },
    {
      "cell_type": "markdown",
      "metadata": {
        "id": "ZDY6jc5eniCV"
      },
      "source": [
        "**Transformation - Unions**"
      ]
    },
    {
      "cell_type": "code",
      "metadata": {
        "id": "QnjW915FnlfY",
        "colab": {
          "base_uri": "https://localhost:8080/"
        },
        "outputId": "23dc0281-397d-4665-e441-c85266e20ec3"
      },
      "source": [
        "df21 = df1.select(\"Name\",\"PassengerId\",\"Survived\",\"Sex\")\n",
        "columns = [\"PassengerId\",\"Name\",\"Sex\",\"Survived\"]\n",
        "df1.show()\n",
        "df21.show()\n",
        "df1.union(df21).show()\n",
        "df1.unionByName(df21).show()\n",
        "df1.select(columns).union(df21.select(columns)).show()\n",
        "\n",
        "#select c1,c2,c3 from table A union select c2,c3,c4 from table B"
      ],
      "execution_count": null,
      "outputs": [
        {
          "output_type": "stream",
          "name": "stdout",
          "text": [
            "+-----------+--------+------+--------+\n",
            "|PassengerId|    Name|   Sex|Survived|\n",
            "+-----------+--------+------+--------+\n",
            "|          1|    Owen|  male|       0|\n",
            "|          2|Florence|female|       1|\n",
            "|          3|   Laina|female|       1|\n",
            "|          4|    Lily|female|       1|\n",
            "|          5| William|  male|       0|\n",
            "+-----------+--------+------+--------+\n",
            "\n",
            "+--------+-----------+--------+------+\n",
            "|    Name|PassengerId|Survived|   Sex|\n",
            "+--------+-----------+--------+------+\n",
            "|    Owen|          1|       0|  male|\n",
            "|Florence|          2|       1|female|\n",
            "|   Laina|          3|       1|female|\n",
            "|    Lily|          4|       1|female|\n",
            "| William|          5|       0|  male|\n",
            "+--------+-----------+--------+------+\n",
            "\n",
            "+-----------+--------+------+--------+\n",
            "|PassengerId|    Name|   Sex|Survived|\n",
            "+-----------+--------+------+--------+\n",
            "|          1|    Owen|  male|       0|\n",
            "|          2|Florence|female|       1|\n",
            "|          3|   Laina|female|       1|\n",
            "|          4|    Lily|female|       1|\n",
            "|          5| William|  male|       0|\n",
            "|       Owen|       1|     0|    male|\n",
            "|   Florence|       2|     1|  female|\n",
            "|      Laina|       3|     1|  female|\n",
            "|       Lily|       4|     1|  female|\n",
            "|    William|       5|     0|    male|\n",
            "+-----------+--------+------+--------+\n",
            "\n",
            "+-----------+--------+------+--------+\n",
            "|PassengerId|    Name|   Sex|Survived|\n",
            "+-----------+--------+------+--------+\n",
            "|          1|    Owen|  male|       0|\n",
            "|          2|Florence|female|       1|\n",
            "|          3|   Laina|female|       1|\n",
            "|          4|    Lily|female|       1|\n",
            "|          5| William|  male|       0|\n",
            "|          1|    Owen|  male|       0|\n",
            "|          2|Florence|female|       1|\n",
            "|          3|   Laina|female|       1|\n",
            "|          4|    Lily|female|       1|\n",
            "|          5| William|  male|       0|\n",
            "+-----------+--------+------+--------+\n",
            "\n"
          ]
        }
      ]
    },
    {
      "cell_type": "markdown",
      "metadata": {
        "id": "rixAdP4s2dv8"
      },
      "source": [
        "**Inferring Schema**"
      ]
    },
    {
      "cell_type": "code",
      "metadata": {
        "id": "I-Xx-rX94xBO"
      },
      "source": [
        "import urllib\n",
        "f = urllib.request.urlretrieve (\"http://kdd.ics.uci.edu/databases/kddcup99/kddcup.data_10_percent.gz\", \"kddcup.data_10_percent.gz\")\n",
        "\n",
        "\n",
        "data_file = \"./kddcup.data_10_percent.gz\"\n",
        "raw_data = sc.textFile(data_file).cache()"
      ],
      "execution_count": null,
      "outputs": []
    },
    {
      "cell_type": "code",
      "metadata": {
        "id": "f7e11At_49tL"
      },
      "source": [
        "from pyspark.sql import SQLContext\n",
        "sqlContext = SQLContext(sc)"
      ],
      "execution_count": null,
      "outputs": []
    },
    {
      "cell_type": "code",
      "metadata": {
        "id": "eelYoD1n2dgD"
      },
      "source": [
        "from pyspark.sql import Row\n",
        "\n",
        "csv_data = raw_data.map(lambda l: l.split(\",\"))\n",
        "row_data = csv_data.map(lambda p: Row(\n",
        "    duration=int(p[0]),\n",
        "    protocol_type=p[1],\n",
        "    service=p[2],\n",
        "    flag=p[3],\n",
        "    src_bytes=int(p[4]),\n",
        "    dst_bytes=int(p[5])\n",
        "    )\n",
        ")\n"
      ],
      "execution_count": null,
      "outputs": []
    },
    {
      "cell_type": "code",
      "metadata": {
        "id": "1yCO87RB45ct"
      },
      "source": [
        "interactions_df = sqlContext.createDataFrame(row_data)\n",
        "interactions_df.registerTempTable(\"interactions\")"
      ],
      "execution_count": null,
      "outputs": []
    },
    {
      "cell_type": "code",
      "metadata": {
        "id": "b-HQCq1n5GB_",
        "colab": {
          "base_uri": "https://localhost:8080/",
          "height": 459
        },
        "outputId": "f37deaad-d9a2-4314-d309-d8615c1ec910"
      },
      "source": [
        "# Select tcp network interactions with more than 1 second duration and no transfer from destination\n",
        "tcp_interactions = sqlContext.sql(\"\"\"\n",
        "    SELECT duration, dst_bytes FROM interactions WHERE protocol_type = 'tcp' AND duration > 1000 AND dst_bytes = 0\n",
        "\"\"\")\n",
        "tcp_interactions.show()"
      ],
      "execution_count": null,
      "outputs": [
        {
          "output_type": "stream",
          "text": [
            "+--------+---------+\n",
            "|duration|dst_bytes|\n",
            "+--------+---------+\n",
            "|    5057|        0|\n",
            "|    5059|        0|\n",
            "|    5051|        0|\n",
            "|    5056|        0|\n",
            "|    5051|        0|\n",
            "|    5039|        0|\n",
            "|    5062|        0|\n",
            "|    5041|        0|\n",
            "|    5056|        0|\n",
            "|    5064|        0|\n",
            "|    5043|        0|\n",
            "|    5061|        0|\n",
            "|    5049|        0|\n",
            "|    5061|        0|\n",
            "|    5048|        0|\n",
            "|    5047|        0|\n",
            "|    5044|        0|\n",
            "|    5063|        0|\n",
            "|    5068|        0|\n",
            "|    5062|        0|\n",
            "+--------+---------+\n",
            "only showing top 20 rows\n",
            "\n"
          ],
          "name": "stdout"
        }
      ]
    },
    {
      "cell_type": "markdown",
      "metadata": {
        "id": "ym3QRJ72MbbO"
      },
      "source": [
        "**Parquet Files**"
      ]
    },
    {
      "cell_type": "code",
      "metadata": {
        "colab": {
          "base_uri": "https://localhost:8080/"
        },
        "id": "L7scWsfPXmX3",
        "outputId": "73337a52-8bc9-4c54-df5d-8038f75fc62c"
      },
      "source": [
        "from pyspark.sql import Window\n",
        "data1 = [{\"name\":\"praveen\",\"age\":23,\"process_dt\":6112021},{\"name\":\"abc\",\"age\":23,\"process_dt\":6112021}]\n",
        "data2 = [{\"name\":\"praveen1\",\"age\":23,\"process_dt\":7112021},{\"name\":\"abc\",\"age\":24,\"process_dt\":7112021}]\n",
        "old_data = spark.createDataFrame(data1)\n",
        "old_data.show()\n",
        "new_data = spark.createDataFrame(data2)\n",
        "new_data.show()\n",
        "merge_df = old_data.union(new_data)\n",
        "merge_df.show()\n",
        "windowSpec = Window.partitionBy(\"name\").orderBy(col(\"process_dt\").desc())\n",
        "merge_df1 = merge_df.withColumn(\"row_no\",row_number().over(windowSpec))\n",
        "merge_df1.show()\n",
        "final_df = merge_df1.filter(\"row_no=1\")\n",
        "final_df.show()"
      ],
      "execution_count": null,
      "outputs": [
        {
          "output_type": "stream",
          "name": "stderr",
          "text": [
            "/content/spark-2.4.3-bin-hadoop2.7/python/pyspark/sql/session.py:346: UserWarning: inferring schema from dict is deprecated,please use pyspark.sql.Row instead\n",
            "  warnings.warn(\"inferring schema from dict is deprecated,\"\n"
          ]
        },
        {
          "output_type": "stream",
          "name": "stdout",
          "text": [
            "+---+-------+----------+\n",
            "|age|   name|process_dt|\n",
            "+---+-------+----------+\n",
            "| 23|praveen|   6112021|\n",
            "| 23|    abc|   6112021|\n",
            "+---+-------+----------+\n",
            "\n",
            "+---+--------+----------+\n",
            "|age|    name|process_dt|\n",
            "+---+--------+----------+\n",
            "| 23|praveen1|   7112021|\n",
            "| 24|     abc|   7112021|\n",
            "+---+--------+----------+\n",
            "\n",
            "+---+--------+----------+\n",
            "|age|    name|process_dt|\n",
            "+---+--------+----------+\n",
            "| 23| praveen|   6112021|\n",
            "| 23|     abc|   6112021|\n",
            "| 23|praveen1|   7112021|\n",
            "| 24|     abc|   7112021|\n",
            "+---+--------+----------+\n",
            "\n",
            "+---+--------+----------+------+\n",
            "|age|    name|process_dt|row_no|\n",
            "+---+--------+----------+------+\n",
            "| 23|praveen1|   7112021|     1|\n",
            "| 23| praveen|   6112021|     1|\n",
            "| 24|     abc|   7112021|     1|\n",
            "| 23|     abc|   6112021|     2|\n",
            "+---+--------+----------+------+\n",
            "\n",
            "+---+--------+----------+------+\n",
            "|age|    name|process_dt|row_no|\n",
            "+---+--------+----------+------+\n",
            "| 23|praveen1|   7112021|     1|\n",
            "| 23| praveen|   6112021|     1|\n",
            "| 24|     abc|   7112021|     1|\n",
            "+---+--------+----------+------+\n",
            "\n"
          ]
        }
      ]
    },
    {
      "cell_type": "code",
      "source": [
        "from google.colab import files\n",
        "\n",
        "uploaded = files.upload()"
      ],
      "metadata": {
        "colab": {
          "resources": {
            "http://localhost:8080/nbextensions/google.colab/files.js": {
              "data": "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",
              "ok": true,
              "headers": [
                [
                  "content-type",
                  "application/javascript"
                ]
              ],
              "status": 200,
              "status_text": ""
            }
          },
          "base_uri": "https://localhost:8080/",
          "height": 73
        },
        "id": "zfYUZfVy2oiX",
        "outputId": "1d15acca-810c-4fb4-ca0b-83427513d38b"
      },
      "execution_count": null,
      "outputs": [
        {
          "output_type": "display_data",
          "data": {
            "text/html": [
              "\n",
              "     <input type=\"file\" id=\"files-185ad70d-c14d-464a-86af-04b257015dff\" name=\"files[]\" multiple disabled\n",
              "        style=\"border:none\" />\n",
              "     <output id=\"result-185ad70d-c14d-464a-86af-04b257015dff\">\n",
              "      Upload widget is only available when the cell has been executed in the\n",
              "      current browser session. Please rerun this cell to enable.\n",
              "      </output>\n",
              "      <script src=\"/nbextensions/google.colab/files.js\"></script> "
            ],
            "text/plain": [
              "<IPython.core.display.HTML object>"
            ]
          },
          "metadata": {}
        },
        {
          "output_type": "stream",
          "name": "stdout",
          "text": [
            "Saving people.json to people.json\n"
          ]
        }
      ]
    },
    {
      "cell_type": "code",
      "metadata": {
        "id": "OBm-peJiMd_x",
        "colab": {
          "base_uri": "https://localhost:8080/"
        },
        "outputId": "af6f3c32-a94d-4470-b55c-7638ae64b0e0"
      },
      "source": [
        "#Dataframe Reader(transformation) and Writer(action)\n",
        "peopleDF = spark.read.json(\"/content/people.json\")\n",
        "peopleDF.createOrReplaceTempView(\"tempView1\")\n",
        "spark.sql(\"select name from tempView1 where age>13\").write.format(\"text\").save(\"/content/avrotest\")\n",
        "testDf1 = spark.read.format(\"json\").load(\"/content/people.json\")\n",
        "#json,csv,parquet\n",
        "peopleDF.printSchema()\n",
        "print(peopleDF.schema)\n",
        "#spark.read.format(\"json\").load(\"people.json\")\n",
        "# DataFrames can be saved as Parquet files, maintaining the schema information.\n",
        "peopleDF.write.mode(\"overwrite\").parquet(\"people.parquet\")\n",
        "peopleDF.write.format(\"parquet\").mode(\"overwrite\").save(\"/content/oldway/people.parquet\")\n",
        "# Read in the Parquet file created above.\n",
        "# Parquet files are self-describing so the schema is preserved.\n",
        "# The result of loading a parquet file is also a DataFrame.\n",
        "parquetFile = spark.read.parquet(\"people.parquet\")\n",
        "\n",
        "# Parquet files can also be used to create a temporary view and then used in SQL statements.\n",
        "parquetFile.createOrReplaceTempView(\"parquetFile\")\n",
        "\n",
        "teenagers = spark.sql(\"SELECT name FROM parquetFile WHERE age >= 13 AND age <= 19\")\n",
        "teenagers.show()\n",
        "# +------+\n",
        "# |  name|\n",
        "# +------+\n",
        "# |Justin|\n",
        "# +------+\n"
      ],
      "execution_count": null,
      "outputs": [
        {
          "output_type": "stream",
          "name": "stdout",
          "text": [
            "root\n",
            " |-- age: long (nullable = true)\n",
            " |-- name: string (nullable = true)\n",
            "\n",
            "StructType(List(StructField(age,LongType,true),StructField(name,StringType,true)))\n",
            "+------+\n",
            "|  name|\n",
            "+------+\n",
            "|Justin|\n",
            "+------+\n",
            "\n"
          ]
        }
      ]
    },
    {
      "cell_type": "code",
      "metadata": {
        "colab": {
          "base_uri": "https://localhost:8080/"
        },
        "id": "iNdGrstsISdW",
        "outputId": "80ee0e03-2668-4139-b283-6c470b2dbc26"
      },
      "source": [
        "!cat /content/avrotest/part-00000-932788aa-8012-465e-a5b8-f6b051e9f286-c000.txt"
      ],
      "execution_count": null,
      "outputs": [
        {
          "output_type": "stream",
          "name": "stdout",
          "text": [
            "Andy\n",
            "Justin\n"
          ]
        }
      ]
    },
    {
      "cell_type": "markdown",
      "metadata": {
        "id": "JxtKUkj87VGm"
      },
      "source": [
        "**JSON File**"
      ]
    },
    {
      "cell_type": "code",
      "metadata": {
        "id": "gzB_DVrB7XX9",
        "colab": {
          "base_uri": "https://localhost:8080/"
        },
        "outputId": "63a935f1-658e-41cb-ee08-609ca64013dc"
      },
      "source": [
        "sc = spark.sparkContext\n",
        "\n",
        "# A JSON dataset is pointed to by path.\n",
        "# The path can be either a single text file or a directory storing text files\n",
        "path = \"people.json\"\n",
        "peopleDF = spark.read.json(path)\n",
        "\n",
        "# The inferred schema can be visualized using the printSchema() method\n",
        "peopleDF.printSchema()\n",
        "# root\n",
        "#  |-- age: long (nullable = true)\n",
        "#  |-- name: string (nullable = true)\n",
        "\n",
        "# Creates a temporary view using the DataFrame\n",
        "peopleDF.createOrReplaceTempView(\"people\")\n",
        "\n",
        "# SQL statements can be run by using the sql methods provided by spark\n",
        "teenagerNamesDF = spark.sql(\"SELECT name FROM people WHERE age BETWEEN 13 AND 19\")\n",
        "teenagerNamesDF.show()\n",
        "# +------+\n",
        "# |  name|\n",
        "# +------+\n",
        "# |Justin|\n",
        "# +------+\n",
        "\n",
        "# Alternatively, a DataFrame can be created for a JSON dataset represented by\n",
        "# an RDD[String] storing one JSON object per string\n",
        "jsonStrings = ['{\"name\":\"Yin\",\"address\":{\"city\":\"Columbus\",\"state\":\"Ohio\"}}']\n",
        "otherPeopleRDD = sc.parallelize(jsonStrings)\n",
        "otherPeople = spark.read.json(otherPeopleRDD)\n",
        "otherPeople.show()\n",
        "# +---------------+----+\n",
        "# |        address|name|\n",
        "# +---------------+----+\n",
        "# |[Columbus,Ohio]| Yin|\n",
        "# +---------------+----+"
      ],
      "execution_count": null,
      "outputs": [
        {
          "output_type": "stream",
          "name": "stdout",
          "text": [
            "root\n",
            " |-- age: long (nullable = true)\n",
            " |-- name: string (nullable = true)\n",
            "\n",
            "+------+\n",
            "|  name|\n",
            "+------+\n",
            "|Justin|\n",
            "+------+\n",
            "\n",
            "+----------------+----+\n",
            "|         address|name|\n",
            "+----------------+----+\n",
            "|[Columbus, Ohio]| Yin|\n",
            "+----------------+----+\n",
            "\n"
          ]
        }
      ]
    },
    {
      "cell_type": "markdown",
      "metadata": {
        "id": "5x9TEuZC53VH"
      },
      "source": [
        "**SPARK WITH HIVE**"
      ]
    },
    {
      "cell_type": "code",
      "metadata": {
        "id": "EuXD74joPyn0"
      },
      "source": [
        "spark.stop()"
      ],
      "execution_count": null,
      "outputs": []
    },
    {
      "cell_type": "markdown",
      "metadata": {
        "id": "vYHsKKc357s-"
      },
      "source": [
        "**Import Statements**"
      ]
    },
    {
      "cell_type": "code",
      "metadata": {
        "id": "kmDC_Lxb55sc"
      },
      "source": [
        "from os.path import expanduser, join, abspath\n",
        "from pyspark.sql import SparkSession\n",
        "from pyspark.sql import Row"
      ],
      "execution_count": null,
      "outputs": []
    },
    {
      "cell_type": "markdown",
      "metadata": {
        "id": "7N2FgFU06CSH"
      },
      "source": [
        "**Warehouse Location**"
      ]
    },
    {
      "cell_type": "code",
      "metadata": {
        "id": "fSzYYnKb6Eso"
      },
      "source": [
        "warehouse_location = abspath('spark-warehouse')\n",
        "\n",
        "spark = SparkSession.builder.appName(\"Python Spark SQL Hive integration example\").config(\"spark.sql.warehouse.dir\", warehouse_location).enableHiveSupport().getOrCreate()"
      ],
      "execution_count": null,
      "outputs": []
    },
    {
      "cell_type": "markdown",
      "metadata": {
        "id": "RLll_lN16Hpj"
      },
      "source": [
        "**Spark in existing SparkSession**"
      ]
    },
    {
      "cell_type": "code",
      "metadata": {
        "id": "LUaKK8uHcQAA",
        "colab": {
          "base_uri": "https://localhost:8080/",
          "height": 34
        },
        "outputId": "e02027c7-d080-4037-a3bc-f0da4b07d763"
      },
      "source": [
        "spark.sql(\"CREATE TABLE IF NOT EXISTS src (key INT, value STRING) USING hive\")\n",
        "spark.sql(\"LOAD DATA LOCAL INPATH '/content/kv1.txt' INTO TABLE src\")"
      ],
      "execution_count": null,
      "outputs": [
        {
          "output_type": "execute_result",
          "data": {
            "text/plain": [
              "DataFrame[]"
            ]
          },
          "metadata": {
            "tags": []
          },
          "execution_count": 47
        }
      ]
    },
    {
      "cell_type": "markdown",
      "metadata": {
        "id": "wP07ncmUQBkk"
      },
      "source": [
        "**Queries are expressed in Hive QL**"
      ]
    },
    {
      "cell_type": "code",
      "metadata": {
        "id": "I2Hro5Ge8vtY",
        "colab": {
          "base_uri": "https://localhost:8080/",
          "height": 459
        },
        "outputId": "70c930fd-9f56-4a89-c53a-3aa11bc81282"
      },
      "source": [
        "spark.sql(\"SELECT * FROM src\").show()"
      ],
      "execution_count": null,
      "outputs": [
        {
          "output_type": "stream",
          "text": [
            "+---+-------+\n",
            "|key|  value|\n",
            "+---+-------+\n",
            "|238|val_238|\n",
            "| 86| val_86|\n",
            "|311|val_311|\n",
            "| 27| val_27|\n",
            "|165|val_165|\n",
            "|409|val_409|\n",
            "|255|val_255|\n",
            "|278|val_278|\n",
            "| 98| val_98|\n",
            "|484|val_484|\n",
            "|265|val_265|\n",
            "|193|val_193|\n",
            "|401|val_401|\n",
            "|150|val_150|\n",
            "|273|val_273|\n",
            "|224|val_224|\n",
            "|369|val_369|\n",
            "| 66| val_66|\n",
            "|128|val_128|\n",
            "|213|val_213|\n",
            "+---+-------+\n",
            "only showing top 20 rows\n",
            "\n"
          ],
          "name": "stdout"
        }
      ]
    },
    {
      "cell_type": "markdown",
      "metadata": {
        "id": "XjobCi1v6uuu"
      },
      "source": [
        "**Aggregation Queries also supported**"
      ]
    },
    {
      "cell_type": "code",
      "metadata": {
        "id": "Kd6dXxXvQMKc",
        "colab": {
          "base_uri": "https://localhost:8080/",
          "height": 119
        },
        "outputId": "2b0795e4-7656-4edd-88a8-f192ca5a47a4"
      },
      "source": [
        "spark.sql(\"SELECT COUNT(*) FROM src\").show()\n"
      ],
      "execution_count": null,
      "outputs": [
        {
          "output_type": "stream",
          "text": [
            "+--------+\n",
            "|count(1)|\n",
            "+--------+\n",
            "|     500|\n",
            "+--------+\n",
            "\n"
          ],
          "name": "stdout"
        }
      ]
    },
    {
      "cell_type": "markdown",
      "metadata": {
        "id": "nPAVVdlAQPvM"
      },
      "source": [
        "**Result of SQL Queries = Dataframes**"
      ]
    },
    {
      "cell_type": "code",
      "metadata": {
        "id": "-iMA-xSbQUfY"
      },
      "source": [
        "sqlDF = spark.sql(\"SELECT key, value FROM src WHERE key < 10 ORDER BY key\")\n"
      ],
      "execution_count": null,
      "outputs": []
    },
    {
      "cell_type": "markdown",
      "metadata": {
        "id": "4mh3IOYSQUNU"
      },
      "source": [
        "**Each column can be accessed in order**"
      ]
    },
    {
      "cell_type": "code",
      "metadata": {
        "id": "vLeTCGE5QaGs",
        "colab": {
          "base_uri": "https://localhost:8080/",
          "height": 187
        },
        "outputId": "d189752c-2c80-4a8a-e244-720ed80bf00f"
      },
      "source": [
        "stringsDS = sqlDF.rdd.map(lambda row: \"Key: %d, Value: %s\" % (row.key, row.value))\n",
        "for record in stringsDS.collect():\n",
        "    print(record)\n"
      ],
      "execution_count": null,
      "outputs": [
        {
          "output_type": "stream",
          "text": [
            "Key: 0, Value: val_0\n",
            "Key: 0, Value: val_0\n",
            "Key: 0, Value: val_0\n",
            "Key: 2, Value: val_2\n",
            "Key: 4, Value: val_4\n",
            "Key: 5, Value: val_5\n",
            "Key: 5, Value: val_5\n",
            "Key: 5, Value: val_5\n",
            "Key: 8, Value: val_8\n",
            "Key: 9, Value: val_9\n"
          ],
          "name": "stdout"
        }
      ]
    },
    {
      "cell_type": "markdown",
      "metadata": {
        "id": "eZeQAxMrRmnz"
      },
      "source": [
        "**Temporary views withing a SparkSession**"
      ]
    },
    {
      "cell_type": "code",
      "metadata": {
        "id": "D8yVXzhdRqmO"
      },
      "source": [
        "Record = Row(\"key\", \"value\")\n",
        "recordsDF = spark.createDataFrame([Record(i, \"val_\" + str(i)) for i in range(1, 101)])\n",
        "recordsDF.createOrReplaceTempView(\"records\")\n"
      ],
      "execution_count": null,
      "outputs": []
    },
    {
      "cell_type": "markdown",
      "metadata": {
        "id": "wlswnBKwRqbD"
      },
      "source": [
        "**Dataframes and Hive data joined**"
      ]
    },
    {
      "cell_type": "code",
      "metadata": {
        "id": "7gNh-jbxRy7F",
        "colab": {
          "base_uri": "https://localhost:8080/",
          "height": 459
        },
        "outputId": "562b7a9b-295e-4959-f73f-96be1c5dad3a"
      },
      "source": [
        "spark.sql(\"SELECT * FROM records r JOIN src s ON r.key = s.key\").show()"
      ],
      "execution_count": null,
      "outputs": [
        {
          "output_type": "stream",
          "text": [
            "+---+------+---+------+\n",
            "|key| value|key| value|\n",
            "+---+------+---+------+\n",
            "|  2| val_2|  2| val_2|\n",
            "|  4| val_4|  4| val_4|\n",
            "|  5| val_5|  5| val_5|\n",
            "|  5| val_5|  5| val_5|\n",
            "|  5| val_5|  5| val_5|\n",
            "|  8| val_8|  8| val_8|\n",
            "|  9| val_9|  9| val_9|\n",
            "| 10|val_10| 10|val_10|\n",
            "| 11|val_11| 11|val_11|\n",
            "| 12|val_12| 12|val_12|\n",
            "| 12|val_12| 12|val_12|\n",
            "| 15|val_15| 15|val_15|\n",
            "| 15|val_15| 15|val_15|\n",
            "| 17|val_17| 17|val_17|\n",
            "| 18|val_18| 18|val_18|\n",
            "| 18|val_18| 18|val_18|\n",
            "| 19|val_19| 19|val_19|\n",
            "| 20|val_20| 20|val_20|\n",
            "| 24|val_24| 24|val_24|\n",
            "| 24|val_24| 24|val_24|\n",
            "+---+------+---+------+\n",
            "only showing top 20 rows\n",
            "\n"
          ],
          "name": "stdout"
        }
      ]
    },
    {
      "cell_type": "code",
      "source": [
        "import codecs\n",
        "\n",
        "from pyspark.sql import SparkSession, Row\n",
        "from pyspark.sql.functions import lit\n",
        "from pyspark import SparkContext, SparkConf\n",
        "from pyspark.sql.types import StructType, StructField\n",
        "from pyspark.sql.functions import concat, col, concat_ws, array\n",
        "from datetime import datetime\n",
        "import os\n",
        "\n",
        "if __name__ == \"__main__\":\n",
        "    jobName = \"QRMFTPME\"\n",
        "    tableName = \"FTP_INST_DETAIL_MONTHLY\"\n",
        "\n",
        "    spark = SparkSession \\\n",
        "        .builder \\\n",
        "        .master(\"local[3]\") \\\n",
        "        .appName(\"SparkSchemaDemo\") \\\n",
        "        .getOrCreate()\n",
        "\n",
        "    input_file_path = \"/content/FTP_INST_DETAIL_MONTHLY-2022-02-02.csv\"\n",
        "    df = spark.read \\\n",
        "        .format(\"csv\") \\\n",
        "        .option(\"header\", \"true\") \\\n",
        "        .option(\"inferSchema\", \"true\") \\\n",
        "        .load(input_file_path)\n",
        "    df.createOrReplaceTempView(\"qrm_ftp_result\")\n",
        "    spark.sql(\"\"\"select 'DLR_ALL_IN_COF' as  FTP_COMPONENT_NAME,DLR_ALL_IN_COF as FTP_COMPONENT_RATE,PCT_ALL_IN_COF\n",
        "     as FTP_COMPONENT_DLR from qrm_ftp_result\"\"\").show()\n",
        "    #sys.exit()\n",
        "    df = spark.sql(\"\"\"SELECT 'BDY' as REC_TYPE,AS_AT_DATE as AS_AT_DATE,INSTRUMENT_ID as FI_INSTRUMENT_ID,BALANCE_AMOUNT as MTHLY_AVG_BAL,\n",
        "                    SOURCE_INTEREST_RATE_PCT as CUSTOMER_RATE,DLR_CUST_INTEREST as CUSTOMER_INTEREST,'DLR_ALL_IN_COF' as  FTP_COMPONENT_NAME,DLR_ALL_IN_COF as FTP_COMPONENT_RATE,PCT_ALL_IN_COF as\n",
        "                    FTP_COMPONENT_DLR,'Y' as FTP_INSTRUMENT_YN,SOURCE_ADB as INSTRUMENT_ADB,GL_ACCT_NUM as BMO_GL_ACCT,FTP_PRODUCT as FTP_PRODUCT,DEPARTMENT_ID as DEPT_ID,ALTERNATE_ACCOUNT as ALTERNATE_GL,null as FTP_SEQUENCE_TYPE,SOURCE_SYSTEM as SOURCE_SYSTEM_CODE,RESPONSIBILITY_CENTER as BMO_CENTER,REPORTING_UNIT as BMO_TRANSIT,null as GL_ACCT_NUM_DESCRIPTION,FULL_PATH_CODE_PC as FULL_PATH_CODE_PC,CURRENT_TIMESTAMP as RUN_TIMESTAMP,LEGACY_PRODUCT_ID as LEGACY_PRODUCT,INSTRUMENT_ID as INSTRUMENT_KEY,ACCOUNT_NUMBER as ACCOUNT_NUMBER,CCY_CD as CURRENCY_CD,null as SOURCE_COMPONENT,REPORTING_UNIT as OPERATING_UNIT,null as FTP_ACCOUNT_GL,PRODUCT_ID as PRODUCT_ID,null as LEDGER_EVENT_CODE,null as FI_FUNDING_CENTRE,null as ASSET_LIABILITY,null as FTP_RECON_IND,null as BMO_BALANCE_TYPE,null as BMO_RCN_LEVEL,null as FI_IBALTYPE_CD,COST_CTR_CD as S4_COST_CENTER,BKNG_LOC_CMPNY_CD as S4_COMPANY,null as S4_BOOKING_LOCATION,BKNG_LOC_CD as BKNG_LOC_CD,PROD_CD as S4_PRODUCT,LGCY_GL_ACCT_NUM as S4_LEGACY_GL,CNTRY_CD as S4_GEOGRAPHY,TRDNG_PRTNR_CD as S4_TRADING_PARTNER,SRC_SYS_CD as SRC_SYS_CD,GL_ACCT_NUM as GL_ACCT_NUM,CCY_CD as S4_CURRENCY,null as S4_DATA_SOURCE,PROFIT_CTR_CD as S4_PROFIT_CENTER   FROM qrm_ftp_result where DLR_ALL_IN_COF<>0 and PCT_ALL_IN_COF<>0\n",
        "                    UNION\n",
        "                    SELECT 'BDY' as REC_TYPE,AS_AT_DATE as AS_AT_DATE,INSTRUMENT_ID as FI_INSTRUMENT_ID,BALANCE_AMOUNT as MTHLY_AVG_BAL,SOURCE_INTEREST_RATE_PCT as CUSTOMER_RATE,DLR_CUST_INTEREST as CUSTOMER_INTEREST,'DLR_BASE_RATE' as  FTP_COMPONENT_NAME,DLR_BASE_RATE as FTP_COMPONENT_RATE,PCT_BASE_RATE as\n",
        "                    FTP_COMPONENT_DLR,'Y' as FTP_INSTRUMENT_YN,SOURCE_ADB as INSTRUMENT_ADB,GL_ACCT_NUM as BMO_GL_ACCT,FTP_PRODUCT as FTP_PRODUCT,DEPARTMENT_ID as DEPT_ID,ALTERNATE_ACCOUNT as ALTERNATE_GL,null as FTP_SEQUENCE_TYPE,SOURCE_SYSTEM as SOURCE_SYSTEM_CODE,RESPONSIBILITY_CENTER as BMO_CENTER,REPORTING_UNIT as BMO_TRANSIT,null as GL_ACCT_NUM_DESCRIPTION,FULL_PATH_CODE_PC as FULL_PATH_CODE_PC,CURRENT_TIMESTAMP as RUN_TIMESTAMP,LEGACY_PRODUCT_ID as LEGACY_PRODUCT,INSTRUMENT_ID as INSTRUMENT_KEY,ACCOUNT_NUMBER as ACCOUNT_NUMBER,CCY_CD as CURRENCY_CD,null as SOURCE_COMPONENT,REPORTING_UNIT as OPERATING_UNIT,null as FTP_ACCOUNT_GL,PRODUCT_ID as PRODUCT_ID,null as LEDGER_EVENT_CODE,null as FI_FUNDING_CENTRE,null as ASSET_LIABILITY,null as FTP_RECON_IND,null as BMO_BALANCE_TYPE,null as BMO_RCN_LEVEL,null as FI_IBALTYPE_CD,COST_CTR_CD as S4_COST_CENTER,BKNG_LOC_CMPNY_CD as S4_COMPANY,null as S4_BOOKING_LOCATION,BKNG_LOC_CD as BKNG_LOC_CD,PROD_CD as S4_PRODUCT,LGCY_GL_ACCT_NUM as S4_LEGACY_GL,CNTRY_CD as S4_GEOGRAPHY,TRDNG_PRTNR_CD as S4_TRADING_PARTNER,SRC_SYS_CD as SRC_SYS_CD,GL_ACCT_NUM as GL_ACCT_NUM,CCY_CD as S4_CURRENCY,null as S4_DATA_SOURCE,PROFIT_CTR_CD as S4_PROFIT_CENTER   FROM qrm_ftp_result where DLR_BASE_RATE<>0 and PCT_BASE_RATE<>0\n",
        "                    UNION\n",
        "                    SELECT 'BDY' as REC_TYPE,AS_AT_DATE as AS_AT_DATE,INSTRUMENT_ID as FI_INSTRUMENT_ID,BALANCE_AMOUNT as MTHLY_AVG_BAL,SOURCE_INTEREST_RATE_PCT as CUSTOMER_RATE,DLR_CUST_INTEREST as CUSTOMER_INTEREST,'DLR_FUNDING_PREMIUM' as FTP_COMPONENT_NAME,DLR_FUNDING_PREMIUM as FTP_COMPONENT_RATE,PCT_FUNDING_PREMIUM as\n",
        "                    FTP_COMPONENT_DLR,'Y' as FTP_INSTRUMENT_YN,SOURCE_ADB as INSTRUMENT_ADB,GL_ACCT_NUM as BMO_GL_ACCT,FTP_PRODUCT as FTP_PRODUCT,DEPARTMENT_ID as DEPT_ID,ALTERNATE_ACCOUNT as ALTERNATE_GL,null as FTP_SEQUENCE_TYPE,SOURCE_SYSTEM as SOURCE_SYSTEM_CODE,RESPONSIBILITY_CENTER as BMO_CENTER,REPORTING_UNIT as BMO_TRANSIT,null as GL_ACCT_NUM_DESCRIPTION,FULL_PATH_CODE_PC as FULL_PATH_CODE_PC,CURRENT_TIMESTAMP as RUN_TIMESTAMP,LEGACY_PRODUCT_ID as LEGACY_PRODUCT,INSTRUMENT_ID as INSTRUMENT_KEY,ACCOUNT_NUMBER as ACCOUNT_NUMBER,CCY_CD as CURRENCY_CD,null as SOURCE_COMPONENT,REPORTING_UNIT as OPERATING_UNIT,null as FTP_ACCOUNT_GL,PRODUCT_ID as PRODUCT_ID,null as LEDGER_EVENT_CODE,null as FI_FUNDING_CENTRE,null as ASSET_LIABILITY,null as FTP_RECON_IND,null as BMO_BALANCE_TYPE,null as BMO_RCN_LEVEL,null as FI_IBALTYPE_CD,COST_CTR_CD as S4_COST_CENTER,BKNG_LOC_CMPNY_CD as S4_COMPANY,null as S4_BOOKING_LOCATION,BKNG_LOC_CD as BKNG_LOC_CD,PROD_CD as S4_PRODUCT,LGCY_GL_ACCT_NUM as S4_LEGACY_GL,CNTRY_CD as S4_GEOGRAPHY,TRDNG_PRTNR_CD as S4_TRADING_PARTNER,SRC_SYS_CD as SRC_SYS_CD,GL_ACCT_NUM as GL_ACCT_NUM,CCY_CD as S4_CURRENCY,null as S4_DATA_SOURCE,PROFIT_CTR_CD as S4_PROFIT_CENTER   FROM qrm_ftp_result where DLR_FUNDING_PREMIUM<>0 and PCT_FUNDING_PREMIUM<>0\n",
        "                    UNION\n",
        "                    SELECT 'BDY' as REC_TYPE,AS_AT_DATE as AS_AT_DATE,INSTRUMENT_ID as FI_INSTRUMENT_ID,BALANCE_AMOUNT as MTHLY_AVG_BAL,SOURCE_INTEREST_RATE_PCT as CUSTOMER_RATE,DLR_CUST_INTEREST as CUSTOMER_INTEREST,'DLR_1M3M_BASIS' as  FTP_COMPONENT_NAME,DLR_1M3M_BASIS as FTP_COMPONENT_RATE,PCT_1M3M_BASIS as\n",
        "                    FTP_COMPONENT_DLR,'Y' as FTP_INSTRUMENT_YN,SOURCE_ADB as INSTRUMENT_ADB,GL_ACCT_NUM as BMO_GL_ACCT,FTP_PRODUCT as FTP_PRODUCT,DEPARTMENT_ID as DEPT_ID,ALTERNATE_ACCOUNT as ALTERNATE_GL,null as FTP_SEQUENCE_TYPE,SOURCE_SYSTEM as SOURCE_SYSTEM_CODE,RESPONSIBILITY_CENTER as BMO_CENTER,REPORTING_UNIT as BMO_TRANSIT,null as GL_ACCT_NUM_DESCRIPTION,FULL_PATH_CODE_PC as FULL_PATH_CODE_PC,CURRENT_TIMESTAMP as RUN_TIMESTAMP,LEGACY_PRODUCT_ID as LEGACY_PRODUCT,INSTRUMENT_ID as INSTRUMENT_KEY,ACCOUNT_NUMBER as ACCOUNT_NUMBER,CCY_CD as CURRENCY_CD,null as SOURCE_COMPONENT,REPORTING_UNIT as OPERATING_UNIT,null as FTP_ACCOUNT_GL,PRODUCT_ID as PRODUCT_ID,null as LEDGER_EVENT_CODE,null as FI_FUNDING_CENTRE,null as ASSET_LIABILITY,null as FTP_RECON_IND,null as BMO_BALANCE_TYPE,null as BMO_RCN_LEVEL,null as FI_IBALTYPE_CD,COST_CTR_CD as S4_COST_CENTER,BKNG_LOC_CMPNY_CD as S4_COMPANY,null as S4_BOOKING_LOCATION,BKNG_LOC_CD as BKNG_LOC_CD,PROD_CD as S4_PRODUCT,LGCY_GL_ACCT_NUM as S4_LEGACY_GL,CNTRY_CD as S4_GEOGRAPHY,TRDNG_PRTNR_CD as S4_TRADING_PARTNER,SRC_SYS_CD as SRC_SYS_CD,GL_ACCT_NUM as GL_ACCT_NUM,CCY_CD as S4_CURRENCY,null as S4_DATA_SOURCE,PROFIT_CTR_CD as S4_PROFIT_CENTER   FROM qrm_ftp_result where DLR_1M3M_BASIS<>0 and PCT_1M3M_BASIS<>0\n",
        "                    UNION\n",
        "                    SELECT 'BDY' as REC_TYPE,AS_AT_DATE as AS_AT_DATE,INSTRUMENT_ID as FI_INSTRUMENT_ID,BALANCE_AMOUNT as MTHLY_AVG_BAL,SOURCE_INTEREST_RATE_PCT as CUSTOMER_RATE,DLR_CUST_INTEREST as CUSTOMER_INTEREST,'DLR_LTP_RATE' as  FTP_COMPONENT_NAME,DLR_LTP_RATE as FTP_COMPONENT_RATE,PCT_LTP_RATE as\n",
        "                    FTP_COMPONENT_DLR,'Y' as FTP_INSTRUMENT_YN,SOURCE_ADB as INSTRUMENT_ADB,GL_ACCT_NUM as BMO_GL_ACCT,FTP_PRODUCT as FTP_PRODUCT,DEPARTMENT_ID as DEPT_ID,ALTERNATE_ACCOUNT as ALTERNATE_GL,null as FTP_SEQUENCE_TYPE,SOURCE_SYSTEM as SOURCE_SYSTEM_CODE,RESPONSIBILITY_CENTER as BMO_CENTER,REPORTING_UNIT as BMO_TRANSIT,null as GL_ACCT_NUM_DESCRIPTION,FULL_PATH_CODE_PC as FULL_PATH_CODE_PC,CURRENT_TIMESTAMP as RUN_TIMESTAMP,LEGACY_PRODUCT_ID as LEGACY_PRODUCT,INSTRUMENT_ID as INSTRUMENT_KEY,ACCOUNT_NUMBER as ACCOUNT_NUMBER,CCY_CD as CURRENCY_CD,null as SOURCE_COMPONENT,REPORTING_UNIT as OPERATING_UNIT,null as FTP_ACCOUNT_GL,PRODUCT_ID as PRODUCT_ID,null as LEDGER_EVENT_CODE,null as FI_FUNDING_CENTRE,null as ASSET_LIABILITY,null as FTP_RECON_IND,null as BMO_BALANCE_TYPE,null as BMO_RCN_LEVEL,null as FI_IBALTYPE_CD,COST_CTR_CD as S4_COST_CENTER,BKNG_LOC_CMPNY_CD as S4_COMPANY,null as S4_BOOKING_LOCATION,BKNG_LOC_CD as BKNG_LOC_CD,PROD_CD as S4_PRODUCT,LGCY_GL_ACCT_NUM as S4_LEGACY_GL,CNTRY_CD as S4_GEOGRAPHY,TRDNG_PRTNR_CD as S4_TRADING_PARTNER,SRC_SYS_CD as SRC_SYS_CD,GL_ACCT_NUM as GL_ACCT_NUM,CCY_CD as S4_CURRENCY,null as S4_DATA_SOURCE,PROFIT_CTR_CD as S4_PROFIT_CENTER   FROM qrm_ftp_result where DLR_LTP_RATE<>0 and PCT_LTP_RATE<>0\n",
        "                    UNION\n",
        "                    SELECT 'BDY' as REC_TYPE,AS_AT_DATE as AS_AT_DATE,INSTRUMENT_ID as FI_INSTRUMENT_ID,BALANCE_AMOUNT as MTHLY_AVG_BAL,SOURCE_INTEREST_RATE_PCT as CUSTOMER_RATE,DLR_CUST_INTEREST as CUSTOMER_INTEREST,'DLR_LEGACY_INSIGHT_ADJ' as  FTP_COMPONENT_NAME,DLR_LEGACY_INSIGHT_ADJ as FTP_COMPONENT_RATE,PCT_LEGACY_INSIGHT_ADJ as\n",
        "                    FTP_COMPONENT_DLR,'Y' as FTP_INSTRUMENT_YN,SOURCE_ADB as INSTRUMENT_ADB,GL_ACCT_NUM as BMO_GL_ACCT,FTP_PRODUCT as FTP_PRODUCT,DEPARTMENT_ID as DEPT_ID,ALTERNATE_ACCOUNT as ALTERNATE_GL,null as FTP_SEQUENCE_TYPE,SOURCE_SYSTEM as SOURCE_SYSTEM_CODE,RESPONSIBILITY_CENTER as BMO_CENTER,REPORTING_UNIT as BMO_TRANSIT,null as GL_ACCT_NUM_DESCRIPTION,FULL_PATH_CODE_PC as FULL_PATH_CODE_PC,CURRENT_TIMESTAMP as RUN_TIMESTAMP,LEGACY_PRODUCT_ID as LEGACY_PRODUCT,INSTRUMENT_ID as INSTRUMENT_KEY,ACCOUNT_NUMBER as ACCOUNT_NUMBER,CCY_CD as CURRENCY_CD,null as SOURCE_COMPONENT,REPORTING_UNIT as OPERATING_UNIT,null as FTP_ACCOUNT_GL,PRODUCT_ID as PRODUCT_ID,null as LEDGER_EVENT_CODE,null as FI_FUNDING_CENTRE,null as ASSET_LIABILITY,null as FTP_RECON_IND,null as BMO_BALANCE_TYPE,null as BMO_RCN_LEVEL,null as FI_IBALTYPE_CD,COST_CTR_CD as S4_COST_CENTER,BKNG_LOC_CMPNY_CD as S4_COMPANY,null as S4_BOOKING_LOCATION,BKNG_LOC_CD as BKNG_LOC_CD,PROD_CD as S4_PRODUCT,LGCY_GL_ACCT_NUM as S4_LEGACY_GL,CNTRY_CD as S4_GEOGRAPHY,TRDNG_PRTNR_CD as S4_TRADING_PARTNER,SRC_SYS_CD as SRC_SYS_CD,GL_ACCT_NUM as GL_ACCT_NUM,CCY_CD as S4_CURRENCY,null as S4_DATA_SOURCE,PROFIT_CTR_CD as S4_PROFIT_CENTER   FROM qrm_ftp_result where DLR_LEGACY_INSIGHT_ADJ<>0 and PCT_LEGACY_INSIGHT_ADJ<>0\n",
        "                    UNION\n",
        "                    SELECT 'BDY' as REC_TYPE,AS_AT_DATE as AS_AT_DATE,INSTRUMENT_ID as FI_INSTRUMENT_ID,BALANCE_AMOUNT as MTHLY_AVG_BAL,SOURCE_INTEREST_RATE_PCT as CUSTOMER_RATE,DLR_CUST_INTEREST as CUSTOMER_INTEREST,'DLR_MTG_SEC_FUNDING_BENEFIT' as  FTP_COMPONENT_NAME,DLR_MTG_SEC_FUNDING_BENEFIT as FTP_COMPONENT_RATE,PCT_MTG_SEC_FUNDING_BENEFIT as\n",
        "                    FTP_COMPONENT_DLR,'Y' as FTP_INSTRUMENT_YN,SOURCE_ADB as INSTRUMENT_ADB,GL_ACCT_NUM as BMO_GL_ACCT,FTP_PRODUCT as FTP_PRODUCT,DEPARTMENT_ID as DEPT_ID,ALTERNATE_ACCOUNT as ALTERNATE_GL,null as FTP_SEQUENCE_TYPE,SOURCE_SYSTEM as SOURCE_SYSTEM_CODE,RESPONSIBILITY_CENTER as BMO_CENTER,REPORTING_UNIT as BMO_TRANSIT,null as GL_ACCT_NUM_DESCRIPTION,FULL_PATH_CODE_PC as FULL_PATH_CODE_PC,CURRENT_TIMESTAMP as RUN_TIMESTAMP,LEGACY_PRODUCT_ID as LEGACY_PRODUCT,INSTRUMENT_ID as INSTRUMENT_KEY,ACCOUNT_NUMBER as ACCOUNT_NUMBER,CCY_CD as CURRENCY_CD,null as SOURCE_COMPONENT,REPORTING_UNIT as OPERATING_UNIT,null as FTP_ACCOUNT_GL,PRODUCT_ID as PRODUCT_ID,null as LEDGER_EVENT_CODE,null as FI_FUNDING_CENTRE,null as ASSET_LIABILITY,null as FTP_RECON_IND,null as BMO_BALANCE_TYPE,null as BMO_RCN_LEVEL,null as FI_IBALTYPE_CD,COST_CTR_CD as S4_COST_CENTER,BKNG_LOC_CMPNY_CD as S4_COMPANY,null as S4_BOOKING_LOCATION,BKNG_LOC_CD as BKNG_LOC_CD,PROD_CD as S4_PRODUCT,LGCY_GL_ACCT_NUM as S4_LEGACY_GL,CNTRY_CD as S4_GEOGRAPHY,TRDNG_PRTNR_CD as S4_TRADING_PARTNER,SRC_SYS_CD as SRC_SYS_CD,GL_ACCT_NUM as GL_ACCT_NUM,CCY_CD as S4_CURRENCY,null as S4_DATA_SOURCE,PROFIT_CTR_CD as S4_PROFIT_CENTER   FROM qrm_ftp_result where DLR_MTG_SEC_FUNDING_BENEFIT<>0 and PCT_MTG_SEC_FUNDING_BENEFIT<>0\n",
        "                    UNION\n",
        "                    SELECT 'BDY' as REC_TYPE,AS_AT_DATE as AS_AT_DATE,INSTRUMENT_ID as FI_INSTRUMENT_ID,BALANCE_AMOUNT as MTHLY_AVG_BAL,SOURCE_INTEREST_RATE_PCT as CUSTOMER_RATE,DLR_CUST_INTEREST as CUSTOMER_INTEREST,'DLR_MTG_COMT_OPTION_COST' as  FTP_COMPONENT_NAME,DLR_MTG_COMT_OPTION_COST as FTP_COMPONENT_RATE,PCT_MTG_COMT_OPTION_COST as\n",
        "                    FTP_COMPONENT_DLR,'Y' as FTP_INSTRUMENT_YN,SOURCE_ADB as INSTRUMENT_ADB,GL_ACCT_NUM as BMO_GL_ACCT,FTP_PRODUCT as FTP_PRODUCT,DEPARTMENT_ID as DEPT_ID,ALTERNATE_ACCOUNT as ALTERNATE_GL,null as FTP_SEQUENCE_TYPE,SOURCE_SYSTEM as SOURCE_SYSTEM_CODE,RESPONSIBILITY_CENTER as BMO_CENTER,REPORTING_UNIT as BMO_TRANSIT,null as GL_ACCT_NUM_DESCRIPTION,FULL_PATH_CODE_PC as FULL_PATH_CODE_PC,CURRENT_TIMESTAMP as RUN_TIMESTAMP,LEGACY_PRODUCT_ID as LEGACY_PRODUCT,INSTRUMENT_ID as INSTRUMENT_KEY,ACCOUNT_NUMBER as ACCOUNT_NUMBER,CCY_CD as CURRENCY_CD,null as SOURCE_COMPONENT,REPORTING_UNIT as OPERATING_UNIT,null as FTP_ACCOUNT_GL,PRODUCT_ID as PRODUCT_ID,null as LEDGER_EVENT_CODE,null as FI_FUNDING_CENTRE,null as ASSET_LIABILITY,null as FTP_RECON_IND,null as BMO_BALANCE_TYPE,null as BMO_RCN_LEVEL,null as FI_IBALTYPE_CD,COST_CTR_CD as S4_COST_CENTER,BKNG_LOC_CMPNY_CD as S4_COMPANY,null as S4_BOOKING_LOCATION,BKNG_LOC_CD as BKNG_LOC_CD,PROD_CD as S4_PRODUCT,LGCY_GL_ACCT_NUM as S4_LEGACY_GL,CNTRY_CD as S4_GEOGRAPHY,TRDNG_PRTNR_CD as S4_TRADING_PARTNER,SRC_SYS_CD as SRC_SYS_CD,GL_ACCT_NUM as GL_ACCT_NUM,CCY_CD as S4_CURRENCY,null as S4_DATA_SOURCE,PROFIT_CTR_CD as S4_PROFIT_CENTER   FROM qrm_ftp_result where DLR_MTG_COMT_OPTION_COST<>0 and PCT_MTG_COMT_OPTION_COST<>0\n",
        "                    UNION\n",
        "                    SELECT 'BDY' as REC_TYPE,AS_AT_DATE as AS_AT_DATE,INSTRUMENT_ID as FI_INSTRUMENT_ID,BALANCE_AMOUNT as MTHLY_AVG_BAL,SOURCE_INTEREST_RATE_PCT as CUSTOMER_RATE,DLR_CUST_INTEREST as CUSTOMER_INTEREST,'DLR_MTG_LOWER_OF_ADJ' as  FTP_COMPONENT_NAME,DLR_MTG_LOWER_OF_ADJ as FTP_COMPONENT_RATE,PCT_MTG_LOWER_OF_ADJ as\n",
        "                    FTP_COMPONENT_DLR,'Y' as FTP_INSTRUMENT_YN,SOURCE_ADB as INSTRUMENT_ADB,GL_ACCT_NUM as BMO_GL_ACCT,FTP_PRODUCT as FTP_PRODUCT,DEPARTMENT_ID as DEPT_ID,ALTERNATE_ACCOUNT as ALTERNATE_GL,null as FTP_SEQUENCE_TYPE,SOURCE_SYSTEM as SOURCE_SYSTEM_CODE,RESPONSIBILITY_CENTER as BMO_CENTER,REPORTING_UNIT as BMO_TRANSIT,null as GL_ACCT_NUM_DESCRIPTION,FULL_PATH_CODE_PC as FULL_PATH_CODE_PC,CURRENT_TIMESTAMP as RUN_TIMESTAMP,LEGACY_PRODUCT_ID as LEGACY_PRODUCT,INSTRUMENT_ID as INSTRUMENT_KEY,ACCOUNT_NUMBER as ACCOUNT_NUMBER,CCY_CD as CURRENCY_CD,null as SOURCE_COMPONENT,REPORTING_UNIT as OPERATING_UNIT,null as FTP_ACCOUNT_GL,PRODUCT_ID as PRODUCT_ID,null as LEDGER_EVENT_CODE,null as FI_FUNDING_CENTRE,null as ASSET_LIABILITY,null as FTP_RECON_IND,null as BMO_BALANCE_TYPE,null as BMO_RCN_LEVEL,null as FI_IBALTYPE_CD,COST_CTR_CD as S4_COST_CENTER,BKNG_LOC_CMPNY_CD as S4_COMPANY,null as S4_BOOKING_LOCATION,BKNG_LOC_CD as BKNG_LOC_CD,PROD_CD as S4_PRODUCT,LGCY_GL_ACCT_NUM as S4_LEGACY_GL,CNTRY_CD as S4_GEOGRAPHY,TRDNG_PRTNR_CD as S4_TRADING_PARTNER,SRC_SYS_CD as SRC_SYS_CD,GL_ACCT_NUM as GL_ACCT_NUM,CCY_CD as S4_CURRENCY,null as S4_DATA_SOURCE,PROFIT_CTR_CD as S4_PROFIT_CENTER   FROM qrm_ftp_result where DLR_MTG_LOWER_OF_ADJ<>0 and PCT_MTG_LOWER_OF_ADJ<>0\n",
        "                    UNION\n",
        "                    SELECT 'BDY' as REC_TYPE,AS_AT_DATE as AS_AT_DATE,INSTRUMENT_ID as FI_INSTRUMENT_ID,BALANCE_AMOUNT as MTHLY_AVG_BAL,SOURCE_INTEREST_RATE_PCT as CUSTOMER_RATE,DLR_CUST_INTEREST as CUSTOMER_INTEREST,'DLR_MTG_BE_ADJ' as  FTP_COMPONENT_NAME,DLR_MTG_BE_ADJ as FTP_COMPONENT_RATE,PCT_MTG_BE_ADJ as\n",
        "                    FTP_COMPONENT_DLR,'Y' as FTP_INSTRUMENT_YN,SOURCE_ADB as INSTRUMENT_ADB,GL_ACCT_NUM as BMO_GL_ACCT,FTP_PRODUCT as FTP_PRODUCT,DEPARTMENT_ID as DEPT_ID,ALTERNATE_ACCOUNT as ALTERNATE_GL,null as FTP_SEQUENCE_TYPE,SOURCE_SYSTEM as SOURCE_SYSTEM_CODE,RESPONSIBILITY_CENTER as BMO_CENTER,REPORTING_UNIT as BMO_TRANSIT,null as GL_ACCT_NUM_DESCRIPTION,FULL_PATH_CODE_PC as FULL_PATH_CODE_PC,CURRENT_TIMESTAMP as RUN_TIMESTAMP,LEGACY_PRODUCT_ID as LEGACY_PRODUCT,INSTRUMENT_ID as INSTRUMENT_KEY,ACCOUNT_NUMBER as ACCOUNT_NUMBER,CCY_CD as CURRENCY_CD,null as SOURCE_COMPONENT,REPORTING_UNIT as OPERATING_UNIT,null as FTP_ACCOUNT_GL,PRODUCT_ID as PRODUCT_ID,null as LEDGER_EVENT_CODE,null as FI_FUNDING_CENTRE,null as ASSET_LIABILITY,null as FTP_RECON_IND,null as BMO_BALANCE_TYPE,null as BMO_RCN_LEVEL,null as FI_IBALTYPE_CD,COST_CTR_CD as S4_COST_CENTER,BKNG_LOC_CMPNY_CD as S4_COMPANY,null as S4_BOOKING_LOCATION,BKNG_LOC_CD as BKNG_LOC_CD,PROD_CD as S4_PRODUCT,LGCY_GL_ACCT_NUM as S4_LEGACY_GL,CNTRY_CD as S4_GEOGRAPHY,TRDNG_PRTNR_CD as S4_TRADING_PARTNER,SRC_SYS_CD as SRC_SYS_CD,GL_ACCT_NUM as GL_ACCT_NUM,CCY_CD as S4_CURRENCY,null as S4_DATA_SOURCE,PROFIT_CTR_CD as S4_PROFIT_CENTER   FROM qrm_ftp_result where DLR_MTG_BE_ADJ<>0 and PCT_MTG_BE_ADJ<>0\n",
        "                    UNION\n",
        "                    SELECT 'BDY' as REC_TYPE,AS_AT_DATE as AS_AT_DATE,INSTRUMENT_ID as FI_INSTRUMENT_ID,BALANCE_AMOUNT as MTHLY_AVG_BAL,SOURCE_INTEREST_RATE_PCT as CUSTOMER_RATE,DLR_CUST_INTEREST as CUSTOMER_INTEREST,'DLR_TD_BE_ADJ' as  FTP_COMPONENT_NAME,DLR_TD_BE_ADJ as FTP_COMPONENT_RATE,PCT_TD_BE_ADJ as\n",
        "                    FTP_COMPONENT_DLR,'Y' as FTP_INSTRUMENT_YN,SOURCE_ADB as INSTRUMENT_ADB,GL_ACCT_NUM as BMO_GL_ACCT,FTP_PRODUCT as FTP_PRODUCT,DEPARTMENT_ID as DEPT_ID,ALTERNATE_ACCOUNT as ALTERNATE_GL,null as FTP_SEQUENCE_TYPE,SOURCE_SYSTEM as SOURCE_SYSTEM_CODE,RESPONSIBILITY_CENTER as BMO_CENTER,REPORTING_UNIT as BMO_TRANSIT,null as GL_ACCT_NUM_DESCRIPTION,FULL_PATH_CODE_PC as FULL_PATH_CODE_PC,CURRENT_TIMESTAMP as RUN_TIMESTAMP,LEGACY_PRODUCT_ID as LEGACY_PRODUCT,INSTRUMENT_ID as INSTRUMENT_KEY,ACCOUNT_NUMBER as ACCOUNT_NUMBER,CCY_CD as CURRENCY_CD,null as SOURCE_COMPONENT,REPORTING_UNIT as OPERATING_UNIT,null as FTP_ACCOUNT_GL,PRODUCT_ID as PRODUCT_ID,null as LEDGER_EVENT_CODE,null as FI_FUNDING_CENTRE,null as ASSET_LIABILITY,null as FTP_RECON_IND,null as BMO_BALANCE_TYPE,null as BMO_RCN_LEVEL,null as FI_IBALTYPE_CD,COST_CTR_CD as S4_COST_CENTER,BKNG_LOC_CMPNY_CD as S4_COMPANY,null as S4_BOOKING_LOCATION,BKNG_LOC_CD as BKNG_LOC_CD,PROD_CD as S4_PRODUCT,LGCY_GL_ACCT_NUM as S4_LEGACY_GL,CNTRY_CD as S4_GEOGRAPHY,TRDNG_PRTNR_CD as S4_TRADING_PARTNER,SRC_SYS_CD as SRC_SYS_CD,GL_ACCT_NUM as GL_ACCT_NUM,CCY_CD as S4_CURRENCY,null as S4_DATA_SOURCE,PROFIT_CTR_CD as S4_PROFIT_CENTER   FROM qrm_ftp_result where DLR_TD_BE_ADJ<>0 and PCT_TD_BE_ADJ<>0\n",
        "                    UNION\n",
        "                    SELECT 'BDY' as REC_TYPE,AS_AT_DATE as AS_AT_DATE,INSTRUMENT_ID as FI_INSTRUMENT_ID,BALANCE_AMOUNT as MTHLY_AVG_BAL,SOURCE_INTEREST_RATE_PCT as CUSTOMER_RATE,DLR_CUST_INTEREST as CUSTOMER_INTEREST,'DLR_TD_GREATER_OF_ADJ' as  FTP_COMPONENT_NAME,DLR_TD_GREATER_OF_ADJ as FTP_COMPONENT_RATE,PCT_TD_GREATER_OF_ADJ as\n",
        "                    FTP_COMPONENT_DLR,'Y' as FTP_INSTRUMENT_YN,SOURCE_ADB as INSTRUMENT_ADB,GL_ACCT_NUM as BMO_GL_ACCT,FTP_PRODUCT as FTP_PRODUCT,DEPARTMENT_ID as DEPT_ID,ALTERNATE_ACCOUNT as ALTERNATE_GL,null as FTP_SEQUENCE_TYPE,SOURCE_SYSTEM as SOURCE_SYSTEM_CODE,RESPONSIBILITY_CENTER as BMO_CENTER,REPORTING_UNIT as BMO_TRANSIT,null as GL_ACCT_NUM_DESCRIPTION,FULL_PATH_CODE_PC as FULL_PATH_CODE_PC,CURRENT_TIMESTAMP as RUN_TIMESTAMP,LEGACY_PRODUCT_ID as LEGACY_PRODUCT,INSTRUMENT_ID as INSTRUMENT_KEY,ACCOUNT_NUMBER as ACCOUNT_NUMBER,CCY_CD as CURRENCY_CD,null as SOURCE_COMPONENT,REPORTING_UNIT as OPERATING_UNIT,null as FTP_ACCOUNT_GL,PRODUCT_ID as PRODUCT_ID,null as LEDGER_EVENT_CODE,null as FI_FUNDING_CENTRE,null as ASSET_LIABILITY,null as FTP_RECON_IND,null as BMO_BALANCE_TYPE,null as BMO_RCN_LEVEL,null as FI_IBALTYPE_CD,COST_CTR_CD as S4_COST_CENTER,BKNG_LOC_CMPNY_CD as S4_COMPANY,null as S4_BOOKING_LOCATION,BKNG_LOC_CD as BKNG_LOC_CD,PROD_CD as S4_PRODUCT,LGCY_GL_ACCT_NUM as S4_LEGACY_GL,CNTRY_CD as S4_GEOGRAPHY,TRDNG_PRTNR_CD as S4_TRADING_PARTNER,SRC_SYS_CD as SRC_SYS_CD,GL_ACCT_NUM as GL_ACCT_NUM,CCY_CD as S4_CURRENCY,null as S4_DATA_SOURCE,PROFIT_CTR_CD as S4_PROFIT_CENTER   FROM qrm_ftp_result where DLR_TD_GREATER_OF_ADJ<>0 and PCT_TD_GREATER_OF_ADJ<>0\n",
        "                    UNION\n",
        "                    SELECT 'BDY' as REC_TYPE,AS_AT_DATE as AS_AT_DATE,INSTRUMENT_ID as FI_INSTRUMENT_ID,BALANCE_AMOUNT as MTHLY_AVG_BAL,SOURCE_INTEREST_RATE_PCT as CUSTOMER_RATE,DLR_CUST_INTEREST as CUSTOMER_INTEREST,'DLR_TD_RD_OPTION_COST' as  FTP_COMPONENT_NAME,DLR_TD_RD_OPTION_COST as FTP_COMPONENT_RATE,PCT_TD_RD_OPTION_COST as\n",
        "                    FTP_COMPONENT_DLR,'Y' as FTP_INSTRUMENT_YN,SOURCE_ADB as INSTRUMENT_ADB,GL_ACCT_NUM as BMO_GL_ACCT,FTP_PRODUCT as FTP_PRODUCT,DEPARTMENT_ID as DEPT_ID,ALTERNATE_ACCOUNT as ALTERNATE_GL,null as FTP_SEQUENCE_TYPE,SOURCE_SYSTEM as SOURCE_SYSTEM_CODE,RESPONSIBILITY_CENTER as BMO_CENTER,REPORTING_UNIT as BMO_TRANSIT,null as GL_ACCT_NUM_DESCRIPTION,FULL_PATH_CODE_PC as FULL_PATH_CODE_PC,CURRENT_TIMESTAMP as RUN_TIMESTAMP,LEGACY_PRODUCT_ID as LEGACY_PRODUCT,INSTRUMENT_ID as INSTRUMENT_KEY,ACCOUNT_NUMBER as ACCOUNT_NUMBER,CCY_CD as CURRENCY_CD,null as SOURCE_COMPONENT,REPORTING_UNIT as OPERATING_UNIT,null as FTP_ACCOUNT_GL,PRODUCT_ID as PRODUCT_ID,null as LEDGER_EVENT_CODE,null as FI_FUNDING_CENTRE,null as ASSET_LIABILITY,null as FTP_RECON_IND,null as BMO_BALANCE_TYPE,null as BMO_RCN_LEVEL,null as FI_IBALTYPE_CD,COST_CTR_CD as S4_COST_CENTER,BKNG_LOC_CMPNY_CD as S4_COMPANY,null as S4_BOOKING_LOCATION,BKNG_LOC_CD as BKNG_LOC_CD,PROD_CD as S4_PRODUCT,LGCY_GL_ACCT_NUM as S4_LEGACY_GL,CNTRY_CD as S4_GEOGRAPHY,TRDNG_PRTNR_CD as S4_TRADING_PARTNER,SRC_SYS_CD as SRC_SYS_CD,GL_ACCT_NUM as GL_ACCT_NUM,CCY_CD as S4_CURRENCY,null as S4_DATA_SOURCE,PROFIT_CTR_CD as S4_PROFIT_CENTER   FROM qrm_ftp_result where DLR_TD_RD_OPTION_COST<>0 and PCT_TD_RD_OPTION_COST<>0\n",
        "                    UNION\n",
        "                    SELECT 'BDY' as REC_TYPE,AS_AT_DATE as AS_AT_DATE,INSTRUMENT_ID as FI_INSTRUMENT_ID,BALANCE_AMOUNT as MTHLY_AVG_BAL,SOURCE_INTEREST_RATE_PCT as CUSTOMER_RATE,DLR_CUST_INTEREST as CUSTOMER_INTEREST,'DLR_SPREAD_ADJ01' as  FTP_COMPONENT_NAME,DLR_SPREAD_ADJ01 as FTP_COMPONENT_RATE,PCT_SPREAD_ADJ01 as\n",
        "                    FTP_COMPONENT_DLR,'Y' as FTP_INSTRUMENT_YN,SOURCE_ADB as INSTRUMENT_ADB,GL_ACCT_NUM as BMO_GL_ACCT,FTP_PRODUCT as FTP_PRODUCT,DEPARTMENT_ID as DEPT_ID,ALTERNATE_ACCOUNT as ALTERNATE_GL,null as FTP_SEQUENCE_TYPE,SOURCE_SYSTEM as SOURCE_SYSTEM_CODE,RESPONSIBILITY_CENTER as BMO_CENTER,REPORTING_UNIT as BMO_TRANSIT,null as GL_ACCT_NUM_DESCRIPTION,FULL_PATH_CODE_PC as FULL_PATH_CODE_PC,CURRENT_TIMESTAMP as RUN_TIMESTAMP,LEGACY_PRODUCT_ID as LEGACY_PRODUCT,INSTRUMENT_ID as INSTRUMENT_KEY,ACCOUNT_NUMBER as ACCOUNT_NUMBER,CCY_CD as CURRENCY_CD,null as SOURCE_COMPONENT,REPORTING_UNIT as OPERATING_UNIT,null as FTP_ACCOUNT_GL,PRODUCT_ID as PRODUCT_ID,null as LEDGER_EVENT_CODE,null as FI_FUNDING_CENTRE,null as ASSET_LIABILITY,null as FTP_RECON_IND,null as BMO_BALANCE_TYPE,null as BMO_RCN_LEVEL,null as FI_IBALTYPE_CD,COST_CTR_CD as S4_COST_CENTER,BKNG_LOC_CMPNY_CD as S4_COMPANY,null as S4_BOOKING_LOCATION,BKNG_LOC_CD as BKNG_LOC_CD,PROD_CD as S4_PRODUCT,LGCY_GL_ACCT_NUM as S4_LEGACY_GL,CNTRY_CD as S4_GEOGRAPHY,TRDNG_PRTNR_CD as S4_TRADING_PARTNER,SRC_SYS_CD as SRC_SYS_CD,GL_ACCT_NUM as GL_ACCT_NUM,CCY_CD as S4_CURRENCY,null as S4_DATA_SOURCE,PROFIT_CTR_CD as S4_PROFIT_CENTER   FROM qrm_ftp_result where DLR_SPREAD_ADJ01<>0 and PCT_SPREAD_ADJ01<>0\n",
        "                    UNION\n",
        "                    SELECT 'BDY' as REC_TYPE,AS_AT_DATE as AS_AT_DATE,INSTRUMENT_ID as FI_INSTRUMENT_ID,BALANCE_AMOUNT as MTHLY_AVG_BAL,SOURCE_INTEREST_RATE_PCT as CUSTOMER_RATE,DLR_CUST_INTEREST as CUSTOMER_INTEREST,'DLR_SPREAD_ADJ02' as  FTP_COMPONENT_NAME,DLR_SPREAD_ADJ02 as FTP_COMPONENT_RATE,PCT_SPREAD_ADJ02 as\n",
        "                    FTP_COMPONENT_DLR,'Y' as FTP_INSTRUMENT_YN,SOURCE_ADB as INSTRUMENT_ADB,GL_ACCT_NUM as BMO_GL_ACCT,FTP_PRODUCT as FTP_PRODUCT,DEPARTMENT_ID as DEPT_ID,ALTERNATE_ACCOUNT as ALTERNATE_GL,null as FTP_SEQUENCE_TYPE,SOURCE_SYSTEM as SOURCE_SYSTEM_CODE,RESPONSIBILITY_CENTER as BMO_CENTER,REPORTING_UNIT as BMO_TRANSIT,null as GL_ACCT_NUM_DESCRIPTION,FULL_PATH_CODE_PC as FULL_PATH_CODE_PC,CURRENT_TIMESTAMP as RUN_TIMESTAMP,LEGACY_PRODUCT_ID as LEGACY_PRODUCT,INSTRUMENT_ID as INSTRUMENT_KEY,ACCOUNT_NUMBER as ACCOUNT_NUMBER,CCY_CD as CURRENCY_CD,null as SOURCE_COMPONENT,REPORTING_UNIT as OPERATING_UNIT,null as FTP_ACCOUNT_GL,PRODUCT_ID as PRODUCT_ID,null as LEDGER_EVENT_CODE,null as FI_FUNDING_CENTRE,null as ASSET_LIABILITY,null as FTP_RECON_IND,null as BMO_BALANCE_TYPE,null as BMO_RCN_LEVEL,null as FI_IBALTYPE_CD,COST_CTR_CD as S4_COST_CENTER,BKNG_LOC_CMPNY_CD as S4_COMPANY,null as S4_BOOKING_LOCATION,BKNG_LOC_CD as BKNG_LOC_CD,PROD_CD as S4_PRODUCT,LGCY_GL_ACCT_NUM as S4_LEGACY_GL,CNTRY_CD as S4_GEOGRAPHY,TRDNG_PRTNR_CD as S4_TRADING_PARTNER,SRC_SYS_CD as SRC_SYS_CD,GL_ACCT_NUM as GL_ACCT_NUM,CCY_CD as S4_CURRENCY,null as S4_DATA_SOURCE,PROFIT_CTR_CD as S4_PROFIT_CENTER   FROM qrm_ftp_result where DLR_SPREAD_ADJ02<>0 and PCT_SPREAD_ADJ02<>0\n",
        "                    UNION\n",
        "                    SELECT 'BDY' as REC_TYPE,AS_AT_DATE as AS_AT_DATE,INSTRUMENT_ID as FI_INSTRUMENT_ID,BALANCE_AMOUNT as MTHLY_AVG_BAL,SOURCE_INTEREST_RATE_PCT as CUSTOMER_RATE,DLR_CUST_INTEREST as CUSTOMER_INTEREST,'DLR_SPREAD_ADJ03' as  FTP_COMPONENT_NAME,DLR_SPREAD_ADJ03 as FTP_COMPONENT_RATE,PCT_SPREAD_ADJ03 as\n",
        "                    FTP_COMPONENT_DLR,'Y' as FTP_INSTRUMENT_YN,SOURCE_ADB as INSTRUMENT_ADB,GL_ACCT_NUM as BMO_GL_ACCT,FTP_PRODUCT as FTP_PRODUCT,DEPARTMENT_ID as DEPT_ID,ALTERNATE_ACCOUNT as ALTERNATE_GL,null as FTP_SEQUENCE_TYPE,SOURCE_SYSTEM as SOURCE_SYSTEM_CODE,RESPONSIBILITY_CENTER as BMO_CENTER,REPORTING_UNIT as BMO_TRANSIT,null as GL_ACCT_NUM_DESCRIPTION,FULL_PATH_CODE_PC as FULL_PATH_CODE_PC,CURRENT_TIMESTAMP as RUN_TIMESTAMP,LEGACY_PRODUCT_ID as LEGACY_PRODUCT,INSTRUMENT_ID as INSTRUMENT_KEY,ACCOUNT_NUMBER as ACCOUNT_NUMBER,CCY_CD as CURRENCY_CD,null as SOURCE_COMPONENT,REPORTING_UNIT as OPERATING_UNIT,null as FTP_ACCOUNT_GL,PRODUCT_ID as PRODUCT_ID,null as LEDGER_EVENT_CODE,null as FI_FUNDING_CENTRE,null as ASSET_LIABILITY,null as FTP_RECON_IND,null as BMO_BALANCE_TYPE,null as BMO_RCN_LEVEL,null as FI_IBALTYPE_CD,COST_CTR_CD as S4_COST_CENTER,BKNG_LOC_CMPNY_CD as S4_COMPANY,null as S4_BOOKING_LOCATION,BKNG_LOC_CD as BKNG_LOC_CD,PROD_CD as S4_PRODUCT,LGCY_GL_ACCT_NUM as S4_LEGACY_GL,CNTRY_CD as S4_GEOGRAPHY,TRDNG_PRTNR_CD as S4_TRADING_PARTNER,SRC_SYS_CD as SRC_SYS_CD,GL_ACCT_NUM as GL_ACCT_NUM,CCY_CD as S4_CURRENCY,null as S4_DATA_SOURCE,PROFIT_CTR_CD as S4_PROFIT_CENTER   FROM qrm_ftp_result where DLR_SPREAD_ADJ03<>0 and PCT_SPREAD_ADJ03<>0\n",
        "                    UNION\n",
        "                    SELECT 'BDY' as REC_TYPE,AS_AT_DATE as AS_AT_DATE,INSTRUMENT_ID as FI_INSTRUMENT_ID,BALANCE_AMOUNT as MTHLY_AVG_BAL,SOURCE_INTEREST_RATE_PCT as CUSTOMER_RATE,DLR_CUST_INTEREST as CUSTOMER_INTEREST,'DLR_SPREAD_ADJ04' as  FTP_COMPONENT_NAME,DLR_SPREAD_ADJ04 as FTP_COMPONENT_RATE,PCT_SPREAD_ADJ04 as\n",
        "                    FTP_COMPONENT_DLR,'Y' as FTP_INSTRUMENT_YN,SOURCE_ADB as INSTRUMENT_ADB,GL_ACCT_NUM as BMO_GL_ACCT,FTP_PRODUCT as FTP_PRODUCT,DEPARTMENT_ID as DEPT_ID,ALTERNATE_ACCOUNT as ALTERNATE_GL,null as FTP_SEQUENCE_TYPE,SOURCE_SYSTEM as SOURCE_SYSTEM_CODE,RESPONSIBILITY_CENTER as BMO_CENTER,REPORTING_UNIT as BMO_TRANSIT,null as GL_ACCT_NUM_DESCRIPTION,FULL_PATH_CODE_PC as FULL_PATH_CODE_PC,CURRENT_TIMESTAMP as RUN_TIMESTAMP,LEGACY_PRODUCT_ID as LEGACY_PRODUCT,INSTRUMENT_ID as INSTRUMENT_KEY,ACCOUNT_NUMBER as ACCOUNT_NUMBER,CCY_CD as CURRENCY_CD,null as SOURCE_COMPONENT,REPORTING_UNIT as OPERATING_UNIT,null as FTP_ACCOUNT_GL,PRODUCT_ID as PRODUCT_ID,null as LEDGER_EVENT_CODE,null as FI_FUNDING_CENTRE,null as ASSET_LIABILITY,null as FTP_RECON_IND,null as BMO_BALANCE_TYPE,null as BMO_RCN_LEVEL,null as FI_IBALTYPE_CD,COST_CTR_CD as S4_COST_CENTER,BKNG_LOC_CMPNY_CD as S4_COMPANY,null as S4_BOOKING_LOCATION,BKNG_LOC_CD as BKNG_LOC_CD,PROD_CD as S4_PRODUCT,LGCY_GL_ACCT_NUM as S4_LEGACY_GL,CNTRY_CD as S4_GEOGRAPHY,TRDNG_PRTNR_CD as S4_TRADING_PARTNER,SRC_SYS_CD as SRC_SYS_CD,GL_ACCT_NUM as GL_ACCT_NUM,CCY_CD as S4_CURRENCY,null as S4_DATA_SOURCE,PROFIT_CTR_CD as S4_PROFIT_CENTER   FROM qrm_ftp_result where DLR_SPREAD_ADJ04<>0 and PCT_SPREAD_ADJ04<>0\n",
        "                    UNION\n",
        "                    SELECT 'BDY' as REC_TYPE,AS_AT_DATE as AS_AT_DATE,INSTRUMENT_ID as FI_INSTRUMENT_ID,BALANCE_AMOUNT as MTHLY_AVG_BAL,SOURCE_INTEREST_RATE_PCT as CUSTOMER_RATE,DLR_CUST_INTEREST as CUSTOMER_INTEREST,'DLR_SPREAD_ADJ05' as  FTP_COMPONENT_NAME,DLR_SPREAD_ADJ05 as FTP_COMPONENT_RATE,PCT_SPREAD_ADJ05 as\n",
        "                    FTP_COMPONENT_DLR,'Y' as FTP_INSTRUMENT_YN,SOURCE_ADB as INSTRUMENT_ADB,GL_ACCT_NUM as BMO_GL_ACCT,FTP_PRODUCT as FTP_PRODUCT,DEPARTMENT_ID as DEPT_ID,ALTERNATE_ACCOUNT as ALTERNATE_GL,null as FTP_SEQUENCE_TYPE,SOURCE_SYSTEM as SOURCE_SYSTEM_CODE,RESPONSIBILITY_CENTER as BMO_CENTER,REPORTING_UNIT as BMO_TRANSIT,null as GL_ACCT_NUM_DESCRIPTION,FULL_PATH_CODE_PC as FULL_PATH_CODE_PC,CURRENT_TIMESTAMP as RUN_TIMESTAMP,LEGACY_PRODUCT_ID as LEGACY_PRODUCT,INSTRUMENT_ID as INSTRUMENT_KEY,ACCOUNT_NUMBER as ACCOUNT_NUMBER,CCY_CD as CURRENCY_CD,null as SOURCE_COMPONENT,REPORTING_UNIT as OPERATING_UNIT,null as FTP_ACCOUNT_GL,PRODUCT_ID as PRODUCT_ID,null as LEDGER_EVENT_CODE,null as FI_FUNDING_CENTRE,null as ASSET_LIABILITY,null as FTP_RECON_IND,null as BMO_BALANCE_TYPE,null as BMO_RCN_LEVEL,null as FI_IBALTYPE_CD,COST_CTR_CD as S4_COST_CENTER,BKNG_LOC_CMPNY_CD as S4_COMPANY,null as S4_BOOKING_LOCATION,BKNG_LOC_CD as BKNG_LOC_CD,PROD_CD as S4_PRODUCT,LGCY_GL_ACCT_NUM as S4_LEGACY_GL,CNTRY_CD as S4_GEOGRAPHY,TRDNG_PRTNR_CD as S4_TRADING_PARTNER,SRC_SYS_CD as SRC_SYS_CD,GL_ACCT_NUM as GL_ACCT_NUM,CCY_CD as S4_CURRENCY,null as S4_DATA_SOURCE,PROFIT_CTR_CD as S4_PROFIT_CENTER   FROM qrm_ftp_result where DLR_SPREAD_ADJ05<>0 and PCT_SPREAD_ADJ05<>0\n",
        "                    UNION\n",
        "                    SELECT 'BDY' as REC_TYPE,AS_AT_DATE as AS_AT_DATE,INSTRUMENT_ID as FI_INSTRUMENT_ID,BALANCE_AMOUNT as MTHLY_AVG_BAL,SOURCE_INTEREST_RATE_PCT as CUSTOMER_RATE,DLR_CUST_INTEREST as CUSTOMER_INTEREST,'DLR_SPREAD_ADJ06' as  FTP_COMPONENT_NAME,DLR_SPREAD_ADJ06 as FTP_COMPONENT_RATE,PCT_SPREAD_ADJ06 as\n",
        "                    FTP_COMPONENT_DLR,'Y' as FTP_INSTRUMENT_YN,SOURCE_ADB as INSTRUMENT_ADB,GL_ACCT_NUM as BMO_GL_ACCT,FTP_PRODUCT as FTP_PRODUCT,DEPARTMENT_ID as DEPT_ID,ALTERNATE_ACCOUNT as ALTERNATE_GL,null as FTP_SEQUENCE_TYPE,SOURCE_SYSTEM as SOURCE_SYSTEM_CODE,RESPONSIBILITY_CENTER as BMO_CENTER,REPORTING_UNIT as BMO_TRANSIT,null as GL_ACCT_NUM_DESCRIPTION,FULL_PATH_CODE_PC as FULL_PATH_CODE_PC,CURRENT_TIMESTAMP as RUN_TIMESTAMP,LEGACY_PRODUCT_ID as LEGACY_PRODUCT,INSTRUMENT_ID as INSTRUMENT_KEY,ACCOUNT_NUMBER as ACCOUNT_NUMBER,CCY_CD as CURRENCY_CD,null as SOURCE_COMPONENT,REPORTING_UNIT as OPERATING_UNIT,null as FTP_ACCOUNT_GL,PRODUCT_ID as PRODUCT_ID,null as LEDGER_EVENT_CODE,null as FI_FUNDING_CENTRE,null as ASSET_LIABILITY,null as FTP_RECON_IND,null as BMO_BALANCE_TYPE,null as BMO_RCN_LEVEL,null as FI_IBALTYPE_CD,COST_CTR_CD as S4_COST_CENTER,BKNG_LOC_CMPNY_CD as S4_COMPANY,null as S4_BOOKING_LOCATION,BKNG_LOC_CD as BKNG_LOC_CD,PROD_CD as S4_PRODUCT,LGCY_GL_ACCT_NUM as S4_LEGACY_GL,CNTRY_CD as S4_GEOGRAPHY,TRDNG_PRTNR_CD as S4_TRADING_PARTNER,SRC_SYS_CD as SRC_SYS_CD,GL_ACCT_NUM as GL_ACCT_NUM,CCY_CD as S4_CURRENCY,null as S4_DATA_SOURCE,PROFIT_CTR_CD as S4_PROFIT_CENTER   FROM qrm_ftp_result where DLR_SPREAD_ADJ06<>0 and PCT_SPREAD_ADJ06<>0\n",
        "                    UNION\n",
        "                    SELECT 'BDY' as REC_TYPE,AS_AT_DATE as AS_AT_DATE,INSTRUMENT_ID as FI_INSTRUMENT_ID,BALANCE_AMOUNT as MTHLY_AVG_BAL,SOURCE_INTEREST_RATE_PCT as CUSTOMER_RATE,DLR_CUST_INTEREST as CUSTOMER_INTEREST,'DLR_SPREAD_ADJ07' as  FTP_COMPONENT_NAME,DLR_SPREAD_ADJ07 as FTP_COMPONENT_RATE,PCT_SPREAD_ADJ07 as\n",
        "                    FTP_COMPONENT_DLR,'Y' as FTP_INSTRUMENT_YN,SOURCE_ADB as INSTRUMENT_ADB,GL_ACCT_NUM as BMO_GL_ACCT,FTP_PRODUCT as FTP_PRODUCT,DEPARTMENT_ID as DEPT_ID,ALTERNATE_ACCOUNT as ALTERNATE_GL,null as FTP_SEQUENCE_TYPE,SOURCE_SYSTEM as SOURCE_SYSTEM_CODE,RESPONSIBILITY_CENTER as BMO_CENTER,REPORTING_UNIT as BMO_TRANSIT,null as GL_ACCT_NUM_DESCRIPTION,FULL_PATH_CODE_PC as FULL_PATH_CODE_PC,CURRENT_TIMESTAMP as RUN_TIMESTAMP,LEGACY_PRODUCT_ID as LEGACY_PRODUCT,INSTRUMENT_ID as INSTRUMENT_KEY,ACCOUNT_NUMBER as ACCOUNT_NUMBER,CCY_CD as CURRENCY_CD,null as SOURCE_COMPONENT,REPORTING_UNIT as OPERATING_UNIT,null as FTP_ACCOUNT_GL,PRODUCT_ID as PRODUCT_ID,null as LEDGER_EVENT_CODE,null as FI_FUNDING_CENTRE,null as ASSET_LIABILITY,null as FTP_RECON_IND,null as BMO_BALANCE_TYPE,null as BMO_RCN_LEVEL,null as FI_IBALTYPE_CD,COST_CTR_CD as S4_COST_CENTER,BKNG_LOC_CMPNY_CD as S4_COMPANY,null as S4_BOOKING_LOCATION,BKNG_LOC_CD as BKNG_LOC_CD,PROD_CD as S4_PRODUCT,LGCY_GL_ACCT_NUM as S4_LEGACY_GL,CNTRY_CD as S4_GEOGRAPHY,TRDNG_PRTNR_CD as S4_TRADING_PARTNER,SRC_SYS_CD as SRC_SYS_CD,GL_ACCT_NUM as GL_ACCT_NUM,CCY_CD as S4_CURRENCY,null as S4_DATA_SOURCE,PROFIT_CTR_CD as S4_PROFIT_CENTER   FROM qrm_ftp_result where DLR_SPREAD_ADJ07<>0 and PCT_SPREAD_ADJ07<>0\n",
        "                    UNION\n",
        "                    SELECT 'BDY' as REC_TYPE,AS_AT_DATE as AS_AT_DATE,INSTRUMENT_ID as FI_INSTRUMENT_ID,BALANCE_AMOUNT as MTHLY_AVG_BAL,SOURCE_INTEREST_RATE_PCT as CUSTOMER_RATE,DLR_CUST_INTEREST as CUSTOMER_INTEREST,'DLR_SPREAD_ADJ08' as  FTP_COMPONENT_NAME,DLR_SPREAD_ADJ08 as FTP_COMPONENT_RATE,PCT_SPREAD_ADJ08 as\n",
        "                    FTP_COMPONENT_DLR,'Y' as FTP_INSTRUMENT_YN,SOURCE_ADB as INSTRUMENT_ADB,GL_ACCT_NUM as BMO_GL_ACCT,FTP_PRODUCT as FTP_PRODUCT,DEPARTMENT_ID as DEPT_ID,ALTERNATE_ACCOUNT as ALTERNATE_GL,null as FTP_SEQUENCE_TYPE,SOURCE_SYSTEM as SOURCE_SYSTEM_CODE,RESPONSIBILITY_CENTER as BMO_CENTER,REPORTING_UNIT as BMO_TRANSIT,null as GL_ACCT_NUM_DESCRIPTION,FULL_PATH_CODE_PC as FULL_PATH_CODE_PC,CURRENT_TIMESTAMP as RUN_TIMESTAMP,LEGACY_PRODUCT_ID as LEGACY_PRODUCT,INSTRUMENT_ID as INSTRUMENT_KEY,ACCOUNT_NUMBER as ACCOUNT_NUMBER,CCY_CD as CURRENCY_CD,null as SOURCE_COMPONENT,REPORTING_UNIT as OPERATING_UNIT,null as FTP_ACCOUNT_GL,PRODUCT_ID as PRODUCT_ID,null as LEDGER_EVENT_CODE,null as FI_FUNDING_CENTRE,null as ASSET_LIABILITY,null as FTP_RECON_IND,null as BMO_BALANCE_TYPE,null as BMO_RCN_LEVEL,null as FI_IBALTYPE_CD,COST_CTR_CD as S4_COST_CENTER,BKNG_LOC_CMPNY_CD as S4_COMPANY,null as S4_BOOKING_LOCATION,BKNG_LOC_CD as BKNG_LOC_CD,PROD_CD as S4_PRODUCT,LGCY_GL_ACCT_NUM as S4_LEGACY_GL,CNTRY_CD as S4_GEOGRAPHY,TRDNG_PRTNR_CD as S4_TRADING_PARTNER,SRC_SYS_CD as SRC_SYS_CD,GL_ACCT_NUM as GL_ACCT_NUM,CCY_CD as S4_CURRENCY,null as S4_DATA_SOURCE,PROFIT_CTR_CD as S4_PROFIT_CENTER   FROM qrm_ftp_result where DLR_SPREAD_ADJ08<>0 and PCT_SPREAD_ADJ08<>0\n",
        "                    UNION\n",
        "                    SELECT 'BDY' as REC_TYPE,AS_AT_DATE as AS_AT_DATE,INSTRUMENT_ID as FI_INSTRUMENT_ID,BALANCE_AMOUNT as MTHLY_AVG_BAL,SOURCE_INTEREST_RATE_PCT as CUSTOMER_RATE,DLR_CUST_INTEREST as CUSTOMER_INTEREST,'DLR_SPREAD_ADJ09' as  FTP_COMPONENT_NAME,DLR_SPREAD_ADJ09 as FTP_COMPONENT_RATE,PCT_SPREAD_ADJ09 as\n",
        "                    FTP_COMPONENT_DLR,'Y' as FTP_INSTRUMENT_YN,SOURCE_ADB as INSTRUMENT_ADB,GL_ACCT_NUM as BMO_GL_ACCT,FTP_PRODUCT as FTP_PRODUCT,DEPARTMENT_ID as DEPT_ID,ALTERNATE_ACCOUNT as ALTERNATE_GL,null as FTP_SEQUENCE_TYPE,SOURCE_SYSTEM as SOURCE_SYSTEM_CODE,RESPONSIBILITY_CENTER as BMO_CENTER,REPORTING_UNIT as BMO_TRANSIT,null as GL_ACCT_NUM_DESCRIPTION,FULL_PATH_CODE_PC as FULL_PATH_CODE_PC,CURRENT_TIMESTAMP as RUN_TIMESTAMP,LEGACY_PRODUCT_ID as LEGACY_PRODUCT,INSTRUMENT_ID as INSTRUMENT_KEY,ACCOUNT_NUMBER as ACCOUNT_NUMBER,CCY_CD as CURRENCY_CD,null as SOURCE_COMPONENT,REPORTING_UNIT as OPERATING_UNIT,null as FTP_ACCOUNT_GL,PRODUCT_ID as PRODUCT_ID,null as LEDGER_EVENT_CODE,null as FI_FUNDING_CENTRE,null as ASSET_LIABILITY,null as FTP_RECON_IND,null as BMO_BALANCE_TYPE,null as BMO_RCN_LEVEL,null as FI_IBALTYPE_CD,COST_CTR_CD as S4_COST_CENTER,BKNG_LOC_CMPNY_CD as S4_COMPANY,null as S4_BOOKING_LOCATION,BKNG_LOC_CD as BKNG_LOC_CD,PROD_CD as S4_PRODUCT,LGCY_GL_ACCT_NUM as S4_LEGACY_GL,CNTRY_CD as S4_GEOGRAPHY,TRDNG_PRTNR_CD as S4_TRADING_PARTNER,SRC_SYS_CD as SRC_SYS_CD,GL_ACCT_NUM as GL_ACCT_NUM,CCY_CD as S4_CURRENCY,null as S4_DATA_SOURCE,PROFIT_CTR_CD as S4_PROFIT_CENTER   FROM qrm_ftp_result where DLR_SPREAD_ADJ09<>0 and PCT_SPREAD_ADJ09<>0\n",
        "                    UNION\n",
        "                    SELECT 'BDY' as REC_TYPE,AS_AT_DATE as AS_AT_DATE,INSTRUMENT_ID as FI_INSTRUMENT_ID,BALANCE_AMOUNT as MTHLY_AVG_BAL,SOURCE_INTEREST_RATE_PCT as CUSTOMER_RATE,DLR_CUST_INTEREST as CUSTOMER_INTEREST,'DLR_SPREAD_ADJ10' as  FTP_COMPONENT_NAME,DLR_SPREAD_ADJ10 as FTP_COMPONENT_RATE,PCT_SPREAD_ADJ10 as\n",
        "            FTP_COMPONENT_DLR,'Y' as FTP_INSTRUMENT_YN,SOURCE_ADB as INSTRUMENT_ADB,GL_ACCT_NUM as BMO_GL_ACCT,FTP_PRODUCT as FTP_PRODUCT,DEPARTMENT_ID as DEPT_ID,ALTERNATE_ACCOUNT as ALTERNATE_GL,null as FTP_SEQUENCE_TYPE,SOURCE_SYSTEM as SOURCE_SYSTEM_CODE,RESPONSIBILITY_CENTER as BMO_CENTER,REPORTING_UNIT as BMO_TRANSIT,null as GL_ACCT_NUM_DESCRIPTION,FULL_PATH_CODE_PC as FULL_PATH_CODE_PC,CURRENT_TIMESTAMP as RUN_TIMESTAMP,LEGACY_PRODUCT_ID as LEGACY_PRODUCT,INSTRUMENT_ID as INSTRUMENT_KEY,ACCOUNT_NUMBER as ACCOUNT_NUMBER,CCY_CD as CURRENCY_CD,null as SOURCE_COMPONENT,REPORTING_UNIT as OPERATING_UNIT,null as FTP_ACCOUNT_GL,PRODUCT_ID as PRODUCT_ID,null as LEDGER_EVENT_CODE,null as FI_FUNDING_CENTRE,null as ASSET_LIABILITY,null as FTP_RECON_IND,null as BMO_BALANCE_TYPE,null as BMO_RCN_LEVEL,null as FI_IBALTYPE_CD,COST_CTR_CD as S4_COST_CENTER,BKNG_LOC_CMPNY_CD as S4_COMPANY,null as S4_BOOKING_LOCATION,BKNG_LOC_CD as BKNG_LOC_CD,PROD_CD as S4_PRODUCT,LGCY_GL_ACCT_NUM as S4_LEGACY_GL,CNTRY_CD as S4_GEOGRAPHY,TRDNG_PRTNR_CD as S4_TRADING_PARTNER,SRC_SYS_CD as SRC_SYS_CD,GL_ACCT_NUM as GL_ACCT_NUM,CCY_CD as S4_CURRENCY,null as S4_DATA_SOURCE,PROFIT_CTR_CD as S4_PROFIT_CENTER   FROM qrm_ftp_result where DLR_SPREAD_ADJ10<>0 and PCT_SPREAD_ADJ10<>0\"\"\")\n",
        "    df.createOrReplaceTempView(\"qrm_ftp_result_output\")\n",
        "    df_info = spark.sql(\"\"\"select lpad(count(*),11,'0') as record_count,lpad(cast(SUM(MTHLY_AVG_BAL) as decimal(22,2)),\n",
        "                        22,'0') as sum, AS_AT_DATE\n",
        "                        from qrm_ftp_result_output group by AS_AT_Date\n",
        "                        \"\"\")\n",
        "    list_info = df_info.rdd.collect()\n",
        "    record_count = None\n",
        "    sum_of_mthlyavg = None\n",
        "    as_at_date = None\n",
        "    for row in list_info:\n",
        "        record_count = row.record_count\n",
        "        sum_of_mthlyavg = row.sum\n",
        "        as_at_date = row.AS_AT_DATE\n",
        "    if as_at_date == None:\n",
        "      as_at_date = datetime.now()\n",
        "    at_date = as_at_date.strftime(\"%Y-%m-%d\")\n",
        "    process_date = datetime.now().strftime(\"%Y-%m-%d\")\n",
        "    process_time = datetime.now().strftime(\"%H:%M:%S\")\n",
        "\n",
        "    #df = df.withColumn(\"Is_Instrument\", lit('Y')).withColumn(\"Average_Daily_Balance\", lit(142909.01))\n",
        "    #df = df.select(lit(\"BDY\").alias(\"BDY\"), \"*\")\n",
        "    columns = df.columns\n",
        "    df = df.withColumn(\"all\", concat_ws(\"¶\", array(*columns))).drop(\n",
        "        *columns)\n",
        "    df.printSchema()\n",
        "    df.show()\n",
        "    col_header = ['HDR', 'FTP', 'PC']\n",
        "    col_header.append(jobName)\n",
        "    col_header.append(tableName)\n",
        "    col_header.append(as_at_date.strftime(\"%Y%m%d\"))\n",
        "    col_header.append(datetime.strptime(process_date, \"%Y-%m-%d\").strftime(\"%Y%m%d\"))\n",
        "    col_header.append(process_time)\n",
        "    Header = \"¶\".join(col_header)\n",
        "    #Header2 = \"¶\".join(columns)\n",
        "    Header_df = spark.createDataFrame([{'all': Header}])\n",
        "    #Header_df2 = spark.createDataFrame([{'all': Header2}])\n",
        "    #df1 = Header_df.union(Header_df2)\n",
        "    df = Header_df.union(df)\n",
        "    col_footer = ['TRL']\n",
        "    col_footer.append(as_at_date.strftime(\"%Y%m%d\"))\n",
        "    col_footer.append(str(record_count))\n",
        "    col_footer.append(str(sum_of_mthlyavg))\n",
        "    Footer = \"¶\".join(col_footer)\n",
        "    Footer_df = spark.createDataFrame([{'all': Footer}])\n",
        "    df = df.union(Footer_df)\n",
        "    df.show()\n",
        "    df.repartition(1).write.format(\"text\").mode(\"overwrite\").save(\"/content/output\")\n",
        "    filename = 'ORMODS.IDP.MTH_QRMRESULTS.FULL.' + datetime.strptime(at_date, \"%Y-%m-%d\").strftime(\"%Y%m%d\") \\\n",
        "               + '.txt'\n"
      ],
      "metadata": {
        "colab": {
          "base_uri": "https://localhost:8080/"
        },
        "id": "ljeUOMNBAvDH",
        "outputId": "2fd1f42d-176c-4595-9a96-59dc5ef52840"
      },
      "execution_count": null,
      "outputs": [
        {
          "output_type": "stream",
          "name": "stdout",
          "text": [
            "+------------------+------------------+-----------------+\n",
            "|FTP_COMPONENT_NAME|FTP_COMPONENT_RATE|FTP_COMPONENT_DLR|\n",
            "+------------------+------------------+-----------------+\n",
            "|    DLR_ALL_IN_COF|            502.54|          2.48077|\n",
            "|    DLR_ALL_IN_COF|            502.54|          2.48077|\n",
            "|    DLR_ALL_IN_COF|            502.54|          2.48077|\n",
            "|    DLR_ALL_IN_COF|            379.99|          2.82796|\n",
            "|    DLR_ALL_IN_COF|            379.99|          2.82796|\n",
            "|    DLR_ALL_IN_COF|            379.99|          2.82796|\n",
            "|    DLR_ALL_IN_COF|            602.06|          2.78065|\n",
            "|    DLR_ALL_IN_COF|            602.06|          2.78065|\n",
            "|    DLR_ALL_IN_COF|            602.06|          2.78065|\n",
            "|    DLR_ALL_IN_COF|            456.78|          2.84638|\n",
            "|    DLR_ALL_IN_COF|            456.78|          2.84638|\n",
            "|    DLR_ALL_IN_COF|            456.78|          2.84638|\n",
            "|    DLR_ALL_IN_COF|            525.11|          2.91079|\n",
            "|    DLR_ALL_IN_COF|            525.11|          2.91079|\n",
            "|    DLR_ALL_IN_COF|            525.11|          2.91079|\n",
            "|    DLR_ALL_IN_COF|            365.54|          2.89699|\n",
            "|    DLR_ALL_IN_COF|            365.54|          2.89699|\n",
            "|    DLR_ALL_IN_COF|            365.54|          2.89699|\n",
            "|    DLR_ALL_IN_COF|            496.63|          2.85075|\n",
            "|    DLR_ALL_IN_COF|            496.63|          2.85075|\n",
            "+------------------+------------------+-----------------+\n",
            "only showing top 20 rows\n",
            "\n",
            "root\n",
            " |-- all: string (nullable = false)\n",
            "\n",
            "+--------------------+\n",
            "|                 all|\n",
            "+--------------------+\n",
            "|BDY¶2021-05-31 00...|\n",
            "|BDY¶2021-05-31 00...|\n",
            "|BDY¶2021-05-31 00...|\n",
            "|BDY¶2021-05-31 00...|\n",
            "|BDY¶2021-05-31 00...|\n",
            "|BDY¶2021-05-31 00...|\n",
            "|BDY¶2021-05-31 00...|\n",
            "|BDY¶2021-05-31 00...|\n",
            "|BDY¶2021-05-31 00...|\n",
            "|BDY¶2021-05-31 00...|\n",
            "|BDY¶2021-05-31 00...|\n",
            "|BDY¶2021-05-31 00...|\n",
            "|BDY¶2021-05-31 00...|\n",
            "|BDY¶2021-05-31 00...|\n",
            "|BDY¶2021-05-31 00...|\n",
            "|BDY¶2021-05-31 00...|\n",
            "|BDY¶2021-05-31 00...|\n",
            "|BDY¶2021-05-31 00...|\n",
            "|BDY¶2021-05-31 00...|\n",
            "|BDY¶2021-05-31 00...|\n",
            "+--------------------+\n",
            "only showing top 20 rows\n",
            "\n"
          ]
        },
        {
          "output_type": "stream",
          "name": "stderr",
          "text": [
            "/content/spark-2.4.3-bin-hadoop2.7/python/pyspark/sql/session.py:346: UserWarning: inferring schema from dict is deprecated,please use pyspark.sql.Row instead\n",
            "  warnings.warn(\"inferring schema from dict is deprecated,\"\n"
          ]
        },
        {
          "output_type": "stream",
          "name": "stdout",
          "text": [
            "+--------------------+\n",
            "|                 all|\n",
            "+--------------------+\n",
            "|HDR¶FTP¶PC¶QRMFTP...|\n",
            "|BDY¶2021-05-31 00...|\n",
            "|BDY¶2021-05-31 00...|\n",
            "|BDY¶2021-05-31 00...|\n",
            "|BDY¶2021-05-31 00...|\n",
            "|BDY¶2021-05-31 00...|\n",
            "|BDY¶2021-05-31 00...|\n",
            "|BDY¶2021-05-31 00...|\n",
            "|BDY¶2021-05-31 00...|\n",
            "|BDY¶2021-05-31 00...|\n",
            "|BDY¶2021-05-31 00...|\n",
            "|BDY¶2021-05-31 00...|\n",
            "|BDY¶2021-05-31 00...|\n",
            "|BDY¶2021-05-31 00...|\n",
            "|BDY¶2021-05-31 00...|\n",
            "|BDY¶2021-05-31 00...|\n",
            "|BDY¶2021-05-31 00...|\n",
            "|BDY¶2021-05-31 00...|\n",
            "|BDY¶2021-05-31 00...|\n",
            "|BDY¶2021-05-31 00...|\n",
            "+--------------------+\n",
            "only showing top 20 rows\n",
            "\n"
          ]
        }
      ]
    },
    {
      "cell_type": "code",
      "source": [
        "!ls /content/output"
      ],
      "metadata": {
        "colab": {
          "base_uri": "https://localhost:8080/"
        },
        "id": "usnfU4nFf_E3",
        "outputId": "a2d7a82e-c7f8-474a-824b-20aa88f02789"
      },
      "execution_count": null,
      "outputs": [
        {
          "output_type": "stream",
          "name": "stdout",
          "text": [
            "part-00000-f3d29c2c-20c7-4249-a84f-76c24dfde7ec-c000.txt  _SUCCESS\n"
          ]
        }
      ]
    },
    {
      "cell_type": "code",
      "source": [
        "from google.colab import files\n",
        "files.download('/content/output/part-00000-f3d29c2c-20c7-4249-a84f-76c24dfde7ec-c000.txt')"
      ],
      "metadata": {
        "colab": {
          "base_uri": "https://localhost:8080/",
          "height": 17
        },
        "id": "pQb2uWyjgFpG",
        "outputId": "d6d0ebef-5be3-4bab-a8e6-270057c9cd3e"
      },
      "execution_count": null,
      "outputs": [
        {
          "output_type": "display_data",
          "data": {
            "application/javascript": [
              "\n",
              "    async function download(id, filename, size) {\n",
              "      if (!google.colab.kernel.accessAllowed) {\n",
              "        return;\n",
              "      }\n",
              "      const div = document.createElement('div');\n",
              "      const label = document.createElement('label');\n",
              "      label.textContent = `Downloading \"${filename}\": `;\n",
              "      div.appendChild(label);\n",
              "      const progress = document.createElement('progress');\n",
              "      progress.max = size;\n",
              "      div.appendChild(progress);\n",
              "      document.body.appendChild(div);\n",
              "\n",
              "      const buffers = [];\n",
              "      let downloaded = 0;\n",
              "\n",
              "      const channel = await google.colab.kernel.comms.open(id);\n",
              "      // Send a message to notify the kernel that we're ready.\n",
              "      channel.send({})\n",
              "\n",
              "      for await (const message of channel.messages) {\n",
              "        // Send a message to notify the kernel that we're ready.\n",
              "        channel.send({})\n",
              "        if (message.buffers) {\n",
              "          for (const buffer of message.buffers) {\n",
              "            buffers.push(buffer);\n",
              "            downloaded += buffer.byteLength;\n",
              "            progress.value = downloaded;\n",
              "          }\n",
              "        }\n",
              "      }\n",
              "      const blob = new Blob(buffers, {type: 'application/binary'});\n",
              "      const a = document.createElement('a');\n",
              "      a.href = window.URL.createObjectURL(blob);\n",
              "      a.download = filename;\n",
              "      div.appendChild(a);\n",
              "      a.click();\n",
              "      div.remove();\n",
              "    }\n",
              "  "
            ],
            "text/plain": [
              "<IPython.core.display.Javascript object>"
            ]
          },
          "metadata": {}
        },
        {
          "output_type": "display_data",
          "data": {
            "application/javascript": [
              "download(\"download_2cb358e6-f662-4e20-a46f-76a6c00b66b2\", \"part-00000-f3d29c2c-20c7-4249-a84f-76c24dfde7ec-c000.txt\", 3552311)"
            ],
            "text/plain": [
              "<IPython.core.display.Javascript object>"
            ]
          },
          "metadata": {}
        }
      ]
    }
  ]
}
