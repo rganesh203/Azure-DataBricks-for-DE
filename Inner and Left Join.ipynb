{
 "cells": [
  {
   "cell_type": "code",
   "execution_count": 0,
   "metadata": {
    "application/vnd.databricks.v1+cell": {
     "cellMetadata": {
      "byteLimit": 2048000,
      "rowLimit": 10000
     },
     "inputWidgets": {},
     "nuid": "ea412e37-0c36-4d92-baed-245375b60192",
     "showTitle": false,
     "title": ""
    }
   },
   "outputs": [
    {
     "output_type": "stream",
     "name": "stdout",
     "output_type": "stream",
     "text": [
      "The 4th highest salary is: 7000\n"
     ]
    }
   ],
   "source": [
    "from pyspark.sql.functions import desc\n",
    "# Sample DataFrame (replace this with your actual DataFrame)\n",
    "data = [(1, \"John\", 5000),\n",
    "        (2, \"Jane\", 6000),\n",
    "        (3, \"Bob\", 4500),\n",
    "        (4, \"Alice\", 7000),\n",
    "        (5, \"Charlie\", 5500)]\n",
    "\n",
    "columns = [\"emp_id\", \"emp_name\", \"salary\"]\n",
    "\n",
    "emp_df = spark.createDataFrame(data, columns)\n",
    "\n",
    "# Find the 4th highest salary\n",
    "fourth_highest_salary = emp_df.select(\"salary\").distinct().orderBy(desc(\"salary\")).limit(1).collect()[0][0]\n",
    "\n",
    "# Display the result\n",
    "print(\"The 4th highest salary is:\", fourth_highest_salary)\n"
   ]
  },
  {
   "cell_type": "code",
   "execution_count": 0,
   "metadata": {
    "application/vnd.databricks.v1+cell": {
     "cellMetadata": {
      "byteLimit": 2048000,
      "rowLimit": 10000
     },
     "inputWidgets": {},
     "nuid": "8bde96b5-07c6-4a4b-b29a-c16707277dce",
     "showTitle": false,
     "title": ""
    }
   },
   "outputs": [
    {
     "output_type": "stream",
     "name": "stdout",
     "output_type": "stream",
     "text": [
      "+---+----+---+----+\n| ID|Name| ID|Name|\n+---+----+---+----+\n|  1| aaa|  1|  aa|\n|  1| aaa|  1|  aa|\n|  1| aaa|  1| bbb|\n|  1| bbb|  1|  aa|\n|  1| bbb|  1|  aa|\n|  1| bbb|  1| bbb|\n|  2| ccc|  2| ccc|\n|  2| ddd|  2| ccc|\n|  3| eee|  3| eee|\n|  3| eee|  3|ffff|\n+---+----+---+----+\n\n"
     ]
    }
   ],
   "source": [
    "# Sample data for TableA\n",
    "dataA = [(1, \"aaa\"), (1, \"bbb\"), (2, \"ccc\"), (2, \"ddd\"), (3, \"eee\")]\n",
    "columnsA = [\"ID\", \"Name\"]\n",
    "tableA = spark.createDataFrame(dataA, schema=columnsA)\n",
    "tableA.createOrReplaceTempView(\"TableA\")\n",
    "\n",
    "# Sample data for TableB\n",
    "dataB = [(1, \"aa\"), (1, \"aa\"), (1, \"bbb\"), (2, \"ccc\"), (3, \"eee\"), (3, \"ffff\")]\n",
    "columnsB = [\"ID\", \"Name\"]\n",
    "tableB = spark.createDataFrame(dataB, schema=columnsB)\n",
    "tableB.createOrReplaceTempView(\"TableB\")\n",
    "\n",
    "# Inner join using SQL\n",
    "result_inner = spark.sql(\"\"\"\n",
    "    SELECT *\n",
    "    FROM TableA\n",
    "    INNER JOIN TableB ON TableA.ID = TableB.ID \n",
    "\"\"\")\n",
    "\n",
    "result_inner.show()\n",
    "\n",
    "\n"
   ]
  },
  {
   "cell_type": "code",
   "execution_count": 0,
   "metadata": {
    "application/vnd.databricks.v1+cell": {
     "cellMetadata": {
      "byteLimit": 2048000,
      "rowLimit": 10000
     },
     "inputWidgets": {},
     "nuid": "6331b5b0-dab3-4b00-91d9-7db6e19022da",
     "showTitle": false,
     "title": ""
    }
   },
   "outputs": [
    {
     "output_type": "stream",
     "name": "stdout",
     "output_type": "stream",
     "text": [
      "+---+----+---+----+\n| ID|Name| ID|Name|\n+---+----+---+----+\n|  1| aaa|  1| bbb|\n|  1| aaa|  1|  aa|\n|  1| aaa|  1|  aa|\n|  1| bbb|  1| bbb|\n|  1| bbb|  1|  aa|\n|  1| bbb|  1|  aa|\n|  2| ccc|  2| ccc|\n|  2| ddd|  2| ccc|\n|  3| eee|  3|ffff|\n|  3| eee|  3| eee|\n+---+----+---+----+\n\n"
     ]
    }
   ],
   "source": [
    "# Left join using SQL\n",
    "result_left = spark.sql(\"\"\"SELECT *  FROM TableA  LEFT JOIN TableB ON TableA.ID = TableB.ID\"\"\")\n",
    "\n",
    "result_left.show()\n",
    "\n",
    "# Stop the Spark session"
   ]
  }
 ],
 "metadata": {
  "application/vnd.databricks.v1+notebook": {
   "dashboards": [],
   "language": "python",
   "notebookMetadata": {
    "pythonIndentUnit": 4
   },
   "notebookName": "Inner and Left Join",
   "widgets": {}
  }
 },
 "nbformat": 4,
 "nbformat_minor": 0
}
