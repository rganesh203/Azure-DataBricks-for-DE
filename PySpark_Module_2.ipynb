{
  "nbformat": 4,
  "nbformat_minor": 0,
  "metadata": {
    "colab": {
      "provenance": [],
      "include_colab_link": true
    },
    "kernelspec": {
      "name": "python3",
      "display_name": "Python 3"
    }
  },
  "cells": [
    {
      "cell_type": "markdown",
      "metadata": {
        "id": "view-in-github",
        "colab_type": "text"
      },
      "source": [
        "<a href=\"https://colab.research.google.com/github/rganesh203/Pyspark/blob/main/PySpark_Module_2.ipynb\" target=\"_parent\"><img src=\"https://colab.research.google.com/assets/colab-badge.svg\" alt=\"Open In Colab\"/></a>"
      ]
    },
    {
      "cell_type": "markdown",
      "metadata": {
        "id": "QfkdRaSf2iv5"
      },
      "source": [
        "**Your first print statement!**"
      ]
    },
    {
      "cell_type": "code",
      "metadata": {
        "id": "OnC0Y7rhvL9C",
        "colab": {
          "base_uri": "https://localhost:8080/"
        },
        "outputId": "7ad192d4-852c-4c63-85a0-b83a3e110044"
      },
      "source": [
        "print(\"Hello World!\")"
      ],
      "execution_count": null,
      "outputs": [
        {
          "output_type": "stream",
          "name": "stdout",
          "text": [
            "Hello World!\n"
          ]
        }
      ]
    },
    {
      "cell_type": "markdown",
      "metadata": {
        "id": "MkQeHCmU2uBs"
      },
      "source": [
        "**Assigning Multiple Values to a Variable**"
      ]
    },
    {
      "cell_type": "code",
      "metadata": {
        "id": "wVxWfZksvoko",
        "colab": {
          "base_uri": "https://localhost:8080/"
        },
        "outputId": "fc626d60-6fa8-49f4-ac40-6dd5e6cd366f"
      },
      "source": [
        "a = 20\n",
        "a=b=c=30\n",
        "#a = 30\n",
        "#b = 30\n",
        "#c = 30\n",
        "x,y,z=10,25,30\n",
        "l = 30.00005\n",
        "#x = 10\n",
        "#y = 25\n",
        "#z = 30\n",
        "print(a)\n",
        "a = \"string test\"\n",
        "\n",
        "print(a)\n",
        "'''\n",
        "this is also a multiline comment\n",
        "3 single quotes works\n",
        "'''\n",
        "\"\"\"\n",
        "\n",
        "\"\"\"\n",
        "multine_string = \"\"\"this is a multline string\n",
        "u can type any \\n you want.\n",
        "i also want to use '' and \"\" in my string \"\"\"\n",
        "sql_stmt = \"insert into table 1 values(\"+None+\",2,3,'praveen'\"\n",
        "print(\"hello world\")\n",
        "print(30+40)\n",
        "print(type(x))\n",
        "print(type(l))\n",
        "print(\"all abc values\"+a+str(b)+str(c))\n",
        "print(\"value of a is:{} and value of b:{} and value of c is:{}\".format(a,b,c))\n",
        "print(a,b,c,x,y,z)\n",
        "print(str(y)+\"str test\")\n",
        "print(a)\n",
        "#fun1()"
      ],
      "execution_count": null,
      "outputs": [
        {
          "output_type": "stream",
          "name": "stdout",
          "text": [
            "30\n",
            "string test\n",
            "hello world\n",
            "70\n",
            "<class 'int'>\n",
            "<class 'float'>\n",
            "all abc valuesstring test3030\n",
            "value of a is:string test and value of b:30 and value of c is:30\n",
            "string test 30 30 10 25 30\n",
            "25str test\n",
            "string test\n"
          ]
        }
      ]
    },
    {
      "cell_type": "markdown",
      "metadata": {
        "id": "PqflVMg920lB"
      },
      "source": [
        "**String Literals Example**"
      ]
    },
    {
      "cell_type": "code",
      "metadata": {
        "id": "8rVjot5yvwIw",
        "colab": {
          "base_uri": "https://localhost:8080/"
        },
        "outputId": "9540856e-8b5e-43d3-b1d6-a469326e22d1"
      },
      "source": [
        "name1='Anirudh'\n",
        "name2=\"Intellipaat\"\n",
        "#\n",
        "\"\"\"\n",
        "This is an example of multiline comment.\n",
        "we use double\n",
        "\"\"\"\n",
        "print(name1)\n",
        "print(name2)\n",
        "text1='hello\\World'\n",
        "multiline=\"\"\"t1\n",
        "...st2\n",
        "...st3\n",
        "this is line4\n",
        "this is line5\"\"\"\n",
        "multiline1 = \"str1\"\\\n",
        "\"continue str1\"\\\n",
        "\"continue str1\"\n",
        "print(multiline)\n",
        "print(multiline1)\n",
        "\n"
      ],
      "execution_count": null,
      "outputs": [
        {
          "output_type": "stream",
          "name": "stdout",
          "text": [
            "Anirudh\n",
            "Intellipaat\n",
            "t1\n",
            "...st2\n",
            "...st3\n",
            "this is line4\n",
            "this is line5\n",
            "str1continue str1continue str1\n"
          ]
        }
      ]
    },
    {
      "cell_type": "markdown",
      "metadata": {
        "id": "yz-qWaoZ25to"
      },
      "source": [
        "**Number Datatype**"
      ]
    },
    {
      "cell_type": "code",
      "metadata": {
        "id": "qynbvE6svy8v",
        "colab": {
          "base_uri": "https://localhost:8080/"
        },
        "outputId": "c4322195-6d88-4fa6-8961-fdf8132efe11"
      },
      "source": [
        "a = 5\n",
        "b = 10.0\n",
        "#a = None\n",
        "# Output: <class 'int’>\n",
        "print(type(a))\n",
        "# Output: <class 'float’>\n",
        "\n",
        "print(type(5.0))\n",
        "if isinstance(a,int):\n",
        "  print(\"it is int\")\n",
        "elif isinstance(a,float):\n",
        "  print(\"it is a float\")\n",
        "else:\n",
        "  print(\"it is NoneType\")\n",
        "\n",
        "# Output: (8+3j)\n",
        "c = 5 + 3j\n",
        "print(c + 4j)\n",
        "print(type(c))\n",
        "# Output: True\n",
        "\n",
        "print(\"check if c is of type complex: \",isinstance(c, complex))\n",
        "#a = \"this is test string\"\n",
        "\n",
        "#print(a.replace('t','z'))\n"
      ],
      "execution_count": null,
      "outputs": [
        {
          "output_type": "stream",
          "name": "stdout",
          "text": [
            "<class 'int'>\n",
            "<class 'float'>\n",
            "it is int\n",
            "(5+7j)\n",
            "<class 'complex'>\n",
            "check if c is of type complex  True\n"
          ]
        }
      ]
    },
    {
      "cell_type": "markdown",
      "metadata": {
        "id": "NEcYIf0K29dB"
      },
      "source": [
        "**Special Literals**"
      ]
    },
    {
      "cell_type": "code",
      "metadata": {
        "id": "JAwal4EKv5Bf",
        "colab": {
          "base_uri": "https://localhost:8080/",
          "height": 223
        },
        "outputId": "0a0046f3-1560-440c-86fc-7f06a1a5495a"
      },
      "source": [
        "val1=10\n",
        "val2=None\n",
        "sqlStmt = \"\"\"select * from student where name = null\"\"\"\n",
        "print(val1)\n",
        "print(type(val2))\n"
      ],
      "execution_count": null,
      "outputs": [
        {
          "output_type": "error",
          "ename": "NameError",
          "evalue": "ignored",
          "traceback": [
            "\u001b[0;31m---------------------------------------------------------------------------\u001b[0m",
            "\u001b[0;31mNameError\u001b[0m                                 Traceback (most recent call last)",
            "\u001b[0;32m<ipython-input-20-441483eea096>\u001b[0m in \u001b[0;36m<module>\u001b[0;34m()\u001b[0m\n\u001b[1;32m      1\u001b[0m \u001b[0mval1\u001b[0m\u001b[0;34m=\u001b[0m\u001b[0;36m10\u001b[0m\u001b[0;34m\u001b[0m\u001b[0;34m\u001b[0m\u001b[0m\n\u001b[0;32m----> 2\u001b[0;31m \u001b[0mval2\u001b[0m\u001b[0;34m=\u001b[0m\u001b[0mnull\u001b[0m\u001b[0;34m\u001b[0m\u001b[0;34m\u001b[0m\u001b[0m\n\u001b[0m\u001b[1;32m      3\u001b[0m \u001b[0mprint\u001b[0m\u001b[0;34m(\u001b[0m\u001b[0mval1\u001b[0m\u001b[0;34m)\u001b[0m\u001b[0;34m\u001b[0m\u001b[0;34m\u001b[0m\u001b[0m\n\u001b[1;32m      4\u001b[0m \u001b[0mprint\u001b[0m\u001b[0;34m(\u001b[0m\u001b[0mtype\u001b[0m\u001b[0;34m(\u001b[0m\u001b[0mval2\u001b[0m\u001b[0;34m)\u001b[0m\u001b[0;34m)\u001b[0m\u001b[0;34m\u001b[0m\u001b[0;34m\u001b[0m\u001b[0m\n",
            "\u001b[0;31mNameError\u001b[0m: name 'null' is not defined"
          ]
        }
      ]
    },
    {
      "cell_type": "code",
      "metadata": {
        "colab": {
          "base_uri": "https://localhost:8080/"
        },
        "id": "XmwIVKvSCKl8",
        "outputId": "4a5b6181-47e7-4dd4-eba9-a76c3b31bb13"
      },
      "source": [
        "a = 10\n",
        "b = 20\n",
        "c = a + b\n",
        "d = a - b\n",
        "e = a*b\n",
        "f = a/b\n",
        "g = a%b\n",
        "\n",
        "print(c)\n",
        "print(d)\n",
        "print(e)\n",
        "print(f)\n",
        "print(g)\n",
        "print(\"all the output are:\"+str(c)+str(d)+str(e)+str(f)+str(g))\n",
        "print(\"all the output are:\",c,d,e,f,g,sep='|')\n",
        "print(\"all the output are:{},{},{},{},{}\".format(c,d,e,f,g))\n",
        "print(\" all output \"+str(c)+\",\"+str(d)+\",\"+str(e)+\",\"+str(f)+\",\"+str(g))\n",
        "Student_roll = 123\n",
        "Student_name = \"Praveen\"\n",
        "Student_age = 29\n",
        "str1 = \"\"\"the name of the student is {} and he is {} years old and {} is his\n",
        " roll no\"\"\".format(Student_name,Student_age,Student_roll)\n",
        "print(str1)\n",
        "sql_stmt = \"\"\"select * from table1 where student_name ={}\"\"\".format(Student_name)\n",
        "#PEP80"
      ],
      "execution_count": null,
      "outputs": [
        {
          "output_type": "stream",
          "name": "stdout",
          "text": [
            "30\n",
            "-10\n",
            "200\n",
            "0.5\n",
            "10\n",
            "all the output are:30-102000.510\n",
            "all the output are:|30|-10|200|0.5|10\n",
            "all the output are:30,-10,200,0.5,10\n",
            " all output 30,-10,200,0.5,10\n",
            "the name of the student is Praveen and he is 29 years old and 123 is his\n",
            " roll no\n"
          ]
        }
      ]
    },
    {
      "cell_type": "markdown",
      "metadata": {
        "id": "gB7gS_cm3CUg"
      },
      "source": [
        "**Assignment Operators**"
      ]
    },
    {
      "cell_type": "code",
      "metadata": {
        "id": "F6m_h4VXwaHX",
        "colab": {
          "base_uri": "https://localhost:8080/"
        },
        "outputId": "b949f44d-5270-4184-b900-fba0f4a19352"
      },
      "source": [
        "a=10\n",
        "a*=100\n",
        "a = a* 100\n",
        "a = a*100\n",
        "b=a*5\n",
        "b+=10\n",
        "b = b+10\n",
        "print(a)\n",
        "print(b)"
      ],
      "execution_count": null,
      "outputs": [
        {
          "output_type": "stream",
          "name": "stdout",
          "text": [
            "10000000\n",
            "50000020\n"
          ]
        }
      ]
    },
    {
      "cell_type": "markdown",
      "metadata": {
        "id": "llefEdCP3IXX"
      },
      "source": [
        "**Comparison Operators**"
      ]
    },
    {
      "cell_type": "code",
      "metadata": {
        "id": "Us5l9UjGwdQG",
        "colab": {
          "base_uri": "https://localhost:8080/"
        },
        "outputId": "4943a236-f3b6-47a9-d5e8-0bf5aa63a281"
      },
      "source": [
        "Min_x=18\n",
        "Max_x=18\n",
        "if Min_x <= Max_x:\n",
        "  print('a is greater or equal b')\n",
        "  print(Min_x)\n",
        "else:\n",
        "  print('b is greater')\n",
        "  print(str(Min_x)+\"..\"+str(Max_x))"
      ],
      "execution_count": null,
      "outputs": [
        {
          "output_type": "stream",
          "name": "stdout",
          "text": [
            "a is greater or equal b\n",
            "18\n"
          ]
        }
      ]
    },
    {
      "cell_type": "markdown",
      "metadata": {
        "id": "f19tpRAJ3Pef"
      },
      "source": [
        "**Logical Operators**"
      ]
    },
    {
      "cell_type": "code",
      "metadata": {
        "id": "SaK4Af04z8VB",
        "colab": {
          "base_uri": "https://localhost:8080/"
        },
        "outputId": "387fa063-2ad0-4499-a3f5-4498d3867a42"
      },
      "source": [
        "isSunday = True\n",
        "isHoliday = True\n",
        "result = not isSunday\n",
        "print(result)\n",
        "\n",
        "if isHoliday and isSunday:\n",
        "  if isHoliday:\n",
        "    print(isHoliday)\n",
        "  else:\n",
        "    print(isSunday)\n",
        "    print('Sunday is a fun day!!')\n",
        "elif isHoliday:\n",
        "  print(\"is Holiday\")\n",
        "else:\n",
        "    print('Not a holiday!')\n",
        "\n",
        "if isHoliday or isSunday:\n",
        "    print('one of them is true')\n",
        "else:\n",
        "    print('Not a holiday!')\n",
        "\n",
        "if not isHoliday:\n",
        "    print('opposite of isholiday')\n",
        "else:\n",
        "    print('Not a holiday!')\n"
      ],
      "execution_count": null,
      "outputs": [
        {
          "output_type": "stream",
          "name": "stdout",
          "text": [
            "False\n"
          ]
        }
      ]
    },
    {
      "cell_type": "code",
      "metadata": {
        "id": "wXzO8QZ-1KbO",
        "colab": {
          "base_uri": "https://localhost:8080/"
        },
        "outputId": "9ab87162-1440-4ce7-8441-d1897d4b6ff6"
      },
      "source": [
        "a = 7 | 5\n",
        "#111\n",
        "#101\n",
        "#111\n",
        "b = 7 & 5\n",
        "#111 = 7\n",
        "#101\n",
        "#101 =5\n",
        "c = 1 << 2\n",
        "#001\n",
        "#100 = 4\n",
        "d = ~5\n",
        "#0101\n",
        "#1010\n",
        "print(a)\n",
        "print(b)\n",
        "print(c)\n",
        "print(d)\n"
      ],
      "execution_count": null,
      "outputs": [
        {
          "output_type": "stream",
          "name": "stdout",
          "text": [
            "7\n",
            "5\n",
            "4\n",
            "-6\n"
          ]
        }
      ]
    },
    {
      "cell_type": "code",
      "metadata": {
        "colab": {
          "base_uri": "https://localhost:8080/"
        },
        "id": "Ws3mylEjJsLv",
        "outputId": "3976e666-bef8-43a4-bb2c-289491a9d084"
      },
      "source": [
        "a = 10\n",
        "b = 11\n",
        "print(a is not b)"
      ],
      "execution_count": null,
      "outputs": [
        {
          "output_type": "stream",
          "name": "stdout",
          "text": [
            "True\n"
          ]
        }
      ]
    },
    {
      "cell_type": "code",
      "metadata": {
        "id": "qhIsVbSq2mZu",
        "colab": {
          "base_uri": "https://localhost:8080/"
        },
        "outputId": "37a9dcc7-ba54-40d9-de89-81ea06ce059a"
      },
      "source": [
        "#0001\n",
        "a = \"pr\"\n",
        "#0003\n",
        "#a = \"am\"\n",
        "x = 10\n",
        "x = 20\n",
        "str1 = \"praveen\"\n",
        "print(id(str1))\n",
        "str1 = str1+\"am\"\n",
        "print(id(str1))\n",
        "list1 = list()\n",
        "list1 = [\"element1\",\"elemnet2\",\"element3\"]\n",
        "print(id(list1))\n",
        "list1.append(\"element20\")\n",
        "print(id(list1))\n",
        "\n",
        "print(a in str1)\n",
        "\n",
        "#print(id(str1))\n",
        "str1 = \"am\"\n",
        "#print(id(str1))\n"
      ],
      "execution_count": null,
      "outputs": [
        {
          "output_type": "stream",
          "name": "stdout",
          "text": [
            "140111262480752\n",
            "140111261844080\n",
            "140111261492800\n",
            "140111261492800\n",
            "True\n"
          ]
        }
      ]
    },
    {
      "cell_type": "markdown",
      "metadata": {
        "id": "VJCNx2M63UJR"
      },
      "source": [
        "**Numbers in Python**"
      ]
    },
    {
      "cell_type": "code",
      "metadata": {
        "id": "muxTFFJ_0D8P",
        "colab": {
          "base_uri": "https://localhost:8080/"
        },
        "outputId": "4b42289a-2a14-4354-f6e3-67ba04cfe7e5"
      },
      "source": [
        "#message = 'Hello World'\n",
        "num = 1234\n",
        "rate = 13.6\n",
        "#print(type(message)) #return a string\n",
        "print(type(num)) #return an integer\n",
        "print(type(rate)) #return a float\n"
      ],
      "execution_count": null,
      "outputs": [
        {
          "output_type": "stream",
          "name": "stdout",
          "text": [
            "<class 'int'>\n",
            "<class 'float'>\n"
          ]
        }
      ]
    },
    {
      "cell_type": "markdown",
      "metadata": {
        "id": "aXlZ4L_S3Z3A"
      },
      "source": [
        "**Strings - An Example**"
      ]
    },
    {
      "cell_type": "code",
      "metadata": {
        "id": "S2qgZtBx0G4X",
        "colab": {
          "base_uri": "https://localhost:8080/"
        },
        "outputId": "9e47f71e-79ca-40fa-c412-1331144c8514"
      },
      "source": [
        "var1 = '''Hello-World!'''\n",
        "var2 = 'Python,Tutonrial,as'\n",
        "var4 = \"\"\"select * from table1 where name='Praveen'\"\"\"\n",
        "var5=\"filenameasasasasa.txt\"\n",
        "vr3 = var2.find('as')\n",
        "print(vr3)\n",
        "str1 = var5[:-4]\n",
        "print(str1)\n",
        "print(str1+\"empty sting\")\n",
        "str1 = var4[:]\n",
        "print(str1)\n",
        "\n",
        "#print(var1[2]) # prints the first character in the string `H`\n",
        "#print(var2[3:]) # prints the substring ‘ytho`\n",
        "#print(vr3)\n",
        "#print(str1)\n",
        "#print(str2)\n",
        "value1 = \"\"\"\\\\x0Praveen\\\\x0bangalore\\\\x0india\"\"\"\n",
        "str2 = value1.replace(\"\\\\x0\",\",\",2)\n",
        "filename_split = value1.split(\"\\\\x0\",2)\n",
        "print(filename_split)\n",
        "print(str2)\n",
        "str1.isnumeric()\n",
        "print(str2)\n",
        "print(len(str1))\n",
        "#print(str1)\n",
        "print(str1.count(\"a\"))"
      ],
      "execution_count": null,
      "outputs": [
        {
          "output_type": "stream",
          "name": "stdout",
          "text": [
            "17\n",
            "filenameasasasasa\n",
            "filenameasasasasaempty sting\n",
            "select * from table1 where name='Praveen'\n",
            "['', 'Praveen', 'bangalore\\\\x0india']\n",
            ",Praveen,bangalore\\x0india\n",
            ",Praveen,bangalore\\x0india\n",
            "41\n",
            "3\n"
          ]
        }
      ]
    },
    {
      "cell_type": "code",
      "source": [
        "a = ''' this is to test the maximum  character you can write in a\n",
        "    single line in python without breaking pep80 rules .\n",
        "    what is th emaximum charaters in a single line '''\n",
        "lsit1 = a.strip().capitalize().split(\" \")\n",
        "str1 = \" \".join(lsit1)\n",
        "print(lsit1)\n",
        "print(str1)"
      ],
      "metadata": {
        "colab": {
          "base_uri": "https://localhost:8080/"
        },
        "id": "dN-GeddSI1gh",
        "outputId": "2ff38a08-3e4f-440d-d490-8cbc289fdac4"
      },
      "execution_count": null,
      "outputs": [
        {
          "output_type": "stream",
          "name": "stdout",
          "text": [
            "['This', 'is', 'to', 'test', 'the', 'maximum', '', 'character', 'you', 'can', 'write', 'in', 'a', '', '\\n', '', '', '', 'single', 'line', 'in', 'python', 'without', 'breaking', 'pep80', 'rules', '.', '', '\\n', '', '', '', 'what', 'is', 'th', 'emaximum', 'charaters', 'in', 'a', 'single', 'line']\n",
            "This is to test the maximum  character you can write in a  \n",
            "    single line in python without breaking pep80 rules .  \n",
            "    what is th emaximum charaters in a single line\n"
          ]
        }
      ]
    },
    {
      "cell_type": "code",
      "metadata": {
        "id": "5ggRO4Al8vXt",
        "colab": {
          "base_uri": "https://localhost:8080/"
        },
        "outputId": "110e1c66-2a2e-42fe-fb5e-a126b8f6de22"
      },
      "source": [
        "age = 19\n",
        "Name = \"Pr\"\n",
        "status = None\n",
        "if age <= 20:\n",
        "  status = \"teenager\"\n",
        "  if \"P\" in Name:\n",
        "    print(\"tenager with name starting from p\")\n",
        "elif age > 20 and age < 40:\n",
        "  status = \"adult\"\n",
        "elif age > 40 and age < 60:\n",
        "  status = \"adult2\"\n",
        "else:\n",
        "  status = \"senior\"\n",
        "print(status)"
      ],
      "execution_count": null,
      "outputs": [
        {
          "output_type": "stream",
          "name": "stdout",
          "text": [
            "tenager with name starting from p\n",
            "teenager\n"
          ]
        }
      ]
    },
    {
      "cell_type": "markdown",
      "metadata": {
        "id": "dFATSkNq3hAt"
      },
      "source": [
        "**For Construct in Python**"
      ]
    },
    {
      "cell_type": "code",
      "source": [
        "ids = list()\n",
        "ids1 = list()\n",
        "print(range(0,100))\n",
        "x = 0\n",
        "while x in range(0,101):\n",
        "  ids.append(x)\n",
        "  x = x+2\n",
        "for x in range(0,101):\n",
        "  if x%2 !=0:\n",
        "    continue\n",
        "  ids1.append(x)\n",
        "print(ids)\n",
        "print(ids1)"
      ],
      "metadata": {
        "colab": {
          "base_uri": "https://localhost:8080/"
        },
        "id": "k80Dh6u8KK2N",
        "outputId": "c68655de-2dda-4087-87b0-92b8f9d257cf"
      },
      "execution_count": null,
      "outputs": [
        {
          "output_type": "stream",
          "name": "stdout",
          "text": [
            "range(0, 100)\n",
            "[0, 2, 4, 6, 8, 10, 12, 14, 16, 18, 20, 22, 24, 26, 28, 30, 32, 34, 36, 38, 40, 42, 44, 46, 48, 50, 52, 54, 56, 58, 60, 62, 64, 66, 68, 70, 72, 74, 76, 78, 80, 82, 84, 86, 88, 90, 92, 94, 96, 98, 100]\n",
            "[0]\n"
          ]
        }
      ]
    },
    {
      "cell_type": "code",
      "metadata": {
        "id": "q7Q7vYaz0WHu",
        "colab": {
          "base_uri": "https://localhost:8080/",
          "height": 232
        },
        "outputId": "df6bb407-698c-432f-aef2-6e7114b358f6"
      },
      "source": [
        "fruits = [\"apple\", \"banana\", \"cherry\", \"Watermelon\",2]\n",
        "dic1 = {0:\"value1\",1:\"value2\",2:\"https://google.com\"}\n",
        "set1 = {1,2,3}\n",
        "tuple1 = (1,2,3,4,5)\n",
        "\n",
        "for y in tuple1:\n",
        "    print(y)\n",
        "for index in range(0,len(fruits)):\n",
        "  print(fruits[index])\n",
        "#for(int i =0,i <len(fruits); i++)\n",
        "#{sys.println(fruits[i])}\n",
        "#[0,1,2,3,4,5,6]\n",
        "\"\"\"\n",
        "for i in range(0,len(fruits)):\n",
        "  #a.append(i+1)\n",
        "  print(\"Second method\")\n",
        "  print(i)\n",
        "  print(fruits[i])\n",
        "#print(a)\n",
        "#b = [i for i in range(0,7)]\n",
        "#print(b)\"\"\""
      ],
      "execution_count": null,
      "outputs": [
        {
          "output_type": "stream",
          "name": "stdout",
          "text": [
            "1\n",
            "2\n",
            "3\n",
            "4\n",
            "5\n",
            "apple\n",
            "banana\n",
            "cherry\n",
            "Watermelon\n",
            "2\n"
          ]
        },
        {
          "output_type": "execute_result",
          "data": {
            "text/plain": [
              "'\\nfor i in range(0,len(fruits)):\\n  #a.append(i+1)\\n  print(\"Second method\")\\n  print(i)\\n  print(fruits[i])\\n#print(a)\\n#b = [i for i in range(0,7)]\\n#print(b)'"
            ],
            "application/vnd.google.colaboratory.intrinsic+json": {
              "type": "string"
            }
          },
          "metadata": {},
          "execution_count": 75
        }
      ]
    },
    {
      "cell_type": "markdown",
      "metadata": {
        "id": "lZXvzf0z3jvI"
      },
      "source": [
        "**While Construct in Python**"
      ]
    },
    {
      "cell_type": "code",
      "metadata": {
        "id": "mc5ytDh50YY4",
        "colab": {
          "base_uri": "https://localhost:8080/"
        },
        "outputId": "b2d167f9-2051-4d24-b24d-b9e70db9c39a"
      },
      "source": [
        "i = 1\n",
        "fruits = [\"apple\", \"banana\", \"cherry\", \"Watermelon\"]\n",
        "while i <6:\n",
        "  print(i)\n",
        "  i += 2"
      ],
      "execution_count": null,
      "outputs": [
        {
          "output_type": "stream",
          "name": "stdout",
          "text": [
            "1\n",
            "3\n",
            "5\n"
          ]
        }
      ]
    },
    {
      "cell_type": "markdown",
      "metadata": {
        "id": "sVhrUJ_b3nV4"
      },
      "source": [
        "**While with Break statement**"
      ]
    },
    {
      "cell_type": "code",
      "metadata": {
        "id": "IgrZKSnI0buo",
        "colab": {
          "base_uri": "https://localhost:8080/"
        },
        "outputId": "02465b90-036a-44a8-b239-1bf24f941bae"
      },
      "source": [
        "i = 1\n",
        "while i < 6:\n",
        "  if i == 4:\n",
        "    i += 1\n",
        "    break\n",
        "  print(i)\n",
        "  i += 1\n",
        "print('Broke out of the loop!')"
      ],
      "execution_count": null,
      "outputs": [
        {
          "output_type": "stream",
          "name": "stdout",
          "text": [
            "Broke out of the loop!\n"
          ]
        }
      ]
    },
    {
      "cell_type": "markdown",
      "metadata": {
        "id": "de1iv8l13rUY"
      },
      "source": [
        "**While with Continue Statement**"
      ]
    },
    {
      "cell_type": "code",
      "metadata": {
        "id": "vv80Krpt0enQ",
        "colab": {
          "base_uri": "https://localhost:8080/"
        },
        "outputId": "05c90edf-c994-4706-9e1c-2c0cd01d900d"
      },
      "source": [
        "i = 0\n",
        "z = 10\n",
        "while i < 6:\n",
        "  i += 1\n",
        "  if i == 3:\n",
        "    pass\n",
        "  else:\n",
        "    z = i*100\n",
        "  print(i)\n",
        "  print(z)\n"
      ],
      "execution_count": null,
      "outputs": [
        {
          "output_type": "stream",
          "name": "stdout",
          "text": [
            "1\n",
            "100\n",
            "2\n",
            "200\n",
            "3\n",
            "200\n",
            "4\n",
            "400\n",
            "5\n",
            "500\n",
            "6\n",
            "600\n"
          ]
        }
      ]
    },
    {
      "cell_type": "code",
      "metadata": {
        "id": "DmBST1X5ASIF",
        "colab": {
          "base_uri": "https://localhost:8080/"
        },
        "outputId": "d1d8cfd7-e933-439f-9aec-543a3e7491ee"
      },
      "source": [
        "cars = [\"ford\",\"maruthi\",\"toyto\"]\n",
        "cars.append(\"audi\")\n",
        "print(len(cars))\n",
        "print(cars[0])\n",
        "print(cars)\n",
        "print(id(cars))\n",
        "for element in cars:\n",
        "  print(element)\n",
        "  print(\"\\n\")\n",
        "cars[1] = \"honda\"\n",
        "print(cars)\n",
        "print(id(cars))"
      ],
      "execution_count": null,
      "outputs": [
        {
          "output_type": "stream",
          "text": [
            "4\n",
            "ford\n",
            "['ford', 'maruthi', 'toyto', 'audi']\n",
            "140164775122976\n",
            "ford\n",
            "\n",
            "\n",
            "maruthi\n",
            "\n",
            "\n",
            "toyto\n",
            "\n",
            "\n",
            "audi\n",
            "\n",
            "\n",
            "['ford', 'honda', 'toyto', 'audi']\n",
            "140164775122976\n"
          ],
          "name": "stdout"
        }
      ]
    },
    {
      "cell_type": "markdown",
      "metadata": {
        "id": "avn6GZGzF-jq"
      },
      "source": [
        "**Python Strings - Slicing**"
      ]
    },
    {
      "cell_type": "code",
      "metadata": {
        "id": "n20rqp5r1BSu",
        "colab": {
          "base_uri": "https://localhost:8080/"
        },
        "outputId": "221fcee4-823d-4d59-d784-f71fad8114a3"
      },
      "source": [
        "b = \"Hello, World!\"\n",
        "print(b[1:6])\n"
      ],
      "execution_count": null,
      "outputs": [
        {
          "output_type": "stream",
          "text": [
            "ello,\n"
          ],
          "name": "stdout"
        }
      ]
    },
    {
      "cell_type": "code",
      "metadata": {
        "id": "Ka0LBgwC1DrQ",
        "colab": {
          "base_uri": "https://localhost:8080/"
        },
        "outputId": "fe7abe19-2c82-4a87-bd9f-57318e11480d"
      },
      "source": [
        "b = \"Hello, World!\"\n",
        "print(b[-5:-2])\n"
      ],
      "execution_count": null,
      "outputs": [
        {
          "output_type": "stream",
          "text": [
            "orl\n"
          ],
          "name": "stdout"
        }
      ]
    },
    {
      "cell_type": "markdown",
      "metadata": {
        "id": "FxHXb5zpN-uN"
      },
      "source": [
        "**String Lower**"
      ]
    },
    {
      "cell_type": "code",
      "metadata": {
        "id": "poT8a--11OTk",
        "colab": {
          "base_uri": "https://localhost:8080/"
        },
        "outputId": "9920379b-6a21-4651-d9b6-41a45846e70f"
      },
      "source": [
        "a = \"Hello ganesh!\"\n",
        "print(a.lower())\n"
      ],
      "execution_count": 2,
      "outputs": [
        {
          "output_type": "stream",
          "name": "stdout",
          "text": [
            "hello ganesh!\n"
          ]
        }
      ]
    },
    {
      "cell_type": "markdown",
      "metadata": {
        "id": "OTTue5SWOfeb"
      },
      "source": [
        "**String Upper**"
      ]
    },
    {
      "cell_type": "code",
      "metadata": {
        "id": "-5Ty_uFf1sT4",
        "colab": {
          "base_uri": "https://localhost:8080/"
        },
        "outputId": "ab4ea83e-4af7-4a9c-9661-76c30c6dba41"
      },
      "source": [
        "a = \"Hello ganesh!\"\n",
        "print(a.upper())\n"
      ],
      "execution_count": 1,
      "outputs": [
        {
          "output_type": "stream",
          "name": "stdout",
          "text": [
            "HELLO GANESH!\n"
          ]
        }
      ]
    },
    {
      "cell_type": "markdown",
      "metadata": {
        "id": "XHhuLV_1OhI3"
      },
      "source": [
        "**String Replace**"
      ]
    },
    {
      "cell_type": "code",
      "metadata": {
        "id": "aUQgx9T_1yVf",
        "colab": {
          "base_uri": "https://localhost:8080/"
        },
        "outputId": "b75127ee-ee02-43f6-bdf4-ca8843fbf3bc"
      },
      "source": [
        "a = \"Hello¶Ganesh!!!\"\n",
        "print(a)\n",
        "print(a.replace(\"¶\", \" \").replace(\"H\",\"J\").lower())\n"
      ],
      "execution_count": 3,
      "outputs": [
        {
          "output_type": "stream",
          "name": "stdout",
          "text": [
            "Hello¶Ganesh!!!\n",
            "jello ganesh!!!\n"
          ]
        }
      ]
    },
    {
      "cell_type": "markdown",
      "metadata": {
        "id": "ioO8s0z-OkGd"
      },
      "source": [
        "**String Concatenation**"
      ]
    },
    {
      "cell_type": "code",
      "metadata": {
        "id": "mFwI3rO62Yha",
        "colab": {
          "base_uri": "https://localhost:8080/"
        },
        "outputId": "3a1f3efb-7e7b-417e-8c91-97cafe4ca1d2"
      },
      "source": [
        "a = \"Hello\"\n",
        "b = \"World\"\n",
        "c = a + b\n",
        "print(c)\n"
      ],
      "execution_count": null,
      "outputs": [
        {
          "output_type": "stream",
          "name": "stdout",
          "text": [
            "Hello World\n"
          ]
        }
      ]
    },
    {
      "cell_type": "code",
      "metadata": {
        "id": "xO562cLu2aSY",
        "colab": {
          "base_uri": "https://localhost:8080/"
        },
        "outputId": "6107576f-cc27-465e-cb53-d42b77f834fc"
      },
      "source": [
        "a = \"Hello\"\n",
        "b = \"World\"\n",
        "c = a + \" \" + b\n",
        "print(c)\n"
      ],
      "execution_count": null,
      "outputs": [
        {
          "output_type": "stream",
          "text": [
            "Hello World\n"
          ],
          "name": "stdout"
        }
      ]
    },
    {
      "cell_type": "markdown",
      "metadata": {
        "id": "c7eAESyKOoLW"
      },
      "source": [
        "**Tuples**\n",
        "\n",
        "Creation of a tuple"
      ]
    },
    {
      "cell_type": "code",
      "metadata": {
        "id": "Re9-GzN8OqC9",
        "colab": {
          "base_uri": "https://localhost:8080/"
        },
        "outputId": "f6f5a54b-bfbc-4438-842c-34e19534f760"
      },
      "source": [
        "ani = tuple()\n",
        "print(ani)\n",
        "print(id(ani))\n",
        "ani = (\"Python\", \"Java\", \"R\")\n",
        "print(ani.index(\"Python\"))\n",
        "print(ani.count(\"R\"))\n",
        "ani = (\"Python\", \"Java\", \"R\",\"newele\")\n",
        "print(id(ani))\n",
        "print(ani)\n"
      ],
      "execution_count": null,
      "outputs": [
        {
          "output_type": "stream",
          "name": "stdout",
          "text": [
            "()\n",
            "139762007421008\n",
            "0\n",
            "1\n",
            "139761670818512\n",
            "('Python', 'Java', 'R', 'newele')\n"
          ]
        }
      ]
    },
    {
      "cell_type": "markdown",
      "metadata": {
        "id": "YrvAAkLJRg7z"
      },
      "source": [
        "**Access Tuple element**"
      ]
    },
    {
      "cell_type": "code",
      "metadata": {
        "id": "sA-2ecl4OuH6",
        "colab": {
          "base_uri": "https://localhost:8080/",
          "height": 393
        },
        "outputId": "dcfafbd7-4c17-4877-aafc-5ba74bcd78e9"
      },
      "source": [
        "thistuple = (\"Python\", \"Scala\", \"R\",2,(1,2,3))\n",
        "print(thistuple[4])\n",
        "tuple1 = (1,2,3)\n",
        "tuple2 = (\"ab1\",\"ab2\",\"ab3\")\n",
        "tuple3 = tuple1 + tuple2\n",
        "print(tuple3)\n",
        "#zippd = zip(tuple1,tuple2)\n",
        "\n",
        "for element in thistuple:\n",
        "  print(element)\n",
        "for indx in range(0,len(thistuple)):\n",
        "  print(\"the idex is : \"+str(indx)+\" and the element is: \")\n",
        "  print(thistuple[indx])\n",
        "\"\"\"\n",
        "print([(x,y) for x,y in zippd])\n",
        "list1 = list()\n",
        "for x,y in zippd:\n",
        "  list1.append((x,y))\n",
        "print(\"printlist by old method\")\n",
        "print(list1)\n",
        "print(thistuple[4][1])\n",
        "for item in thistuple:\n",
        "  if isinstance(item,int):\n",
        "    print(\"element at position {} is an integer\".format(thistuple.index(item)))\n",
        "  elif isinstance(item,str):\n",
        "    print(\"element at position {} is a string\".format(thistuple.index(item)))\n",
        "  else:\n",
        "    print(\"couldnt identify datatype\")\n",
        "\"\"\""
      ],
      "execution_count": null,
      "outputs": [
        {
          "output_type": "stream",
          "name": "stdout",
          "text": [
            "(1, 2, 3)\n",
            "(1, 2, 3, 'ab1', 'ab2', 'ab3')\n",
            "Python\n",
            "Scala\n",
            "R\n",
            "2\n",
            "(1, 2, 3)\n",
            "the idex is : 0 and the element is: \n",
            "Python\n",
            "the idex is : 1 and the element is: \n",
            "Scala\n",
            "the idex is : 2 and the element is: \n",
            "R\n",
            "the idex is : 3 and the element is: \n",
            "2\n",
            "the idex is : 4 and the element is: \n",
            "(1, 2, 3)\n"
          ]
        },
        {
          "output_type": "execute_result",
          "data": {
            "text/plain": [
              "'\\nprint([(x,y) for x,y in zippd])\\nlist1 = list()\\nfor x,y in zippd:\\n  list1.append((x,y))\\nprint(\"printlist by old method\")\\nprint(list1)\\nprint(thistuple[4][1])\\nfor item in thistuple:\\n  if isinstance(item,int):\\n    print(\"element at position {} is an integer\".format(thistuple.index(item)))\\n  elif isinstance(item,str):\\n    print(\"element at position {} is a string\".format(thistuple.index(item)))\\n  else:\\n    print(\"couldnt identify datatype\")\\n'"
            ],
            "application/vnd.google.colaboratory.intrinsic+json": {
              "type": "string"
            }
          },
          "metadata": {},
          "execution_count": 6
        }
      ]
    },
    {
      "cell_type": "markdown",
      "metadata": {
        "id": "7VKavLfBRmHM"
      },
      "source": [
        "Check item presence"
      ]
    },
    {
      "cell_type": "code",
      "metadata": {
        "id": "8wxf8xWnOx1o",
        "colab": {
          "base_uri": "https://localhost:8080/"
        },
        "outputId": "932ba592-e146-4480-a404-67335fdf301c"
      },
      "source": [
        "studenttuple = (\"Praveen\", \"math\", \"science\")\n",
        "\n",
        "if \"Praveen\" in studenttuple:\n",
        "  print(\"Yes, 'Praveen' is in the fruits tuple\")\n",
        "else:\n",
        "  print(\"Element not found!!!\")\n"
      ],
      "execution_count": null,
      "outputs": [
        {
          "output_type": "stream",
          "name": "stdout",
          "text": [
            "Yes, 'Praveen' is in the fruits tuple\n"
          ]
        }
      ]
    },
    {
      "cell_type": "markdown",
      "metadata": {
        "id": "Wnp6M3K3O08y"
      },
      "source": [
        "**Lists**\n",
        "\n",
        "Creation of a list"
      ]
    },
    {
      "cell_type": "code",
      "metadata": {
        "id": "lKXwnXalO2Q_",
        "colab": {
          "base_uri": "https://localhost:8080/"
        },
        "outputId": "e243b1e3-45c9-4f6a-e50d-1a3eea6ce797"
      },
      "source": [
        "thislist = list()\n",
        "print(id(thislist))\n",
        "list2 = [[1,2],(\"a\",\"b\"),[2.0,1.0],2]\n",
        "for element in list2:\n",
        "  if isinstance(element,list):\n",
        "    print(\"inner element is a list printiting out the entire inner list\")\n",
        "    print(element)\n",
        "\n",
        "  elif isinstance(element,tuple):\n",
        "    print(\"inner elemnt is a tuple\")\n",
        "    print(element)\n",
        "\n",
        "  else:\n",
        "    print(\"neither a list nor a tuple \"+str(element))\n",
        "\n",
        "table_records = [(1,'pravee',123),(2,'student2',234),(3,'student3',3434)]\n",
        "\n",
        "\n",
        "#print(list2)\n",
        "\n",
        "thislist.append(\"Python\")\n",
        "thislist.append(\"java\")\n",
        "thislist.append(\"R\")\n",
        "print(\"print thislist:\")\n",
        "print(thislist)\n",
        "print(\"print index of java\")\n",
        "print(thislist.index(\"java\"))\n",
        "list4 = thislist.copy()\n",
        "print(\"print copied list\")\n",
        "print(list4)\n",
        "print(\"insert new element r in position 1\")\n",
        "thislist.insert(1,\"R\")\n",
        "print(thislist)\n",
        "print(\"print count of no of time element r is present in list\")\n",
        "print(thislist.count(\"R\"))\n",
        "print(\"remove 3rd element\")\n",
        "thislist.pop(2)\n",
        "print(thislist)\n",
        "print(\"remove R\")\n",
        "thislist.remove(\"R\")\n",
        "thislist.append(\"new element\")\n",
        "print(thislist)\n",
        "print(\"reverse the list\")\n",
        "thislist.reverse()\n",
        "print(thislist)\n",
        "thislist.clear()\n",
        "print(thislist)\n",
        "thislist = [\"Python\", \"Java\", \"R\"]\n",
        "print(id(thislist))\n",
        "print(id(list4))\n",
        "list5 = list4\n",
        "print(id(list5))\n",
        "thislist.extend([1,2,3,4])\n",
        "print(thislist)\n",
        "thislist.append([\"ab\",\"bc\"])\n",
        "print(thislist)\n",
        "thislist.insert(0,[\"ab\",\"bc\"])\n",
        "print(thislist)\n",
        "#print(thislist[1])\n",
        "listconcat = [1,2,3] + [4,5,6]\n",
        "print(listconcat)"
      ],
      "execution_count": null,
      "outputs": [
        {
          "output_type": "stream",
          "name": "stdout",
          "text": [
            "139761474850000\n",
            "inner element is a list printiting out the entire inner list\n",
            "[1, 2]\n",
            "inner elemnt is a tuple\n",
            "('a', 'b')\n",
            "inner element is a list printiting out the entire inner list\n",
            "[2.0, 1.0]\n",
            "neither a list nor a tuple 2\n",
            "print thislist:\n",
            "['Python', 'java', 'R']\n",
            "print index of java\n",
            "1\n",
            "print copied list\n",
            "['Python', 'java', 'R']\n",
            "insert new element r in position 1\n",
            "['Python', 'R', 'java', 'R']\n",
            "print count of no of time element r is present in list\n",
            "2\n",
            "remove 3rd element\n",
            "['Python', 'R', 'R']\n",
            "remove R\n",
            "['Python', 'R', 'new element']\n",
            "reverse the list\n",
            "['new element', 'R', 'Python']\n",
            "[]\n",
            "139761474850640\n",
            "139761474850320\n",
            "139761474850320\n",
            "['Python', 'Java', 'R', 1, 2, 3, 4]\n",
            "['Python', 'Java', 'R', 1, 2, 3, 4, ['ab', 'bc']]\n",
            "[['ab', 'bc'], 'Python', 'Java', 'R', 1, 2, 3, 4, ['ab', 'bc']]\n",
            "[1, 2, 3, 4, 5, 6]\n"
          ]
        }
      ]
    },
    {
      "cell_type": "code",
      "source": [
        "num1 = 12\n",
        "\"\"\"\n",
        "last = num1%10\n",
        "first = int(num1/10)\n",
        "reversenum = int(str(last)+str(first))\n",
        "print(reversenum)\n",
        "\"\"\"\n",
        "numstr = str(num1)\n",
        "print(int(numstr[::-1]))"
      ],
      "metadata": {
        "colab": {
          "base_uri": "https://localhost:8080/"
        },
        "id": "1mw7W7hOuOA2",
        "outputId": "b3be64ab-16a3-4ec5-c2a1-835d1156e3cb"
      },
      "execution_count": null,
      "outputs": [
        {
          "output_type": "stream",
          "name": "stdout",
          "text": [
            "21\n"
          ]
        }
      ]
    },
    {
      "cell_type": "code",
      "source": [
        "newLIst = [1,2,3]\n",
        "print(newLIst)\n",
        "newLIst.extend([2,5,6])\n",
        "#newList += [2]\n",
        "print(newLIst)\n",
        "newLIst.append([2,5,6])\n",
        "print(newLIst)"
      ],
      "metadata": {
        "colab": {
          "base_uri": "https://localhost:8080/"
        },
        "id": "bzU53zHRvhn3",
        "outputId": "b869427b-ed44-4b6c-d88c-0cb479fbf3cb"
      },
      "execution_count": null,
      "outputs": [
        {
          "output_type": "stream",
          "name": "stdout",
          "text": [
            "[1, 2, 3]\n",
            "[1, 2, 3, 2, 5, 6]\n",
            "[1, 2, 3, 2, 5, 6, [2, 5, 6]]\n"
          ]
        }
      ]
    },
    {
      "cell_type": "markdown",
      "metadata": {
        "id": "bLC3BU3WPPB5"
      },
      "source": [
        "**Accessing Items in a List**"
      ]
    },
    {
      "cell_type": "code",
      "metadata": {
        "id": "LEZXcF_PO4td",
        "colab": {
          "base_uri": "https://localhost:8080/"
        },
        "outputId": "251fc1c0-73a5-47a1-f38d-1c5a8e80e802"
      },
      "source": [
        "thislist = [\"Python\", \"Java\", \"R\"]\n",
        "print(thislist[0])\n",
        "tupletolist = list(tuple1)\n",
        "print(tupletolist)\n"
      ],
      "execution_count": null,
      "outputs": [
        {
          "output_type": "stream",
          "name": "stdout",
          "text": [
            "Python\n",
            "[1, 2, 3]\n"
          ]
        }
      ]
    },
    {
      "cell_type": "markdown",
      "metadata": {
        "id": "ARLzOvmePQps"
      },
      "source": [
        "**Changing the item value**"
      ]
    },
    {
      "cell_type": "code",
      "metadata": {
        "id": "0RRRlMArO586",
        "colab": {
          "base_uri": "https://localhost:8080/"
        },
        "outputId": "e3e8593d-92df-42ea-a20c-1a5bd2bd01e9"
      },
      "source": [
        "thislist = [\"Python\", \"Java\", \"R\"]\n",
        "thislist[1] = \"Scala\"\n",
        "print(thislist)\n"
      ],
      "execution_count": null,
      "outputs": [
        {
          "output_type": "stream",
          "name": "stdout",
          "text": [
            "['Python', 'Scala', 'R']\n"
          ]
        }
      ]
    },
    {
      "cell_type": "markdown",
      "metadata": {
        "id": "AvV0hpg-PTWg"
      },
      "source": [
        "**Loop through the list**"
      ]
    },
    {
      "cell_type": "code",
      "metadata": {
        "id": "kebG3m9MO7az",
        "colab": {
          "base_uri": "https://localhost:8080/"
        },
        "outputId": "0b501e60-a0e2-40d0-d200-622914908871"
      },
      "source": [
        "thislist = [\"Python\", \"Java\", \"R\", \"Scala\"]\n",
        "for x in thislist:\n",
        "  print(x)\n"
      ],
      "execution_count": null,
      "outputs": [
        {
          "output_type": "stream",
          "name": "stdout",
          "text": [
            "Python\n",
            "Java\n",
            "R\n",
            "Scala\n"
          ]
        }
      ]
    },
    {
      "cell_type": "markdown",
      "metadata": {
        "id": "Q14Mi-DYPVCh"
      },
      "source": [
        "**Check Item existance**"
      ]
    },
    {
      "cell_type": "code",
      "metadata": {
        "id": "t35o4Gf2O86S",
        "colab": {
          "base_uri": "https://localhost:8080/"
        },
        "outputId": "289f39a3-f12b-497b-e118-9e4f2c60e2e2"
      },
      "source": [
        "thislist = [\"Python\", \"Java\", \"R\"]\n",
        "if \"Scala\" in thislist:\n",
        "  print(\"Yes, 'Python' is in the list\")\n",
        "else:\n",
        "  print(\"Element not present!!\")\n"
      ],
      "execution_count": null,
      "outputs": [
        {
          "output_type": "stream",
          "name": "stdout",
          "text": [
            "Element not present!!\n"
          ]
        }
      ]
    },
    {
      "cell_type": "markdown",
      "metadata": {
        "id": "7K8G1vYUPaPw"
      },
      "source": [
        "**List Length**"
      ]
    },
    {
      "cell_type": "code",
      "metadata": {
        "id": "_Jf2MCc4O_np",
        "colab": {
          "base_uri": "https://localhost:8080/"
        },
        "outputId": "42b3135f-5dab-443c-ff83-dacf4cd9f830"
      },
      "source": [
        "thislist = [\"Python\", \"Java\", \"R\", \"Scala\"]\n",
        "print(len(thislist))\n"
      ],
      "execution_count": null,
      "outputs": [
        {
          "output_type": "stream",
          "text": [
            "4\n"
          ],
          "name": "stdout"
        }
      ]
    },
    {
      "cell_type": "markdown",
      "metadata": {
        "id": "5fWJlOOZPZSH"
      },
      "source": [
        "**Appending items to the list**"
      ]
    },
    {
      "cell_type": "code",
      "metadata": {
        "id": "0V_dmLtPPA2p",
        "colab": {
          "base_uri": "https://localhost:8080/"
        },
        "outputId": "c4479537-6cd4-4b20-fa11-67ff4eec651e"
      },
      "source": [
        "thislist = [\"Python\", \"Java\", \"R\"]\n",
        "thislist.append(\"ReactJS\")\n",
        "print(thislist)\n"
      ],
      "execution_count": null,
      "outputs": [
        {
          "output_type": "stream",
          "name": "stdout",
          "text": [
            "['Python', 'Java', 'R', 'ReactJS']\n"
          ]
        }
      ]
    },
    {
      "cell_type": "markdown",
      "metadata": {
        "id": "5OPPlcFlPfAz"
      },
      "source": [
        "**Adding using insert method**"
      ]
    },
    {
      "cell_type": "code",
      "metadata": {
        "id": "zSiCUdMvPCY2",
        "colab": {
          "base_uri": "https://localhost:8080/"
        },
        "outputId": "357f3bd0-8e17-4893-b230-beb82158df31"
      },
      "source": [
        "thislist = [\"apple\", \"banana\", \"cherry\"]\n",
        "thislist.insert(1, \"orange\")\n",
        "print(thislist)\n"
      ],
      "execution_count": null,
      "outputs": [
        {
          "output_type": "stream",
          "name": "stdout",
          "text": [
            "['apple', 'orange', 'banana', 'cherry']\n"
          ]
        }
      ]
    },
    {
      "cell_type": "markdown",
      "metadata": {
        "id": "LtXqf0LSPhjE"
      },
      "source": [
        "**Removing an item from a list**"
      ]
    },
    {
      "cell_type": "code",
      "metadata": {
        "id": "a44JLV6yPEWA",
        "colab": {
          "base_uri": "https://localhost:8080/"
        },
        "outputId": "047f8c8a-d44c-4d9b-f378-836f77802eb4"
      },
      "source": [
        "thislist = [\"Python\", \"Java\", \"R\"]\n",
        "thislist.remove(\"Java\")\n",
        "print(thislist)\n"
      ],
      "execution_count": null,
      "outputs": [
        {
          "output_type": "stream",
          "name": "stdout",
          "text": [
            "['Python', 'R']\n"
          ]
        }
      ]
    },
    {
      "cell_type": "markdown",
      "metadata": {
        "id": "N9DX3KoXPkmy"
      },
      "source": [
        "**Removing element using pop**"
      ]
    },
    {
      "cell_type": "code",
      "metadata": {
        "id": "sOVFGxL5PGtx",
        "colab": {
          "base_uri": "https://localhost:8080/"
        },
        "outputId": "6cf80220-743d-4b5d-84e3-e843ae5533db"
      },
      "source": [
        "thislist = [\"Python\", \"Java\", \"R\"]\n",
        "thislist.pop()\n",
        "print(thislist)\n"
      ],
      "execution_count": null,
      "outputs": [
        {
          "output_type": "stream",
          "name": "stdout",
          "text": [
            "['Python', 'Java']\n"
          ]
        }
      ]
    },
    {
      "cell_type": "markdown",
      "metadata": {
        "id": "aRjTjCWkPpZk"
      },
      "source": [
        "**Copying a list**"
      ]
    },
    {
      "cell_type": "code",
      "metadata": {
        "id": "5PPIIUykPIcy",
        "colab": {
          "base_uri": "https://localhost:8080/"
        },
        "outputId": "2b54f2c8-dc07-4ef9-bca5-41a7b3916617"
      },
      "source": [
        "thislist = [[\"Python\",\"a\"], [\"Java\", \"R\"]]\n",
        "print(id(thislist))\n",
        "print(thislist)\n",
        "mylist = thislist.copy()\n",
        "mylist[1]=[\"m\",\"b\"]\n",
        "print(id(mylist))\n",
        "print(mylist)\n"
      ],
      "execution_count": null,
      "outputs": [
        {
          "output_type": "stream",
          "name": "stdout",
          "text": [
            "139761474684720\n",
            "[['Python', 'a'], ['Java', 'R']]\n",
            "139761474686160\n",
            "[['Python', 'a'], ['m', 'b']]\n"
          ]
        }
      ]
    },
    {
      "cell_type": "markdown",
      "metadata": {
        "id": "dziIeEGAPrad"
      },
      "source": [
        "**Copying list using list method**"
      ]
    },
    {
      "cell_type": "code",
      "metadata": {
        "id": "fssHD-ccPJkR",
        "colab": {
          "base_uri": "https://localhost:8080/"
        },
        "outputId": "ade7647b-0457-42cc-b10e-574cf11226e6"
      },
      "source": [
        "thislist = [\"Python\", \"Java\", \"R\"]\n",
        "list1 = list(thislist)\n",
        "\n",
        "for _ in range(0,10):\n",
        "  list1.append(_)\n",
        "print(list1)\n",
        "mylist = list(thislist)\n",
        "print(mylist)\n",
        "list1.reverse()\n",
        "\n",
        "print(list1)\n",
        "list1.clear()\n",
        "print(list1)"
      ],
      "execution_count": null,
      "outputs": [
        {
          "output_type": "stream",
          "name": "stdout",
          "text": [
            "['Python', 'Java', 'R', 0, 1, 2, 3, 4, 5, 6, 7, 8, 9]\n",
            "['Python', 'Java', 'R']\n",
            "[9, 8, 7, 6, 5, 4, 3, 2, 1, 0, 'R', 'Java', 'Python']\n",
            "[]\n"
          ]
        }
      ]
    },
    {
      "cell_type": "code",
      "source": [
        "import copy\n",
        "\n",
        "list1 = [1,2,[3,4],5]\n",
        "list2 = copy.copy(list1)\n",
        "\n",
        "print(\"original list\")\n",
        "print(list1)\n",
        "print(\"copy list\")\n",
        "print(list2)\n",
        "list2.append(45)\n",
        "print(\"original list after chng1\")\n",
        "print(list1)\n",
        "print(\"copy list after chng1\")\n",
        "print(list2)\n",
        "list1.append(22)\n",
        "print(\"original list after chng2\")\n",
        "print(list1)\n",
        "print(\"copy list after chng1\")\n",
        "print(list2)"
      ],
      "metadata": {
        "colab": {
          "base_uri": "https://localhost:8080/"
        },
        "id": "GKyU_YukSR1m",
        "outputId": "a19b9e82-95d0-491f-8f53-94b402fa1bef"
      },
      "execution_count": null,
      "outputs": [
        {
          "output_type": "stream",
          "name": "stdout",
          "text": [
            "original list\n",
            "[1, 2, [3, 4], 5]\n",
            "copy list\n",
            "[1, 2, [3, 4], 5]\n",
            "original list after chng1\n",
            "[1, 2, [3, 4], 5]\n",
            "copy list after chng1\n",
            "[1, 2, [3, 4], 5, 45]\n",
            "original list after chng2\n",
            "[1, 2, [3, 4], 5, 22]\n",
            "copy list after chng1\n",
            "[1, 2, [3, 4], 5, 45]\n"
          ]
        }
      ]
    },
    {
      "cell_type": "markdown",
      "metadata": {
        "id": "_3SrA7C0PvLV"
      },
      "source": [
        "**Dictionary in Python**\n",
        "\n",
        "Creating a dictionary"
      ]
    },
    {
      "cell_type": "code",
      "metadata": {
        "id": "XnGQ9dnVP0eq",
        "colab": {
          "base_uri": "https://localhost:8080/"
        },
        "outputId": "31d961b9-3378-44a5-c15b-9bf2a8b664b1"
      },
      "source": [
        "thisdict = dict()\n",
        "thisdict =\t{\n",
        "  \"brand\": \"Ford\",\n",
        "  \"model\": \"Mustang\",\n",
        "  \"year\": 1964,\n",
        "  \"manufacturing_plant\": {\"city\":\"bangalore\",\"state\":\"Karnataka\"}\n",
        "}\n",
        "thisdict[\"newkey\"] = \"testing\"\n",
        "print(thisdict)\n",
        "thisdict[\"key\"] = \"value1\"\n",
        "print(thisdict)\n",
        "thisdict[\"brand\"] = \"Toyota\"\n",
        "print(thisdict)\n",
        "print(thisdict[\"manufacturing_plant\"])\n",
        "print(thisdict[\"manufacturing_plant\"][\"city\"])\n",
        "thisdict =\t{\n",
        "  \"brand\": \"Ford\",\n",
        "  \"model\": \"Mustang\",\n",
        "  \"year\": 1964,\n",
        "  \"Parts\" : [\"tires\",\"windows\",\"doors\"]\n",
        "}\n",
        "print(thisdict)\n",
        "student_dict = {\"Student1\":{\"name\":\"Praveen\",\"RollNo\":1234},\"Student2\":{\"name\":\"Praveen1\",\"RollNo\":3334}}\n",
        "print(student_dict)\n",
        "import json\n",
        "test_string = json.dumps(student_dict)\n",
        "print(type(test_string))\n",
        "print(test_string)\n",
        "\n",
        "'{\"Student1\": {\"name\": \"Praveen\", \"RollNo\": 1234}, \"Student2\": {\"name\": \"Praveen1\", \"RollNo\": 3334}}'\n",
        "test_dict = json.loads(test_string)\n",
        "print(type(test_dict))\n",
        "print(test_dict[\"Student1\"])\n"
      ],
      "execution_count": null,
      "outputs": [
        {
          "output_type": "stream",
          "name": "stdout",
          "text": [
            "{'brand': 'Ford', 'model': 'Mustang', 'year': 1964, 'manufacturing_plant': {'city': 'bangalore', 'state': 'Karnataka'}, 'newkey': 'testing'}\n",
            "{'brand': 'Ford', 'model': 'Mustang', 'year': 1964, 'manufacturing_plant': {'city': 'bangalore', 'state': 'Karnataka'}, 'newkey': 'testing', 'key': 'value1'}\n",
            "{'brand': 'Toyota', 'model': 'Mustang', 'year': 1964, 'manufacturing_plant': {'city': 'bangalore', 'state': 'Karnataka'}, 'newkey': 'testing', 'key': 'value1'}\n",
            "{'city': 'bangalore', 'state': 'Karnataka'}\n",
            "bangalore\n",
            "{'brand': 'Ford', 'model': 'Mustang', 'year': 1964, 'Parts': ['tires', 'windows', 'doors']}\n",
            "{'Student1': {'name': 'Praveen', 'RollNo': 1234}, 'Student2': {'name': 'Praveen1', 'RollNo': 3334}}\n",
            "<class 'str'>\n",
            "{\"Student1\": {\"name\": \"Praveen\", \"RollNo\": 1234}, \"Student2\": {\"name\": \"Praveen1\", \"RollNo\": 3334}}\n",
            "<class 'dict'>\n",
            "{'name': 'Praveen', 'RollNo': 1234}\n"
          ]
        }
      ]
    },
    {
      "cell_type": "markdown",
      "metadata": {
        "id": "ZGnFLuEYQEhA"
      },
      "source": [
        "**Change values in dictionary**"
      ]
    },
    {
      "cell_type": "code",
      "metadata": {
        "id": "vVBo4P-HP3Tj",
        "colab": {
          "base_uri": "https://localhost:8080/"
        },
        "outputId": "78f52eeb-63f6-4f95-c236-01fc251eff8e"
      },
      "source": [
        "thisdict =\t{\n",
        "  \"brand\": \"Ford\",\n",
        "  \"model\": \"Mustang\",\n",
        "  \"year\": 1964,\n",
        "  \"tupleexample\": (2,3),\n",
        "  \"listexample\": [1,2,3],\n",
        "  \"listoftuples\": [(2,3),(4,5)]\n",
        "}\n",
        "print(thisdict)\n",
        "thisdict[\"year\"] = 2020\n",
        "print(thisdict[\"year\"])\n",
        "json_file = [{\n",
        "  \"brand\": \"Ford\",\n",
        "  \"model\": \"Mustang\",\n",
        "  \"brand\": \"Maruthi\",\n",
        "  \"year\": 1964\n",
        "},\n",
        "{\n",
        "  \"brand1\": \"Maruti\",\n",
        "  \"model\": \"Zen\",\n",
        "  \"year\": 2002\n",
        "},\n",
        "{\n",
        "  \"brand2\": \"Toyota\",\n",
        "  \"model\": \"innova\",\n",
        "  \"year\": 2010\n",
        "}]\n",
        "\n",
        "for dict_key in thisdict:\n",
        "  print(\"key is :{} and the value is:{} \".format(dict_key,str(thisdict[dict_key])))\n",
        "\n",
        "print(\"keys of dict as a list\")\n",
        "print(thisdict.keys())\n",
        "print(\"values of dict as a list\")\n",
        "print(thisdict.values())"
      ],
      "execution_count": null,
      "outputs": [
        {
          "output_type": "stream",
          "name": "stdout",
          "text": [
            "{'brand': 'Ford', 'model': 'Mustang', 'year': 1964, 'tupleexample': (2, 3), 'listexample': [1, 2, 3], 'listoftuples': [(2, 3), (4, 5)]}\n",
            "2020\n",
            "key is :brand and the value is:Ford \n",
            "key is :model and the value is:Mustang \n",
            "key is :year and the value is:2020 \n",
            "key is :tupleexample and the value is:(2, 3) \n",
            "key is :listexample and the value is:[1, 2, 3] \n",
            "key is :listoftuples and the value is:[(2, 3), (4, 5)] \n",
            "keys of dict as a list\n",
            "dict_keys(['brand', 'model', 'year', 'tupleexample', 'listexample', 'listoftuples'])\n",
            "values of dict as a list\n",
            "dict_values(['Ford', 'Mustang', 2020, (2, 3), [1, 2, 3], [(2, 3), (4, 5)]])\n"
          ]
        }
      ]
    },
    {
      "cell_type": "markdown",
      "metadata": {
        "id": "X1_icID_QJuA"
      },
      "source": [
        "**Print values**"
      ]
    },
    {
      "cell_type": "code",
      "metadata": {
        "id": "E7nrKESmP-1p",
        "colab": {
          "base_uri": "https://localhost:8080/"
        },
        "outputId": "0b1ffd67-d7e8-412d-8c65-5b2bc10d4dc0"
      },
      "source": [
        "for x in thisdict:\n",
        "  print(str(x)+\":\"+str(thisdict[x]))\n",
        "for x in thisdict.values():\n",
        "  # thisdict.values = [\"Ford\",\"Mustang\",2020]\n",
        "  print(x)\n",
        "for x in thisdict.keys():\n",
        "  # thisdict.keys = [\"brand\",\"model\",\"year\"]\n",
        "  print(x)\n"
      ],
      "execution_count": null,
      "outputs": [
        {
          "output_type": "stream",
          "text": [
            "brand:Ford\n",
            "model:Mustang\n",
            "year:2020\n",
            "Ford\n",
            "Mustang\n",
            "2020\n",
            "brand\n",
            "model\n",
            "year\n"
          ],
          "name": "stdout"
        }
      ]
    },
    {
      "cell_type": "markdown",
      "metadata": {
        "id": "qY_MeJp6QN8o"
      },
      "source": [
        "**Check key presence**"
      ]
    },
    {
      "cell_type": "code",
      "metadata": {
        "id": "n3pEyiUPQRBH",
        "colab": {
          "base_uri": "https://localhost:8080/"
        },
        "outputId": "1610915a-b914-4fe9-86d4-e48e788aa9fb"
      },
      "source": [
        "thisdict =\t{\n",
        "  \"brand\": \"Ford\",\n",
        "  \"model\": \"Mustang\",\n",
        "  \"year\": 1964\n",
        "}\n",
        "if \"Mustang\" in thisdict.values():\n",
        "  print(\"Yes, Mustang is one of the Values in the thisdict dictionary\")\n",
        "else:\n",
        "  print(\"given value doesnt exist in dict\")\n",
        "if \"brand\" in thisdict.keys():\n",
        "  print(\"Yes, brand is one of the keys in the thisdict dictionary\")\n",
        "else:\n",
        "  print(\"given Key doesnt exist in dict\")\n",
        "\n"
      ],
      "execution_count": null,
      "outputs": [
        {
          "output_type": "stream",
          "name": "stdout",
          "text": [
            "Yes, Mustang is one of the Values in the thisdict dictionary\n",
            "Yes, brand is one of the keys in the thisdict dictionary\n"
          ]
        }
      ]
    },
    {
      "cell_type": "markdown",
      "metadata": {
        "id": "DDX0VxpPQSvp"
      },
      "source": [
        "**Print length**"
      ]
    },
    {
      "cell_type": "code",
      "metadata": {
        "id": "KCK6RYTrQT3h",
        "colab": {
          "base_uri": "https://localhost:8080/"
        },
        "outputId": "6cc9d70f-9aaf-42f6-bcd8-7b8589075fa4"
      },
      "source": [
        "print(len(thisdict))"
      ],
      "execution_count": null,
      "outputs": [
        {
          "output_type": "stream",
          "name": "stdout",
          "text": [
            "3\n"
          ]
        }
      ]
    },
    {
      "cell_type": "markdown",
      "metadata": {
        "id": "6c8yifZFQWSJ"
      },
      "source": [
        "**Adding items**"
      ]
    },
    {
      "cell_type": "code",
      "metadata": {
        "id": "ama8CGZmQZn5",
        "colab": {
          "base_uri": "https://localhost:8080/"
        },
        "outputId": "aef0b176-280a-444d-d39b-ece8798b75bb"
      },
      "source": [
        "thisdict =\t{\n",
        "  \"brand\": \"Ford\",\n",
        "  \"model\": \"Mustang\",\n",
        "  \"year\": 1964\n",
        "}\n",
        "thisdict[\"color\"] = \"red\"\n",
        "print(thisdict)\n",
        "\n"
      ],
      "execution_count": null,
      "outputs": [
        {
          "output_type": "stream",
          "name": "stdout",
          "text": [
            "{'brand': 'Ford', 'model': 'Mustang', 'year': 1964, 'color': 'red'}\n"
          ]
        }
      ]
    },
    {
      "cell_type": "markdown",
      "metadata": {
        "id": "8z7dyWBbQcF2"
      },
      "source": [
        "**Removing items**"
      ]
    },
    {
      "cell_type": "code",
      "metadata": {
        "id": "ehz5QH52Qc6u",
        "colab": {
          "base_uri": "https://localhost:8080/"
        },
        "outputId": "f13372a7-daba-495f-9c80-55fb2fedda24"
      },
      "source": [
        "thisdict =\t{\n",
        "  \"brand\": \"Ford\",\n",
        "  \"model\": \"Mustang\",\n",
        "  \"year\": 1964\n",
        "}\n",
        "thisdict2 =\t{\n",
        "  \"brand\": \"Ford\",\n",
        "  \"model\": \"Mustang\",\n",
        "  \"year\": 1964\n",
        "}\n",
        "print(thisdict.get(\"brand\",\"The key Doesnt Exist\"))\n",
        "thisdict.pop(\"model\")\n",
        "print(thisdict)\n",
        "list1 = list()\n",
        "list1.append(thisdict)\n",
        "list1.append(thisdict2)\n",
        "print(list1)"
      ],
      "execution_count": null,
      "outputs": [
        {
          "output_type": "stream",
          "name": "stdout",
          "text": [
            "Ford\n",
            "{'brand': 'Ford', 'year': 1964}\n",
            "[{'brand': 'Ford', 'year': 1964}, {'brand': 'Ford', 'model': 'Mustang', 'year': 1964}]\n"
          ]
        }
      ]
    },
    {
      "cell_type": "markdown",
      "metadata": {
        "id": "k2qSXkSPQfGF"
      },
      "source": [
        "**Nested Dictionaries**"
      ]
    },
    {
      "cell_type": "code",
      "metadata": {
        "id": "rihQpfyWQg5d",
        "colab": {
          "base_uri": "https://localhost:8080/"
        },
        "outputId": "a2137bc2-8f14-4236-8b2b-3bcc5e816bed"
      },
      "source": [
        "myparent = {  \"row1\" : {    \"name\" : \"Emil\",    \"year\" : 2004  },  \"row2\" : {\"FullName\" : \"Tobias\",\"month\" : 8},\n",
        "            \"row3\" : \"stringasasas\"}\n",
        "\n",
        "for x in myparent.keys():\n",
        "  if isinstance(myparent[x],dict):\n",
        "    print(\"this is inner dict of myparent\")\n",
        "    for innerkey in myparent[x]:\n",
        "      print(\"parent dict key is:{} the inner dict key is :{} and inner value for tht key is :{}\".format(x,innerkey,myparent[x][innerkey]))\n",
        "    #print(myparent[x])\n",
        "  else:\n",
        "    print(\"parent key is:\"+str(x))\n",
        "    print(\"the value is not a dict\")\n",
        "    print(myparent[x])\n",
        "print(type(thisdict))\n"
      ],
      "execution_count": null,
      "outputs": [
        {
          "output_type": "stream",
          "name": "stdout",
          "text": [
            "Emil\n",
            "2004\n",
            "Tobias\n",
            "8\n",
            "stringasasas\n",
            "this is inner dict of myparent\n",
            "parent dict key is:row1 the inner dict key is :name and inner value for tht key is :Emil\n",
            "parent dict key is:row1 the inner dict key is :year and inner value for tht key is :2004\n",
            "this is inner dict of myparent\n",
            "parent dict key is:row2 the inner dict key is :FullName and inner value for tht key is :Tobias\n",
            "parent dict key is:row2 the inner dict key is :month and inner value for tht key is :8\n",
            "parent key is:row3\n",
            "the value is not a dict\n",
            "stringasasas\n",
            "<class 'dict'>\n"
          ]
        }
      ]
    },
    {
      "cell_type": "markdown",
      "metadata": {
        "id": "1yrVBi8XQi4i"
      },
      "source": [
        "**Sets in Python**\n",
        "\n",
        "Create a set"
      ]
    },
    {
      "cell_type": "code",
      "metadata": {
        "colab": {
          "base_uri": "https://localhost:8080/"
        },
        "id": "1jKbuu1fh2b1",
        "outputId": "b843e13a-f278-4d7e-926c-9244e5b48008"
      },
      "source": [
        "list1 = [1,2,3,3,3,4,4]\n",
        "set1 = set(list1)\n",
        "print(set1)\n",
        "print(list(set1))\n",
        "set2 = {1,2,3,3,4}\n",
        "print(set2)"
      ],
      "execution_count": null,
      "outputs": [
        {
          "output_type": "stream",
          "name": "stdout",
          "text": [
            "{1, 2, 3, 4}\n",
            "[1, 2, 3, 4]\n",
            "{1, 2, 3, 4}\n"
          ]
        }
      ]
    },
    {
      "cell_type": "code",
      "metadata": {
        "id": "yXHQW1hKQlgj",
        "colab": {
          "base_uri": "https://localhost:8080/"
        },
        "outputId": "11793fd1-3501-4569-b1cd-a901c0421657"
      },
      "source": [
        "thisset = {\"apple\", \"banana\", \"cherry\",\"cherry\"}\n",
        "print(thisset)"
      ],
      "execution_count": null,
      "outputs": [
        {
          "output_type": "stream",
          "name": "stdout",
          "text": [
            "{'apple', 'cherry', 'banana'}\n"
          ]
        }
      ]
    },
    {
      "cell_type": "markdown",
      "metadata": {
        "id": "qRFeLq_0QoIh"
      },
      "source": [
        "**Access Items in the set**"
      ]
    },
    {
      "cell_type": "code",
      "metadata": {
        "id": "0kWK3wbRQpOa",
        "colab": {
          "base_uri": "https://localhost:8080/"
        },
        "outputId": "eaf8e6f5-84c5-4f49-98a5-b5b60444452a"
      },
      "source": [
        "thisset = {\"apple\", \"banana\", \"cherry\"}\n",
        "print(thisset)\n",
        "for item in thisset:\n",
        "  print(item)\n"
      ],
      "execution_count": null,
      "outputs": [
        {
          "output_type": "stream",
          "name": "stdout",
          "text": [
            "{'apple', 'banana', 'cherry'}\n",
            "apple\n",
            "banana\n",
            "cherry\n"
          ]
        }
      ]
    },
    {
      "cell_type": "markdown",
      "metadata": {
        "id": "tEK5biLrQrKN"
      },
      "source": [
        "**Check item presence**"
      ]
    },
    {
      "cell_type": "code",
      "source": [
        "list1 = [1,2,3,3,4,5,5]\n",
        "print(tuple(set(list1)))"
      ],
      "metadata": {
        "colab": {
          "base_uri": "https://localhost:8080/"
        },
        "id": "KiEEtAvd_l-G",
        "outputId": "6466bd8c-89fa-487b-a85c-582d1cca652f"
      },
      "execution_count": null,
      "outputs": [
        {
          "output_type": "stream",
          "name": "stdout",
          "text": [
            "(1, 2, 3, 4, 5)\n"
          ]
        }
      ]
    },
    {
      "cell_type": "code",
      "metadata": {
        "id": "EaRbP9E_QsXZ",
        "colab": {
          "base_uri": "https://localhost:8080/"
        },
        "outputId": "0a20cd7c-8c71-4690-a056-b6c1bb4e9dc2"
      },
      "source": [
        "thisset = {\"apple\", \"banana\", \"cherry\"}\n",
        "x = set()\n",
        "print(type(x))\n",
        "thisset.add(\"newelement\")\n",
        "print(thisset)\n",
        "print(\"banana\" in thisset)\n",
        "list1 = [1,1,1,1,3,4,5]\n",
        "list2 = [3,6,7]\n",
        "set1 = set(list1)\n",
        "print(set1)\n",
        "set2 = set(list2)\n",
        "print(set2)\n",
        "set3 = set1.difference(set2)\n",
        "print(set3)\n",
        "set4 = set1.intersection(set2)\n",
        "print(set4)\n",
        "list3 = list(set.intersection(set1,set2,set3))\n",
        "#print(list3)\n",
        "set3 = set.difference(set1,set2)\n",
        "#se1 - set2\n",
        "print(\"before diff update\")\n",
        "print(set1)\n",
        "print(set2)\n",
        "#set1.difference_update(set2)\n",
        "print(\"after update\")\n",
        "print(set1)\n",
        "#print(set1)\n",
        "#print(set3)\n",
        "print(set1.isdisjoint(set2))\n",
        "print(set1.issubset(set2))\n",
        "print(\"before intersection update\")\n",
        "print(set1)\n",
        "print(set2)\n",
        "set1.intersection_update(set2)\n",
        "print(\"after intersection update\")\n",
        "print(set1)\n",
        "print(set2)\n",
        "print(set1.issubset(set2))\n",
        "set6 = {1,2,3,4,5}\n",
        "set7 = {1,2,3}\n",
        "print(set6.issubset(set7))\n",
        "print(set6.issuperset(set7))\n",
        "set1 = {1,3,7}\n",
        "print(\"symetric difference\")\n",
        "print(set1)\n",
        "print(set2)\n",
        "print(set1.symmetric_difference(set2))\n",
        "set1.symmetric_difference_update(set2) #A-B U B-A\n",
        "print(set1)"
      ],
      "execution_count": null,
      "outputs": [
        {
          "output_type": "stream",
          "name": "stdout",
          "text": [
            "<class 'set'>\n",
            "{'newelement', 'apple', 'banana', 'cherry'}\n",
            "True\n",
            "{1, 3, 4, 5}\n",
            "{3, 6, 7}\n",
            "{1, 4, 5}\n",
            "{3}\n",
            "before diff update\n",
            "{1, 3, 4, 5}\n",
            "{3, 6, 7}\n",
            "after update\n",
            "{1, 3, 4, 5}\n",
            "False\n",
            "False\n",
            "before intersection update\n",
            "{1, 3, 4, 5}\n",
            "{3, 6, 7}\n",
            "after intersection update\n",
            "{3}\n",
            "{3, 6, 7}\n",
            "True\n",
            "False\n",
            "True\n",
            "symetric difference\n",
            "{1, 3, 7}\n",
            "{3, 6, 7}\n",
            "{1, 6}\n",
            "{1, 6}\n"
          ]
        }
      ]
    },
    {
      "cell_type": "markdown",
      "metadata": {
        "id": "7DU_N7eBQvB8"
      },
      "source": [
        "**Add items to set**"
      ]
    },
    {
      "cell_type": "code",
      "metadata": {
        "id": "eLdUH6YeQwGk",
        "colab": {
          "base_uri": "https://localhost:8080/"
        },
        "outputId": "80518d29-3564-4ddc-8f3d-be8a3b4938e3"
      },
      "source": [
        "thisset = {\"apple\", \"banana\", \"cherry\"}\n",
        "\n",
        "thisset.add(\"orange\")\n",
        "\n",
        "print(thisset)\n"
      ],
      "execution_count": null,
      "outputs": [
        {
          "output_type": "stream",
          "name": "stdout",
          "text": [
            "{'orange', 'apple', 'banana', 'cherry'}\n"
          ]
        }
      ]
    },
    {
      "cell_type": "markdown",
      "metadata": {
        "id": "YEl_Fn_eQyD-"
      },
      "source": [
        "**Length of the set**"
      ]
    },
    {
      "cell_type": "code",
      "metadata": {
        "id": "b_ABNx6wQy_8",
        "colab": {
          "base_uri": "https://localhost:8080/"
        },
        "outputId": "e8badb7b-4b6a-488b-97ef-95d0aebf6757"
      },
      "source": [
        "thisset = {\"apple\", \"banana\", \"cherry\",\"Watermelon\"}\n",
        "\n",
        "print(len(thisset))\n"
      ],
      "execution_count": null,
      "outputs": [
        {
          "output_type": "stream",
          "name": "stdout",
          "text": [
            "4\n"
          ]
        }
      ]
    },
    {
      "cell_type": "markdown",
      "metadata": {
        "id": "2pzb4LHuQ0Dy"
      },
      "source": [
        "**Remove an item**"
      ]
    },
    {
      "cell_type": "code",
      "metadata": {
        "id": "NDUuPYZWQ1wR",
        "colab": {
          "base_uri": "https://localhost:8080/"
        },
        "outputId": "65c1ef71-493d-47cf-e8c8-020c3a6ab297"
      },
      "source": [
        "thisset = {\"apple\", \"banana\", \"cherry\"}\n",
        "\n",
        "thisset.remove(\"banana\")\n",
        "\n",
        "print(thisset)\n"
      ],
      "execution_count": null,
      "outputs": [
        {
          "output_type": "stream",
          "name": "stdout",
          "text": [
            "{'apple', 'cherry'}\n"
          ]
        }
      ]
    },
    {
      "cell_type": "code",
      "source": [
        "f = [\"line1 blah blah\",\"line 2 blah blah\",\"line3\"]\n",
        "list1 = [elem.replace(\"\\n\",\"\") if \"line 2\" in elem else\n",
        "                     'not legitimate line' for elem in f]\n",
        "print(list1)\n",
        "list2 = list()\n",
        "for elem in f:\n",
        "  if \"line 2\" in elem:\n",
        "    list2.append(elem)\n",
        "  else:\n",
        "    list2.append('not legitimate line')\n",
        "print(list2)"
      ],
      "metadata": {
        "colab": {
          "base_uri": "https://localhost:8080/"
        },
        "id": "cbGpwOuvFKWH",
        "outputId": "08f941ba-53e7-43a6-9697-e76f7f6e0468"
      },
      "execution_count": null,
      "outputs": [
        {
          "output_type": "stream",
          "name": "stdout",
          "text": [
            "['line1 blah blah', 'line 2 blah blah', 'line3']\n",
            "['not legitimate line', 'line 2 blah blah', 'not legitimate line']\n"
          ]
        }
      ]
    },
    {
      "cell_type": "code",
      "source": [
        "dict1 = {\"key1\":\"vslue1\",\"key2\":\"value2\"}\n",
        "list1 = [1,2,3,4]\n",
        "print({**dict1})\n",
        "print([*list1])"
      ],
      "metadata": {
        "colab": {
          "base_uri": "https://localhost:8080/"
        },
        "id": "Z-91OL8DI7i4",
        "outputId": "c6450282-3eba-46f4-dff1-f23f5d48878b"
      },
      "execution_count": null,
      "outputs": [
        {
          "output_type": "stream",
          "name": "stdout",
          "text": [
            "{'key1': 'vslue1', 'key2': 'value2'}\n",
            "[1, 2, 3, 4]\n"
          ]
        }
      ]
    }
  ]
}